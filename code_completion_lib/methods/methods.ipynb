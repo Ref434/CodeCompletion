{
 "cells": [
  {
   "cell_type": "code",
   "execution_count": 1,
   "metadata": {},
   "outputs": [
    {
     "name": "stdout",
     "output_type": "stream",
     "text": [
      "Note: you may need to restart the kernel to use updated packages.\n"
     ]
    },
    {
     "name": "stderr",
     "output_type": "stream",
     "text": [
      "ERROR: Could not open requirements file: [Errno 2] No such file or directory: 'requirements.txt'\n",
      "\n",
      "[notice] A new release of pip available: 22.3 -> 23.0.1\n",
      "[notice] To update, run: C:\\Users\\mosas\\AppData\\Local\\Programs\\Python\\Python39\\python.exe -m pip install --upgrade pip\n"
     ]
    }
   ],
   "source": [
    "%pip install -r requirements.txt --user"
   ]
  },
  {
   "cell_type": "code",
   "execution_count": 2,
   "metadata": {},
   "outputs": [],
   "source": [
    "import pandas as pd"
   ]
  },
  {
   "cell_type": "code",
   "execution_count": 16,
   "metadata": {},
   "outputs": [
    {
     "data": {
      "text/plain": "  varible_name                            method\n0        model                   sklearn.svm.SVR\n1  tuned_model                   sklearn.svm.SVR\n2           cm  sklearn.metrics.confusion_matrix\n3           cm  sklearn.metrics.confusion_matrix\n4           cm  sklearn.metrics.confusion_matrix",
      "text/html": "<div>\n<style scoped>\n    .dataframe tbody tr th:only-of-type {\n        vertical-align: middle;\n    }\n\n    .dataframe tbody tr th {\n        vertical-align: top;\n    }\n\n    .dataframe thead th {\n        text-align: right;\n    }\n</style>\n<table border=\"1\" class=\"dataframe\">\n  <thead>\n    <tr style=\"text-align: right;\">\n      <th></th>\n      <th>varible_name</th>\n      <th>method</th>\n    </tr>\n  </thead>\n  <tbody>\n    <tr>\n      <th>0</th>\n      <td>model</td>\n      <td>sklearn.svm.SVR</td>\n    </tr>\n    <tr>\n      <th>1</th>\n      <td>tuned_model</td>\n      <td>sklearn.svm.SVR</td>\n    </tr>\n    <tr>\n      <th>2</th>\n      <td>cm</td>\n      <td>sklearn.metrics.confusion_matrix</td>\n    </tr>\n    <tr>\n      <th>3</th>\n      <td>cm</td>\n      <td>sklearn.metrics.confusion_matrix</td>\n    </tr>\n    <tr>\n      <th>4</th>\n      <td>cm</td>\n      <td>sklearn.metrics.confusion_matrix</td>\n    </tr>\n  </tbody>\n</table>\n</div>"
     },
     "execution_count": 16,
     "metadata": {},
     "output_type": "execute_result"
    }
   ],
   "source": [
    "df= pd.read_csv('methods.csv')\n",
    "df.head()"
   ]
  },
  {
   "cell_type": "code",
   "execution_count": 17,
   "metadata": {},
   "outputs": [
    {
     "data": {
      "text/plain": "       varible_name                            method\ncount           236                               236\nunique           89                                49\ntop              cm  sklearn.metrics.confusion_matrix\nfreq             16                                22",
      "text/html": "<div>\n<style scoped>\n    .dataframe tbody tr th:only-of-type {\n        vertical-align: middle;\n    }\n\n    .dataframe tbody tr th {\n        vertical-align: top;\n    }\n\n    .dataframe thead th {\n        text-align: right;\n    }\n</style>\n<table border=\"1\" class=\"dataframe\">\n  <thead>\n    <tr style=\"text-align: right;\">\n      <th></th>\n      <th>varible_name</th>\n      <th>method</th>\n    </tr>\n  </thead>\n  <tbody>\n    <tr>\n      <th>count</th>\n      <td>236</td>\n      <td>236</td>\n    </tr>\n    <tr>\n      <th>unique</th>\n      <td>89</td>\n      <td>49</td>\n    </tr>\n    <tr>\n      <th>top</th>\n      <td>cm</td>\n      <td>sklearn.metrics.confusion_matrix</td>\n    </tr>\n    <tr>\n      <th>freq</th>\n      <td>16</td>\n      <td>22</td>\n    </tr>\n  </tbody>\n</table>\n</div>"
     },
     "execution_count": 17,
     "metadata": {},
     "output_type": "execute_result"
    }
   ],
   "source": [
    "df.describe()"
   ]
  },
  {
   "cell_type": "code",
   "execution_count": 18,
   "metadata": {},
   "outputs": [
    {
     "data": {
      "text/plain": "sklearn.metrics.confusion_matrix              22\nsklearn.metrics.accuracy_score                20\nsklearn.preprocessing.StandardScaler          17\nsklearn.linear_model.LinearRegression         15\nsklearn.linear_model.LogisticRegressionCV     14\nsklearn.preprocessing.MinMaxScaler            12\nsklearn.model_selection.train_test_split      11\nsklearn.pipeline.Pipeline                     10\nsklearn.decomposition.PCA                      9\nsklearn.linear_model.LogisticRegression        8\nsklearn.metrics.f1_score                       8\nsklearn.ensemble.GradientBoostingRegressor     8\nsklearn.model_selection.cross_val_score        6\nsklearn.metrics.mean_squared_error             6\nsklearn.preprocessing.OneHotEncoder            6\nsklearn.model_selection.GridSearchCV           6\nsklearn.metrics.recall_score                   6\nsklearn.cluster.KMeans                         5\nsklearn.manifold.TSNE                          4\nsklearn.preprocessing.PolynomialFeatures       3\nsklearn.model_selection.KFold                  3\nsklearn.linear_model.Perceptron                3\nsklearn.metrics.r2_score                       3\nsklearn.linear_model.ElasticNet                2\nsklearn.linear_model.Lasso                     2\nsklearn.svm.SVR                                2\nsklearn.metrics.roc_auc_score                  2\nsklearn.datasets.fetch_20newsgroups            2\nsklearn.kernel_ridge.KernelRidge               1\nsklearn.metrics.precision_recall_curve         1\nsklearn.neighbors.KDTree                       1\nsklearn.svm.SVC                                1\nsklearn.cluster.DBSCAN                         1\nsklearn.tree.DecisionTreeClassifier            1\nsklearn.metrics.roc_curve                      1\nsklearn.linear_model.Ridge                     1\nsklearn.neighbors.KNeighborsRegressor          1\nsklearn.datasets.make_moons                    1\nsklearn.manifold.MDS                           1\nsklearn.feature_selection.SelectKBest          1\nsklearn.pipeline.FeatureUnion                  1\nsklearn.pipeline.make_pipeline                 1\nsklearn.neighbors.KNeighborsClassifier         1\nsklearn.preprocessing.LabelEncoder             1\nsklearn.ensemble.RandomForestClassifier        1\nsklearn.datasets.load_diabetes                 1\nsklearn.cluster.FeatureAgglomeration           1\nsklearn.cluster.AgglomerativeClustering        1\nsklearn.ensemble.RandomForestRegressor         1\nName: method, dtype: int64"
     },
     "execution_count": 18,
     "metadata": {},
     "output_type": "execute_result"
    }
   ],
   "source": [
    "df['method'].value_counts()"
   ]
  },
  {
   "cell_type": "code",
   "execution_count": null,
   "outputs": [],
   "source": [],
   "metadata": {
    "collapsed": false
   }
  }
 ],
 "metadata": {
  "interpreter": {
   "hash": "b3ba2566441a7c06988d0923437866b63cedc61552a5af99d1f4fb67d367b25f"
  },
  "kernelspec": {
   "display_name": "Python 3.9.12",
   "language": "python",
   "name": "python3"
  },
  "language_info": {
   "codemirror_mode": {
    "name": "ipython",
    "version": 3
   },
   "file_extension": ".py",
   "mimetype": "text/x-python",
   "name": "python",
   "nbconvert_exporter": "python",
   "pygments_lexer": "ipython3",
   "version": "3.9.12"
  },
  "orig_nbformat": 4
 },
 "nbformat": 4,
 "nbformat_minor": 2
}
