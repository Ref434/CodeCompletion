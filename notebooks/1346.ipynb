{
 "cells": [
  {
   "cell_type": "markdown",
   "metadata": {
    "deletable": true,
    "editable": true
   },
   "source": [
    "# Training simple multilayer percepton (MLP) on the MNIST dataset\n",
    "\n",
    "Notes:\n",
    "    * Adaptive learning was not working in that case, probably because of the noise of the gradient between batches. \n",
    "    * Normalizing by Lmax seems to be the best working optimizer for me."
   ]
  },
  {
   "cell_type": "markdown",
   "metadata": {
    "deletable": true,
    "editable": true
   },
   "source": [
    "## Setup"
   ]
  },
  {
   "cell_type": "code",
   "execution_count": 31,
   "metadata": {
    "ExecuteTime": {
     "end_time": "2018-05-29T07:14:50.998691Z",
     "start_time": "2018-05-29T07:14:50.986864Z"
    },
    "collapsed": false,
    "deletable": true,
    "editable": true
   },
   "outputs": [
    {
     "name": "stdout",
     "output_type": "stream",
     "text": [
      "The autoreload extension is already loaded. To reload it, use:\n",
      "  %reload_ext autoreload\n"
     ]
    }
   ],
   "source": [
    "%load_ext autoreload\n",
    "%autoreload 2\n",
    "import numpy as np\n",
    "import matplotlib.pyplot as plt\n",
    "%matplotlib inline"
   ]
  },
  {
   "cell_type": "code",
   "execution_count": 32,
   "metadata": {
    "ExecuteTime": {
     "end_time": "2018-05-29T07:14:52.713739Z",
     "start_time": "2018-05-29T07:14:51.641533Z"
    },
    "collapsed": false,
    "deletable": true,
    "editable": true
   },
   "outputs": [
    {
     "data": {
      "text/plain": [
       "'1.8.0'"
      ]
     },
     "execution_count": 32,
     "metadata": {},
     "output_type": "execute_result"
    }
   ],
   "source": [
    "import tensorflow as tf\n",
    "tf.__version__"
   ]
  },
  {
   "cell_type": "code",
   "execution_count": 64,
   "metadata": {
    "ExecuteTime": {
     "end_time": "2018-05-29T07:14:53.357270Z",
     "start_time": "2018-05-29T07:14:53.330917Z"
    },
    "collapsed": true,
    "deletable": true,
    "editable": true
   },
   "outputs": [],
   "source": [
    "import sys\n",
    "sys.path.append(\"../src/\")\n",
    "import keras_mnist_mlp as mlp\n",
    "import tf_optimizer as tf_opt\n",
    "import callbacks as clb\n",
    "import utils as ut\n",
    "from plotting import set_display_settings\n",
    "set_display_settings()\n",
    "\n",
    "from keras.optimizers import TFOptimizer\n",
    "from keras.callbacks import History"
   ]
  },
  {
   "cell_type": "markdown",
   "metadata": {
    "deletable": true,
    "editable": true
   },
   "source": [
    "## Dataset and model definition"
   ]
  },
  {
   "cell_type": "code",
   "execution_count": 34,
   "metadata": {
    "ExecuteTime": {
     "end_time": "2018-05-29T07:14:56.875243Z",
     "start_time": "2018-05-29T07:14:55.992233Z"
    },
    "collapsed": false,
    "deletable": true,
    "editable": true
   },
   "outputs": [
    {
     "name": "stdout",
     "output_type": "stream",
     "text": [
      "x_train shape: (60000, 28, 28, 1)\n",
      "60000 train samples\n",
      "10000 test samples\n"
     ]
    }
   ],
   "source": [
    "x_train, y_train, validation_set, input_shape = mlp.get_dataset()"
   ]
  },
  {
   "cell_type": "markdown",
   "metadata": {
    "deletable": true,
    "editable": true
   },
   "source": [
    "Model function:\n",
    "    * 30 dense layers of size 128. \n",
    "    * After each layer Batchnormalization is applied then dropout at level 0.2\n",
    "    * Small l2 regularization is added to the weights of the network"
   ]
  },
  {
   "cell_type": "code",
   "execution_count": 35,
   "metadata": {
    "ExecuteTime": {
     "end_time": "2018-05-29T07:15:03.664708Z",
     "start_time": "2018-05-29T07:15:03.563644Z"
    },
    "collapsed": true,
    "deletable": true,
    "editable": true
   },
   "outputs": [],
   "source": [
    "def model_fn():\n",
    "    model = mlp.get_mlp(num_layers=30, lantent_size=128, activation='relu', l2_reg=1e-5)\n",
    "    return model\n",
    "\n",
    "model = model_fn()\n",
    "batch_size = 64"
   ]
  },
  {
   "cell_type": "code",
   "execution_count": 36,
   "metadata": {
    "ExecuteTime": {
     "end_time": "2018-05-29T07:15:04.548506Z",
     "start_time": "2018-05-29T07:15:04.503877Z"
    },
    "collapsed": false,
    "deletable": true,
    "editable": true,
    "scrolled": true
   },
   "outputs": [
    {
     "name": "stdout",
     "output_type": "stream",
     "text": [
      "_________________________________________________________________\n",
      "Layer (type)                 Output Shape              Param #   \n",
      "=================================================================\n",
      "input_12 (InputLayer)        (None, 784)               0         \n",
      "_________________________________________________________________\n",
      "dense_302 (Dense)            (None, 128)               100480    \n",
      "_________________________________________________________________\n",
      "batch_normalization_1 (Batch (None, 128)               512       \n",
      "_________________________________________________________________\n",
      "dropout_1 (Dropout)          (None, 128)               0         \n",
      "_________________________________________________________________\n",
      "dense_303 (Dense)            (None, 128)               16512     \n",
      "_________________________________________________________________\n",
      "batch_normalization_2 (Batch (None, 128)               512       \n",
      "_________________________________________________________________\n",
      "dropout_2 (Dropout)          (None, 128)               0         \n",
      "_________________________________________________________________\n",
      "dense_304 (Dense)            (None, 128)               16512     \n",
      "_________________________________________________________________\n",
      "batch_normalization_3 (Batch (None, 128)               512       \n",
      "_________________________________________________________________\n",
      "dropout_3 (Dropout)          (None, 128)               0         \n",
      "_________________________________________________________________\n",
      "dense_305 (Dense)            (None, 128)               16512     \n",
      "_________________________________________________________________\n",
      "batch_normalization_4 (Batch (None, 128)               512       \n",
      "_________________________________________________________________\n",
      "dropout_4 (Dropout)          (None, 128)               0         \n",
      "_________________________________________________________________\n",
      "dense_306 (Dense)            (None, 128)               16512     \n",
      "_________________________________________________________________\n",
      "batch_normalization_5 (Batch (None, 128)               512       \n",
      "_________________________________________________________________\n",
      "dropout_5 (Dropout)          (None, 128)               0         \n",
      "_________________________________________________________________\n",
      "dense_307 (Dense)            (None, 128)               16512     \n",
      "_________________________________________________________________\n",
      "batch_normalization_6 (Batch (None, 128)               512       \n",
      "_________________________________________________________________\n",
      "dropout_6 (Dropout)          (None, 128)               0         \n",
      "_________________________________________________________________\n",
      "dense_308 (Dense)            (None, 128)               16512     \n",
      "_________________________________________________________________\n",
      "batch_normalization_7 (Batch (None, 128)               512       \n",
      "_________________________________________________________________\n",
      "dropout_7 (Dropout)          (None, 128)               0         \n",
      "_________________________________________________________________\n",
      "dense_309 (Dense)            (None, 128)               16512     \n",
      "_________________________________________________________________\n",
      "batch_normalization_8 (Batch (None, 128)               512       \n",
      "_________________________________________________________________\n",
      "dropout_8 (Dropout)          (None, 128)               0         \n",
      "_________________________________________________________________\n",
      "dense_310 (Dense)            (None, 128)               16512     \n",
      "_________________________________________________________________\n",
      "batch_normalization_9 (Batch (None, 128)               512       \n",
      "_________________________________________________________________\n",
      "dropout_9 (Dropout)          (None, 128)               0         \n",
      "_________________________________________________________________\n",
      "dense_311 (Dense)            (None, 128)               16512     \n",
      "_________________________________________________________________\n",
      "batch_normalization_10 (Batc (None, 128)               512       \n",
      "_________________________________________________________________\n",
      "dropout_10 (Dropout)         (None, 128)               0         \n",
      "_________________________________________________________________\n",
      "dense_312 (Dense)            (None, 128)               16512     \n",
      "_________________________________________________________________\n",
      "batch_normalization_11 (Batc (None, 128)               512       \n",
      "_________________________________________________________________\n",
      "dropout_11 (Dropout)         (None, 128)               0         \n",
      "_________________________________________________________________\n",
      "dense_313 (Dense)            (None, 128)               16512     \n",
      "_________________________________________________________________\n",
      "batch_normalization_12 (Batc (None, 128)               512       \n",
      "_________________________________________________________________\n",
      "dropout_12 (Dropout)         (None, 128)               0         \n",
      "_________________________________________________________________\n",
      "dense_314 (Dense)            (None, 128)               16512     \n",
      "_________________________________________________________________\n",
      "batch_normalization_13 (Batc (None, 128)               512       \n",
      "_________________________________________________________________\n",
      "dropout_13 (Dropout)         (None, 128)               0         \n",
      "_________________________________________________________________\n",
      "dense_315 (Dense)            (None, 128)               16512     \n",
      "_________________________________________________________________\n",
      "batch_normalization_14 (Batc (None, 128)               512       \n",
      "_________________________________________________________________\n",
      "dropout_14 (Dropout)         (None, 128)               0         \n",
      "_________________________________________________________________\n",
      "dense_316 (Dense)            (None, 128)               16512     \n",
      "_________________________________________________________________\n",
      "batch_normalization_15 (Batc (None, 128)               512       \n",
      "_________________________________________________________________\n",
      "dropout_15 (Dropout)         (None, 128)               0         \n",
      "_________________________________________________________________\n",
      "dense_317 (Dense)            (None, 128)               16512     \n",
      "_________________________________________________________________\n",
      "batch_normalization_16 (Batc (None, 128)               512       \n",
      "_________________________________________________________________\n",
      "dropout_16 (Dropout)         (None, 128)               0         \n",
      "_________________________________________________________________\n",
      "dense_318 (Dense)            (None, 128)               16512     \n",
      "_________________________________________________________________\n",
      "batch_normalization_17 (Batc (None, 128)               512       \n",
      "_________________________________________________________________\n",
      "dropout_17 (Dropout)         (None, 128)               0         \n",
      "_________________________________________________________________\n",
      "dense_319 (Dense)            (None, 128)               16512     \n",
      "_________________________________________________________________\n",
      "batch_normalization_18 (Batc (None, 128)               512       \n",
      "_________________________________________________________________\n",
      "dropout_18 (Dropout)         (None, 128)               0         \n",
      "_________________________________________________________________\n",
      "dense_320 (Dense)            (None, 128)               16512     \n",
      "_________________________________________________________________\n",
      "batch_normalization_19 (Batc (None, 128)               512       \n",
      "_________________________________________________________________\n",
      "dropout_19 (Dropout)         (None, 128)               0         \n",
      "_________________________________________________________________\n",
      "dense_321 (Dense)            (None, 128)               16512     \n",
      "_________________________________________________________________\n",
      "batch_normalization_20 (Batc (None, 128)               512       \n",
      "_________________________________________________________________\n",
      "dropout_20 (Dropout)         (None, 128)               0         \n",
      "_________________________________________________________________\n",
      "dense_322 (Dense)            (None, 128)               16512     \n",
      "_________________________________________________________________\n",
      "batch_normalization_21 (Batc (None, 128)               512       \n",
      "_________________________________________________________________\n",
      "dropout_21 (Dropout)         (None, 128)               0         \n",
      "_________________________________________________________________\n",
      "dense_323 (Dense)            (None, 128)               16512     \n",
      "_________________________________________________________________\n",
      "batch_normalization_22 (Batc (None, 128)               512       \n",
      "_________________________________________________________________\n",
      "dropout_22 (Dropout)         (None, 128)               0         \n",
      "_________________________________________________________________\n",
      "dense_324 (Dense)            (None, 128)               16512     \n",
      "_________________________________________________________________\n",
      "batch_normalization_23 (Batc (None, 128)               512       \n",
      "_________________________________________________________________\n",
      "dropout_23 (Dropout)         (None, 128)               0         \n",
      "_________________________________________________________________\n",
      "dense_325 (Dense)            (None, 128)               16512     \n",
      "_________________________________________________________________\n",
      "batch_normalization_24 (Batc (None, 128)               512       \n",
      "_________________________________________________________________\n",
      "dropout_24 (Dropout)         (None, 128)               0         \n",
      "_________________________________________________________________\n",
      "dense_326 (Dense)            (None, 128)               16512     \n",
      "_________________________________________________________________\n",
      "batch_normalization_25 (Batc (None, 128)               512       \n",
      "_________________________________________________________________\n",
      "dropout_25 (Dropout)         (None, 128)               0         \n",
      "_________________________________________________________________\n",
      "dense_327 (Dense)            (None, 128)               16512     \n",
      "_________________________________________________________________\n",
      "batch_normalization_26 (Batc (None, 128)               512       \n",
      "_________________________________________________________________\n",
      "dropout_26 (Dropout)         (None, 128)               0         \n",
      "_________________________________________________________________\n",
      "dense_328 (Dense)            (None, 128)               16512     \n",
      "_________________________________________________________________\n",
      "batch_normalization_27 (Batc (None, 128)               512       \n",
      "_________________________________________________________________\n",
      "dropout_27 (Dropout)         (None, 128)               0         \n",
      "_________________________________________________________________\n",
      "dense_329 (Dense)            (None, 128)               16512     \n",
      "_________________________________________________________________\n",
      "batch_normalization_28 (Batc (None, 128)               512       \n",
      "_________________________________________________________________\n",
      "dropout_28 (Dropout)         (None, 128)               0         \n",
      "_________________________________________________________________\n",
      "dense_330 (Dense)            (None, 128)               16512     \n",
      "_________________________________________________________________\n",
      "batch_normalization_29 (Batc (None, 128)               512       \n",
      "_________________________________________________________________\n",
      "dropout_29 (Dropout)         (None, 128)               0         \n",
      "_________________________________________________________________\n",
      "dense_331 (Dense)            (None, 128)               16512     \n",
      "_________________________________________________________________\n",
      "batch_normalization_30 (Batc (None, 128)               512       \n",
      "_________________________________________________________________\n",
      "dropout_30 (Dropout)         (None, 128)               0         \n",
      "_________________________________________________________________\n",
      "dense_332 (Dense)            (None, 10)                1290      \n",
      "=================================================================\n",
      "Total params: 595,978\n",
      "Trainable params: 588,298\n",
      "Non-trainable params: 7,680\n",
      "_________________________________________________________________\n"
     ]
    }
   ],
   "source": [
    "model.summary()"
   ]
  },
  {
   "cell_type": "markdown",
   "metadata": {
    "deletable": true,
    "editable": true
   },
   "source": [
    "# Train model with `LmaxNormalizedSGD`\n",
    "\n",
    "Some notes: \n",
    "\n",
    "* `LmaxNormalizedSGD` just normalizes gradients by their $L_\\infty$ norm for each layer.\n",
    "* No momentum is used, since it did not improve results for this case.."
   ]
  },
  {
   "cell_type": "code",
   "execution_count": 73,
   "metadata": {
    "ExecuteTime": {
     "end_time": "2018-05-29T07:18:10.095221Z",
     "start_time": "2018-05-29T07:17:33.435012Z"
    },
    "collapsed": false,
    "deletable": true,
    "editable": true,
    "scrolled": true
   },
   "outputs": [
    {
     "name": "stdout",
     "output_type": "stream",
     "text": [
      "Train on 60000 samples, validate on 10000 samples\n",
      "Epoch 1/10\n",
      "60000/60000 [==============================] - 91s 2ms/step - loss: 2.0584 - acc: 0.2677 - val_loss: 1.1883 - val_acc: 0.6142\n",
      "Epoch 2/10\n",
      "60000/60000 [==============================] - 35s 587us/step - loss: 1.0508 - acc: 0.6697 - val_loss: 0.7380 - val_acc: 0.7304\n",
      "Epoch 3/10\n",
      "60000/60000 [==============================] - 35s 589us/step - loss: 0.9134 - acc: 0.7046 - val_loss: 0.6692 - val_acc: 0.7414\n",
      "Epoch 4/10\n",
      "60000/60000 [==============================] - 35s 589us/step - loss: 0.8551 - acc: 0.7166 - val_loss: 0.6110 - val_acc: 0.7643\n",
      "Epoch 5/10\n",
      "60000/60000 [==============================] - 35s 588us/step - loss: 0.8166 - acc: 0.7219 - val_loss: 0.6145 - val_acc: 0.7622\n",
      "Epoch 6/10\n",
      "60000/60000 [==============================] - 35s 591us/step - loss: 0.7927 - acc: 0.7684 - val_loss: 0.5411 - val_acc: 0.8334\n",
      "Epoch 7/10\n",
      "60000/60000 [==============================] - 36s 592us/step - loss: 0.7446 - acc: 0.7913 - val_loss: 0.6157 - val_acc: 0.7899\n",
      "Epoch 8/10\n",
      "60000/60000 [==============================] - 36s 596us/step - loss: 0.6948 - acc: 0.8077 - val_loss: 0.4815 - val_acc: 0.8517\n",
      "Epoch 9/10\n",
      "60000/60000 [==============================] - 36s 603us/step - loss: 0.6728 - acc: 0.8126 - val_loss: 0.4682 - val_acc: 0.8913\n",
      "Epoch 10/10\n",
      "60000/60000 [==============================] - 35s 590us/step - loss: 0.6424 - acc: 0.8540 - val_loss: 0.4102 - val_acc: 0.9257\n",
      "Train on 60000 samples, validate on 10000 samples\n",
      "Epoch 1/10\n",
      "60000/60000 [==============================] - 58s 968us/step - loss: 0.5471 - acc: 0.8958 - val_loss: 0.3280 - val_acc: 0.9449\n",
      "Epoch 2/10\n",
      "60000/60000 [==============================] - 36s 597us/step - loss: 0.5274 - acc: 0.9007 - val_loss: 0.3217 - val_acc: 0.9470\n",
      "Epoch 3/10\n",
      "60000/60000 [==============================] - 36s 593us/step - loss: 0.5001 - acc: 0.9056 - val_loss: 0.3047 - val_acc: 0.9495\n",
      "Epoch 4/10\n",
      "60000/60000 [==============================] - 36s 592us/step - loss: 0.4948 - acc: 0.9067 - val_loss: 0.3051 - val_acc: 0.9492\n",
      "Epoch 5/10\n",
      "60000/60000 [==============================] - 35s 590us/step - loss: 0.4840 - acc: 0.9072 - val_loss: 0.2852 - val_acc: 0.9526\n",
      "Epoch 6/10\n",
      "60000/60000 [==============================] - 35s 589us/step - loss: 0.4751 - acc: 0.9100 - val_loss: 0.2769 - val_acc: 0.9532\n",
      "Epoch 7/10\n",
      "60000/60000 [==============================] - 36s 593us/step - loss: 0.4758 - acc: 0.9082 - val_loss: 0.2772 - val_acc: 0.9529\n",
      "Epoch 8/10\n",
      "60000/60000 [==============================] - 35s 589us/step - loss: 0.4630 - acc: 0.9095 - val_loss: 0.2746 - val_acc: 0.9547\n",
      "Epoch 9/10\n",
      "60000/60000 [==============================] - 35s 590us/step - loss: 0.4539 - acc: 0.9111 - val_loss: 0.2711 - val_acc: 0.9527\n",
      "Epoch 10/10\n",
      "60000/60000 [==============================] - 35s 590us/step - loss: 0.4470 - acc: 0.9131 - val_loss: 0.2680 - val_acc: 0.9544\n",
      "Train on 60000 samples, validate on 10000 samples\n",
      "Epoch 1/10\n",
      "60000/60000 [==============================] - 60s 1ms/step - loss: 0.4318 - acc: 0.9155 - val_loss: 0.2678 - val_acc: 0.9542\n",
      "Epoch 2/10\n",
      "60000/60000 [==============================] - 36s 601us/step - loss: 0.4404 - acc: 0.9150 - val_loss: 0.2652 - val_acc: 0.9544\n",
      "Epoch 3/10\n",
      "60000/60000 [==============================] - 36s 597us/step - loss: 0.4424 - acc: 0.9138 - val_loss: 0.2627 - val_acc: 0.9549\n",
      "Epoch 4/10\n",
      "60000/60000 [==============================] - 36s 593us/step - loss: 0.4380 - acc: 0.9150 - val_loss: 0.2620 - val_acc: 0.9551\n",
      "Epoch 5/10\n",
      "60000/60000 [==============================] - 36s 592us/step - loss: 0.4379 - acc: 0.9149 - val_loss: 0.2626 - val_acc: 0.9552\n",
      "Epoch 6/10\n",
      "60000/60000 [==============================] - 35s 588us/step - loss: 0.4358 - acc: 0.9146 - val_loss: 0.2622 - val_acc: 0.9550\n",
      "Epoch 7/10\n",
      "60000/60000 [==============================] - 35s 589us/step - loss: 0.4348 - acc: 0.9145 - val_loss: 0.2630 - val_acc: 0.9551\n",
      "Epoch 8/10\n",
      "60000/60000 [==============================] - 35s 586us/step - loss: 0.4352 - acc: 0.9147 - val_loss: 0.2637 - val_acc: 0.9550\n",
      "Epoch 9/10\n",
      "60000/60000 [==============================] - 35s 589us/step - loss: 0.4286 - acc: 0.9158 - val_loss: 0.2597 - val_acc: 0.9556\n",
      "Epoch 10/10\n",
      "60000/60000 [==============================] - 36s 592us/step - loss: 0.4342 - acc: 0.9148 - val_loss: 0.2602 - val_acc: 0.9561\n"
     ]
    }
   ],
   "source": [
    "model = model_fn()\n",
    "metrics_history = [clb.AggregateMetricsOnBatchEnd(), clb.AggregateMetricsOnEpochEnd()]\n",
    "\n",
    "for lr in [0.01, 0.001, 0.0001]:\n",
    "    optimizer = TFOptimizer(tf_opt.LmaxNormalizedSGD(lr=lr))\n",
    "    model.compile(optimizer, loss='categorical_crossentropy', metrics=['accuracy'])\n",
    "    model.fit(\n",
    "        x=x_train, y=y_train, \n",
    "        batch_size=batch_size, epochs=10, \n",
    "        validation_data=validation_set, \n",
    "        callbacks=metrics_history)"
   ]
  },
  {
   "cell_type": "markdown",
   "metadata": {
    "deletable": true,
    "editable": true
   },
   "source": [
    "Plotting:"
   ]
  },
  {
   "cell_type": "code",
   "execution_count": 109,
   "metadata": {
    "collapsed": false,
    "deletable": true,
    "editable": true
   },
   "outputs": [
    {
     "data": {
      "text/plain": [
       "<matplotlib.legend.Legend at 0x7f7963f076d8>"
      ]
     },
     "execution_count": 109,
     "metadata": {},
     "output_type": "execute_result"
    },
    {
     "data": {
      "image/png": "[encoded data removed]",
      "text/plain": [
       "<matplotlib.figure.Figure at 0x7f7963f91320>"
      ]
     },
     "metadata": {},
     "output_type": "display_data"
    }
   ],
   "source": [
    "hist = metrics_history[1].monitor_values['accuracies']\n",
    "for k, v in hist.items():\n",
    "    if len(v) != 0: plt.plot(v, label=k)\n",
    "plt.legend()"
   ]
  },
  {
   "cell_type": "markdown",
   "metadata": {
    "deletable": true,
    "editable": true
   },
   "source": [
    "# Training with Adam optimizer and SGD with momentum (0.9)\n",
    "\n",
    "For Adam I use slightly smaller learning rate since it was perfoming better for me. Propably one could get better results by doing grid search on the initial value of `lr`."
   ]
  },
  {
   "cell_type": "code",
   "execution_count": 75,
   "metadata": {
    "collapsed": true,
    "deletable": true,
    "editable": true
   },
   "outputs": [],
   "source": [
    "from keras.optimizers import Adam, SGD"
   ]
  },
  {
   "cell_type": "code",
   "execution_count": 77,
   "metadata": {
    "collapsed": false,
    "deletable": true,
    "editable": true,
    "scrolled": true
   },
   "outputs": [
    {
     "name": "stdout",
     "output_type": "stream",
     "text": [
      "Train on 60000 samples, validate on 10000 samples\n",
      "Epoch 1/10\n",
      "60000/60000 [==============================] - 61s 1ms/step - loss: 2.1170 - acc: 0.2385 - val_loss: 1.2621 - val_acc: 0.5533\n",
      "Epoch 2/10\n",
      "60000/60000 [==============================] - 36s 604us/step - loss: 1.2794 - acc: 0.5642 - val_loss: 0.8532 - val_acc: 0.7320\n",
      "Epoch 3/10\n",
      "60000/60000 [==============================] - 36s 604us/step - loss: 0.9999 - acc: 0.6945 - val_loss: 0.6526 - val_acc: 0.8082\n",
      "Epoch 4/10\n",
      "60000/60000 [==============================] - 37s 614us/step - loss: 0.9282 - acc: 0.7424 - val_loss: 0.7231 - val_acc: 0.7971\n",
      "Epoch 5/10\n",
      "60000/60000 [==============================] - 36s 606us/step - loss: 0.9701 - acc: 0.7382 - val_loss: 0.7267 - val_acc: 0.8160\n",
      "Epoch 6/10\n",
      "60000/60000 [==============================] - 36s 604us/step - loss: 1.0227 - acc: 0.7135 - val_loss: 1.0088 - val_acc: 0.7156\n",
      "Epoch 7/10\n",
      "60000/60000 [==============================] - 37s 611us/step - loss: 1.1092 - acc: 0.6965 - val_loss: 0.9272 - val_acc: 0.7165\n",
      "Epoch 8/10\n",
      "60000/60000 [==============================] - 36s 598us/step - loss: 1.2039 - acc: 0.6406 - val_loss: 1.0511 - val_acc: 0.7485\n",
      "Epoch 9/10\n",
      "60000/60000 [==============================] - 36s 607us/step - loss: 1.2144 - acc: 0.6614 - val_loss: 1.2053 - val_acc: 0.6485\n",
      "Epoch 10/10\n",
      "60000/60000 [==============================] - 36s 607us/step - loss: 1.3154 - acc: 0.6375 - val_loss: 1.3237 - val_acc: 0.6027\n",
      "Train on 60000 samples, validate on 10000 samples\n",
      "Epoch 1/10\n",
      "60000/60000 [==============================] - 63s 1ms/step - loss: 1.2533 - acc: 0.6504 - val_loss: 0.9103 - val_acc: 0.7566\n",
      "Epoch 2/10\n",
      "60000/60000 [==============================] - 37s 610us/step - loss: 1.0305 - acc: 0.7464 - val_loss: 0.7893 - val_acc: 0.8323\n",
      "Epoch 3/10\n",
      "60000/60000 [==============================] - 36s 605us/step - loss: 0.9709 - acc: 0.7710 - val_loss: 0.7060 - val_acc: 0.8480\n",
      "Epoch 4/10\n",
      "60000/60000 [==============================] - 36s 607us/step - loss: 0.9222 - acc: 0.7900 - val_loss: 0.6868 - val_acc: 0.8720\n",
      "Epoch 5/10\n",
      "60000/60000 [==============================] - 37s 610us/step - loss: 0.8922 - acc: 0.7999 - val_loss: 0.6700 - val_acc: 0.8699\n",
      "Epoch 6/10\n",
      "60000/60000 [==============================] - 36s 605us/step - loss: 0.9106 - acc: 0.7943 - val_loss: 0.6727 - val_acc: 0.8707\n",
      "Epoch 7/10\n",
      "60000/60000 [==============================] - 36s 605us/step - loss: 0.8711 - acc: 0.8105 - val_loss: 0.6596 - val_acc: 0.8716\n",
      "Epoch 8/10\n",
      "60000/60000 [==============================] - 37s 618us/step - loss: 0.8577 - acc: 0.8150 - val_loss: 0.6408 - val_acc: 0.8847\n",
      "Epoch 9/10\n",
      "60000/60000 [==============================] - 37s 611us/step - loss: 0.8462 - acc: 0.8173 - val_loss: 0.6202 - val_acc: 0.8864\n",
      "Epoch 10/10\n",
      "60000/60000 [==============================] - 37s 615us/step - loss: 0.8378 - acc: 0.8234 - val_loss: 0.6072 - val_acc: 0.8908\n",
      "Train on 60000 samples, validate on 10000 samples\n",
      "Epoch 1/10\n",
      "60000/60000 [==============================] - 64s 1ms/step - loss: 0.7996 - acc: 0.8345 - val_loss: 0.5829 - val_acc: 0.8980\n",
      "Epoch 2/10\n",
      "60000/60000 [==============================] - 38s 633us/step - loss: 0.7956 - acc: 0.8371 - val_loss: 0.5816 - val_acc: 0.8989\n",
      "Epoch 3/10\n",
      "60000/60000 [==============================] - 39s 642us/step - loss: 0.7872 - acc: 0.8391 - val_loss: 0.5732 - val_acc: 0.9007\n",
      "Epoch 4/10\n",
      "60000/60000 [==============================] - 38s 631us/step - loss: 0.7763 - acc: 0.8418 - val_loss: 0.5704 - val_acc: 0.9018\n",
      "Epoch 5/10\n",
      "60000/60000 [==============================] - 37s 621us/step - loss: 0.7614 - acc: 0.8464 - val_loss: 0.5654 - val_acc: 0.9030\n",
      "Epoch 6/10\n",
      "60000/60000 [==============================] - 37s 617us/step - loss: 0.7702 - acc: 0.8445 - val_loss: 0.5669 - val_acc: 0.9029\n",
      "Epoch 7/10\n",
      "60000/60000 [==============================] - 37s 619us/step - loss: 0.7569 - acc: 0.8483 - val_loss: 0.5581 - val_acc: 0.9049\n",
      "Epoch 8/10\n",
      "60000/60000 [==============================] - 37s 619us/step - loss: 0.7508 - acc: 0.8498 - val_loss: 0.5525 - val_acc: 0.9054\n",
      "Epoch 9/10\n",
      "60000/60000 [==============================] - 37s 623us/step - loss: 0.7398 - acc: 0.8524 - val_loss: 0.5544 - val_acc: 0.9044\n",
      "Epoch 10/10\n",
      "60000/60000 [==============================] - 37s 622us/step - loss: 0.7329 - acc: 0.8540 - val_loss: 0.5495 - val_acc: 0.9073\n"
     ]
    }
   ],
   "source": [
    "model = model_fn()\n",
    "optimizer = Adam(lr=0.001)\n",
    "adam_metrics_history = [clb.AggregateMetricsOnBatchEnd(), clb.AggregateMetricsOnEpochEnd()]\n",
    "# lr=0.01 was not training properly, the validation loss was dropping after some epochs\n",
    "for lr in [0.005, 0.001, 0.0001]:\n",
    "    optimizer = Adam(lr=lr)\n",
    "    model.compile(optimizer, loss='categorical_crossentropy', metrics=['accuracy'])\n",
    "    model.fit(\n",
    "        x=x_train, y=y_train, \n",
    "        batch_size=batch_size, epochs=10, \n",
    "        validation_data=validation_set, \n",
    "        callbacks=adam_metrics_history)"
   ]
  },
  {
   "cell_type": "code",
   "execution_count": 108,
   "metadata": {
    "collapsed": false,
    "deletable": true,
    "editable": true
   },
   "outputs": [
    {
     "data": {
      "text/plain": [
       "<matplotlib.legend.Legend at 0x7f7963f2d6a0>"
      ]
     },
     "execution_count": 108,
     "metadata": {},
     "output_type": "execute_result"
    },
    {
     "data": {
      "image/png": "[encoded data removed]",
      "text/plain": [
       "<matplotlib.figure.Figure at 0x7f7963f2d828>"
      ]
     },
     "metadata": {},
     "output_type": "display_data"
    }
   ],
   "source": [
    "hist = adam_metrics_history[1].monitor_values['accuracies']\n",
    "for k, v in hist.items():\n",
    "    if len(v) != 0: plt.plot(v, label=k)\n",
    "plt.legend()"
   ]
  },
  {
   "cell_type": "markdown",
   "metadata": {
    "deletable": true,
    "editable": true
   },
   "source": [
    "# Training with SGD and momentum"
   ]
  },
  {
   "cell_type": "code",
   "execution_count": 79,
   "metadata": {
    "ExecuteTime": {
     "end_time": "2018-05-29T07:20:04.241806Z",
     "start_time": "2018-05-29T07:19:29.160005Z"
    },
    "collapsed": false,
    "deletable": true,
    "editable": true,
    "scrolled": true
   },
   "outputs": [
    {
     "name": "stdout",
     "output_type": "stream",
     "text": [
      "Train on 60000 samples, validate on 10000 samples\n",
      "Epoch 1/10\n",
      "60000/60000 [==============================] - 62s 1ms/step - loss: 3.6362 - acc: 0.1654 - val_loss: 3.2451 - val_acc: 0.2862\n",
      "Epoch 2/10\n",
      "60000/60000 [==============================] - 35s 591us/step - loss: 3.3170 - acc: 0.2768 - val_loss: 2.9878 - val_acc: 0.3664\n",
      "Epoch 3/10\n",
      "60000/60000 [==============================] - 35s 587us/step - loss: 3.1558 - acc: 0.3219 - val_loss: 2.8781 - val_acc: 0.3770\n",
      "Epoch 4/10\n",
      "60000/60000 [==============================] - 36s 594us/step - loss: 3.0717 - acc: 0.3424 - val_loss: 2.8261 - val_acc: 0.4210\n",
      "Epoch 5/10\n",
      "60000/60000 [==============================] - 35s 588us/step - loss: 3.0030 - acc: 0.3581 - val_loss: 2.7451 - val_acc: 0.4045\n",
      "Epoch 6/10\n",
      "60000/60000 [==============================] - 35s 588us/step - loss: 2.9452 - acc: 0.3730 - val_loss: 2.7113 - val_acc: 0.4576\n",
      "Epoch 7/10\n",
      "60000/60000 [==============================] - 35s 588us/step - loss: 2.8924 - acc: 0.3926 - val_loss: 2.6483 - val_acc: 0.4674\n",
      "Epoch 8/10\n",
      "60000/60000 [==============================] - 35s 590us/step - loss: 2.8488 - acc: 0.4077 - val_loss: 2.5889 - val_acc: 0.4815\n",
      "Epoch 9/10\n",
      "60000/60000 [==============================] - 35s 589us/step - loss: 2.7979 - acc: 0.4307 - val_loss: 2.5228 - val_acc: 0.5186\n",
      "Epoch 10/10\n",
      "60000/60000 [==============================] - 35s 591us/step - loss: 2.7650 - acc: 0.4437 - val_loss: 2.4809 - val_acc: 0.5351\n",
      "Train on 60000 samples, validate on 10000 samples\n",
      "Epoch 1/10\n",
      "60000/60000 [==============================] - 61s 1ms/step - loss: 2.7330 - acc: 0.4561 - val_loss: 2.4835 - val_acc: 0.5484\n",
      "Epoch 2/10\n",
      "60000/60000 [==============================] - 35s 583us/step - loss: 2.7275 - acc: 0.4584 - val_loss: 2.4734 - val_acc: 0.5466\n",
      "Epoch 3/10\n",
      "60000/60000 [==============================] - 35s 588us/step - loss: 2.7232 - acc: 0.4592 - val_loss: 2.4666 - val_acc: 0.5526\n",
      "Epoch 4/10\n",
      "60000/60000 [==============================] - 35s 589us/step - loss: 2.7099 - acc: 0.4650 - val_loss: 2.4594 - val_acc: 0.5481\n",
      "Epoch 5/10\n",
      "60000/60000 [==============================] - 35s 589us/step - loss: 2.7149 - acc: 0.4640 - val_loss: 2.4535 - val_acc: 0.5471\n",
      "Epoch 6/10\n",
      "60000/60000 [==============================] - 35s 590us/step - loss: 2.7115 - acc: 0.4675 - val_loss: 2.4486 - val_acc: 0.5596\n",
      "Epoch 7/10\n",
      "60000/60000 [==============================] - 35s 591us/step - loss: 2.7126 - acc: 0.4673 - val_loss: 2.4489 - val_acc: 0.5566\n",
      "Epoch 8/10\n",
      "60000/60000 [==============================] - 35s 591us/step - loss: 2.7025 - acc: 0.4706 - val_loss: 2.4401 - val_acc: 0.5622\n",
      "Epoch 9/10\n",
      "60000/60000 [==============================] - 35s 590us/step - loss: 2.6945 - acc: 0.4739 - val_loss: 2.4313 - val_acc: 0.5652\n",
      "Epoch 10/10\n",
      "60000/60000 [==============================] - 36s 592us/step - loss: 2.6912 - acc: 0.4768 - val_loss: 2.4260 - val_acc: 0.5689\n",
      "Train on 60000 samples, validate on 10000 samples\n",
      "Epoch 1/10\n",
      "60000/60000 [==============================] - 61s 1ms/step - loss: 2.6897 - acc: 0.4772 - val_loss: 2.4302 - val_acc: 0.5660\n",
      "Epoch 2/10\n",
      "60000/60000 [==============================] - 35s 588us/step - loss: 2.6932 - acc: 0.4750 - val_loss: 2.4293 - val_acc: 0.5676\n",
      "Epoch 3/10\n",
      "60000/60000 [==============================] - 36s 593us/step - loss: 2.6900 - acc: 0.4771 - val_loss: 2.4275 - val_acc: 0.5666\n",
      "Epoch 4/10\n",
      "60000/60000 [==============================] - 35s 589us/step - loss: 2.6922 - acc: 0.4769 - val_loss: 2.4298 - val_acc: 0.5687\n",
      "Epoch 5/10\n",
      "60000/60000 [==============================] - 36s 592us/step - loss: 2.6859 - acc: 0.4761 - val_loss: 2.4261 - val_acc: 0.5682\n",
      "Epoch 6/10\n",
      "60000/60000 [==============================] - 35s 591us/step - loss: 2.6943 - acc: 0.4749 - val_loss: 2.4306 - val_acc: 0.5667\n",
      "Epoch 7/10\n",
      "60000/60000 [==============================] - 35s 590us/step - loss: 2.6883 - acc: 0.4757 - val_loss: 2.4280 - val_acc: 0.5698\n",
      "Epoch 8/10\n",
      "60000/60000 [==============================] - 35s 591us/step - loss: 2.6887 - acc: 0.4769 - val_loss: 2.4261 - val_acc: 0.5691\n",
      "Epoch 9/10\n",
      "60000/60000 [==============================] - 35s 591us/step - loss: 2.6981 - acc: 0.4730 - val_loss: 2.4281 - val_acc: 0.5684\n",
      "Epoch 10/10\n",
      "60000/60000 [==============================] - 35s 590us/step - loss: 2.6918 - acc: 0.4756 - val_loss: 2.4297 - val_acc: 0.5684\n"
     ]
    }
   ],
   "source": [
    "from keras.optimizers import SGD\n",
    "model = model_fn()\n",
    "momentum_metrics_history = [clb.AggregateMetricsOnBatchEnd(), clb.AggregateMetricsOnEpochEnd()]\n",
    "\n",
    "for lr in [0.01, 0.001, 0.0001]:\n",
    "    optimizer = SGD(lr=lr,  momentum=0.9)\n",
    "    model.compile(optimizer, loss='categorical_crossentropy', metrics=['accuracy'])\n",
    "    model.fit(\n",
    "        x=x_train, y=y_train, \n",
    "        batch_size=batch_size, epochs=10, \n",
    "        validation_data=validation_set, \n",
    "        callbacks=momentum_metrics_history)"
   ]
  },
  {
   "cell_type": "code",
   "execution_count": 110,
   "metadata": {
    "collapsed": false,
    "deletable": true,
    "editable": true
   },
   "outputs": [
    {
     "data": {
      "text/plain": [
       "<matplotlib.legend.Legend at 0x7f7963ee0240>"
      ]
     },
     "execution_count": 110,
     "metadata": {},
     "output_type": "execute_result"
    },
    {
     "data": {
      "image/png": "[encoded data removed]",
      "text/plain": [
       "<matplotlib.figure.Figure at 0x7f7963ee4c88>"
      ]
     },
     "metadata": {},
     "output_type": "display_data"
    }
   ],
   "source": [
    "hist = momentum_metrics_history[1].monitor_values['accuracies']\n",
    "for k, v in hist.items():\n",
    "    if len(v) != 0:\n",
    "        plt.plot(v, label=k)\n",
    "plt.legend()"
   ]
  },
  {
   "cell_type": "markdown",
   "metadata": {
    "deletable": true,
    "editable": true
   },
   "source": [
    "# Plots for comparison"
   ]
  },
  {
   "cell_type": "code",
   "execution_count": 81,
   "metadata": {
    "collapsed": true,
    "deletable": true,
    "editable": true
   },
   "outputs": [],
   "source": [
    "hists = {\n",
    "  'NSGD': metrics_history,\n",
    "  'Adam': adam_metrics_history,\n",
    "  'Momentum': momentum_metrics_history\n",
    "} "
   ]
  },
  {
   "cell_type": "code",
   "execution_count": 101,
   "metadata": {
    "collapsed": false,
    "deletable": true,
    "editable": true
   },
   "outputs": [
    {
     "data": {
      "image/png": "[encoded data removed]",
      "text/plain": [
       "<matplotlib.figure.Figure at 0x7f79644e5208>"
      ]
     },
     "metadata": {},
     "output_type": "display_data"
    }
   ],
   "source": [
    "plt.figure(figsize=(15, 3))\n",
    "plt.subplot(121)\n",
    "for opt, hist in hists.items():\n",
    "    h = hist[0].monitor_values['accuracies']['acc']\n",
    "    h = ut.moving_average(h, periods=100)\n",
    "    step_to_epoch = np.linspace(0, 30, len(h))\n",
    "    plt.plot(step_to_epoch, h, label=opt, alpha=0.8)\n",
    "plt.ylim([0, 1])\n",
    "plt.legend(fontsize=12, loc='upper right')\n",
    "plt.xlabel('epoch')\n",
    "plt.ylabel('training accuracy')\n",
    "\n",
    "plt.subplot(122)\n",
    "for opt, hist in hists.items():\n",
    "    h = hist[0].monitor_values['losses']['loss']\n",
    "    h = ut.moving_average(h, periods=100)\n",
    "    step_to_epoch = np.linspace(0, 30, len(h))\n",
    "    plt.plot(step_to_epoch, h, label=opt, alpha=0.8)\n",
    "plt.legend(fontsize=12, loc='upper right')\n",
    "plt.xlabel('epoch')\n",
    "plt.ylabel('training loss')\n",
    "# plt.savefig('../img/mnist_mlp_training.pdf')\n",
    "# plt.savefig('../img/mnist_mlp_training.png')"
   ]
  },
  {
   "cell_type": "code",
   "execution_count": 102,
   "metadata": {
    "collapsed": false,
    "deletable": true,
    "editable": true
   },
   "outputs": [
    {
     "data": {
      "image/png": "[encoded data removed]",
      "text/plain": [
       "<matplotlib.figure.Figure at 0x7f7a626d8b70>"
      ]
     },
     "metadata": {},
     "output_type": "display_data"
    }
   ],
   "source": [
    "plt.figure(figsize=(15, 3))\n",
    "plt.subplot(121)\n",
    "for opt, hist in hists.items():\n",
    "    h = hist[1].monitor_values['accuracies']['val_acc']\n",
    "    plt.plot(h, 'o-',label=opt,  alpha=0.9, linewidth=2)\n",
    "plt.legend(fontsize=12, loc='upper right')\n",
    "plt.xlabel('epoch')\n",
    "plt.ylabel('validation\\naccuracy')\n",
    "\n",
    "plt.subplot(122)\n",
    "for opt, hist in hists.items():\n",
    "    h = hist[1].monitor_values['losses']['val_loss']\n",
    "    plt.plot(h, 'o-', label=opt,  alpha=0.9, linewidth=2)\n",
    "plt.legend(fontsize=12, loc='upper right')\n",
    "plt.xlabel('epoch')\n",
    "plt.ylabel('validation\\nloss')\n",
    "# plt.savefig('../img/mnist_mlp_validation.pdf')\n",
    "# plt.savefig('../img/mnist_mlp_validation.png')"
   ]
  }
 ],
 "metadata": {
  "kernelspec": {
   "display_name": "receptivefield",
   "language": "python",
   "name": "receptivefield"
  },
  "language_info": {
   "codemirror_mode": {
    "name": "ipython",
    "version": 2
   },
   "file_extension": ".py",
   "mimetype": "text/x-python",
   "name": "python",
   "nbconvert_exporter": "python",
   "pygments_lexer": "ipython2",
   "version": "2.7.12"
  },
  "toc": {
   "colors": {
    "hover_highlight": "#DAA520",
    "navigate_num": "#000000",
    "navigate_text": "#333333",
    "running_highlight": "#FF0000",
    "selected_highlight": "#FFD700",
    "sidebar_border": "#EEEEEE",
    "wrapper_background": "#FFFFFF"
   },
   "moveMenuLeft": true,
   "nav_menu": {
    "height": "12px",
    "width": "252px"
   },
   "navigate_menu": true,
   "number_sections": true,
   "sideBar": true,
   "threshold": 4,
   "toc_cell": false,
   "toc_section_display": "block",
   "toc_window_display": false,
   "widenNotebook": false
  },
  "varInspector": {
   "cols": {
    "lenName": 16,
    "lenType": 16,
    "lenVar": 40
   },
   "kernels_config": {
    "python": {
     "delete_cmd_postfix": "",
     "delete_cmd_prefix": "del ",
     "library": "var_list.py",
     "varRefreshCmd": "print(var_dic_list())"
    },
    "r": {
     "delete_cmd_postfix": ") ",
     "delete_cmd_prefix": "rm(",
     "library": "var_list.r",
     "varRefreshCmd": "cat(var_dic_list()) "
    }
   },
   "types_to_exclude": [
    "module",
    "function",
    "builtin_function_or_method",
    "instance",
    "_Feature"
   ],
   "window_display": false
  }
 },
 "nbformat": 4,
 "nbformat_minor": 2
}
