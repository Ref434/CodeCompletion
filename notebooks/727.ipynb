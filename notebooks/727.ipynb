{
 "cells": [
  {
   "cell_type": "code",
   "execution_count": 1,
   "id": "b417a987-bf90-40d6-8421-8b6de178ad43",
   "metadata": {
    "tags": []
   },
   "outputs": [
    {
     "data": {
      "text/plain": [
       "'1.3.4'"
      ]
     },
     "execution_count": 1,
     "metadata": {},
     "output_type": "execute_result"
    }
   ],
   "source": [
    "import pandas as pd\n",
    "\n",
    "pd.__version__"
   ]
  },
  {
   "cell_type": "markdown",
   "id": "afa94db4-9236-4c83-896f-88dadf02c223",
   "metadata": {},
   "source": [
    "# 2 pandas常用字符串处理方法"
   ]
  },
  {
   "cell_type": "markdown",
   "id": "aacb3f67-4ac5-46cc-94f0-6c0505aa2bc8",
   "metadata": {
    "tags": []
   },
   "source": [
    "## 2.1 拼接合成类方法"
   ]
  },
  {
   "cell_type": "markdown",
   "id": "68746cdd-878c-4826-85ac-c67086fa581a",
   "metadata": {},
   "source": [
    "### 2.1.1 利用join()方法连接字符串"
   ]
  },
  {
   "cell_type": "code",
   "execution_count": 2,
   "id": "6c2e45d0-2359-477c-ae02-aea65754579d",
   "metadata": {
    "tags": []
   },
   "outputs": [
    {
     "data": {
      "text/plain": [
       "0          a-b-c\n",
       "1            NaN\n",
       "2    p-a-n-d-a-s\n",
       "dtype: object"
      ]
     },
     "execution_count": 2,
     "metadata": {},
     "output_type": "execute_result"
    }
   ],
   "source": [
    "s = pd.Series([\n",
    "    ['a', 'b', 'c'],\n",
    "    [1, 'a', 'b'],\n",
    "    list('pandas')\n",
    "])\n",
    "\n",
    "s.str.join('-')"
   ]
  },
  {
   "cell_type": "markdown",
   "id": "4d2d6b78-b902-4499-9e81-dfef0e45e7cd",
   "metadata": {},
   "source": [
    "### 2.1.2 利用cat()方法进行字符串拼接"
   ]
  },
  {
   "cell_type": "code",
   "execution_count": 3,
   "id": "fc99b7a2-14be-42f7-832b-667a682d83cb",
   "metadata": {},
   "outputs": [],
   "source": [
    "s1 = pd.Series(['a', 'b', None, 'd'])\n",
    "s2 = list('ABCD')"
   ]
  },
  {
   "cell_type": "code",
   "execution_count": 4,
   "id": "7bae56e3-7c80-4a92-8158-00058ddf14d7",
   "metadata": {},
   "outputs": [
    {
     "data": {
      "text/plain": [
       "'abd'"
      ]
     },
     "execution_count": 4,
     "metadata": {},
     "output_type": "execute_result"
    }
   ],
   "source": [
    "s1.str.cat()"
   ]
  },
  {
   "cell_type": "code",
   "execution_count": 5,
   "id": "3da1e2a2-03fe-4fef-85b0-db9925dd6d2c",
   "metadata": {},
   "outputs": [
    {
     "data": {
      "text/plain": [
       "'a/b/d'"
      ]
     },
     "execution_count": 5,
     "metadata": {},
     "output_type": "execute_result"
    }
   ],
   "source": [
    "s1.str.cat(sep='/')"
   ]
  },
  {
   "cell_type": "code",
   "execution_count": 6,
   "id": "46868dbd-0864-4622-9b7a-16bf314282f1",
   "metadata": {},
   "outputs": [
    {
     "data": {
      "text/plain": [
       "0     aA\n",
       "1     bB\n",
       "2    NaN\n",
       "3     dD\n",
       "dtype: object"
      ]
     },
     "execution_count": 6,
     "metadata": {},
     "output_type": "execute_result"
    }
   ],
   "source": [
    "s1.str.cat(s2)"
   ]
  },
  {
   "cell_type": "code",
   "execution_count": 7,
   "id": "eda371e2-532e-4850-bc40-98e052f1fe54",
   "metadata": {},
   "outputs": [
    {
     "data": {
      "text/plain": [
       "0    a-A\n",
       "1    b-B\n",
       "2    NaN\n",
       "3    d-D\n",
       "dtype: object"
      ]
     },
     "execution_count": 7,
     "metadata": {},
     "output_type": "execute_result"
    }
   ],
   "source": [
    "s1.str.cat(s2, sep='-')"
   ]
  },
  {
   "cell_type": "code",
   "execution_count": 8,
   "id": "0dfdc4e6-f286-4e99-9fcc-bb324fce3e6d",
   "metadata": {},
   "outputs": [
    {
     "data": {
      "text/plain": [
       "0    a-A\n",
       "1    b-B\n",
       "2    空-C\n",
       "3    d-D\n",
       "dtype: object"
      ]
     },
     "execution_count": 8,
     "metadata": {},
     "output_type": "execute_result"
    }
   ],
   "source": [
    "s1.str.cat(s2, sep='-', na_rep='空')"
   ]
  },
  {
   "cell_type": "markdown",
   "id": "fea89f07-7c41-4f0e-b35e-3e8ede9112f9",
   "metadata": {},
   "source": [
    "## 2.2 判断类方法"
   ]
  },
  {
   "cell_type": "markdown",
   "id": "ccbd89a2-4be7-4c16-84e3-8a6f8bff68f7",
   "metadata": {},
   "source": [
    "### 2.2.1 利用startswith()与endswith()匹配字符串首尾"
   ]
  },
  {
   "cell_type": "code",
   "execution_count": 9,
   "id": "ab7791a5-950d-4977-80ed-a296889f4b9c",
   "metadata": {},
   "outputs": [],
   "source": [
    "s = pd.Series(['aaabb', 'bbccc', pd.NA])"
   ]
  },
  {
   "cell_type": "code",
   "execution_count": 10,
   "id": "d936ec5c-c3f0-431c-889e-88bf144c68cd",
   "metadata": {},
   "outputs": [
    {
     "data": {
      "text/plain": [
       "0     True\n",
       "1    False\n",
       "2     <NA>\n",
       "dtype: object"
      ]
     },
     "execution_count": 10,
     "metadata": {},
     "output_type": "execute_result"
    }
   ],
   "source": [
    "s.str.startswith('a')"
   ]
  },
  {
   "cell_type": "code",
   "execution_count": 11,
   "id": "9c25fdf1-5e3e-4c4c-ae9d-8951229cd214",
   "metadata": {},
   "outputs": [
    {
     "data": {
      "text/plain": [
       "0    False\n",
       "1     True\n",
       "2     <NA>\n",
       "dtype: object"
      ]
     },
     "execution_count": 11,
     "metadata": {},
     "output_type": "execute_result"
    }
   ],
   "source": [
    "s.str.endswith('c')"
   ]
  },
  {
   "cell_type": "code",
   "execution_count": 12,
   "id": "75a6f9a7-067c-4c9f-a141-d1184a6d58bf",
   "metadata": {},
   "outputs": [
    {
     "data": {
      "text/plain": [
       "0    False\n",
       "1     True\n",
       "2    False\n",
       "dtype: bool"
      ]
     },
     "execution_count": 12,
     "metadata": {},
     "output_type": "execute_result"
    }
   ],
   "source": [
    "s.str.endswith('c', na=False)"
   ]
  },
  {
   "cell_type": "markdown",
   "id": "8f4a21f2-ca82-4162-a9bb-c2c72eb5cd25",
   "metadata": {},
   "source": [
    "### 2.2.2 利用contains()判断是否包含指定模式"
   ]
  },
  {
   "cell_type": "code",
   "execution_count": 13,
   "id": "a833006f-97fb-45ac-b9b8-c9d829c32741",
   "metadata": {},
   "outputs": [],
   "source": [
    "s = pd.Series(['aab测试ccc', 'bb例子ccc', pd.NA])"
   ]
  },
  {
   "cell_type": "code",
   "execution_count": 14,
   "id": "7e3c63f6-6c7f-4f31-8dd7-046992626661",
   "metadata": {},
   "outputs": [
    {
     "data": {
      "text/plain": [
       "0     True\n",
       "1    False\n",
       "2     <NA>\n",
       "dtype: object"
      ]
     },
     "execution_count": 14,
     "metadata": {},
     "output_type": "execute_result"
    }
   ],
   "source": [
    "s.str.contains('测试')"
   ]
  },
  {
   "cell_type": "code",
   "execution_count": 15,
   "id": "fcb4e400-016c-4399-94bf-78b73d1eabbe",
   "metadata": {},
   "outputs": [
    {
     "data": {
      "text/plain": [
       "0    True\n",
       "1    True\n",
       "2    <NA>\n",
       "dtype: object"
      ]
     },
     "execution_count": 15,
     "metadata": {},
     "output_type": "execute_result"
    }
   ],
   "source": [
    "# 判断是否包含中文\n",
    "s.str.contains('[\\u4e00-\\u9fa5]+')"
   ]
  },
  {
   "cell_type": "code",
   "execution_count": 16,
   "id": "dfcc29cd-b862-4541-afb6-4dc41500e6d1",
   "metadata": {},
   "outputs": [
    {
     "data": {
      "text/plain": [
       "0     True\n",
       "1     True\n",
       "2    False\n",
       "dtype: bool"
      ]
     },
     "execution_count": 16,
     "metadata": {},
     "output_type": "execute_result"
    }
   ],
   "source": [
    "# 判断是否包含中文\n",
    "s.str.contains('[\\u4e00-\\u9fa5]+', na=False)"
   ]
  },
  {
   "cell_type": "markdown",
   "id": "c28b6de3-1472-47bb-abfa-b92889afc3b2",
   "metadata": {},
   "source": [
    "### 2.2.3 利用match()判断是否满足指定正则表达式开头"
   ]
  },
  {
   "cell_type": "code",
   "execution_count": 17,
   "id": "26fe2471-dafb-4284-87b6-32e008469fd0",
   "metadata": {},
   "outputs": [],
   "source": [
    "s = pd.Series([\n",
    "    'https://github.com/CNFeffery/DataScienceStudyNotes',\n",
    "    'https://www.cnblogs.com/feffery/',\n",
    "    'http://fac.feffery.tech/',\n",
    "    'ftp://xxx.xxx.xxx'\n",
    "])"
   ]
  },
  {
   "cell_type": "code",
   "execution_count": 18,
   "id": "0c28c818-d4b5-4c99-835b-4d440ca53177",
   "metadata": {},
   "outputs": [
    {
     "data": {
      "text/plain": [
       "0     True\n",
       "1     True\n",
       "2    False\n",
       "3     True\n",
       "dtype: bool"
      ]
     },
     "execution_count": 18,
     "metadata": {},
     "output_type": "execute_result"
    }
   ],
   "source": [
    "# 判断是否以https或ftp开头\n",
    "s.str.match('https|ftp')"
   ]
  },
  {
   "cell_type": "markdown",
   "id": "f6f5f642-1878-424c-a978-1796361db418",
   "metadata": {},
   "source": [
    "### 2.2.4 利用fullmatch()判断字符串是否完整满足指定正则模式"
   ]
  },
  {
   "cell_type": "code",
   "execution_count": 19,
   "id": "14c7ed6f-3877-4ec1-8df5-184e47f82f4f",
   "metadata": {},
   "outputs": [],
   "source": [
    "s = pd.Series(['510000', '510100', '510104', '500000', '500101'])"
   ]
  },
  {
   "cell_type": "code",
   "execution_count": 20,
   "id": "60703bfa-42af-40ce-8f6b-f6ddff14a6e3",
   "metadata": {},
   "outputs": [
    {
     "data": {
      "text/plain": [
       "0    False\n",
       "1     True\n",
       "2    False\n",
       "3    False\n",
       "4    False\n",
       "dtype: bool"
      ]
     },
     "execution_count": 20,
     "metadata": {},
     "output_type": "execute_result"
    }
   ],
   "source": [
    "# 匹配所有四川省下的市级单元\n",
    "s.str.fullmatch('^51\\d+[^0]00')"
   ]
  },
  {
   "cell_type": "markdown",
   "id": "321982bc-950c-423f-845c-3373e198c763",
   "metadata": {},
   "source": [
    "## 2.3 生成型方法"
   ]
  },
  {
   "cell_type": "markdown",
   "id": "21736821-4c53-45df-80ac-a25fd626bf03",
   "metadata": {},
   "source": [
    "### 2.3.1 利用slice()进行字符切片"
   ]
  },
  {
   "cell_type": "code",
   "execution_count": 21,
   "id": "3f3c3b9f-851e-4458-8796-4b36472f5df7",
   "metadata": {},
   "outputs": [],
   "source": [
    "s = pd.Series(['abc', 'abcd', 'abcde'])"
   ]
  },
  {
   "cell_type": "code",
   "execution_count": 22,
   "id": "9b1f8bb4-e5c3-43a1-95f3-6b7fffd3b73c",
   "metadata": {},
   "outputs": [
    {
     "data": {
      "text/plain": [
       "0    abc\n",
       "1    abc\n",
       "2    abc\n",
       "dtype: object"
      ]
     },
     "execution_count": 22,
     "metadata": {},
     "output_type": "execute_result"
    }
   ],
   "source": [
    "s.str.slice(stop=3)"
   ]
  },
  {
   "cell_type": "code",
   "execution_count": 23,
   "id": "6a3fb55a-e4cf-4e3f-ab84-b1b5695cfa45",
   "metadata": {},
   "outputs": [
    {
     "data": {
      "text/plain": [
       "0      b\n",
       "1     bc\n",
       "2    bcd\n",
       "dtype: object"
      ]
     },
     "execution_count": 23,
     "metadata": {},
     "output_type": "execute_result"
    }
   ],
   "source": [
    "s.str.slice(start=1, stop=-1)"
   ]
  },
  {
   "cell_type": "code",
   "execution_count": 24,
   "id": "6e7fa514-bab6-4487-bacc-0e5af9c67a3a",
   "metadata": {},
   "outputs": [
    {
     "data": {
      "text/plain": [
       "0      b\n",
       "1     bc\n",
       "2    bcd\n",
       "dtype: object"
      ]
     },
     "execution_count": 24,
     "metadata": {},
     "output_type": "execute_result"
    }
   ],
   "source": [
    "# 等价的写法\n",
    "s.str[1:-1]"
   ]
  },
  {
   "cell_type": "code",
   "execution_count": 25,
   "id": "6ca6600c-a9f9-4bbe-9964-19ae346575ea",
   "metadata": {},
   "outputs": [
    {
     "data": {
      "text/plain": [
       "0      cba\n",
       "1     dcba\n",
       "2    edcba\n",
       "dtype: object"
      ]
     },
     "execution_count": 25,
     "metadata": {},
     "output_type": "execute_result"
    }
   ],
   "source": [
    "# 翻转字符串快速方式\n",
    "s.str[::-1]"
   ]
  },
  {
   "cell_type": "markdown",
   "id": "68a26a9b-454a-43bd-84b0-0b03c07f46a8",
   "metadata": {},
   "source": [
    "### 2.3.2 利用replace()对指定字符片段或正则模式进行替换"
   ]
  },
  {
   "cell_type": "code",
   "execution_count": 26,
   "id": "56816091-da8e-4575-bf75-b7308f6aabcf",
   "metadata": {},
   "outputs": [],
   "source": [
    "s = pd.Series(['abc测试de', 'abcdef', 'abc🤣'])"
   ]
  },
  {
   "cell_type": "code",
   "execution_count": 27,
   "id": "8737c57b-b03e-4d1e-b80f-7c919775817b",
   "metadata": {},
   "outputs": [
    {
     "data": {
      "text/plain": [
       "0    abc-de\n",
       "1    abcdef\n",
       "2      abc-\n",
       "dtype: object"
      ]
     },
     "execution_count": 27,
     "metadata": {},
     "output_type": "execute_result"
    }
   ],
   "source": [
    "s.str.replace('[\\u4e00-\\u9fa5]+|🤣', '-', regex=True)"
   ]
  },
  {
   "cell_type": "code",
   "execution_count": 28,
   "id": "3973df9d-c8bc-4915-a5ac-1c4ae2c10af9",
   "metadata": {},
   "outputs": [
    {
     "data": {
      "text/plain": [
       "0    abc-de\n",
       "1    abcdef\n",
       "2      abc🤣\n",
       "dtype: object"
      ]
     },
     "execution_count": 28,
     "metadata": {},
     "output_type": "execute_result"
    }
   ],
   "source": [
    "s.str.replace('测试', '-', regex=False)"
   ]
  },
  {
   "cell_type": "markdown",
   "id": "76a412c2-8eea-4c0f-a854-14fcf7ee8f0d",
   "metadata": {},
   "source": [
    "### 2.3.3 利用split()按照指定字符片段或正则模式拆分字符串"
   ]
  },
  {
   "cell_type": "code",
   "execution_count": 29,
   "id": "9d726e3b-5030-4e52-b41a-3dc665222386",
   "metadata": {},
   "outputs": [],
   "source": [
    "s = pd.Series([\n",
    "    '当地时间2021年11月20日，美国亚特兰大哈兹菲尔德-杰克逊国际机场发生枪击事件，机场一度陷入混乱，所有即将起飞的航班被临时叫停。',\n",
    "    '有关部门调查后表示，目前尚未发现伤者，枪击事件应属意外，不存在蓄意开枪者。'\n",
    "])"
   ]
  },
  {
   "cell_type": "code",
   "execution_count": 30,
   "id": "5019e568-21c2-4623-a016-2cef954a5ff9",
   "metadata": {},
   "outputs": [
    {
     "data": {
      "text/html": [
       "<div>\n",
       "<style scoped>\n",
       "    .dataframe tbody tr th:only-of-type {\n",
       "        vertical-align: middle;\n",
       "    }\n",
       "\n",
       "    .dataframe tbody tr th {\n",
       "        vertical-align: top;\n",
       "    }\n",
       "\n",
       "    .dataframe thead th {\n",
       "        text-align: right;\n",
       "    }\n",
       "</style>\n",
       "<table border=\"1\" class=\"dataframe\">\n",
       "  <thead>\n",
       "    <tr style=\"text-align: right;\">\n",
       "      <th></th>\n",
       "      <th>0</th>\n",
       "      <th>1</th>\n",
       "      <th>2</th>\n",
       "      <th>3</th>\n",
       "      <th>4</th>\n",
       "    </tr>\n",
       "  </thead>\n",
       "  <tbody>\n",
       "    <tr>\n",
       "      <th>0</th>\n",
       "      <td>当地时间2021年11月20日</td>\n",
       "      <td>美国亚特兰大哈兹菲尔德-杰克逊国际机场发生枪击事件</td>\n",
       "      <td>机场一度陷入混乱</td>\n",
       "      <td>所有即将起飞的航班被临时叫停</td>\n",
       "      <td></td>\n",
       "    </tr>\n",
       "    <tr>\n",
       "      <th>1</th>\n",
       "      <td>有关部门调查后表示</td>\n",
       "      <td>目前尚未发现伤者</td>\n",
       "      <td>枪击事件应属意外</td>\n",
       "      <td>不存在蓄意开枪者</td>\n",
       "      <td></td>\n",
       "    </tr>\n",
       "  </tbody>\n",
       "</table>\n",
       "</div>"
      ],
      "text/plain": [
       "                 0                          1         2               3 4\n",
       "0  当地时间2021年11月20日  美国亚特兰大哈兹菲尔德-杰克逊国际机场发生枪击事件  机场一度陷入混乱  所有即将起飞的航班被临时叫停  \n",
       "1        有关部门调查后表示                   目前尚未发现伤者  枪击事件应属意外        不存在蓄意开枪者  "
      ]
     },
     "execution_count": 30,
     "metadata": {},
     "output_type": "execute_result"
    }
   ],
   "source": [
    "# 按照逗号、句号进行分句\n",
    "s.str.split('[，。]', expand=True)"
   ]
  },
  {
   "cell_type": "markdown",
   "id": "1e6058b6-a3f6-4094-bc98-8d20776ac710",
   "metadata": {},
   "source": [
    "### 2.3.4 利用findall()提取符合指定模式的片段"
   ]
  },
  {
   "cell_type": "code",
   "execution_count": 31,
   "id": "9a00e82a-4c5e-44ed-825e-2a37130366ef",
   "metadata": {},
   "outputs": [],
   "source": [
    "s = pd.Series([\n",
    "    '当地时间2021年11月20日'\n",
    "])"
   ]
  },
  {
   "cell_type": "code",
   "execution_count": 32,
   "id": "11f9eeb1-4b08-480d-81e2-cd3e7c9c49af",
   "metadata": {},
   "outputs": [
    {
     "data": {
      "text/plain": [
       "0    [2021, 11, 20]\n",
       "dtype: object"
      ]
     },
     "execution_count": 32,
     "metadata": {},
     "output_type": "execute_result"
    }
   ],
   "source": [
    "# 提取所有数字\n",
    "s.str.findall('\\d+')"
   ]
  },
  {
   "cell_type": "code",
   "execution_count": 33,
   "id": "f0485789-fd79-4061-b60f-17f440cd8778",
   "metadata": {},
   "outputs": [
    {
     "data": {
      "text/plain": [
       "0    [2021年11月20日]\n",
       "dtype: object"
      ]
     },
     "execution_count": 33,
     "metadata": {},
     "output_type": "execute_result"
    }
   ],
   "source": [
    "# 提取指定格式日期\n",
    "s.str.findall('\\d{4}年\\d{2}月\\d{,2}日')"
   ]
  },
  {
   "cell_type": "markdown",
   "id": "9c87cdcb-9d04-4375-949a-39936994d41f",
   "metadata": {},
   "source": [
    "### 2.3.5 利用count()进行频数统计"
   ]
  },
  {
   "cell_type": "code",
   "execution_count": 34,
   "id": "c89d77ea-aeae-4ae2-af03-085ae6ec9986",
   "metadata": {},
   "outputs": [],
   "source": [
    "s = pd.Series(['aab, bbc, abcd, aaa. cccdd, add, fdeac.'])"
   ]
  },
  {
   "cell_type": "code",
   "execution_count": 35,
   "id": "2bd1a7d4-d504-4862-a770-ee29f21cf4ef",
   "metadata": {},
   "outputs": [
    {
     "data": {
      "text/plain": [
       "0    [aab,,  bbc,,  aaa.,  add,]\n",
       "dtype: object"
      ]
     },
     "execution_count": 35,
     "metadata": {},
     "output_type": "execute_result"
    }
   ],
   "source": [
    "# 提取所有的长度仅为3的连续字母\n",
    "s.str.findall(' [a-z]{3}[,\\.]|^[a-z]{3}[,\\.]')"
   ]
  },
  {
   "cell_type": "code",
   "execution_count": 36,
   "id": "dccda627-696f-472e-9364-97b95dd5949c",
   "metadata": {},
   "outputs": [
    {
     "data": {
      "text/plain": [
       "0    4\n",
       "dtype: int64"
      ]
     },
     "execution_count": 36,
     "metadata": {},
     "output_type": "execute_result"
    }
   ],
   "source": [
    "s.str.count(' [a-z]{3}[,\\.]|^[a-z]{3}[,\\.]')"
   ]
  },
  {
   "cell_type": "markdown",
   "id": "6dbe0771-95eb-45e7-aaf0-216d956c29dc",
   "metadata": {},
   "source": [
    "## 2.4 特殊型方法"
   ]
  },
  {
   "cell_type": "markdown",
   "id": "8f6500ec-ef5b-4a73-9bae-c998a9fbc705",
   "metadata": {},
   "source": [
    "### 2.4.1 利用get_dummies()方法生成哑变量"
   ]
  },
  {
   "cell_type": "code",
   "execution_count": 37,
   "id": "decad82f-46ab-4047-b3b3-c2c2cb99662c",
   "metadata": {},
   "outputs": [],
   "source": [
    "s = pd.Series([\n",
    "    '类别1/类别2',\n",
    "    '类别2/类别4/类别5',\n",
    "    '类别5',\n",
    "])"
   ]
  },
  {
   "cell_type": "code",
   "execution_count": 38,
   "id": "f77a3493-1ff4-4294-896c-78a18064f29a",
   "metadata": {},
   "outputs": [
    {
     "data": {
      "text/html": [
       "<div>\n",
       "<style scoped>\n",
       "    .dataframe tbody tr th:only-of-type {\n",
       "        vertical-align: middle;\n",
       "    }\n",
       "\n",
       "    .dataframe tbody tr th {\n",
       "        vertical-align: top;\n",
       "    }\n",
       "\n",
       "    .dataframe thead th {\n",
       "        text-align: right;\n",
       "    }\n",
       "</style>\n",
       "<table border=\"1\" class=\"dataframe\">\n",
       "  <thead>\n",
       "    <tr style=\"text-align: right;\">\n",
       "      <th></th>\n",
       "      <th>类别1</th>\n",
       "      <th>类别2</th>\n",
       "      <th>类别4</th>\n",
       "      <th>类别5</th>\n",
       "    </tr>\n",
       "  </thead>\n",
       "  <tbody>\n",
       "    <tr>\n",
       "      <th>0</th>\n",
       "      <td>1</td>\n",
       "      <td>1</td>\n",
       "      <td>0</td>\n",
       "      <td>0</td>\n",
       "    </tr>\n",
       "    <tr>\n",
       "      <th>1</th>\n",
       "      <td>0</td>\n",
       "      <td>1</td>\n",
       "      <td>1</td>\n",
       "      <td>1</td>\n",
       "    </tr>\n",
       "    <tr>\n",
       "      <th>2</th>\n",
       "      <td>0</td>\n",
       "      <td>0</td>\n",
       "      <td>0</td>\n",
       "      <td>1</td>\n",
       "    </tr>\n",
       "  </tbody>\n",
       "</table>\n",
       "</div>"
      ],
      "text/plain": [
       "   类别1  类别2  类别4  类别5\n",
       "0    1    1    0    0\n",
       "1    0    1    1    1\n",
       "2    0    0    0    1"
      ]
     },
     "execution_count": 38,
     "metadata": {},
     "output_type": "execute_result"
    }
   ],
   "source": [
    "s.str.get_dummies(sep='/')"
   ]
  },
  {
   "cell_type": "markdown",
   "id": "e756eb9d-e2ce-4514-a985-0d440121af02",
   "metadata": {},
   "source": [
    "### 2.4.2 利用pd.to_numeric()修复数值错误"
   ]
  },
  {
   "cell_type": "code",
   "execution_count": 39,
   "id": "8565ec19-c02e-437f-b21e-a2e7718787ed",
   "metadata": {},
   "outputs": [
    {
     "name": "stdout",
     "output_type": "stream",
     "text": [
      "<class 'pandas.core.frame.DataFrame'>\n",
      "RangeIndex: 7 entries, 0 to 6\n",
      "Data columns (total 1 columns):\n",
      " #   Column  Non-Null Count  Dtype \n",
      "---  ------  --------------  ----- \n",
      " 0   记录值     7 non-null      object\n",
      "dtypes: object(1)\n",
      "memory usage: 184.0+ bytes\n"
     ]
    }
   ],
   "source": [
    "demo = pd.read_excel('demo.xlsx')\n",
    "demo.info()"
   ]
  },
  {
   "cell_type": "code",
   "execution_count": 40,
   "id": "f1839b2a-4dcc-4900-97c6-dc1ab9789974",
   "metadata": {},
   "outputs": [
    {
     "data": {
      "text/plain": [
       "0    2.0\n",
       "1    4.0\n",
       "2    NaN\n",
       "3    NaN\n",
       "4    3.0\n",
       "5    1.0\n",
       "6    6.0\n",
       "Name: 记录值, dtype: float64"
      ]
     },
     "execution_count": 40,
     "metadata": {},
     "output_type": "execute_result"
    }
   ],
   "source": [
    "pd.to_numeric(demo['记录值'], errors='coerce')"
   ]
  },
  {
   "cell_type": "code",
   "execution_count": 41,
   "id": "807dec36-cd4a-4da9-9e33-b349ad9869d6",
   "metadata": {},
   "outputs": [
    {
     "data": {
      "text/plain": [
       "0    2.0\n",
       "1    4.0\n",
       "4    3.0\n",
       "5    1.0\n",
       "6    6.0\n",
       "Name: 记录值, dtype: float64"
      ]
     },
     "execution_count": 41,
     "metadata": {},
     "output_type": "execute_result"
    }
   ],
   "source": [
    "pd.to_numeric(demo['记录值'], errors='coerce').dropna()"
   ]
  }
 ],
 "metadata": {
  "kernelspec": {
   "display_name": "Python 3 (ipykernel)",
   "language": "python",
   "name": "python3"
  },
  "language_info": {
   "codemirror_mode": {
    "name": "ipython",
    "version": 3
   },
   "file_extension": ".py",
   "mimetype": "text/x-python",
   "name": "python",
   "nbconvert_exporter": "python",
   "pygments_lexer": "ipython3",
   "version": "3.7.11"
  }
 },
 "nbformat": 4,
 "nbformat_minor": 5
}
