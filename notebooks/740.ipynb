{
 "cells": [
  {
   "cell_type": "markdown",
   "id": "0b4aca96-22c3-4db6-baca-a43ed3161160",
   "metadata": {
    "tags": []
   },
   "source": [
    "# 2 在Python中利用yarl高效处理url"
   ]
  },
  {
   "cell_type": "markdown",
   "id": "54ae77dc-6c4c-476e-9478-0628573cf499",
   "metadata": {},
   "source": [
    "## 2.1 利用yarl解析url信息"
   ]
  },
  {
   "cell_type": "code",
   "execution_count": 1,
   "id": "72024a9c-638d-4371-b1d4-9000605ab542",
   "metadata": {},
   "outputs": [],
   "source": [
    "from yarl import URL\n",
    "\n",
    "url = URL('https://github.com/CNFeffery/DataScienceStudyNotes/tree/master/%E5%8E%86%E5%8F%B2%E6%96%87%E7%AB%A0%E9%99%84%E4%BB%B6%E5%88%97%E8%A1%A8')"
   ]
  },
  {
   "cell_type": "code",
   "execution_count": 2,
   "id": "929bc7b1-5399-4046-9fa3-fcaf8c521638",
   "metadata": {},
   "outputs": [
    {
     "data": {
      "text/plain": [
       "'https://github.com/CNFeffery/DataScienceStudyNotes/tree/master/历史文章附件列表'"
      ]
     },
     "execution_count": 2,
     "metadata": {},
     "output_type": "execute_result"
    }
   ],
   "source": [
    "# url解码\n",
    "url.human_repr()"
   ]
  },
  {
   "cell_type": "code",
   "execution_count": 3,
   "id": "d126a29f-0c72-49f5-b082-b561b2e1b90c",
   "metadata": {},
   "outputs": [
    {
     "data": {
      "text/plain": [
       "'https'"
      ]
     },
     "execution_count": 3,
     "metadata": {},
     "output_type": "execute_result"
    }
   ],
   "source": [
    "url.scheme"
   ]
  },
  {
   "cell_type": "code",
   "execution_count": 4,
   "id": "930df0b4-3451-48f8-82e0-e8927ee37555",
   "metadata": {},
   "outputs": [
    {
     "data": {
      "text/plain": [
       "'github.com'"
      ]
     },
     "execution_count": 4,
     "metadata": {},
     "output_type": "execute_result"
    }
   ],
   "source": [
    "url.host"
   ]
  },
  {
   "cell_type": "code",
   "execution_count": 5,
   "id": "764ddcb9-5152-470d-ac17-c548d2b449fa",
   "metadata": {},
   "outputs": [
    {
     "data": {
      "text/plain": [
       "443"
      ]
     },
     "execution_count": 5,
     "metadata": {},
     "output_type": "execute_result"
    }
   ],
   "source": [
    "url.port"
   ]
  },
  {
   "cell_type": "code",
   "execution_count": 6,
   "id": "d4fadec6-cd4c-4cde-9c1e-6de06ee98e1f",
   "metadata": {},
   "outputs": [
    {
     "data": {
      "text/plain": [
       "'/CNFeffery/DataScienceStudyNotes/tree/master/历史文章附件列表'"
      ]
     },
     "execution_count": 6,
     "metadata": {},
     "output_type": "execute_result"
    }
   ],
   "source": [
    "url.path"
   ]
  },
  {
   "cell_type": "code",
   "execution_count": 7,
   "id": "9806d499-96ac-497a-b639-b90555a7f964",
   "metadata": {},
   "outputs": [
    {
     "data": {
      "text/plain": [
       "('/', 'CNFeffery', 'DataScienceStudyNotes', 'tree', 'master', '历史文章附件列表')"
      ]
     },
     "execution_count": 7,
     "metadata": {},
     "output_type": "execute_result"
    }
   ],
   "source": [
    "# 拆解path各层次\n",
    "url.parts"
   ]
  },
  {
   "cell_type": "code",
   "execution_count": 8,
   "id": "d86bbbd9-37be-45e4-ad33-202caee49210",
   "metadata": {},
   "outputs": [
    {
     "data": {
      "text/plain": [
       "True"
      ]
     },
     "execution_count": 8,
     "metadata": {},
     "output_type": "execute_result"
    }
   ],
   "source": [
    "# url中无显式的端口信息\n",
    "url.explicit_port == None"
   ]
  },
  {
   "cell_type": "code",
   "execution_count": 9,
   "id": "377e9f51-6757-4a57-89d4-7922c2f14fee",
   "metadata": {},
   "outputs": [
    {
     "data": {
      "text/plain": [
       "8000"
      ]
     },
     "execution_count": 9,
     "metadata": {},
     "output_type": "execute_result"
    }
   ],
   "source": [
    "URL('http://10.10.0.26:8000').explicit_port"
   ]
  },
  {
   "cell_type": "code",
   "execution_count": 10,
   "id": "334b5145-f604-40d2-bbbc-3beb73748bb5",
   "metadata": {},
   "outputs": [
    {
     "data": {
      "text/plain": [
       "'tag1'"
      ]
     },
     "execution_count": 10,
     "metadata": {},
     "output_type": "execute_result"
    }
   ],
   "source": [
    "URL('http://10.10.0.26:8000#tag1').fragment"
   ]
  },
  {
   "cell_type": "code",
   "execution_count": 11,
   "id": "ded81ae7-d2b9-4b9e-b40e-03f0142903cf",
   "metadata": {},
   "outputs": [
    {
     "data": {
      "text/plain": [
       "'1-books-已更新博客列表'"
      ]
     },
     "execution_count": 11,
     "metadata": {},
     "output_type": "execute_result"
    }
   ],
   "source": [
    "URL('https://github.com/CNFeffery/DataScienceStudyNotes#1-books-%E5%B7%B2%E6%9B%B4%E6%96%B0%E5%8D%9A%E5%AE%A2%E5%88%97%E8%A1%A8').fragment"
   ]
  },
  {
   "cell_type": "code",
   "execution_count": 12,
   "id": "165f7d78-cdab-4f96-b031-4146035ad7ee",
   "metadata": {},
   "outputs": [
    {
     "data": {
      "text/plain": [
       "<MultiDictProxy('a': '1', 'b': '2', 'c': '3', 'c': '4', 'c': '5')>"
      ]
     },
     "execution_count": 12,
     "metadata": {},
     "output_type": "execute_result"
    }
   ],
   "source": [
    "url = URL('http://example.com/path?a=1&b=2&c=3&c=4&c=5')\n",
    "query = url.query\n",
    "query"
   ]
  },
  {
   "cell_type": "code",
   "execution_count": 13,
   "id": "cd020f72-3443-4cc7-a8de-ec0b5e683294",
   "metadata": {},
   "outputs": [
    {
     "data": {
      "text/plain": [
       "('1', '2', '3')"
      ]
     },
     "execution_count": 13,
     "metadata": {},
     "output_type": "execute_result"
    }
   ],
   "source": [
    "query['a'], query['b'], query['c']"
   ]
  },
  {
   "cell_type": "code",
   "execution_count": 14,
   "id": "8d06eca8-30f8-4444-827d-763ab55d4bb8",
   "metadata": {},
   "outputs": [
    {
     "data": {
      "text/plain": [
       "'3'"
      ]
     },
     "execution_count": 14,
     "metadata": {},
     "output_type": "execute_result"
    }
   ],
   "source": [
    "query.getone('c')"
   ]
  },
  {
   "cell_type": "code",
   "execution_count": 15,
   "id": "2ad1ce5b-8d51-4901-9814-7d8bfef31021",
   "metadata": {},
   "outputs": [
    {
     "data": {
      "text/plain": [
       "['3', '4', '5']"
      ]
     },
     "execution_count": 15,
     "metadata": {},
     "output_type": "execute_result"
    }
   ],
   "source": [
    "query.getall('c')"
   ]
  },
  {
   "cell_type": "markdown",
   "id": "03653fb8-7974-452d-9e49-8de2c28098a5",
   "metadata": {},
   "source": [
    "## 2.2 利用yarl构造url"
   ]
  },
  {
   "cell_type": "code",
   "execution_count": 16,
   "id": "f7ab242a-1fa3-4bb5-881c-a32f593a217f",
   "metadata": {},
   "outputs": [
    {
     "data": {
      "text/plain": [
       "URL('http://10.10.0.26:8000/demo/page1?a=1&b=xxx&c=1&c=2&c=3#tag1')"
      ]
     },
     "execution_count": 16,
     "metadata": {},
     "output_type": "execute_result"
    }
   ],
   "source": [
    "URL.build(\n",
    "    scheme=\"http\", \n",
    "    host=\"10.10.0.26\", \n",
    "    port=8000, \n",
    "    path='/demo/page1', \n",
    "    query={\n",
    "        'a': 1,\n",
    "        'b': 'xxx',\n",
    "        'c': [1, 2, 3]\n",
    "    },\n",
    "    fragment='tag1'\n",
    ")"
   ]
  },
  {
   "cell_type": "code",
   "execution_count": 17,
   "id": "ac38dea6-4ad1-4e38-891a-f75446df637e",
   "metadata": {},
   "outputs": [
    {
     "data": {
      "text/plain": [
       "URL('http://10.10.0.26:8000')"
      ]
     },
     "execution_count": 17,
     "metadata": {},
     "output_type": "execute_result"
    }
   ],
   "source": [
    "url = URL('http://10.10.0.26:8000')\n",
    "url"
   ]
  },
  {
   "cell_type": "code",
   "execution_count": 18,
   "id": "27250b9d-c2c0-47cc-832c-387ca46b2b5f",
   "metadata": {},
   "outputs": [
    {
     "data": {
      "text/plain": [
       "URL('http://10.10.0.27:8000')"
      ]
     },
     "execution_count": 18,
     "metadata": {},
     "output_type": "execute_result"
    }
   ],
   "source": [
    "url.with_host('10.10.0.27')"
   ]
  },
  {
   "cell_type": "code",
   "execution_count": 19,
   "id": "3afa1b75-21ee-4df0-b987-351be864bcbc",
   "metadata": {},
   "outputs": [
    {
     "data": {
      "text/plain": [
       "URL('http://10.10.0.26:8000/demo/api/v5/xxx')"
      ]
     },
     "execution_count": 19,
     "metadata": {},
     "output_type": "execute_result"
    }
   ],
   "source": [
    "url.with_path('/demo/api/v5/xxx')"
   ]
  },
  {
   "cell_type": "code",
   "execution_count": 20,
   "id": "e01488d3-4f1d-41be-a02f-783072e6bc90",
   "metadata": {},
   "outputs": [
    {
     "data": {
      "text/plain": [
       "URL('http://10.10.0.26:8000/demo/api/v5/xxx?a=1&b=xxx&c=1&c=2')"
      ]
     },
     "execution_count": 20,
     "metadata": {},
     "output_type": "execute_result"
    }
   ],
   "source": [
    "# 多步骤构建\n",
    "url.with_path('/demo/api/v5/xxx').with_query({'a': 1, 'b': 'xxx', 'c': [1, 2]})"
   ]
  },
  {
   "cell_type": "code",
   "execution_count": 21,
   "id": "4b616794-70d1-4137-95f0-e0aef07978ac",
   "metadata": {},
   "outputs": [
    {
     "data": {
      "text/plain": [
       "URL('http://10.10.0.26:8000/?a=2&b=xxx')"
      ]
     },
     "execution_count": 21,
     "metadata": {},
     "output_type": "execute_result"
    }
   ],
   "source": [
    "# 替换参数\n",
    "url.update_query({'a': 1}).update_query({'a': '2', 'b': 'xxx'})"
   ]
  },
  {
   "cell_type": "code",
   "execution_count": 22,
   "id": "e727a992-3994-40cc-a305-90aa6e822bbf",
   "metadata": {},
   "outputs": [
    {
     "data": {
      "text/plain": [
       "URL('http://10.10.0.26:8000/?a=3&c=1&b=xxx')"
      ]
     },
     "execution_count": 22,
     "metadata": {},
     "output_type": "execute_result"
    }
   ],
   "source": [
    "# update_query()不会影响先前存在的其他参数\n",
    "URL('http://10.10.0.26:8000/?a=1&a=2&c=1').update_query({'a': 3, 'b': 'xxx'})"
   ]
  },
  {
   "cell_type": "code",
   "execution_count": 23,
   "id": "39dbe68e-552c-47b8-8831-61d7d064fe91",
   "metadata": {},
   "outputs": [
    {
     "data": {
      "text/plain": [
       "URL('http://10.10.0.26:8000/?a=3&b=xxx')"
      ]
     },
     "execution_count": 23,
     "metadata": {},
     "output_type": "execute_result"
    }
   ],
   "source": [
    "# with_query()会清除先前的所有参数\n",
    "URL('http://10.10.0.26:8000/?a=1&a=2&c=1').with_query({'a': 3, 'b': 'xxx'})"
   ]
  },
  {
   "cell_type": "markdown",
   "id": "0564242d-556a-4c3e-9c27-652fd3693c98",
   "metadata": {},
   "source": [
    "## 2.3 利用`/`、`%`运算符快捷合成url"
   ]
  },
  {
   "cell_type": "code",
   "execution_count": 24,
   "id": "22c7907a-5244-49d2-ac9b-20e73671be82",
   "metadata": {},
   "outputs": [
    {
     "data": {
      "text/plain": [
       "URL('http://10.10.0.26:8000/api/v5/xxx?a=1&b=1&b=2&b=3&c=xxx&d=yyy')"
      ]
     },
     "execution_count": 24,
     "metadata": {},
     "output_type": "execute_result"
    }
   ],
   "source": [
    "(\n",
    "    URL('http://10.10.0.26:8000') / \n",
    "    'api/v5' / \n",
    "    'xxx' % \n",
    "    {'a': 1, 'b': [1, 2, 3]} %\n",
    "    {'c': 'xxx', 'd': 'yyy'}\n",
    ")"
   ]
  }
 ],
 "metadata": {
  "kernelspec": {
   "display_name": "Python 3",
   "language": "python",
   "name": "python3"
  },
  "language_info": {
   "codemirror_mode": {
    "name": "ipython",
    "version": 3
   },
   "file_extension": ".py",
   "mimetype": "text/x-python",
   "name": "python",
   "nbconvert_exporter": "python",
   "pygments_lexer": "ipython3",
   "version": "3.8.13"
  }
 },
 "nbformat": 4,
 "nbformat_minor": 5
}
