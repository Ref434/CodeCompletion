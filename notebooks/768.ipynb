{
 "cells": [
  {
   "cell_type": "code",
   "execution_count": 1,
   "metadata": {
    "execution": {
     "iopub.execute_input": "2020-09-18T10:00:33.601259Z",
     "iopub.status.busy": "2020-09-18T10:00:33.600283Z",
     "iopub.status.idle": "2020-09-18T10:00:34.061072Z",
     "shell.execute_reply": "2020-09-18T10:00:34.062070Z",
     "shell.execute_reply.started": "2020-09-18T09:40:25.361624Z"
    },
    "papermill": {
     "duration": 0.473783,
     "end_time": "2020-09-18T10:00:34.062070",
     "exception": false,
     "start_time": "2020-09-18T10:00:33.588287",
     "status": "completed"
    },
    "tags": []
   },
   "outputs": [],
   "source": [
    "import pandas as pd\n",
    "\n",
    "%store -r df\n",
    "\n",
    "df1 = df.loc[:5000, :]\n",
    "df2 = df.loc[5000:, :]\n",
    "\n",
    "df1.to_csv('demo1.csv', index=False)\n",
    "df2.to_csv('demo2.csv', index=False)"
   ]
  }
 ],
 "metadata": {
  "kernelspec": {
   "display_name": "Python 3",
   "language": "python",
   "name": "python3"
  },
  "language_info": {
   "codemirror_mode": {
    "name": "ipython",
    "version": 3
   },
   "file_extension": ".py",
   "mimetype": "text/x-python",
   "name": "python",
   "nbconvert_exporter": "python",
   "pygments_lexer": "ipython3",
   "version": "3.7.9"
  },
  "papermill": {
   "duration": 2.341101,
   "end_time": "2020-09-18T10:00:34.384454",
   "environment_variables": {},
   "exception": null,
   "input_path": "C:\\Users\\pengz\\Desktop\\当期博客工作台\\pipeline/step2.ipynb",
   "output_path": "C:\\Users\\pengz\\Desktop\\当期博客工作台\\pipeline/step2.ipynb",
   "parameters": {},
   "start_time": "2020-09-18T10:00:32.043353",
   "version": "2.1.3"
  },
  "widgets": {
   "application/vnd.jupyter.widget-state+json": {
    "state": {},
    "version_major": 2,
    "version_minor": 0
   }
  }
 },
 "nbformat": 4,
 "nbformat_minor": 4
}
