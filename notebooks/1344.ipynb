{
 "cells": [
  {
   "cell_type": "markdown",
   "metadata": {},
   "source": [
    "# Training simple CNN to classify CIFAR10 dataset\n",
    "\n",
    "The implementation of the CNN net is taken from the: https://github.com/keras-team/keras/blob/master/examples/cifar10_cnn.py\n",
    "\n",
    "According to that file:\n",
    "```\n",
    "It gets to 75% validation accuracy in 25 epochs, and 79% after 50 epochs.\n",
    "(it's still underfitting at that point, though).\n",
    "```"
   ]
  },
  {
   "cell_type": "markdown",
   "metadata": {},
   "source": [
    "# Setup"
   ]
  },
  {
   "cell_type": "code",
   "execution_count": 1,
   "metadata": {
    "collapsed": true
   },
   "outputs": [],
   "source": [
    "%load_ext autoreload\n",
    "%autoreload 2\n",
    "import numpy as np\n",
    "import matplotlib.pyplot as plt\n",
    "%matplotlib inline"
   ]
  },
  {
   "cell_type": "code",
   "execution_count": 19,
   "metadata": {},
   "outputs": [
    {
     "data": {
      "text/plain": [
       "'1.7.0'"
      ]
     },
     "execution_count": 19,
     "metadata": {},
     "output_type": "execute_result"
    }
   ],
   "source": [
    "import tensorflow as tf\n",
    "tf.__version__"
   ]
  },
  {
   "cell_type": "code",
   "execution_count": 3,
   "metadata": {},
   "outputs": [
    {
     "name": "stderr",
     "output_type": "stream",
     "text": [
      "Using TensorFlow backend.\n"
     ]
    }
   ],
   "source": [
    "import sys\n",
    "sys.path.append(\"../src/\")\n",
    "import keras_cifar_cnn as cnn\n",
    "import tf_optimizer as tf_opt\n",
    "import callbacks as clb\n",
    "import utils as ut\n",
    "from plotting import set_display_settings\n",
    "set_display_settings()\n",
    "\n",
    "from keras.optimizers import TFOptimizer\n",
    "from keras.callbacks import History"
   ]
  },
  {
   "cell_type": "markdown",
   "metadata": {},
   "source": [
    "## Dataset and model definition"
   ]
  },
  {
   "cell_type": "code",
   "execution_count": 4,
   "metadata": {},
   "outputs": [
    {
     "name": "stdout",
     "output_type": "stream",
     "text": [
      "x_train shape: (50000, 32, 32, 3)\n",
      "50000 train samples\n",
      "10000 test samples\n"
     ]
    }
   ],
   "source": [
    "x_train, y_train, validation_set, datagen = cnn.get_dataset()"
   ]
  },
  {
   "cell_type": "code",
   "execution_count": 5,
   "metadata": {
    "collapsed": true
   },
   "outputs": [],
   "source": [
    "model = cnn.get_cnn()\n",
    "batch_size = 32"
   ]
  },
  {
   "cell_type": "code",
   "execution_count": 6,
   "metadata": {
    "scrolled": true
   },
   "outputs": [
    {
     "name": "stdout",
     "output_type": "stream",
     "text": [
      "_________________________________________________________________\n",
      "Layer (type)                 Output Shape              Param #   \n",
      "=================================================================\n",
      "conv2d_1 (Conv2D)            (None, 32, 32, 32)        896       \n",
      "_________________________________________________________________\n",
      "activation_1 (Activation)    (None, 32, 32, 32)        0         \n",
      "_________________________________________________________________\n",
      "conv2d_2 (Conv2D)            (None, 30, 30, 32)        9248      \n",
      "_________________________________________________________________\n",
      "activation_2 (Activation)    (None, 30, 30, 32)        0         \n",
      "_________________________________________________________________\n",
      "max_pooling2d_1 (MaxPooling2 (None, 15, 15, 32)        0         \n",
      "_________________________________________________________________\n",
      "dropout_1 (Dropout)          (None, 15, 15, 32)        0         \n",
      "_________________________________________________________________\n",
      "conv2d_3 (Conv2D)            (None, 15, 15, 64)        18496     \n",
      "_________________________________________________________________\n",
      "activation_3 (Activation)    (None, 15, 15, 64)        0         \n",
      "_________________________________________________________________\n",
      "conv2d_4 (Conv2D)            (None, 13, 13, 64)        36928     \n",
      "_________________________________________________________________\n",
      "activation_4 (Activation)    (None, 13, 13, 64)        0         \n",
      "_________________________________________________________________\n",
      "max_pooling2d_2 (MaxPooling2 (None, 6, 6, 64)          0         \n",
      "_________________________________________________________________\n",
      "dropout_2 (Dropout)          (None, 6, 6, 64)          0         \n",
      "_________________________________________________________________\n",
      "flatten_1 (Flatten)          (None, 2304)              0         \n",
      "_________________________________________________________________\n",
      "dense_1 (Dense)              (None, 512)               1180160   \n",
      "_________________________________________________________________\n",
      "activation_5 (Activation)    (None, 512)               0         \n",
      "_________________________________________________________________\n",
      "dropout_3 (Dropout)          (None, 512)               0         \n",
      "_________________________________________________________________\n",
      "dense_2 (Dense)              (None, 10)                5130      \n",
      "_________________________________________________________________\n",
      "activation_6 (Activation)    (None, 10)                0         \n",
      "=================================================================\n",
      "Total params: 1,250,858\n",
      "Trainable params: 1,250,858\n",
      "Non-trainable params: 0\n",
      "_________________________________________________________________\n"
     ]
    }
   ],
   "source": [
    "model.summary()"
   ]
  },
  {
   "cell_type": "markdown",
   "metadata": {},
   "source": [
    "# Train model with `NormalizedSGD`"
   ]
  },
  {
   "cell_type": "code",
   "execution_count": 7,
   "metadata": {
    "collapsed": true
   },
   "outputs": [],
   "source": [
    "norms = ['max', 'min_max', 'std']\n",
    "metrics_norms = {}"
   ]
  },
  {
   "cell_type": "code",
   "execution_count": 14,
   "metadata": {
    "scrolled": true
   },
   "outputs": [
    {
     "name": "stdout",
     "output_type": "stream",
     "text": [
      "testing norm: std\n",
      "Train on 50000 samples, validate on 10000 samples\n",
      "Epoch 1/15\n",
      "50000/50000 [==============================] - 18s 357us/step - loss: 1.7602 - acc: 0.3578 - val_loss: 1.4780 - val_acc: 0.4671\n",
      "Epoch 2/15\n",
      "50000/50000 [==============================] - 17s 333us/step - loss: 1.3277 - acc: 0.5229 - val_loss: 1.0569 - val_acc: 0.6288\n",
      "Epoch 3/15\n",
      "50000/50000 [==============================] - 17s 331us/step - loss: 1.1384 - acc: 0.5991 - val_loss: 1.0040 - val_acc: 0.6446\n",
      "Epoch 4/15\n",
      "50000/50000 [==============================] - 17s 331us/step - loss: 1.0110 - acc: 0.6445 - val_loss: 0.9049 - val_acc: 0.6776\n",
      "Epoch 5/15\n",
      "50000/50000 [==============================] - 17s 337us/step - loss: 0.9208 - acc: 0.6791 - val_loss: 0.8694 - val_acc: 0.6995\n",
      "Epoch 6/15\n",
      "50000/50000 [==============================] - 17s 339us/step - loss: 0.8609 - acc: 0.7006 - val_loss: 0.8186 - val_acc: 0.7154\n",
      "Epoch 7/15\n",
      "50000/50000 [==============================] - 16s 330us/step - loss: 0.8101 - acc: 0.7197 - val_loss: 0.7850 - val_acc: 0.7286\n",
      "Epoch 8/15\n",
      "50000/50000 [==============================] - 17s 336us/step - loss: 0.7739 - acc: 0.7308 - val_loss: 0.7172 - val_acc: 0.7561\n",
      "Epoch 9/15\n",
      "50000/50000 [==============================] - 17s 340us/step - loss: 0.7377 - acc: 0.7432 - val_loss: 0.8056 - val_acc: 0.7301\n",
      "Epoch 10/15\n",
      "50000/50000 [==============================] - 17s 332us/step - loss: 0.7155 - acc: 0.7517 - val_loss: 0.7768 - val_acc: 0.7345\n",
      "Epoch 11/15\n",
      "50000/50000 [==============================] - 16s 327us/step - loss: 0.6849 - acc: 0.7635 - val_loss: 0.7468 - val_acc: 0.7453\n",
      "Epoch 12/15\n",
      "50000/50000 [==============================] - 17s 331us/step - loss: 0.6624 - acc: 0.7721 - val_loss: 0.7731 - val_acc: 0.7391\n",
      "Epoch 13/15\n",
      "50000/50000 [==============================] - 17s 337us/step - loss: 0.6444 - acc: 0.7761 - val_loss: 0.7191 - val_acc: 0.7561\n",
      "Epoch 14/15\n",
      "50000/50000 [==============================] - 16s 330us/step - loss: 0.6300 - acc: 0.7813 - val_loss: 0.6778 - val_acc: 0.7730\n",
      "Epoch 15/15\n",
      "50000/50000 [==============================] - 16s 315us/step - loss: 0.6140 - acc: 0.7865 - val_loss: 0.6800 - val_acc: 0.7724\n",
      "Train on 50000 samples, validate on 10000 samples\n",
      "Epoch 1/15\n",
      "50000/50000 [==============================] - 17s 339us/step - loss: 0.4937 - acc: 0.8263 - val_loss: 0.6414 - val_acc: 0.7911\n",
      "Epoch 2/15\n",
      "50000/50000 [==============================] - 16s 323us/step - loss: 0.4568 - acc: 0.8397 - val_loss: 0.6356 - val_acc: 0.7965\n",
      "Epoch 3/15\n",
      "50000/50000 [==============================] - 16s 316us/step - loss: 0.4360 - acc: 0.8491 - val_loss: 0.6325 - val_acc: 0.7929\n",
      "Epoch 4/15\n",
      "50000/50000 [==============================] - 16s 320us/step - loss: 0.4162 - acc: 0.8529 - val_loss: 0.6585 - val_acc: 0.7899\n",
      "Epoch 5/15\n",
      "50000/50000 [==============================] - 16s 321us/step - loss: 0.4062 - acc: 0.8591 - val_loss: 0.6423 - val_acc: 0.7951\n",
      "Epoch 6/15\n",
      "50000/50000 [==============================] - 16s 315us/step - loss: 0.3947 - acc: 0.8627 - val_loss: 0.6428 - val_acc: 0.7976\n",
      "Epoch 7/15\n",
      "50000/50000 [==============================] - 15s 310us/step - loss: 0.3809 - acc: 0.8667 - val_loss: 0.6277 - val_acc: 0.8024\n",
      "Epoch 8/15\n",
      "50000/50000 [==============================] - 16s 315us/step - loss: 0.3710 - acc: 0.8716 - val_loss: 0.6636 - val_acc: 0.7911\n",
      "Epoch 9/15\n",
      "50000/50000 [==============================] - 16s 323us/step - loss: 0.3682 - acc: 0.8736 - val_loss: 0.6469 - val_acc: 0.8040\n",
      "Epoch 10/15\n",
      "50000/50000 [==============================] - 16s 319us/step - loss: 0.3608 - acc: 0.8749 - val_loss: 0.6632 - val_acc: 0.7978\n",
      "Epoch 11/15\n",
      "50000/50000 [==============================] - 16s 319us/step - loss: 0.3423 - acc: 0.8820 - val_loss: 0.6455 - val_acc: 0.7960\n",
      "Epoch 12/15\n",
      "50000/50000 [==============================] - 16s 319us/step - loss: 0.3407 - acc: 0.8814 - val_loss: 0.6468 - val_acc: 0.7986\n",
      "Epoch 13/15\n",
      "50000/50000 [==============================] - 16s 319us/step - loss: 0.3341 - acc: 0.8845 - val_loss: 0.6531 - val_acc: 0.8012\n",
      "Epoch 14/15\n",
      "50000/50000 [==============================] - 16s 317us/step - loss: 0.3314 - acc: 0.8862 - val_loss: 0.6902 - val_acc: 0.7956\n",
      "Epoch 15/15\n",
      "50000/50000 [==============================] - 15s 309us/step - loss: 0.3223 - acc: 0.8881 - val_loss: 0.6470 - val_acc: 0.8033\n",
      "Train on 50000 samples, validate on 10000 samples\n",
      "Epoch 1/15\n",
      "50000/50000 [==============================] - 17s 336us/step - loss: 0.2522 - acc: 0.9120 - val_loss: 0.6422 - val_acc: 0.8137\n",
      "Epoch 2/15\n",
      "50000/50000 [==============================] - 16s 321us/step - loss: 0.2344 - acc: 0.9178 - val_loss: 0.6489 - val_acc: 0.8125\n",
      "Epoch 3/15\n",
      "50000/50000 [==============================] - 16s 319us/step - loss: 0.2274 - acc: 0.9194 - val_loss: 0.6565 - val_acc: 0.8144\n",
      "Epoch 4/15\n",
      "50000/50000 [==============================] - 16s 319us/step - loss: 0.2236 - acc: 0.9202 - val_loss: 0.6557 - val_acc: 0.8125\n",
      "Epoch 5/15\n",
      "50000/50000 [==============================] - 16s 326us/step - loss: 0.2134 - acc: 0.9259 - val_loss: 0.6660 - val_acc: 0.8146\n",
      "Epoch 6/15\n",
      "50000/50000 [==============================] - 16s 320us/step - loss: 0.2118 - acc: 0.9261 - val_loss: 0.6643 - val_acc: 0.8154\n",
      "Epoch 7/15\n",
      "50000/50000 [==============================] - 16s 318us/step - loss: 0.2049 - acc: 0.9301 - val_loss: 0.6765 - val_acc: 0.8128\n",
      "Epoch 8/15\n",
      "50000/50000 [==============================] - 17s 344us/step - loss: 0.2053 - acc: 0.9269 - val_loss: 0.6687 - val_acc: 0.8171\n",
      "Epoch 9/15\n",
      "50000/50000 [==============================] - 18s 364us/step - loss: 0.2015 - acc: 0.9297 - val_loss: 0.6783 - val_acc: 0.8156\n",
      "Epoch 10/15\n",
      "50000/50000 [==============================] - 18s 356us/step - loss: 0.2028 - acc: 0.9287 - val_loss: 0.6702 - val_acc: 0.8176\n",
      "Epoch 11/15\n",
      "50000/50000 [==============================] - 18s 352us/step - loss: 0.1987 - acc: 0.9309 - val_loss: 0.6853 - val_acc: 0.8145\n",
      "Epoch 12/15\n",
      "50000/50000 [==============================] - 18s 353us/step - loss: 0.1944 - acc: 0.9319 - val_loss: 0.6822 - val_acc: 0.8164\n",
      "Epoch 13/15\n",
      "50000/50000 [==============================] - 17s 349us/step - loss: 0.1942 - acc: 0.9306 - val_loss: 0.6789 - val_acc: 0.8155\n",
      "Epoch 14/15\n",
      "50000/50000 [==============================] - 17s 335us/step - loss: 0.1935 - acc: 0.9324 - val_loss: 0.6890 - val_acc: 0.8146\n",
      "Epoch 15/15\n",
      "50000/50000 [==============================] - 17s 345us/step - loss: 0.1893 - acc: 0.9338 - val_loss: 0.6891 - val_acc: 0.8168\n",
      "Train on 50000 samples, validate on 10000 samples\n",
      "Epoch 1/15\n",
      "50000/50000 [==============================] - 19s 378us/step - loss: 0.1778 - acc: 0.9372 - val_loss: 0.6859 - val_acc: 0.8187\n",
      "Epoch 2/15\n",
      "50000/50000 [==============================] - 17s 331us/step - loss: 0.1795 - acc: 0.9359 - val_loss: 0.6871 - val_acc: 0.8190\n",
      "Epoch 3/15\n",
      "50000/50000 [==============================] - 17s 349us/step - loss: 0.1742 - acc: 0.9396 - val_loss: 0.6870 - val_acc: 0.8197\n",
      "Epoch 4/15\n",
      "50000/50000 [==============================] - 18s 354us/step - loss: 0.1724 - acc: 0.9397 - val_loss: 0.6874 - val_acc: 0.8183\n",
      "Epoch 5/15\n",
      "50000/50000 [==============================] - 17s 338us/step - loss: 0.1714 - acc: 0.9390 - val_loss: 0.6878 - val_acc: 0.8179\n",
      "Epoch 6/15\n",
      "50000/50000 [==============================] - 17s 346us/step - loss: 0.1713 - acc: 0.9405 - val_loss: 0.6896 - val_acc: 0.8206\n",
      "Epoch 7/15\n",
      "50000/50000 [==============================] - 17s 337us/step - loss: 0.1705 - acc: 0.9402 - val_loss: 0.6885 - val_acc: 0.8193\n",
      "Epoch 8/15\n",
      "50000/50000 [==============================] - 18s 351us/step - loss: 0.1674 - acc: 0.9417 - val_loss: 0.6911 - val_acc: 0.8194\n",
      "Epoch 9/15\n",
      "50000/50000 [==============================] - 18s 355us/step - loss: 0.1709 - acc: 0.9397 - val_loss: 0.6920 - val_acc: 0.8207\n",
      "Epoch 10/15\n",
      "50000/50000 [==============================] - 17s 339us/step - loss: 0.1658 - acc: 0.9426 - val_loss: 0.6929 - val_acc: 0.8203\n",
      "Epoch 11/15\n",
      "50000/50000 [==============================] - 17s 336us/step - loss: 0.1708 - acc: 0.9407 - val_loss: 0.6919 - val_acc: 0.8197\n",
      "Epoch 12/15\n",
      "50000/50000 [==============================] - 17s 347us/step - loss: 0.1700 - acc: 0.9409 - val_loss: 0.6949 - val_acc: 0.8201\n",
      "Epoch 13/15\n"
     ]
    },
    {
     "name": "stdout",
     "output_type": "stream",
     "text": [
      "50000/50000 [==============================] - 17s 340us/step - loss: 0.1702 - acc: 0.9399 - val_loss: 0.6949 - val_acc: 0.8197\n",
      "Epoch 14/15\n",
      "50000/50000 [==============================] - 17s 345us/step - loss: 0.1732 - acc: 0.9411 - val_loss: 0.6930 - val_acc: 0.8186\n",
      "Epoch 15/15\n",
      "50000/50000 [==============================] - 17s 347us/step - loss: 0.1727 - acc: 0.9399 - val_loss: 0.6919 - val_acc: 0.8193\n"
     ]
    }
   ],
   "source": [
    "model = cnn.get_cnn()\n",
    "metrics_history = [clb.AggregateMetricsOnBatchEnd(), clb.AggregateMetricsOnEpochEnd()]\n",
    "\n",
    "for norm in norms:   \n",
    "    print('testing norm:', norm)    \n",
    "    model = cnn.get_cnn()\n",
    "    metrics_history = [clb.AggregateMetricsOnBatchEnd(), clb.AggregateMetricsOnEpochEnd()]\n",
    "    \n",
    "    lrs = [0.005, 0.001, 0.0001, 0.00001]\n",
    "    if norm == 'std':\n",
    "        lrs = [0.001, 0.0005, 0.0001, 0.00001]\n",
    "        \n",
    "    for lr in lrs:\n",
    "        optimizer = TFOptimizer(tf_opt.NormalizedSGD(lr=lr, norm=norm))\n",
    "        model.compile(optimizer, loss='categorical_crossentropy', metrics=['accuracy'])\n",
    "        model.fit(\n",
    "            x=x_train, y=y_train, \n",
    "            batch_size=batch_size, epochs=15, \n",
    "            validation_data=validation_set, \n",
    "            callbacks=metrics_history)\n",
    "            \n",
    "    metrics_norms[norm] = metrics_history"
   ]
  },
  {
   "cell_type": "markdown",
   "metadata": {},
   "source": [
    "## Plots"
   ]
  },
  {
   "cell_type": "code",
   "execution_count": 22,
   "metadata": {},
   "outputs": [
    {
     "data": {
      "text/plain": [
       "<matplotlib.legend.Legend at 0x7f323a8b6550>"
      ]
     },
     "execution_count": 22,
     "metadata": {},
     "output_type": "execute_result"
    },
    {
     "data": {
      "image/png": "[encoded data removed]",
      "text/plain": [
       "<matplotlib.figure.Figure at 0x7f322cf39f98>"
      ]
     },
     "metadata": {},
     "output_type": "display_data"
    }
   ],
   "source": [
    "for norm, metrics in metrics_norms.items():\n",
    "    h = metrics[1].monitor_values['accuracies']['acc']\n",
    "    h = ut.moving_average(h, periods=1)\n",
    "    plt.plot(h, label=norm)\n",
    "plt.xlabel('epoch')\n",
    "plt.ylabel('validation\\n accuracy')\n",
    "plt.legend()\n",
    "# plt.savefig('../img/cifar10_cnn_validation_cmp.pdf')\n",
    "# plt.savefig('../img/cifar10_cnn_validation_cmp.png')"
   ]
  },
  {
   "cell_type": "code",
   "execution_count": 21,
   "metadata": {},
   "outputs": [
    {
     "data": {
      "image/png": "[encoded data removed]",
      "text/plain": [
       "<matplotlib.figure.Figure at 0x7f323a8b2828>"
      ]
     },
     "metadata": {},
     "output_type": "display_data"
    }
   ],
   "source": [
    "for norm, metrics in metrics_norms.items():\n",
    "    h = metrics[0].monitor_values['accuracies']['acc']\n",
    "    h = ut.moving_average(h, periods=100)\n",
    "    plt.plot(h, label=norm)\n",
    "plt.xlabel('step')\n",
    "plt.ylabel('training\\n accuracy')\n",
    "plt.legend()\n",
    "plt.legend()\n",
    "# plt.savefig('../img/cifar10_cnn_training_cmp.pdf')\n",
    "# plt.savefig('../img/cifar10_cnn_training_cmp.png')"
   ]
  },
  {
   "cell_type": "code",
   "execution_count": null,
   "metadata": {
    "collapsed": true
   },
   "outputs": [],
   "source": []
  }
 ],
 "metadata": {
  "kernelspec": {
   "display_name": "adversarial",
   "language": "python",
   "name": "adversarial"
  },
  "language_info": {
   "codemirror_mode": {
    "name": "ipython",
    "version": 3
   },
   "file_extension": ".py",
   "mimetype": "text/x-python",
   "name": "python",
   "nbconvert_exporter": "python",
   "pygments_lexer": "ipython3",
   "version": "3.6.4"
  }
 },
 "nbformat": 4,
 "nbformat_minor": 2
}
