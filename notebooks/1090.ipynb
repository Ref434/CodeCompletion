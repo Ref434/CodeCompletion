{
 "cells": [
  {
   "cell_type": "markdown",
   "metadata": {},
   "source": [
    "# Object Detection Demo\n",
    "Welcome to the object detection inference walkthrough!  This notebook will walk you step by step through the process of using a pre-trained model to detect objects in an image. Make sure to follow the [installation instructions](https://github.com/tensorflow/models/blob/master/object_detection/g3doc/installation.md) before you start."
   ]
  },
  {
   "cell_type": "markdown",
   "metadata": {},
   "source": [
    "# Imports"
   ]
  },
  {
   "cell_type": "code",
   "execution_count": 1,
   "metadata": {
    "collapsed": true,
    "scrolled": true
   },
   "outputs": [],
   "source": [
    "import numpy as np\n",
    "import os\n",
    "import six.moves.urllib as urllib\n",
    "import sys\n",
    "import tarfile\n",
    "import tensorflow as tf\n",
    "import zipfile\n",
    "\n",
    "from collections import defaultdict\n",
    "from io import StringIO\n",
    "from matplotlib import pyplot as plt\n",
    "from PIL import Image\n",
    "import timeit\n",
    "import scipy.misc\n",
    "import glob\n",
    "from scipy.ndimage.measurements import label\n",
    "import timeit"
   ]
  },
  {
   "cell_type": "markdown",
   "metadata": {},
   "source": [
    "## Env setup"
   ]
  },
  {
   "cell_type": "code",
   "execution_count": 2,
   "metadata": {
    "collapsed": true
   },
   "outputs": [],
   "source": [
    "# This is needed to display the images.\n",
    "%matplotlib inline\n",
    "\n",
    "# This is needed since the notebook is stored in the object_detection folder.\n",
    "sys.path.append(\"..\")"
   ]
  },
  {
   "cell_type": "markdown",
   "metadata": {},
   "source": [
    "## Object detection imports\n",
    "Here are the imports from the object detection module."
   ]
  },
  {
   "cell_type": "code",
   "execution_count": 3,
   "metadata": {
    "collapsed": true
   },
   "outputs": [],
   "source": [
    "from utils import label_map_util\n",
    "\n",
    "from utils import visualization_utils as vis_util"
   ]
  },
  {
   "cell_type": "markdown",
   "metadata": {},
   "source": [
    "# Model preparation "
   ]
  },
  {
   "cell_type": "markdown",
   "metadata": {},
   "source": [
    "## Variables\n",
    "\n",
    "Any model exported using the `export_inference_graph.py` tool can be loaded here simply by changing `PATH_TO_CKPT` to point to a new .pb file.  \n",
    "\n",
    "By default we use an \"SSD with Mobilenet\" model here. See the [detection model zoo](https://github.com/tensorflow/models/blob/master/object_detection/g3doc/detection_model_zoo.md) for a list of other models that can be run out-of-the-box with varying speeds and accuracies."
   ]
  },
  {
   "cell_type": "code",
   "execution_count": 4,
   "metadata": {
    "collapsed": true
   },
   "outputs": [],
   "source": [
    "# What model to download.\n",
    "\n",
    "# Path to frozen detection graph. This is the actual model that is used for the object detection.\n",
    "PATH_TO_CKPT = '/home/animesh/Documents/golf_swing_detector/exported_graphs_rcnn_inception/frozen_inference_graph.pb/'\n",
    "\n",
    "# List of the strings that is used to add correct label for each box.\n",
    "PATH_TO_LABELS = '/home/animesh/Documents/golf_swing_detector/data/sports_label_map.pbtxt'\n",
    "\n",
    "NUM_CLASSES = 2"
   ]
  },
  {
   "cell_type": "markdown",
   "metadata": {},
   "source": [
    "## Download Model"
   ]
  },
  {
   "cell_type": "markdown",
   "metadata": {
    "collapsed": true
   },
   "source": [
    "opener = urllib.request.URLopener()\n",
    "opener.retrieve(DOWNLOAD_BASE + MODEL_FILE, MODEL_FILE)\n",
    "tar_file = tarfile.open(MODEL_FILE)\n",
    "for file in tar_file.getmembers():\n",
    "  file_name = os.path.basename(file.name)\n",
    "  if 'frozen_inference_graph.pb' in file_name:\n",
    "    tar_file.extract(file, os.getcwd())"
   ]
  },
  {
   "cell_type": "markdown",
   "metadata": {},
   "source": [
    "## Load a (frozen) Tensorflow model into memory."
   ]
  },
  {
   "cell_type": "code",
   "execution_count": 5,
   "metadata": {
    "collapsed": true
   },
   "outputs": [],
   "source": [
    "detection_graph = tf.Graph()\n",
    "with detection_graph.as_default():\n",
    "  od_graph_def = tf.GraphDef()\n",
    "  with tf.gfile.GFile(PATH_TO_CKPT, 'rb') as fid:\n",
    "    serialized_graph = fid.read()\n",
    "    od_graph_def.ParseFromString(serialized_graph)\n",
    "    tf.import_graph_def(od_graph_def, name='')"
   ]
  },
  {
   "cell_type": "markdown",
   "metadata": {},
   "source": [
    "## Loading label map\n",
    "Label maps map indices to category names, so that when our convolution network predicts `5`, we know that this corresponds to `airplane`.  Here we use internal utility functions, but anything that returns a dictionary mapping integers to appropriate string labels would be fine"
   ]
  },
  {
   "cell_type": "code",
   "execution_count": 6,
   "metadata": {
    "collapsed": true
   },
   "outputs": [],
   "source": [
    "label_map = label_map_util.load_labelmap(PATH_TO_LABELS)\n",
    "categories = label_map_util.convert_label_map_to_categories(label_map, max_num_classes=NUM_CLASSES, use_display_name=True)\n",
    "category_index = label_map_util.create_category_index(categories)"
   ]
  },
  {
   "cell_type": "markdown",
   "metadata": {},
   "source": [
    "## Helper code"
   ]
  },
  {
   "cell_type": "code",
   "execution_count": 7,
   "metadata": {
    "collapsed": true
   },
   "outputs": [],
   "source": [
    "def load_image_into_numpy_array(image):\n",
    "  (im_width, im_height) = image.size\n",
    "  return np.array(image.getdata()).reshape(\n",
    "      (im_height, im_width, 3)).astype(np.uint8)"
   ]
  },
  {
   "cell_type": "markdown",
   "metadata": {},
   "source": [
    "# Detection"
   ]
  },
  {
   "cell_type": "code",
   "execution_count": 5,
   "metadata": {
    "collapsed": true
   },
   "outputs": [],
   "source": [
    "# Import everything needed to edit/save/watch video clips\n",
    "from moviepy.editor import VideoFileClip\n",
    "from IPython.display import HTML"
   ]
  },
  {
   "cell_type": "code",
   "execution_count": 9,
   "metadata": {
    "collapsed": true
   },
   "outputs": [],
   "source": [
    "def detect_videos(image_np, sess, detection_graph):\n",
    "    # Expand dimensions since the model expects images to have shape: [1, None, None, 3]\n",
    "    \n",
    "    pos_detection = False\n",
    "    \n",
    "    image_np_expanded = np.expand_dims(image_np, axis=0)\n",
    "    image_tensor = detection_graph.get_tensor_by_name('image_tensor:0')\n",
    "\n",
    "    # Each box represents a part of the image where a particular object was detected.\n",
    "    boxes = detection_graph.get_tensor_by_name('detection_boxes:0')\n",
    "\n",
    "    # Each score represent how level of confidence for each of the objects.\n",
    "    # Score is shown on the result image, together with the class label.\n",
    "    scores = detection_graph.get_tensor_by_name('detection_scores:0')\n",
    "    classes = detection_graph.get_tensor_by_name('detection_classes:0')\n",
    "    num_detections = detection_graph.get_tensor_by_name('num_detections:0')\n",
    "\n",
    "    # Actual detection.\n",
    "    (boxes, scores, classes, num_detections) = sess.run(\n",
    "        [boxes, scores, classes, num_detections],\n",
    "        feed_dict={image_tensor: image_np_expanded})\n",
    "\n",
    "    # Visualization of the results of a detection.\n",
    "    vis_util.visualize_boxes_and_labels_on_image_array(\n",
    "        image_np,\n",
    "        np.squeeze(boxes),\n",
    "        np.squeeze(classes).astype(np.int32),\n",
    "        np.squeeze(scores),\n",
    "        category_index,\n",
    "        use_normalized_coordinates=True,\n",
    "        line_thickness=8,\n",
    "        min_score_thresh = 0.90)\n",
    "    \n",
    "    \n",
    "    for n in range(len(scores[0])):\n",
    "        if scores[0][n] > 0.90:\n",
    "            pos_detection = True\n",
    "                \n",
    "    return image_np, pos_detection"
   ]
  },
  {
   "cell_type": "code",
   "execution_count": 10,
   "metadata": {
    "collapsed": true
   },
   "outputs": [],
   "source": [
    "def process_image(image, n_frames=70, threshold=70):  \n",
    "     \n",
    "    global count_list\n",
    "    global counter\n",
    "    \n",
    "    total_cnts = 0\n",
    "    \n",
    "    with detection_graph.as_default():\n",
    "        with tf.Session(graph=detection_graph) as sess:\n",
    "            image_process, pos_detection = detect_videos(image, sess, detection_graph) \n",
    "           \n",
    "    count_list.append(pos_detection)\n",
    "    if len(count_list) >n_frames: #If enough no. of frames, then look at last n_frames\n",
    "        #Count no. of True in last n_frames\n",
    "        for val in count_list[(len(count_list) - n_frames -1) : (len(count_list)-1)]:\n",
    "            if val == True:\n",
    "                total_cnts += 1\n",
    "                \n",
    "    if total_cnts >=threshold:\n",
    "        final_img = image_process\n",
    "#         timestamp = timeit.default_timer() - start_time\n",
    "        frame_list.append(counter)\n",
    "    else:\n",
    "        final_img = image\n",
    "        \n",
    "    counter += 1\n",
    "    return image"
   ]
  },
  {
   "cell_type": "code",
   "execution_count": 6,
   "metadata": {
    "collapsed": true
   },
   "outputs": [],
   "source": [
    "videoin_folder = 'videos'\n",
    "videoout_folder = 'videos_out'\n",
    "video_path = os.path.join(videoin_folder, '*.mp4')"
   ]
  },
  {
   "cell_type": "code",
   "execution_count": 7,
   "metadata": {
    "collapsed": false
   },
   "outputs": [
    {
     "name": "stdout",
     "output_type": "stream",
     "text": [
      "videos/golf2.mp4\n"
     ]
    }
   ],
   "source": [
    "for filename in sorted(glob.glob(video_path))[1:2]:\n",
    "    print(filename)\n",
    "    file, ext = os.path.splitext(filename)\n",
    "    itemname = file.split('/')[-1]\n",
    "    new_filename = itemname + \"_\" + 'out' + '.mp4'\n",
    "   \n",
    "    new_loc = os.path.join(videoout_folder, new_filename)\n",
    "    \n",
    "    #Initialize all start vars that are run when the script kicks off\n",
    "    counter = 0\n",
    "    count_list = []\n",
    "#     start_time = timeit.default_timer()\n",
    "    frame_list = []\n",
    "    \n",
    "    white_output = new_loc\n",
    "    clip1 = VideoFileClip(filename)\n",
    "    n_frames = sum(1 for x in clip1.iter_frames())\n",
    "    duration = clip1.duration\n",
    "\n",
    "    white_clip = clip1.fl_image(process_image) #NOTE: this function expects color images!!s\n",
    "    %time white_clip.write_videofile(white_output, audio=False)\n",
    "    "
   ]
  },
  {
   "cell_type": "code",
   "execution_count": 19,
   "metadata": {
    "collapsed": false
   },
   "outputs": [
    {
     "name": "stdout",
     "output_type": "stream",
     "text": [
      "('Timestamps at which to clip:', array([  2.33486843,  13.14197445,  22.01447296,  31.62079048,\n",
      "        41.02697372,  49.19901657,  51.83407593,  59.33901596,\n",
      "        68.77854919,  79.35217285,  85.8230896 ,  90.49282837], dtype=float32))\n"
     ]
    }
   ],
   "source": [
    "#Check if code works by printing the vars\n",
    "\n",
    "list1 = []\n",
    "delta_list = []\n",
    "timestamp_list = []\n",
    "delta_list.append(frame_list[0]) # Select the first observation\n",
    "for i in range(1, len(frame_list)):\n",
    "    delta = (frame_list[i]-frame_list[i-1])\n",
    "    list1.append(delta)\n",
    "    if delta > 40:\n",
    "        delta_list.append(frame_list[i])\n",
    "\n",
    "\n",
    "timestamp_array = (np.array(delta_list, dtype='f')/n_frames)*duration\n",
    "print(\"Timestamps at which to clip:\", timestamp_array)"
   ]
  },
  {
   "cell_type": "code",
   "execution_count": 8,
   "metadata": {
    "collapsed": false
   },
   "outputs": [
    {
     "name": "stdout",
     "output_type": "stream",
     "text": [
      "[MoviePy] >>>> Building video videos_out/golf2_subclip_0.mp4\n",
      "[MoviePy] Writing video videos_out/golf2_subclip_0.mp4\n"
     ]
    },
    {
     "name": "stderr",
     "output_type": "stream",
     "text": [
      "100%|██████████| 180/180 [00:01<00:00, 99.63it/s]\n"
     ]
    },
    {
     "name": "stdout",
     "output_type": "stream",
     "text": [
      "[MoviePy] Done.\n",
      "[MoviePy] >>>> Video ready: videos_out/golf2_subclip_0.mp4 \n",
      "\n",
      "CPU times: user 1.84 s, sys: 620 ms, total: 2.46 s\n",
      "Wall time: 2.26 s\n",
      "[MoviePy] >>>> Building video videos_out/golf2_subclip_1.mp4\n",
      "[MoviePy] Writing video videos_out/golf2_subclip_1.mp4\n"
     ]
    },
    {
     "name": "stderr",
     "output_type": "stream",
     "text": [
      "100%|██████████| 180/180 [00:01<00:00, 94.59it/s]\n"
     ]
    },
    {
     "name": "stdout",
     "output_type": "stream",
     "text": [
      "[MoviePy] Done.\n",
      "[MoviePy] >>>> Video ready: videos_out/golf2_subclip_1.mp4 \n",
      "\n",
      "CPU times: user 1.97 s, sys: 636 ms, total: 2.61 s\n",
      "Wall time: 2.35 s\n",
      "[MoviePy] >>>> Building video videos_out/golf2_subclip_2.mp4\n",
      "[MoviePy] Writing video videos_out/golf2_subclip_2.mp4\n"
     ]
    },
    {
     "name": "stderr",
     "output_type": "stream",
     "text": [
      "100%|██████████| 180/180 [00:02<00:00, 89.36it/s]\n"
     ]
    },
    {
     "name": "stdout",
     "output_type": "stream",
     "text": [
      "[MoviePy] Done.\n",
      "[MoviePy] >>>> Video ready: videos_out/golf2_subclip_2.mp4 \n",
      "\n",
      "CPU times: user 2.07 s, sys: 684 ms, total: 2.75 s\n",
      "Wall time: 2.46 s\n",
      "[MoviePy] >>>> Building video videos_out/golf2_subclip_3.mp4\n",
      "[MoviePy] Writing video videos_out/golf2_subclip_3.mp4\n"
     ]
    },
    {
     "name": "stderr",
     "output_type": "stream",
     "text": [
      "100%|██████████| 180/180 [00:01<00:00, 95.06it/s]\n"
     ]
    },
    {
     "name": "stdout",
     "output_type": "stream",
     "text": [
      "[MoviePy] Done.\n",
      "[MoviePy] >>>> Video ready: videos_out/golf2_subclip_3.mp4 \n",
      "\n",
      "CPU times: user 2.01 s, sys: 580 ms, total: 2.59 s\n",
      "Wall time: 2.32 s\n",
      "[MoviePy] >>>> Building video videos_out/golf2_subclip_4.mp4\n",
      "[MoviePy] Writing video videos_out/golf2_subclip_4.mp4\n"
     ]
    },
    {
     "name": "stderr",
     "output_type": "stream",
     "text": [
      "100%|██████████| 180/180 [00:01<00:00, 93.73it/s]\n"
     ]
    },
    {
     "name": "stdout",
     "output_type": "stream",
     "text": [
      "[MoviePy] Done.\n",
      "[MoviePy] >>>> Video ready: videos_out/golf2_subclip_4.mp4 \n",
      "\n",
      "CPU times: user 2 s, sys: 628 ms, total: 2.62 s\n",
      "Wall time: 2.35 s\n",
      "[MoviePy] >>>> Building video videos_out/golf2_subclip_5.mp4\n",
      "[MoviePy] Writing video videos_out/golf2_subclip_5.mp4\n"
     ]
    },
    {
     "name": "stderr",
     "output_type": "stream",
     "text": [
      "100%|██████████| 180/180 [00:01<00:00, 105.92it/s]\n"
     ]
    },
    {
     "name": "stdout",
     "output_type": "stream",
     "text": [
      "[MoviePy] Done.\n",
      "[MoviePy] >>>> Video ready: videos_out/golf2_subclip_5.mp4 \n",
      "\n",
      "CPU times: user 1.82 s, sys: 556 ms, total: 2.37 s\n",
      "Wall time: 2.09 s\n",
      "[MoviePy] >>>> Building video videos_out/golf2_subclip_6.mp4\n",
      "[MoviePy] Writing video videos_out/golf2_subclip_6.mp4\n"
     ]
    },
    {
     "name": "stderr",
     "output_type": "stream",
     "text": [
      "100%|██████████| 180/180 [00:01<00:00, 95.04it/s]\n"
     ]
    },
    {
     "name": "stdout",
     "output_type": "stream",
     "text": [
      "[MoviePy] Done.\n",
      "[MoviePy] >>>> Video ready: videos_out/golf2_subclip_6.mp4 \n",
      "\n",
      "CPU times: user 1.95 s, sys: 680 ms, total: 2.63 s\n",
      "Wall time: 2.31 s\n",
      "[MoviePy] >>>> Building video videos_out/golf2_subclip_7.mp4\n",
      "[MoviePy] Writing video videos_out/golf2_subclip_7.mp4\n"
     ]
    },
    {
     "name": "stderr",
     "output_type": "stream",
     "text": [
      "100%|██████████| 180/180 [00:01<00:00, 92.95it/s]\n"
     ]
    },
    {
     "name": "stdout",
     "output_type": "stream",
     "text": [
      "[MoviePy] Done.\n",
      "[MoviePy] >>>> Video ready: videos_out/golf2_subclip_7.mp4 \n",
      "\n",
      "CPU times: user 1.9 s, sys: 700 ms, total: 2.6 s\n",
      "Wall time: 2.32 s\n",
      "[MoviePy] >>>> Building video videos_out/golf2_subclip_8.mp4\n",
      "[MoviePy] Writing video videos_out/golf2_subclip_8.mp4\n"
     ]
    },
    {
     "name": "stderr",
     "output_type": "stream",
     "text": [
      "100%|██████████| 180/180 [00:01<00:00, 94.76it/s]\n"
     ]
    },
    {
     "name": "stdout",
     "output_type": "stream",
     "text": [
      "[MoviePy] Done.\n",
      "[MoviePy] >>>> Video ready: videos_out/golf2_subclip_8.mp4 \n",
      "\n",
      "CPU times: user 2.01 s, sys: 628 ms, total: 2.64 s\n",
      "Wall time: 2.37 s\n",
      "[MoviePy] >>>> Building video videos_out/golf2_subclip_9.mp4\n",
      "[MoviePy] Writing video videos_out/golf2_subclip_9.mp4\n"
     ]
    },
    {
     "name": "stderr",
     "output_type": "stream",
     "text": [
      "100%|██████████| 180/180 [00:02<00:00, 89.13it/s]\n"
     ]
    },
    {
     "name": "stdout",
     "output_type": "stream",
     "text": [
      "[MoviePy] Done.\n",
      "[MoviePy] >>>> Video ready: videos_out/golf2_subclip_9.mp4 \n",
      "\n",
      "CPU times: user 2.06 s, sys: 692 ms, total: 2.75 s\n",
      "Wall time: 2.5 s\n",
      "[MoviePy] >>>> Building video videos_out/golf2_subclip_10.mp4\n",
      "[MoviePy] Writing video videos_out/golf2_subclip_10.mp4\n"
     ]
    },
    {
     "name": "stderr",
     "output_type": "stream",
     "text": [
      "100%|██████████| 180/180 [00:02<00:00, 78.41it/s]\n"
     ]
    },
    {
     "name": "stdout",
     "output_type": "stream",
     "text": [
      "[MoviePy] Done.\n",
      "[MoviePy] >>>> Video ready: videos_out/golf2_subclip_10.mp4 \n",
      "\n",
      "CPU times: user 2.35 s, sys: 748 ms, total: 3.1 s\n",
      "Wall time: 2.89 s\n",
      "[MoviePy] >>>> Building video videos_out/golf2_subclip_11.mp4\n",
      "[MoviePy] Writing video videos_out/golf2_subclip_11.mp4\n"
     ]
    },
    {
     "name": "stderr",
     "output_type": "stream",
     "text": [
      "100%|██████████| 180/180 [00:02<00:00, 88.18it/s]\n"
     ]
    },
    {
     "name": "stdout",
     "output_type": "stream",
     "text": [
      "[MoviePy] Done.\n",
      "[MoviePy] >>>> Video ready: videos_out/golf2_subclip_11.mp4 \n",
      "\n",
      "CPU times: user 2.14 s, sys: 668 ms, total: 2.81 s\n",
      "Wall time: 2.54 s\n"
     ]
    }
   ],
   "source": [
    "#Cut clip logic\n",
    "for i in range(len(timestamp_array)):\n",
    "    start_time = timestamp_array[i]-2  # Update to how many secs before you want to clip\n",
    "    end_time = timestamp_array[i]+4    # Update to how many secs after you want to clip\n",
    "    new_filename = itemname + \"_\" + 'subclip_' + str(i) + '.mp4'\n",
    "   \n",
    "    new_loc = os.path.join(videoout_folder, new_filename)\n",
    "    clip1 = VideoFileClip(filename)\n",
    "    newclip = clip1.subclip(start_time,end_time)\n",
    "    %time newclip.write_videofile(new_loc, audio=False)\n"
   ]
  },
  {
   "cell_type": "code",
   "execution_count": 15,
   "metadata": {
    "collapsed": false
   },
   "outputs": [
    {
     "data": {
      "text/html": [
       "\n",
       "<video width=\"960\" height=\"540\" controls>\n",
       "  <source src=\"videos_out/golf2_out.mp4\">\n",
       "</video>\n"
      ],
      "text/plain": [
       "<IPython.core.display.HTML object>"
      ]
     },
     "execution_count": 15,
     "metadata": {},
     "output_type": "execute_result"
    }
   ],
   "source": [
    "HTML(\"\"\"\n",
    "<video width=\"960\" height=\"540\" controls>\n",
    "  <source src=\"{0}\">\n",
    "</video>\n",
    "\"\"\".format(white_output))"
   ]
  },
  {
   "cell_type": "code",
   "execution_count": 18,
   "metadata": {
    "collapsed": false
   },
   "outputs": [
    {
     "name": "stdout",
     "output_type": "stream",
     "text": [
      "[MoviePy] >>>> Building video videos_out/test.mp4\n",
      "[MoviePy] Writing video videos_out/test.mp4\n"
     ]
    },
    {
     "name": "stderr",
     "output_type": "stream",
     "text": [
      "100%|██████████| 2738/2738 [00:31<00:00, 86.17it/s]\n"
     ]
    },
    {
     "name": "stdout",
     "output_type": "stream",
     "text": [
      "[MoviePy] Done.\n",
      "[MoviePy] >>>> Video ready: videos_out/test.mp4 \n",
      "\n"
     ]
    }
   ],
   "source": [
    "# from moviepy.video.io.ffmpeg_tools import ffmpeg_extract_subclip\n",
    "# ffmpeg_extract_subclip(\"videos_out/golf2_out.mp4\", 1.33, 6.33, targetname=\"videos_out/test.mp4\")\n",
    "\n",
    "from moviepy.editor import *\n",
    "clip = VideoFileClip(\"videos/golf2.mp4\").cutout(1.33,6.33)\n",
    "clip.write_videofile(\"videos_out/test.mp4\", audio=False)"
   ]
  },
  {
   "cell_type": "code",
   "execution_count": null,
   "metadata": {
    "collapsed": true
   },
   "outputs": [],
   "source": [
    "## Code to cut clips\n",
    "from moviepy.video.io.ffmpeg_tools import ffmpeg_extract_subclip\n",
    "ffmpeg_extract_subclip(\"video1.mp4\", t1, t2, targetname=\"test.mp4\")"
   ]
  }
 ],
 "metadata": {
  "anaconda-cloud": {},
  "kernelspec": {
   "display_name": "Python [default]",
   "language": "python",
   "name": "python2"
  },
  "language_info": {
   "codemirror_mode": {
    "name": "ipython",
    "version": 2
   },
   "file_extension": ".py",
   "mimetype": "text/x-python",
   "name": "python",
   "nbconvert_exporter": "python",
   "pygments_lexer": "ipython2",
   "version": "2.7.12"
  }
 },
 "nbformat": 4,
 "nbformat_minor": 2
}
