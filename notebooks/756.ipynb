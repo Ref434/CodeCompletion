{
 "cells": [
  {
   "cell_type": "markdown",
   "metadata": {},
   "source": [
    "# 2 基于modin的pandas运算加速"
   ]
  },
  {
   "cell_type": "code",
   "execution_count": 2,
   "metadata": {
    "ExecuteTime": {
     "end_time": "2020-06-05T09:47:42.038877Z",
     "start_time": "2020-06-05T09:47:40.211894Z"
    }
   },
   "outputs": [
    {
     "name": "stderr",
     "output_type": "stream",
     "text": [
      "UserWarning: The Dask Engine for Modin is experimental.\n"
     ]
    }
   ],
   "source": [
    "import time\n",
    "import pandas as pd\n",
    "import modin.pandas as mpd"
   ]
  },
  {
   "cell_type": "code",
   "execution_count": 3,
   "metadata": {
    "ExecuteTime": {
     "end_time": "2020-06-05T09:47:57.301497Z",
     "start_time": "2020-06-05T09:47:42.042867Z"
    }
   },
   "outputs": [],
   "source": [
    "# 使用pandas读入csv文件\n",
    "\n",
    "df_pd = pd.read_csv('data/esea_master_dmg_demos.part1.csv')"
   ]
  },
  {
   "cell_type": "code",
   "execution_count": 4,
   "metadata": {
    "ExecuteTime": {
     "end_time": "2020-06-05T09:48:02.757744Z",
     "start_time": "2020-06-05T09:47:57.302464Z"
    }
   },
   "outputs": [],
   "source": [
    "# 使用modin读入csv文件\n",
    "\n",
    "df_mpd = mpd.read_csv('data/esea_master_dmg_demos.part1.csv')"
   ]
  },
  {
   "cell_type": "code",
   "execution_count": 5,
   "metadata": {
    "ExecuteTime": {
     "end_time": "2020-06-05T09:48:10.698620Z",
     "start_time": "2020-06-05T09:48:02.760755Z"
    }
   },
   "outputs": [],
   "source": [
    "# 使用pandas执行concat\n",
    "\n",
    "pd.concat([df_pd for _ in range(5)], ignore_index=True);"
   ]
  },
  {
   "cell_type": "code",
   "execution_count": 6,
   "metadata": {
    "ExecuteTime": {
     "end_time": "2020-06-05T09:48:10.871192Z",
     "start_time": "2020-06-05T09:48:10.700614Z"
    }
   },
   "outputs": [],
   "source": [
    "# 使用modin执行concat\n",
    "\n",
    "mpd.concat([df_mpd for _ in range(5)], ignore_index=True);"
   ]
  },
  {
   "cell_type": "code",
   "execution_count": 7,
   "metadata": {
    "ExecuteTime": {
     "end_time": "2020-06-05T09:48:12.534904Z",
     "start_time": "2020-06-05T09:48:10.872159Z"
    }
   },
   "outputs": [
    {
     "data": {
      "text/plain": [
       "file               False\n",
       "round              False\n",
       "tick               False\n",
       "seconds             True\n",
       "att_team           False\n",
       "vic_team           False\n",
       "att_side           False\n",
       "vic_side           False\n",
       "hp_dmg             False\n",
       "arm_dmg            False\n",
       "is_bomb_planted    False\n",
       "bomb_site           True\n",
       "hitbox             False\n",
       "wp                 False\n",
       "wp_type            False\n",
       "att_id             False\n",
       "att_rank           False\n",
       "vic_id             False\n",
       "vic_rank           False\n",
       "att_pos_x          False\n",
       "att_pos_y          False\n",
       "vic_pos_x          False\n",
       "vic_pos_y          False\n",
       "dtype: bool"
      ]
     },
     "execution_count": 7,
     "metadata": {},
     "output_type": "execute_result"
    }
   ],
   "source": [
    "df_pd.isna().any()"
   ]
  },
  {
   "cell_type": "code",
   "execution_count": 8,
   "metadata": {
    "ExecuteTime": {
     "end_time": "2020-06-05T09:48:13.301914Z",
     "start_time": "2020-06-05T09:48:12.537895Z"
    }
   },
   "outputs": [
    {
     "data": {
      "text/plain": [
       "file               False\n",
       "round              False\n",
       "tick               False\n",
       "seconds             True\n",
       "att_team           False\n",
       "vic_team           False\n",
       "att_side           False\n",
       "vic_side           False\n",
       "hp_dmg             False\n",
       "arm_dmg            False\n",
       "is_bomb_planted    False\n",
       "bomb_site           True\n",
       "hitbox             False\n",
       "wp                 False\n",
       "wp_type            False\n",
       "att_id             False\n",
       "att_rank           False\n",
       "vic_id             False\n",
       "vic_rank           False\n",
       "att_pos_x          False\n",
       "att_pos_y          False\n",
       "vic_pos_x          False\n",
       "vic_pos_y          False\n",
       "dtype: bool"
      ]
     },
     "execution_count": 8,
     "metadata": {},
     "output_type": "execute_result"
    }
   ],
   "source": [
    "df_mpd.isna().any()"
   ]
  },
  {
   "cell_type": "code",
   "execution_count": 9,
   "metadata": {
    "ExecuteTime": {
     "end_time": "2020-06-05T09:48:13.710441Z",
     "start_time": "2020-06-05T09:48:13.303909Z"
    }
   },
   "outputs": [
    {
     "data": {
      "text/html": [
       "<div>\n",
       "<style scoped>\n",
       "    .dataframe tbody tr th:only-of-type {\n",
       "        vertical-align: middle;\n",
       "    }\n",
       "\n",
       "    .dataframe tbody tr th {\n",
       "        vertical-align: top;\n",
       "    }\n",
       "\n",
       "    .dataframe thead th {\n",
       "        text-align: right;\n",
       "    }\n",
       "</style>\n",
       "<table border=\"1\" class=\"dataframe\">\n",
       "  <thead>\n",
       "    <tr style=\"text-align: right;\">\n",
       "      <th></th>\n",
       "      <th>hp_dmg</th>\n",
       "    </tr>\n",
       "    <tr>\n",
       "      <th>vic_side</th>\n",
       "      <th></th>\n",
       "    </tr>\n",
       "  </thead>\n",
       "  <tbody>\n",
       "    <tr>\n",
       "      <th>CounterTerrorist</th>\n",
       "      <td>84814701</td>\n",
       "    </tr>\n",
       "    <tr>\n",
       "      <th>Terrorist</th>\n",
       "      <td>88078075</td>\n",
       "    </tr>\n",
       "  </tbody>\n",
       "</table>\n",
       "</div>"
      ],
      "text/plain": [
       "                    hp_dmg\n",
       "vic_side                  \n",
       "CounterTerrorist  84814701\n",
       "Terrorist         88078075"
      ]
     },
     "execution_count": 9,
     "metadata": {},
     "output_type": "execute_result"
    }
   ],
   "source": [
    "# pandas执行分组聚合\n",
    "\n",
    "df_pd.groupby('vic_side').agg({'hp_dmg': 'sum'})"
   ]
  },
  {
   "cell_type": "code",
   "execution_count": 10,
   "metadata": {
    "ExecuteTime": {
     "end_time": "2020-06-05T09:48:31.528565Z",
     "start_time": "2020-06-05T09:48:13.712436Z"
    },
    "scrolled": true
   },
   "outputs": [
    {
     "name": "stderr",
     "output_type": "stream",
     "text": [
      "UserWarning: `DataFrame.groupby_on_multiple_columns` defaulting to pandas implementation.\n",
      "To request implementation, send an email to feature_requests@modin.org.\n",
      "UserWarning: Distributing <class 'pandas.core.frame.DataFrame'> object. This may take some time.\n"
     ]
    },
    {
     "data": {
      "text/html": [
       "<div>\n",
       "<style scoped>\n",
       "    .dataframe tbody tr th:only-of-type {\n",
       "        vertical-align: middle;\n",
       "    }\n",
       "\n",
       "    .dataframe tbody tr th {\n",
       "        vertical-align: top;\n",
       "    }\n",
       "\n",
       "    .dataframe thead th {\n",
       "        text-align: right;\n",
       "    }\n",
       "</style>\n",
       "<table border=\"1\" class=\"dataframe\">\n",
       "  <thead>\n",
       "    <tr style=\"text-align: right;\">\n",
       "      <th></th>\n",
       "      <th>hp_dmg</th>\n",
       "    </tr>\n",
       "    <tr>\n",
       "      <th>vic_side</th>\n",
       "      <th></th>\n",
       "    </tr>\n",
       "  </thead>\n",
       "  <tbody>\n",
       "    <tr>\n",
       "      <th>CounterTerrorist</th>\n",
       "      <td>84814701</td>\n",
       "    </tr>\n",
       "    <tr>\n",
       "      <th>Terrorist</th>\n",
       "      <td>88078075</td>\n",
       "    </tr>\n",
       "  </tbody>\n",
       "</table>\n",
       "</div>"
      ],
      "text/plain": [
       "                    hp_dmg\n",
       "vic_side                  \n",
       "CounterTerrorist  84814701\n",
       "Terrorist         88078075"
      ]
     },
     "execution_count": 10,
     "metadata": {},
     "output_type": "execute_result"
    }
   ],
   "source": [
    "# modin执行分组聚合\n",
    "\n",
    "df_mpd.groupby('vic_side').agg({'hp_dmg': 'sum'})"
   ]
  }
 ],
 "metadata": {
  "kernelspec": {
   "display_name": "Python 3",
   "language": "python",
   "name": "python3"
  },
  "language_info": {
   "codemirror_mode": {
    "name": "ipython",
    "version": 3
   },
   "file_extension": ".py",
   "mimetype": "text/x-python",
   "name": "python",
   "nbconvert_exporter": "python",
   "pygments_lexer": "ipython3",
   "version": "3.7.7"
  },
  "toc": {
   "base_numbering": 1,
   "nav_menu": {},
   "number_sections": false,
   "sideBar": true,
   "skip_h1_title": false,
   "title_cell": "Table of Contents",
   "title_sidebar": "Contents",
   "toc_cell": false,
   "toc_position": {},
   "toc_section_display": true,
   "toc_window_display": false
  },
  "varInspector": {
   "cols": {
    "lenName": 16,
    "lenType": 16,
    "lenVar": 40
   },
   "kernels_config": {
    "python": {
     "delete_cmd_postfix": "",
     "delete_cmd_prefix": "del ",
     "library": "var_list.py",
     "varRefreshCmd": "print(var_dic_list())"
    },
    "r": {
     "delete_cmd_postfix": ") ",
     "delete_cmd_prefix": "rm(",
     "library": "var_list.r",
     "varRefreshCmd": "cat(var_dic_list()) "
    }
   },
   "types_to_exclude": [
    "module",
    "function",
    "builtin_function_or_method",
    "instance",
    "_Feature"
   ],
   "window_display": false
  }
 },
 "nbformat": 4,
 "nbformat_minor": 4
}
