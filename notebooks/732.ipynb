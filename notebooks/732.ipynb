{
 "cells": [
  {
   "cell_type": "markdown",
   "id": "864adf2c-1c26-4537-9d1e-3b90605c045f",
   "metadata": {},
   "source": [
    "# 2 使用joblib进行并行计算"
   ]
  },
  {
   "cell_type": "markdown",
   "id": "d0ca647f-66c5-4509-a5a7-87bae9ab7177",
   "metadata": {},
   "source": [
    "## 2.1 使用Parallel与delayed进行并行加速"
   ]
  },
  {
   "cell_type": "code",
   "execution_count": 1,
   "id": "a74a1d3d-877c-4c3d-bd9e-f06d2d2de710",
   "metadata": {
    "execution": {
     "iopub.execute_input": "2022-05-14T11:45:47.978578Z",
     "iopub.status.busy": "2022-05-14T11:45:47.978578Z",
     "iopub.status.idle": "2022-05-14T11:45:47.997526Z",
     "shell.execute_reply": "2022-05-14T11:45:47.996555Z",
     "shell.execute_reply.started": "2022-05-14T11:45:47.978578Z"
    },
    "tags": []
   },
   "outputs": [],
   "source": [
    "import time\n",
    "\n",
    "def task_demo1(i):\n",
    "    \n",
    "    time.sleep(1)\n",
    "\n",
    "    return i, time.time()"
   ]
  },
  {
   "cell_type": "code",
   "execution_count": 2,
   "id": "ade2666b-1f2d-4d2e-a611-7e310df17a55",
   "metadata": {
    "execution": {
     "iopub.execute_input": "2022-05-14T11:45:47.998522Z",
     "iopub.status.busy": "2022-05-14T11:45:47.998522Z",
     "iopub.status.idle": "2022-05-14T11:45:53.746656Z",
     "shell.execute_reply": "2022-05-14T11:45:53.745698Z",
     "shell.execute_reply.started": "2022-05-14T11:45:47.998522Z"
    },
    "tags": []
   },
   "outputs": [
    {
     "data": {
      "application/vnd.jupyter.widget-view+json": {
       "model_id": "42127e7fb4c649f29117c7dce69e25a3",
       "version_major": 2,
       "version_minor": 0
      },
      "text/plain": [
       "  0%|          | 0/20 [00:00<?, ?it/s]"
      ]
     },
     "metadata": {},
     "output_type": "display_data"
    },
    {
     "data": {
      "text/plain": [
       "[(0, 1652528749.634916),\n",
       " (1, 1652528749.634916),\n",
       " (2, 1652528749.634916),\n",
       " (3, 1652528749.6508942),\n",
       " (4, 1652528750.6620038),\n",
       " (5, 1652528750.6620038),\n",
       " (6, 1652528750.6620038),\n",
       " (7, 1652528750.6927834),\n",
       " (8, 1652528751.672887),\n",
       " (9, 1652528751.672887),\n",
       " (10, 1652528751.672887),\n",
       " (11, 1652528751.7041655),\n",
       " (12, 1652528752.6991506),\n",
       " (13, 1652528752.6991506),\n",
       " (14, 1652528752.6991506),\n",
       " (15, 1652528752.7146428),\n",
       " (16, 1652528753.7136896),\n",
       " (17, 1652528753.7136896),\n",
       " (18, 1652528753.7136896),\n",
       " (19, 1652528753.7300963)]"
      ]
     },
     "execution_count": 2,
     "metadata": {},
     "output_type": "execute_result"
    }
   ],
   "source": [
    "from tqdm.notebook import tqdm\n",
    "from joblib import Parallel, delayed\n",
    "\n",
    "results = (\n",
    "    Parallel(n_jobs=4)\n",
    "    (delayed(task_demo1)(i)\n",
    "     for i in tqdm(range(20)))\n",
    ")\n",
    "results"
   ]
  },
  {
   "cell_type": "code",
   "execution_count": 3,
   "id": "202c493a-1813-4691-9af6-02fb66399b9b",
   "metadata": {
    "execution": {
     "iopub.execute_input": "2022-05-14T11:45:53.747653Z",
     "iopub.status.busy": "2022-05-14T11:45:53.747653Z",
     "iopub.status.idle": "2022-05-14T11:45:53.761616Z",
     "shell.execute_reply": "2022-05-14T11:45:53.760619Z",
     "shell.execute_reply.started": "2022-05-14T11:45:53.747653Z"
    },
    "tags": []
   },
   "outputs": [
    {
     "data": {
      "text/plain": [
       "8"
      ]
     },
     "execution_count": 3,
     "metadata": {},
     "output_type": "execute_result"
    }
   ],
   "source": [
    "import os\n",
    "os.cpu_count()"
   ]
  },
  {
   "cell_type": "code",
   "execution_count": 4,
   "id": "9f4bc1a1-0e89-4d13-bcdb-bdd266047433",
   "metadata": {
    "execution": {
     "iopub.execute_input": "2022-05-14T11:45:53.763611Z",
     "iopub.status.busy": "2022-05-14T11:45:53.762614Z",
     "iopub.status.idle": "2022-05-14T11:46:11.600663Z",
     "shell.execute_reply": "2022-05-14T11:46:11.600663Z",
     "shell.execute_reply.started": "2022-05-14T11:45:53.763611Z"
    },
    "tags": []
   },
   "outputs": [
    {
     "data": {
      "application/vnd.jupyter.widget-view+json": {
       "model_id": "230b5db8f8f04d36a76fd8d48c35601a",
       "version_major": 2,
       "version_minor": 0
      },
      "text/plain": [
       "  0%|          | 0/100 [00:00<?, ?it/s]"
      ]
     },
     "metadata": {},
     "output_type": "display_data"
    }
   ],
   "source": [
    "results = (\n",
    "    Parallel(n_jobs=-3)\n",
    "    (delayed(task_demo1)(i)\n",
    "     for i in tqdm(range(100)))\n",
    ")"
   ]
  },
  {
   "cell_type": "code",
   "execution_count": 5,
   "id": "6f42880a-431e-4558-954b-a5e9ea724d82",
   "metadata": {
    "execution": {
     "iopub.execute_input": "2022-05-14T11:46:11.601661Z",
     "iopub.status.busy": "2022-05-14T11:46:11.601661Z",
     "iopub.status.idle": "2022-05-14T11:46:11.697405Z",
     "shell.execute_reply": "2022-05-14T11:46:11.696667Z",
     "shell.execute_reply.started": "2022-05-14T11:46:11.601661Z"
    },
    "tags": []
   },
   "outputs": [],
   "source": [
    "import requests\n",
    "\n",
    "def task_demo2():\n",
    "\n",
    "    response = requests.get('https://www.baidu.com/')\n",
    "    \n",
    "    return response.status_code"
   ]
  },
  {
   "cell_type": "code",
   "execution_count": 6,
   "id": "c6b0daa9-27f3-4af7-b235-138aafb5ac29",
   "metadata": {
    "execution": {
     "iopub.execute_input": "2022-05-14T11:46:11.699401Z",
     "iopub.status.busy": "2022-05-14T11:46:11.698403Z",
     "iopub.status.idle": "2022-05-14T11:46:48.923305Z",
     "shell.execute_reply": "2022-05-14T11:46:48.923305Z",
     "shell.execute_reply.started": "2022-05-14T11:46:11.699401Z"
    },
    "tags": []
   },
   "outputs": [
    {
     "data": {
      "application/vnd.jupyter.widget-view+json": {
       "model_id": "159cfbd4bc244e18ac163ca85eae9f6d",
       "version_major": 2,
       "version_minor": 0
      },
      "text/plain": [
       "  0%|          | 0/100 [00:00<?, ?it/s]"
      ]
     },
     "metadata": {},
     "output_type": "display_data"
    }
   ],
   "source": [
    "# 常规单线程串行执行\n",
    "for i in tqdm(range(100)):\n",
    "    task_demo2()"
   ]
  },
  {
   "cell_type": "code",
   "execution_count": 7,
   "id": "55970ed2-91b5-46b4-aa1c-3ce1bca49a80",
   "metadata": {
    "execution": {
     "iopub.execute_input": "2022-05-14T11:46:48.924305Z",
     "iopub.status.busy": "2022-05-14T11:46:48.924305Z",
     "iopub.status.idle": "2022-05-14T11:46:54.543809Z",
     "shell.execute_reply": "2022-05-14T11:46:54.541845Z",
     "shell.execute_reply.started": "2022-05-14T11:46:48.924305Z"
    },
    "tags": []
   },
   "outputs": [
    {
     "data": {
      "application/vnd.jupyter.widget-view+json": {
       "model_id": "1339ea169e254275965951e9bf5381de",
       "version_major": 2,
       "version_minor": 0
      },
      "text/plain": [
       "  0%|          | 0/1000 [00:00<?, ?it/s]"
      ]
     },
     "metadata": {},
     "output_type": "display_data"
    }
   ],
   "source": [
    "results = (\n",
    "    Parallel(n_jobs=50, backend='threading')\n",
    "    (delayed(task_demo2)()\n",
    "     for i in tqdm(range(1000)))\n",
    ")"
   ]
  }
 ],
 "metadata": {
  "kernelspec": {
   "display_name": "Python 3 (ipykernel)",
   "language": "python",
   "name": "python3"
  },
  "language_info": {
   "codemirror_mode": {
    "name": "ipython",
    "version": 3
   },
   "file_extension": ".py",
   "mimetype": "text/x-python",
   "name": "python",
   "nbconvert_exporter": "python",
   "pygments_lexer": "ipython3",
   "version": "3.8.12"
  }
 },
 "nbformat": 4,
 "nbformat_minor": 5
}
