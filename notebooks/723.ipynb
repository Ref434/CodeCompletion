{
 "cells": [
  {
   "cell_type": "markdown",
   "id": "ae0dcfe9-fb69-4e1e-b0d4-6861761db76a",
   "metadata": {},
   "source": [
    "# 2 利用icecream进行高效debug"
   ]
  },
  {
   "cell_type": "code",
   "execution_count": 1,
   "id": "62298b3d-0a21-4b70-867d-b413583da448",
   "metadata": {},
   "outputs": [
    {
     "name": "stdout",
     "output_type": "stream",
     "text": [
      "i :  0 j :  1 k :  0\n",
      "i :  1 j :  2 k :  1\n",
      "i :  2 j :  3 k :  4\n"
     ]
    }
   ],
   "source": [
    "from icecream import ic\n",
    "\n",
    "for i in range(3):\n",
    "    \n",
    "    j = i + 1\n",
    "    k = i ** 2\n",
    "\n",
    "    print('i : ', i, 'j : ', j, 'k : ', k)"
   ]
  },
  {
   "cell_type": "code",
   "execution_count": 2,
   "id": "aa80ccec-f6e8-49a7-aadf-6fe6c0b51610",
   "metadata": {},
   "outputs": [
    {
     "name": "stderr",
     "output_type": "stream",
     "text": [
      "ic| i: 0, j: 1, k: 0\n",
      "ic| i: 1, j: 2, k: 1\n",
      "ic| i: 2, j: 3, k: 4\n"
     ]
    }
   ],
   "source": [
    "for i in range(3):\n",
    "    \n",
    "    j = i + 1\n",
    "    k = i ** 2\n",
    "\n",
    "    ic(i, j, k)"
   ]
  },
  {
   "cell_type": "markdown",
   "id": "4f4e2b10-561e-4f9e-830f-c95896724c37",
   "metadata": {},
   "source": [
    "## 2.1 利用icecream检查各种变量"
   ]
  },
  {
   "cell_type": "code",
   "execution_count": 3,
   "id": "201792db-8ba7-49e2-a147-780d048a342c",
   "metadata": {},
   "outputs": [
    {
     "name": "stderr",
     "output_type": "stream",
     "text": [
      "ic| demo_func(1): 2\n",
      "ic| DemoClass.a: 1\n",
      "ic| demo_df:    a  b\n",
      "             0  1  a\n",
      "             1  2  b\n",
      "             2  3  c\n"
     ]
    }
   ],
   "source": [
    "import pandas as pd\n",
    "\n",
    "def demo_func(x):\n",
    "    \n",
    "    return x + 1\n",
    "\n",
    "class DemoClass:\n",
    "    \n",
    "    a = 1\n",
    "\n",
    "demo_df = pd.DataFrame({\n",
    "    'a': [1, 2, 3],\n",
    "    'b': ['a', 'b', 'c']\n",
    "})\n",
    "\n",
    "ic(demo_func(1))\n",
    "ic(DemoClass.a)\n",
    "ic(demo_df);"
   ]
  },
  {
   "cell_type": "markdown",
   "id": "17200d48-d997-47d1-8d39-d25f65c73370",
   "metadata": {},
   "source": [
    "## 2.2 检查代码执行位置"
   ]
  },
  {
   "cell_type": "code",
   "execution_count": 4,
   "id": "dce36de4-c74b-4d29-a1a0-1c1b099f665e",
   "metadata": {},
   "outputs": [
    {
     "name": "stderr",
     "output_type": "stream",
     "text": [
      "ic| 3992244492.py:4 in demo() at 17:25:28.455\n",
      "ic| 3992244492.py:8 in demo() at 17:25:28.470\n"
     ]
    }
   ],
   "source": [
    "from icecream import ic\n",
    "\n",
    "def demo():\n",
    "    ic()\n",
    "    a = 1\n",
    "\n",
    "    if 1 > 0:\n",
    "        ic()\n",
    "        a += 1\n",
    "    else:\n",
    "        ic()\n",
    "        a -= 1\n",
    "\n",
    "demo()"
   ]
  },
  {
   "cell_type": "markdown",
   "id": "3f80fd01-4a7b-489e-a563-886201498c00",
   "metadata": {},
   "source": [
    "## 2.3 一处导入处处使用"
   ]
  },
  {
   "cell_type": "code",
   "execution_count": 5,
   "id": "09155fbe-adc0-4273-a674-693ae446ef26",
   "metadata": {},
   "outputs": [
    {
     "name": "stderr",
     "output_type": "stream",
     "text": [
      "ic| i: 0\n",
      "ic| i: 1\n",
      "ic| i: 2\n",
      "ic| i: 3\n",
      "ic| i: 4\n",
      "ic| i: 5\n",
      "ic| i: 6\n",
      "ic| i: 7\n",
      "ic| i: 8\n",
      "ic| i: 9\n"
     ]
    }
   ],
   "source": [
    "from icecream import install\n",
    "install()\n",
    "\n",
    "import test"
   ]
  },
  {
   "cell_type": "markdown",
   "id": "078b3cdd-deaf-49fb-9863-5f779fc1a0aa",
   "metadata": {},
   "source": [
    "## 2.4 个性化设置"
   ]
  },
  {
   "cell_type": "code",
   "execution_count": 6,
   "id": "bfc9e18d-48a0-41d9-ade1-1e8cc3f11a12",
   "metadata": {},
   "outputs": [
    {
     "name": "stderr",
     "output_type": "stream",
     "text": [
      "版本0.0.1测试：a: 'test'\n"
     ]
    },
    {
     "data": {
      "text/plain": [
       "'test'"
      ]
     },
     "execution_count": 6,
     "metadata": {},
     "output_type": "execute_result"
    }
   ],
   "source": [
    "# 自定义前缀\n",
    "ic.configureOutput(prefix='版本0.0.1测试：')\n",
    "\n",
    "a = 'test'\n",
    "ic(a)"
   ]
  },
  {
   "cell_type": "code",
   "execution_count": 7,
   "id": "4a3e8d1a-8ec5-4323-aff9-e1f0866064e4",
   "metadata": {},
   "outputs": [
    {
     "name": "stderr",
     "output_type": "stream",
     "text": [
      "ERROR:root:版本0.0.1测试：a: 2\n"
     ]
    }
   ],
   "source": [
    "# 自定义输出函数\n",
    "import logging\n",
    "\n",
    "def error(s):\n",
    "    logging.error(s)\n",
    "\n",
    "ic.configureOutput(outputFunction=error)\n",
    "\n",
    "def test(a):\n",
    "    \n",
    "    if a > 1:\n",
    "        ic(a)\n",
    "        \n",
    "    else:\n",
    "        return a + 1\n",
    "    \n",
    "test(2)"
   ]
  }
 ],
 "metadata": {
  "kernelspec": {
   "display_name": "Python 3 (ipykernel)",
   "language": "python",
   "name": "python3"
  },
  "language_info": {
   "codemirror_mode": {
    "name": "ipython",
    "version": 3
   },
   "file_extension": ".py",
   "mimetype": "text/x-python",
   "name": "python",
   "nbconvert_exporter": "python",
   "pygments_lexer": "ipython3",
   "version": "3.7.10"
  }
 },
 "nbformat": 4,
 "nbformat_minor": 5
}
