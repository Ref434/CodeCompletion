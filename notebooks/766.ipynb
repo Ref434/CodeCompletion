{
 "cells": [
  {
   "cell_type": "code",
   "execution_count": 1,
   "metadata": {
    "execution": {
     "iopub.execute_input": "2020-09-18T10:00:36.475540Z",
     "iopub.status.busy": "2020-09-18T10:00:36.475540Z",
     "iopub.status.idle": "2020-09-18T10:00:36.832812Z",
     "shell.execute_reply": "2020-09-18T10:00:36.831812Z",
     "shell.execute_reply.started": "2020-09-18T09:40:36.720185Z"
    },
    "papermill": {
     "duration": 0.366249,
     "end_time": "2020-09-18T10:00:36.832812",
     "exception": false,
     "start_time": "2020-09-18T10:00:36.466563",
     "status": "completed"
    },
    "tags": []
   },
   "outputs": [
    {
     "name": "stderr",
     "output_type": "stream",
     "text": [
      "C:\\Conda\\envs\\temp\\lib\\site-packages\\ipykernel_launcher.py:6: FutureWarning: The pandas.datetime class is deprecated and will be removed from pandas in a future version. Import from datetime module instead.\n",
      "  \n"
     ]
    }
   ],
   "source": [
    "import pandas as pd\n",
    "\n",
    "df1 = pd.read_csv('demo1.csv')\n",
    "\n",
    "with open('result.txt', 'a+') as r:\n",
    "    r.write('df1：{}\\t{}\\n'.format(df1.mean().mean(), pd.datetime.now()))"
   ]
  }
 ],
 "metadata": {
  "kernelspec": {
   "display_name": "Python 3",
   "language": "python",
   "name": "python3"
  },
  "language_info": {
   "codemirror_mode": {
    "name": "ipython",
    "version": 3
   },
   "file_extension": ".py",
   "mimetype": "text/x-python",
   "name": "python",
   "nbconvert_exporter": "python",
   "pygments_lexer": "ipython3",
   "version": "3.7.9"
  },
  "papermill": {
   "duration": 2.140165,
   "end_time": "2020-09-18T10:00:37.057416",
   "environment_variables": {},
   "exception": null,
   "input_path": "C:\\Users\\pengz\\Desktop\\当期博客工作台\\pipeline/step2-1.ipynb",
   "output_path": "C:\\Users\\pengz\\Desktop\\当期博客工作台\\pipeline/step2-1.ipynb",
   "parameters": {},
   "start_time": "2020-09-18T10:00:34.917251",
   "version": "2.1.3"
  },
  "widgets": {
   "application/vnd.jupyter.widget-state+json": {
    "state": {},
    "version_major": 2,
    "version_minor": 0
   }
  }
 },
 "nbformat": 4,
 "nbformat_minor": 4
}