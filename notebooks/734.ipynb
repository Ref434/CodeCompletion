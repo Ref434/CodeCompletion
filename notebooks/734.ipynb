{
 "cells": [
  {
   "cell_type": "markdown",
   "id": "f15e3f4a-92ee-448f-a730-49a2f45088d0",
   "metadata": {},
   "source": [
    "# 2 利用sklearnex加速scikit-learn"
   ]
  },
  {
   "cell_type": "code",
   "execution_count": 1,
   "id": "2eaa8905-f829-4d48-98e6-d03ca3fa6eaf",
   "metadata": {},
   "outputs": [
    {
     "name": "stderr",
     "output_type": "stream",
     "text": [
      "Intel(R) Extension for Scikit-learn* enabled (https://github.com/intel/scikit-learn-intelex)\n"
     ]
    }
   ],
   "source": [
    "from sklearnex import patch_sklearn, unpatch_sklearn\n",
    "patch_sklearn()"
   ]
  },
  {
   "cell_type": "code",
   "execution_count": 2,
   "id": "11c3f3a5-794f-47c0-8285-26a0fa6dda79",
   "metadata": {},
   "outputs": [],
   "source": [
    "import time\n",
    "from sklearn.linear_model import LinearRegression\n",
    "from sklearn.datasets import make_regression\n",
    "from sklearn.model_selection import train_test_split"
   ]
  },
  {
   "cell_type": "code",
   "execution_count": 3,
   "id": "1e52227c-ba89-49bb-9624-3f809ca65d6f",
   "metadata": {},
   "outputs": [],
   "source": [
    "X, y = make_regression(\n",
    "    n_samples=2000000,\n",
    "    n_features=100,\n",
    "    noise=1,\n",
    "    random_state=42\n",
    ")"
   ]
  },
  {
   "cell_type": "code",
   "execution_count": 4,
   "id": "f34185de-51b7-4843-ad41-63a5864a27a4",
   "metadata": {},
   "outputs": [],
   "source": [
    "X_train, X_test, y_train, y_test = train_test_split(X, y, test_size=0.33, random_state=42)"
   ]
  },
  {
   "cell_type": "code",
   "execution_count": 5,
   "id": "5ca74656-af86-47e4-b445-2c0bc8355660",
   "metadata": {},
   "outputs": [
    {
     "data": {
      "text/plain": [
       "0.2133927345275879"
      ]
     },
     "execution_count": 5,
     "metadata": {},
     "output_type": "execute_result"
    }
   ],
   "source": [
    "start = time.time()\n",
    "model = LinearRegression()\n",
    "model.fit(X_train, y_train)\n",
    "time.time() - start"
   ]
  },
  {
   "cell_type": "code",
   "execution_count": 6,
   "id": "91f049ab-fe19-4158-8128-d8651f9c3176",
   "metadata": {},
   "outputs": [],
   "source": [
    "unpatch_sklearn()"
   ]
  },
  {
   "cell_type": "code",
   "execution_count": 7,
   "id": "a841fadc-523b-4e72-a9d3-b644a2bc16e4",
   "metadata": {},
   "outputs": [],
   "source": [
    "from sklearn.linear_model import LinearRegression"
   ]
  },
  {
   "cell_type": "code",
   "execution_count": 8,
   "id": "669d347d-5856-4961-8ff2-626a35500a1a",
   "metadata": {},
   "outputs": [
    {
     "data": {
      "text/plain": [
       "11.284327507019043"
      ]
     },
     "execution_count": 8,
     "metadata": {},
     "output_type": "execute_result"
    }
   ],
   "source": [
    "start = time.time()\n",
    "model = LinearRegression()\n",
    "model.fit(X_train, y_train)\n",
    "time.time() - start"
   ]
  }
 ],
 "metadata": {
  "kernelspec": {
   "display_name": "Python 3",
   "language": "python",
   "name": "python3"
  },
  "language_info": {
   "codemirror_mode": {
    "name": "ipython",
    "version": 3
   },
   "file_extension": ".py",
   "mimetype": "text/x-python",
   "name": "python",
   "nbconvert_exporter": "python",
   "pygments_lexer": "ipython3",
   "version": "3.8.13"
  }
 },
 "nbformat": 4,
 "nbformat_minor": 5
}
