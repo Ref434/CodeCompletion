{
 "cells": [
  {
   "cell_type": "markdown",
   "metadata": {},
   "source": [
    "# Object Detection Demo\n",
    "Welcome to the object detection inference walkthrough!  This notebook will walk you step by step through the process of using a pre-trained model to detect objects in an image. Make sure to follow the [installation instructions](https://github.com/tensorflow/models/blob/master/object_detection/g3doc/installation.md) before you start."
   ]
  },
  {
   "cell_type": "markdown",
   "metadata": {},
   "source": [
    "# Imports"
   ]
  },
  {
   "cell_type": "code",
   "execution_count": 14,
   "metadata": {
    "scrolled": true
   },
   "outputs": [],
   "source": [
    "import numpy as np\n",
    "import os\n",
    "import six.moves.urllib as urllib\n",
    "import sys\n",
    "import tarfile\n",
    "import tensorflow as tf\n",
    "import zipfile\n",
    "\n",
    "from collections import defaultdict\n",
    "from io import StringIO\n",
    "from matplotlib import pyplot as plt\n",
    "from PIL import Image\n",
    "import timeit\n",
    "import scipy.misc\n",
    "import glob\n",
    "from scipy.ndimage.measurements import label\n",
    "import timeit"
   ]
  },
  {
   "cell_type": "markdown",
   "metadata": {},
   "source": [
    "## Env setup"
   ]
  },
  {
   "cell_type": "code",
   "execution_count": 15,
   "metadata": {},
   "outputs": [],
   "source": [
    "# This is needed to display the images.\n",
    "%matplotlib inline\n",
    "\n",
    "# This is needed since the notebook is stored in the object_detection folder.\n",
    "sys.path.append(\"..\")"
   ]
  },
  {
   "cell_type": "markdown",
   "metadata": {},
   "source": [
    "## Object detection imports\n",
    "Here are the imports from the object detection module."
   ]
  },
  {
   "cell_type": "code",
   "execution_count": 16,
   "metadata": {},
   "outputs": [],
   "source": [
    "from utils import label_map_util\n",
    "\n",
    "from utils import visualization_utils as vis_util"
   ]
  },
  {
   "cell_type": "markdown",
   "metadata": {},
   "source": [
    "# Model preparation "
   ]
  },
  {
   "cell_type": "markdown",
   "metadata": {},
   "source": [
    "## Variables\n",
    "\n",
    "Any model exported using the `export_inference_graph.py` tool can be loaded here simply by changing `PATH_TO_CKPT` to point to a new .pb file.  \n",
    "\n",
    "By default we use an \"SSD with Mobilenet\" model here. See the [detection model zoo](https://github.com/tensorflow/models/blob/master/object_detection/g3doc/detection_model_zoo.md) for a list of other models that can be run out-of-the-box with varying speeds and accuracies."
   ]
  },
  {
   "cell_type": "code",
   "execution_count": 17,
   "metadata": {},
   "outputs": [],
   "source": [
    "# What model to download.\n",
    "\n",
    "# Path to frozen detection graph. This is the actual model that is used for the object detection.\n",
    "PATH_TO_CKPT = '/home/priya/Documents/golf_swing_detector/exported_graphs/frozen_inference_graph.pb/'\n",
    "\n",
    "# List of the strings that is used to add correct label for each box.\n",
    "PATH_TO_LABELS = '/home/priya/Documents/golf_swing_detector/data/sports_label_map.pbtxt'\n",
    "\n",
    "NUM_CLASSES = 2"
   ]
  },
  {
   "cell_type": "markdown",
   "metadata": {},
   "source": [
    "## Download Model"
   ]
  },
  {
   "cell_type": "markdown",
   "metadata": {
    "collapsed": true
   },
   "source": [
    "opener = urllib.request.URLopener()\n",
    "opener.retrieve(DOWNLOAD_BASE + MODEL_FILE, MODEL_FILE)\n",
    "tar_file = tarfile.open(MODEL_FILE)\n",
    "for file in tar_file.getmembers():\n",
    "  file_name = os.path.basename(file.name)\n",
    "  if 'frozen_inference_graph.pb' in file_name:\n",
    "    tar_file.extract(file, os.getcwd())"
   ]
  },
  {
   "cell_type": "markdown",
   "metadata": {},
   "source": [
    "## Load a (frozen) Tensorflow model into memory."
   ]
  },
  {
   "cell_type": "code",
   "execution_count": 18,
   "metadata": {},
   "outputs": [],
   "source": [
    "detection_graph = tf.Graph()\n",
    "with detection_graph.as_default():\n",
    "  od_graph_def = tf.GraphDef()\n",
    "  with tf.gfile.GFile(PATH_TO_CKPT, 'rb') as fid:\n",
    "    serialized_graph = fid.read()\n",
    "    od_graph_def.ParseFromString(serialized_graph)\n",
    "    tf.import_graph_def(od_graph_def, name='')"
   ]
  },
  {
   "cell_type": "markdown",
   "metadata": {},
   "source": [
    "## Loading label map\n",
    "Label maps map indices to category names, so that when our convolution network predicts `5`, we know that this corresponds to `airplane`.  Here we use internal utility functions, but anything that returns a dictionary mapping integers to appropriate string labels would be fine"
   ]
  },
  {
   "cell_type": "code",
   "execution_count": 19,
   "metadata": {},
   "outputs": [],
   "source": [
    "label_map = label_map_util.load_labelmap(PATH_TO_LABELS)\n",
    "categories = label_map_util.convert_label_map_to_categories(label_map, max_num_classes=NUM_CLASSES, use_display_name=True)\n",
    "category_index = label_map_util.create_category_index(categories)"
   ]
  },
  {
   "cell_type": "markdown",
   "metadata": {},
   "source": [
    "## Helper code"
   ]
  },
  {
   "cell_type": "code",
   "execution_count": 20,
   "metadata": {},
   "outputs": [],
   "source": [
    "def load_image_into_numpy_array(image):\n",
    "  (im_width, im_height) = image.size\n",
    "  return np.array(image.getdata()).reshape(\n",
    "      (im_height, im_width, 3)).astype(np.uint8)"
   ]
  },
  {
   "cell_type": "markdown",
   "metadata": {},
   "source": [
    "# Detection"
   ]
  },
  {
   "cell_type": "code",
   "execution_count": 21,
   "metadata": {},
   "outputs": [],
   "source": [
    "# Import everything needed to edit/save/watch video clips\n",
    "from moviepy.editor import VideoFileClip\n",
    "from IPython.display import HTML"
   ]
  },
  {
   "cell_type": "code",
   "execution_count": 22,
   "metadata": {},
   "outputs": [],
   "source": [
    "def detect_videos(image_np, sess, detection_graph):\n",
    "    # Expand dimensions since the model expects images to have shape: [1, None, None, 3]\n",
    "    \n",
    "    pos_detection = False\n",
    "    \n",
    "    image_np_expanded = np.expand_dims(image_np, axis=0)\n",
    "    image_tensor = detection_graph.get_tensor_by_name('image_tensor:0')\n",
    "\n",
    "    # Each box represents a part of the image where a particular object was detected.\n",
    "    boxes = detection_graph.get_tensor_by_name('detection_boxes:0')\n",
    "\n",
    "    # Each score represent how level of confidence for each of the objects.\n",
    "    # Score is shown on the result image, together with the class label.\n",
    "    scores = detection_graph.get_tensor_by_name('detection_scores:0')\n",
    "    classes = detection_graph.get_tensor_by_name('detection_classes:0')\n",
    "    num_detections = detection_graph.get_tensor_by_name('num_detections:0')\n",
    "\n",
    "    # Actual detection.\n",
    "    (boxes, scores, classes, num_detections) = sess.run(\n",
    "        [boxes, scores, classes, num_detections],\n",
    "        feed_dict={image_tensor: image_np_expanded})\n",
    "\n",
    "    # Visualization of the results of a detection.\n",
    "    vis_util.visualize_boxes_and_labels_on_image_array(\n",
    "        image_np,\n",
    "        np.squeeze(boxes),\n",
    "        np.squeeze(classes).astype(np.int32),\n",
    "        np.squeeze(scores),\n",
    "        category_index,\n",
    "        use_normalized_coordinates=True,\n",
    "        line_thickness=8,\n",
    "        min_score_thresh = 0.90)\n",
    "    \n",
    "    \n",
    "    for n in range(len(scores[0])):\n",
    "        if scores[0][n] > 0.90:\n",
    "            pos_detection = True\n",
    "                \n",
    "    return image_np, pos_detection"
   ]
  },
  {
   "cell_type": "code",
   "execution_count": 23,
   "metadata": {},
   "outputs": [],
   "source": [
    "def process_image(image):  \n",
    "     \n",
    "    global count_list\n",
    "    global counter\n",
    "    \n",
    "    d = {}\n",
    "    \n",
    "    if counter%5 == 0:\n",
    "    \n",
    "        with detection_graph.as_default():\n",
    "            with tf.Session(graph=detection_graph) as sess:\n",
    "                image_process, pos_detection = detect_videos(image, sess, detection_graph) \n",
    "\n",
    "        d[counter] = pos_detection\n",
    "        count_list.append(d)\n",
    "        \n",
    "    counter += 1\n",
    "    return image"
   ]
  },
  {
   "cell_type": "code",
   "execution_count": 24,
   "metadata": {},
   "outputs": [],
   "source": [
    "videoin_folder = 'videos_stream_jan4'\n",
    "videoout_folder = 'videos_stream_out'\n",
    "video_path = os.path.join(videoin_folder, '*')\n",
    "timestamps_dict = {}"
   ]
  },
  {
   "cell_type": "code",
   "execution_count": 25,
   "metadata": {},
   "outputs": [
    {
     "name": "stdout",
     "output_type": "stream",
     "text": [
      "golf1\n",
      "golf2\n",
      "golf3\n",
      "golf4\n"
     ]
    }
   ],
   "source": [
    "for filename in sorted(glob.glob(video_path)):\n",
    "    file, ext = os.path.splitext(filename)\n",
    "    itemname = file.split('/')[-1]\n",
    "    print(itemname)"
   ]
  },
  {
   "cell_type": "code",
   "execution_count": 26,
   "metadata": {},
   "outputs": [
    {
     "name": "stdout",
     "output_type": "stream",
     "text": [
      "videos_stream_jan4/golf1.mp4\n",
      "[MoviePy] >>>> Building video videos_stream_out/golf1_out.mp4\n",
      "[MoviePy] Writing video videos_stream_out/golf1_out.mp4\n"
     ]
    },
    {
     "name": "stderr",
     "output_type": "stream",
     "text": [
      "100%|█████████▉| 22716/22717 [27:58<00:00, 13.53it/s]\n"
     ]
    },
    {
     "name": "stdout",
     "output_type": "stream",
     "text": [
      "[MoviePy] Done.\n",
      "[MoviePy] >>>> Video ready: videos_stream_out/golf1_out.mp4 \n",
      "\n",
      "CPU times: user 24min 44s, sys: 1min 17s, total: 26min 1s\n",
      "Wall time: 27min 59s\n",
      "[MoviePy] >>>> Building video videos_stream_out/golf1_subclip_0.mp4\n",
      "[MoviePy] Writing video videos_stream_out/golf1_subclip_0.mp4\n"
     ]
    },
    {
     "name": "stderr",
     "output_type": "stream",
     "text": [
      "100%|█████████▉| 600/601 [00:04<00:00, 130.53it/s]\n"
     ]
    },
    {
     "name": "stdout",
     "output_type": "stream",
     "text": [
      "[MoviePy] Done.\n",
      "[MoviePy] >>>> Video ready: videos_stream_out/golf1_subclip_0.mp4 \n",
      "\n",
      "CPU times: user 548 ms, sys: 420 ms, total: 968 ms\n",
      "Wall time: 4.86 s\n",
      "[MoviePy] >>>> Building video videos_stream_out/golf1_subclip_1.mp4\n",
      "[MoviePy] Writing video videos_stream_out/golf1_subclip_1.mp4\n"
     ]
    },
    {
     "name": "stderr",
     "output_type": "stream",
     "text": [
      "100%|█████████▉| 600/601 [00:04<00:00, 122.37it/s]\n"
     ]
    },
    {
     "name": "stdout",
     "output_type": "stream",
     "text": [
      "[MoviePy] Done.\n",
      "[MoviePy] >>>> Video ready: videos_stream_out/golf1_subclip_1.mp4 \n",
      "\n",
      "CPU times: user 552 ms, sys: 400 ms, total: 952 ms\n",
      "Wall time: 5.24 s\n",
      "[MoviePy] >>>> Building video videos_stream_out/golf1_subclip_2.mp4\n",
      "[MoviePy] Writing video videos_stream_out/golf1_subclip_2.mp4\n"
     ]
    },
    {
     "name": "stderr",
     "output_type": "stream",
     "text": [
      "100%|█████████▉| 600/601 [00:04<00:00, 120.89it/s]\n"
     ]
    },
    {
     "name": "stdout",
     "output_type": "stream",
     "text": [
      "[MoviePy] Done.\n",
      "[MoviePy] >>>> Video ready: videos_stream_out/golf1_subclip_2.mp4 \n",
      "\n",
      "CPU times: user 644 ms, sys: 348 ms, total: 992 ms\n",
      "Wall time: 5.31 s\n",
      "[MoviePy] >>>> Building video videos_stream_out/golf1_subclip_3.mp4\n",
      "[MoviePy] Writing video videos_stream_out/golf1_subclip_3.mp4\n"
     ]
    },
    {
     "name": "stderr",
     "output_type": "stream",
     "text": [
      "100%|█████████▉| 600/601 [00:04<00:00, 132.08it/s]\n"
     ]
    },
    {
     "name": "stdout",
     "output_type": "stream",
     "text": [
      "[MoviePy] Done.\n",
      "[MoviePy] >>>> Video ready: videos_stream_out/golf1_subclip_3.mp4 \n",
      "\n",
      "CPU times: user 568 ms, sys: 440 ms, total: 1.01 s\n",
      "Wall time: 4.85 s\n",
      "[MoviePy] >>>> Building video videos_stream_out/golf1_subclip_4.mp4\n",
      "[MoviePy] Writing video videos_stream_out/golf1_subclip_4.mp4\n"
     ]
    },
    {
     "name": "stderr",
     "output_type": "stream",
     "text": [
      "100%|█████████▉| 600/601 [00:04<00:00, 123.14it/s]\n"
     ]
    },
    {
     "name": "stdout",
     "output_type": "stream",
     "text": [
      "[MoviePy] Done.\n",
      "[MoviePy] >>>> Video ready: videos_stream_out/golf1_subclip_4.mp4 \n",
      "\n",
      "CPU times: user 552 ms, sys: 420 ms, total: 972 ms\n",
      "Wall time: 5.22 s\n",
      "[MoviePy] >>>> Building video videos_stream_out/golf1_subclip_5.mp4\n",
      "[MoviePy] Writing video videos_stream_out/golf1_subclip_5.mp4\n"
     ]
    },
    {
     "name": "stderr",
     "output_type": "stream",
     "text": [
      "100%|█████████▉| 600/601 [00:04<00:00, 121.53it/s]\n"
     ]
    },
    {
     "name": "stdout",
     "output_type": "stream",
     "text": [
      "[MoviePy] Done.\n",
      "[MoviePy] >>>> Video ready: videos_stream_out/golf1_subclip_5.mp4 \n",
      "\n",
      "CPU times: user 568 ms, sys: 428 ms, total: 996 ms\n",
      "Wall time: 5.24 s\n",
      "[MoviePy] >>>> Building video videos_stream_out/golf1_subclip_6.mp4\n",
      "[MoviePy] Writing video videos_stream_out/golf1_subclip_6.mp4\n"
     ]
    },
    {
     "name": "stderr",
     "output_type": "stream",
     "text": [
      "100%|█████████▉| 600/601 [00:04<00:00, 120.89it/s]\n"
     ]
    },
    {
     "name": "stdout",
     "output_type": "stream",
     "text": [
      "[MoviePy] Done.\n",
      "[MoviePy] >>>> Video ready: videos_stream_out/golf1_subclip_6.mp4 \n",
      "\n",
      "CPU times: user 580 ms, sys: 408 ms, total: 988 ms\n",
      "Wall time: 5.31 s\n",
      "[MoviePy] >>>> Building video videos_stream_out/golf1_subclip_7.mp4\n",
      "[MoviePy] Writing video videos_stream_out/golf1_subclip_7.mp4\n"
     ]
    },
    {
     "name": "stderr",
     "output_type": "stream",
     "text": [
      "100%|█████████▉| 600/601 [00:04<00:00, 121.02it/s]\n"
     ]
    },
    {
     "name": "stdout",
     "output_type": "stream",
     "text": [
      "[MoviePy] Done.\n",
      "[MoviePy] >>>> Video ready: videos_stream_out/golf1_subclip_7.mp4 \n",
      "\n",
      "CPU times: user 500 ms, sys: 500 ms, total: 1 s\n",
      "Wall time: 5.33 s\n",
      "videos_stream_jan4/golf2.mp4\n",
      "[MoviePy] >>>> Building video videos_stream_out/golf2_out.mp4\n",
      "[MoviePy] Writing video videos_stream_out/golf2_out.mp4\n"
     ]
    },
    {
     "name": "stderr",
     "output_type": "stream",
     "text": [
      "100%|██████████| 2479/2479 [03:02<00:00, 13.57it/s]\n"
     ]
    },
    {
     "name": "stdout",
     "output_type": "stream",
     "text": [
      "[MoviePy] Done.\n",
      "[MoviePy] >>>> Video ready: videos_stream_out/golf2_out.mp4 \n",
      "\n",
      "CPU times: user 2min 41s, sys: 8.42 s, total: 2min 50s\n",
      "Wall time: 3min 3s\n",
      "[MoviePy] >>>> Building video videos_stream_out/golf2_subclip_0.mp4\n",
      "[MoviePy] Writing video videos_stream_out/golf2_subclip_0.mp4\n"
     ]
    },
    {
     "name": "stderr",
     "output_type": "stream",
     "text": [
      "100%|█████████▉| 600/601 [00:04<00:00, 121.50it/s]\n"
     ]
    },
    {
     "name": "stdout",
     "output_type": "stream",
     "text": [
      "[MoviePy] Done.\n",
      "[MoviePy] >>>> Video ready: videos_stream_out/golf2_subclip_0.mp4 \n",
      "\n",
      "CPU times: user 540 ms, sys: 408 ms, total: 948 ms\n",
      "Wall time: 5.28 s\n",
      "videos_stream_jan4/golf3.mp4\n",
      "[MoviePy] >>>> Building video videos_stream_out/golf3_out.mp4\n",
      "[MoviePy] Writing video videos_stream_out/golf3_out.mp4\n"
     ]
    },
    {
     "name": "stderr",
     "output_type": "stream",
     "text": [
      "100%|██████████| 11711/11711 [14:51<00:00, 13.13it/s]"
     ]
    },
    {
     "name": "stdout",
     "output_type": "stream",
     "text": [
      "[MoviePy] Done.\n",
      "[MoviePy] >>>> Video ready: videos_stream_out/golf3_out.mp4 \n",
      "\n"
     ]
    },
    {
     "name": "stderr",
     "output_type": "stream",
     "text": [
      "\n"
     ]
    },
    {
     "name": "stdout",
     "output_type": "stream",
     "text": [
      "CPU times: user 12min 44s, sys: 1min 8s, total: 13min 53s\n",
      "Wall time: 14min 52s\n",
      "[MoviePy] >>>> Building video videos_stream_out/golf3_subclip_0.mp4\n",
      "[MoviePy] Writing video videos_stream_out/golf3_subclip_0.mp4\n"
     ]
    },
    {
     "name": "stderr",
     "output_type": "stream",
     "text": [
      "100%|█████████▉| 600/601 [00:04<00:00, 114.14it/s]\n"
     ]
    },
    {
     "name": "stdout",
     "output_type": "stream",
     "text": [
      "[MoviePy] Done.\n",
      "[MoviePy] >>>> Video ready: videos_stream_out/golf3_subclip_0.mp4 \n",
      "\n",
      "CPU times: user 588 ms, sys: 340 ms, total: 928 ms\n",
      "Wall time: 5.11 s\n",
      "[MoviePy] >>>> Building video videos_stream_out/golf3_subclip_1.mp4\n",
      "[MoviePy] Writing video videos_stream_out/golf3_subclip_1.mp4\n"
     ]
    },
    {
     "name": "stderr",
     "output_type": "stream",
     "text": [
      "100%|█████████▉| 600/601 [00:04<00:00, 130.91it/s]\n"
     ]
    },
    {
     "name": "stdout",
     "output_type": "stream",
     "text": [
      "[MoviePy] Done.\n",
      "[MoviePy] >>>> Video ready: videos_stream_out/golf3_subclip_1.mp4 \n",
      "\n",
      "CPU times: user 620 ms, sys: 336 ms, total: 956 ms\n",
      "Wall time: 4.92 s\n",
      "[MoviePy] >>>> Building video videos_stream_out/golf3_subclip_2.mp4\n",
      "[MoviePy] Writing video videos_stream_out/golf3_subclip_2.mp4\n"
     ]
    },
    {
     "name": "stderr",
     "output_type": "stream",
     "text": [
      "100%|█████████▉| 600/601 [00:04<00:00, 126.49it/s]\n"
     ]
    },
    {
     "name": "stdout",
     "output_type": "stream",
     "text": [
      "[MoviePy] Done.\n",
      "[MoviePy] >>>> Video ready: videos_stream_out/golf3_subclip_2.mp4 \n",
      "\n",
      "CPU times: user 596 ms, sys: 368 ms, total: 964 ms\n",
      "Wall time: 5.07 s\n",
      "videos_stream_jan4/golf4.mp4\n",
      "[MoviePy] >>>> Building video videos_stream_out/golf4_out.mp4\n",
      "[MoviePy] Writing video videos_stream_out/golf4_out.mp4\n"
     ]
    },
    {
     "name": "stderr",
     "output_type": "stream",
     "text": [
      "100%|██████████| 2951/2951 [03:39<00:00, 13.47it/s]\n"
     ]
    },
    {
     "name": "stdout",
     "output_type": "stream",
     "text": [
      "[MoviePy] Done.\n",
      "[MoviePy] >>>> Video ready: videos_stream_out/golf4_out.mp4 \n",
      "\n",
      "CPU times: user 3min 13s, sys: 11 s, total: 3min 24s\n",
      "Wall time: 3min 39s\n",
      "[MoviePy] >>>> Building video videos_stream_out/golf4_subclip_0.mp4\n",
      "[MoviePy] Writing video videos_stream_out/golf4_subclip_0.mp4\n"
     ]
    },
    {
     "name": "stderr",
     "output_type": "stream",
     "text": [
      "100%|██████████| 537/537 [00:03<00:00, 139.54it/s]\n"
     ]
    },
    {
     "name": "stdout",
     "output_type": "stream",
     "text": [
      "[MoviePy] Done.\n",
      "[MoviePy] >>>> Video ready: videos_stream_out/golf4_subclip_0.mp4 \n",
      "\n",
      "CPU times: user 508 ms, sys: 360 ms, total: 868 ms\n",
      "Wall time: 4.16 s\n",
      "[MoviePy] >>>> Building video videos_stream_out/golf4_subclip_1.mp4\n",
      "[MoviePy] Writing video videos_stream_out/golf4_subclip_1.mp4\n"
     ]
    },
    {
     "name": "stderr",
     "output_type": "stream",
     "text": [
      "100%|█████████▉| 600/601 [00:04<00:00, 129.58it/s]\n"
     ]
    },
    {
     "name": "stdout",
     "output_type": "stream",
     "text": [
      "[MoviePy] Done.\n",
      "[MoviePy] >>>> Video ready: videos_stream_out/golf4_subclip_1.mp4 \n",
      "\n",
      "CPU times: user 572 ms, sys: 396 ms, total: 968 ms\n",
      "Wall time: 4.95 s\n",
      "[MoviePy] >>>> Building video videos_stream_out/golf4_subclip_2.mp4\n",
      "[MoviePy] Writing video videos_stream_out/golf4_subclip_2.mp4\n"
     ]
    },
    {
     "name": "stderr",
     "output_type": "stream",
     "text": [
      "100%|█████████▉| 600/601 [00:04<00:00, 133.52it/s]\n"
     ]
    },
    {
     "name": "stdout",
     "output_type": "stream",
     "text": [
      "[MoviePy] Done.\n",
      "[MoviePy] >>>> Video ready: videos_stream_out/golf4_subclip_2.mp4 \n",
      "\n",
      "CPU times: user 612 ms, sys: 364 ms, total: 976 ms\n",
      "Wall time: 4.79 s\n",
      "[MoviePy] >>>> Building video videos_stream_out/golf4_subclip_3.mp4\n",
      "[MoviePy] Writing video videos_stream_out/golf4_subclip_3.mp4\n"
     ]
    },
    {
     "name": "stderr",
     "output_type": "stream",
     "text": [
      "100%|█████████▉| 600/601 [00:04<00:00, 124.21it/s]\n"
     ]
    },
    {
     "name": "stdout",
     "output_type": "stream",
     "text": [
      "[MoviePy] Done.\n",
      "[MoviePy] >>>> Video ready: videos_stream_out/golf4_subclip_3.mp4 \n",
      "\n",
      "CPU times: user 588 ms, sys: 420 ms, total: 1.01 s\n",
      "Wall time: 5.18 s\n"
     ]
    }
   ],
   "source": [
    "for filename in sorted(glob.glob(video_path)):\n",
    "    print(filename)\n",
    "    file, ext = os.path.splitext(filename)\n",
    "    itemname = file.split('/')[-1]\n",
    "    new_filename = itemname + \"_\" + 'out' + '.mp4'\n",
    "   \n",
    "    new_loc = os.path.join(videoout_folder, new_filename)\n",
    "    \n",
    "    #Initialize all start vars that are run when the script kicks off\n",
    "    counter = 0\n",
    "    count_list = []\n",
    "#     start_time = timeit.default_timer()\n",
    "\n",
    "    \n",
    "    white_output = new_loc\n",
    "    clip1 = VideoFileClip(filename)\n",
    "    num_frames = sum(1 for x in clip1.iter_frames())\n",
    "    duration = clip1.duration\n",
    "    fps = num_frames/duration\n",
    "\n",
    "    white_clip = clip1.fl_image(process_image) #NOTE: this function expects color images!!s\n",
    "    %time white_clip.write_videofile(white_output, audio=False)\n",
    "    \n",
    "    \n",
    "    n_frames = 12\n",
    "    threshold = 10\n",
    "\n",
    "    #Tiger clip, good params - n_frames =5 and threshold = 3\n",
    "    frame_list = []\n",
    "    for i in range(0, len(count_list)-n_frames-1):\n",
    "        total_cnts = 0\n",
    "        chunk = count_list[i:i+n_frames]\n",
    "        for dictionary in chunk:\n",
    "    #         print(dictionary)\n",
    "            for key, val in dictionary.items():\n",
    "                if val == True:\n",
    "                    total_cnts += 1\n",
    "        if total_cnts >= threshold:\n",
    "            frame_list.append(key)\n",
    "            \n",
    "            \n",
    "    clusters = {}  \n",
    "    dIndex = 0 \n",
    "    frames_to_clip = []\n",
    "    for i in range(len(frame_list)-1) :\n",
    "        if frame_list[i+1] - frame_list[i] <= 200 :  #can be set to fps*5\n",
    "            if not clusters.has_key(dIndex) : clusters[dIndex] = []\n",
    "            clusters[dIndex].append(frame_list[i])\n",
    "            clusters[dIndex].append(frame_list[i+1])\n",
    "        else : dIndex += 1\n",
    "\n",
    "    for key in clusters:\n",
    "        val = clusters[key]\n",
    "        avg_l = sum(val) / float(len(val))\n",
    "        frames_to_clip.append(int(avg_l))\n",
    "\n",
    "\n",
    "    timestamp_array = (np.array(frames_to_clip, dtype='f')/num_frames)*duration\n",
    "    for val in timestamp_array:\n",
    "        m, s = divmod(val, 60)\n",
    "        timestamps_dict[itemname] = (m,s)\n",
    "        \n",
    "        \n",
    "    #Cut clip logic\n",
    "    for i in range(len(timestamp_array)):\n",
    "        start_time = timestamp_array[i]-5  # Update to how many secs before you want to clip\n",
    "        end_time = timestamp_array[i]+12    # Update to how many secs after you want to clip\n",
    "        if start_time <0 :\n",
    "            start_time = 0\n",
    "        if end_time > duration:\n",
    "            end_time = duration\n",
    "        new_filename = itemname + \"_\" + 'subclip_' + str(i) + '.mp4'\n",
    "\n",
    "        new_loc = os.path.join(videoout_folder, new_filename)\n",
    "        clip1 = VideoFileClip(filename)\n",
    "        newclip = clip1.subclip(start_time,end_time)\n",
    "        %time newclip.write_videofile(new_loc, audio=False)\n",
    "            \n",
    "    "
   ]
  },
  {
   "cell_type": "code",
   "execution_count": 27,
   "metadata": {},
   "outputs": [
    {
     "name": "stdout",
     "output_type": "stream",
     "text": [
      "{'golf4': (1.0, 0.9958648681640625), 'golf1': (11.0, 50.06671142578125), 'golf3': (5.0, 33.185791015625), 'golf2': (0.0, 50.719005584716797)}\n"
     ]
    }
   ],
   "source": [
    "print(timestamps_dict)"
   ]
  },
  {
   "cell_type": "code",
   "execution_count": null,
   "metadata": {},
   "outputs": [],
   "source": []
  }
 ],
 "metadata": {
  "anaconda-cloud": {},
  "kernelspec": {
   "display_name": "Python 2",
   "language": "python",
   "name": "python2"
  },
  "language_info": {
   "codemirror_mode": {
    "name": "ipython",
    "version": 2
   },
   "file_extension": ".py",
   "mimetype": "text/x-python",
   "name": "python",
   "nbconvert_exporter": "python",
   "pygments_lexer": "ipython2",
   "version": "2.7.12"
  }
 },
 "nbformat": 4,
 "nbformat_minor": 2
}
