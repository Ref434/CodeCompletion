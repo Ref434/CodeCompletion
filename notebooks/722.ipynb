{
 "cells": [
  {
   "cell_type": "markdown",
   "id": "39df2886-623e-47ec-bbe7-b0198165e01f",
   "metadata": {},
   "source": [
    "# 2 基于jsonpath-ng的进阶JSON数据处理方法"
   ]
  },
  {
   "cell_type": "markdown",
   "id": "0208fe99-0cc3-4bbd-a8e9-6337781e6430",
   "metadata": {},
   "source": [
    "## 2.1 JSON数据的增删改"
   ]
  },
  {
   "cell_type": "code",
   "execution_count": 1,
   "id": "f5e97159-2610-479c-ba24-28b763d4b012",
   "metadata": {
    "tags": []
   },
   "outputs": [
    {
     "data": {
      "text/plain": [
       "'59'"
      ]
     },
     "execution_count": 1,
     "metadata": {},
     "output_type": "execute_result"
    }
   ],
   "source": [
    "import json\n",
    "from jsonpath_ng import parse\n",
    "\n",
    "# 读入示例json数据\n",
    "with open('json示例.json', encoding='utf-8') as j:\n",
    "    demo_json = json.loads(j.read())\n",
    "    \n",
    "# 构造指定JSONPath模式对应的解析器\n",
    "parser = parse('$..paths..steps[*].duration')\n",
    "\n",
    "# 利用解析器的find方法找到目标数据中所有满足条件的节点\n",
    "matches = parser.find(demo_json)\n",
    "\n",
    "# 利用value属性取得对应匹配结果的值\n",
    "matches[0].value"
   ]
  },
  {
   "cell_type": "markdown",
   "id": "e640341a-cbb3-470a-a160-3ae99518d34b",
   "metadata": {},
   "source": [
    "### 2.1.1 对JSON数据进行增操作"
   ]
  },
  {
   "cell_type": "code",
   "execution_count": 2,
   "id": "f69542e2-61b2-4d70-865c-a82ef8d86c79",
   "metadata": {},
   "outputs": [
    {
     "data": {
      "text/plain": [
       "{'level1': [{'level2': {'level3': {}}}, {'level2': {'level3': 12}}]}"
      ]
     },
     "execution_count": 2,
     "metadata": {},
     "output_type": "execute_result"
    }
   ],
   "source": [
    "# 构造示例数据\n",
    "demo_json = {\n",
    "    'level1': [\n",
    "        {\n",
    "            'level2': {}\n",
    "        },\n",
    "        {\n",
    "            'level2': {\n",
    "                'level3': 12\n",
    "            }\n",
    "        }\n",
    "    ]\n",
    "}\n",
    "\n",
    "# 构造规则解释器，所有除去最后一层节点规则外可以匹配到的节点\n",
    "# 都属于合法匹配结果，会在匹配结果列表中出现\n",
    "parser = parse('level1[*].level2.level3')\n",
    "\n",
    "matches = parser.find_or_create(demo_json)\n",
    "\n",
    "demo_json"
   ]
  },
  {
   "cell_type": "code",
   "execution_count": 3,
   "id": "e27e248f-02f6-4c71-8645-a83d1a4c6c08",
   "metadata": {},
   "outputs": [
    {
     "data": {
      "text/plain": [
       "{'level1': [{'level2': {'level3': 999}}, {'level2': {'level3': 12}}]}"
      ]
     },
     "execution_count": 3,
     "metadata": {},
     "output_type": "execute_result"
    }
   ],
   "source": [
    "for match in matches:\n",
    "    if match.value == {}:\n",
    "        # 更新原始输入的JSON数据\n",
    "        match.full_path.update_or_create(demo_json, 999)\n",
    "\n",
    "demo_json"
   ]
  },
  {
   "cell_type": "markdown",
   "id": "f2aabc43-c4e8-4fff-a064-a512475375c8",
   "metadata": {},
   "source": [
    "### 2.1.2  对JSON数据进行删操作"
   ]
  },
  {
   "cell_type": "code",
   "execution_count": 4,
   "id": "30a4c759-a6dc-4eda-891b-0dded064ab6a",
   "metadata": {},
   "outputs": [
    {
     "data": {
      "text/plain": [
       "{'level1': [{'level2': {}}, {'level2': {'level3': 12}}]}"
      ]
     },
     "execution_count": 4,
     "metadata": {},
     "output_type": "execute_result"
    }
   ],
   "source": [
    "parser = parse('level1[*].level2.level3')\n",
    "\n",
    "# 过滤 level1[*].level2.level3 规则下值为 999 的节点\n",
    "parser.filter(lambda x: x == 999, demo_json)\n",
    "demo_json"
   ]
  },
  {
   "cell_type": "markdown",
   "id": "4376d2ac-0ba2-40bd-828f-13547112955b",
   "metadata": {},
   "source": [
    "### 2.1.3  对JSON数据进行改操作"
   ]
  },
  {
   "cell_type": "code",
   "execution_count": 5,
   "id": "8664c3ec-4c37-42c3-bdff-1f8b18c524d8",
   "metadata": {},
   "outputs": [
    {
     "data": {
      "text/plain": [
       "{'level1': [{'level2': {}}, {'level2': {'level3': 100}}]}"
      ]
     },
     "execution_count": 5,
     "metadata": {},
     "output_type": "execute_result"
    }
   ],
   "source": [
    "parser = parse('level1[*].level2.level3')\n",
    "\n",
    "# 以 只更新全路径匹配结果 的策略修改JSON数据\n",
    "parser.update(demo_json, 100)"
   ]
  },
  {
   "cell_type": "code",
   "execution_count": 6,
   "id": "6e752eb9-4313-4a32-a5cc-00dd114ecb8f",
   "metadata": {},
   "outputs": [
    {
     "data": {
      "text/plain": [
       "{'level1': [{'level2': {'level3': 200}}, {'level2': {'level3': 200}}]}"
      ]
     },
     "execution_count": 6,
     "metadata": {},
     "output_type": "execute_result"
    }
   ],
   "source": [
    "# 使用 有则更新，无则新建 的策略修改JSON数据\n",
    "parser.update_or_create(demo_json, 200)"
   ]
  }
 ],
 "metadata": {
  "kernelspec": {
   "display_name": "Python 3 (ipykernel)",
   "language": "python",
   "name": "python3"
  },
  "language_info": {
   "codemirror_mode": {
    "name": "ipython",
    "version": 3
   },
   "file_extension": ".py",
   "mimetype": "text/x-python",
   "name": "python",
   "nbconvert_exporter": "python",
   "pygments_lexer": "ipython3",
   "version": "3.7.10"
  }
 },
 "nbformat": 4,
 "nbformat_minor": 5
}
