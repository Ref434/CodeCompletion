{
 "cells": [
  {
   "cell_type": "code",
   "execution_count": 1,
   "metadata": {},
   "outputs": [],
   "source": [
    "import warnings\n",
    "\n",
    "warnings.filterwarnings('ignore')"
   ]
  },
  {
   "cell_type": "markdown",
   "metadata": {},
   "source": [
    "# 2 geoplot高级API"
   ]
  },
  {
   "cell_type": "markdown",
   "metadata": {},
   "source": [
    "## 2.1 Choropleth"
   ]
  },
  {
   "cell_type": "code",
   "execution_count": 2,
   "metadata": {},
   "outputs": [],
   "source": [
    "import geopandas as gpd\n",
    "import geoplot as gplt\n",
    "import geoplot.crs as gcrs\n",
    "import pandas as pd\n",
    "import matplotlib.pyplot as plt\n",
    "import matplotlib.patches as mpatches # 用于自定义图例\n",
    "import mapclassify as mc # 用于分层设色\n",
    "\n",
    "plt.rcParams['font.sans-serif'] = ['SimHei'] # 解决中文乱码"
   ]
  },
  {
   "cell_type": "code",
   "execution_count": 3,
   "metadata": {},
   "outputs": [
    {
     "data": {
      "text/html": [
       "<div>\n",
       "<style scoped>\n",
       "    .dataframe tbody tr th:only-of-type {\n",
       "        vertical-align: middle;\n",
       "    }\n",
       "\n",
       "    .dataframe tbody tr th {\n",
       "        vertical-align: top;\n",
       "    }\n",
       "\n",
       "    .dataframe thead th {\n",
       "        text-align: right;\n",
       "    }\n",
       "</style>\n",
       "<table border=\"1\" class=\"dataframe\">\n",
       "  <thead>\n",
       "    <tr style=\"text-align: right;\">\n",
       "      <th></th>\n",
       "      <th>state</th>\n",
       "      <th>adm1_code</th>\n",
       "      <th>population</th>\n",
       "      <th>geometry</th>\n",
       "    </tr>\n",
       "  </thead>\n",
       "  <tbody>\n",
       "    <tr>\n",
       "      <th>0</th>\n",
       "      <td>Minnesota</td>\n",
       "      <td>USA-3514</td>\n",
       "      <td>5303925</td>\n",
       "      <td>POLYGON ((-89.59941 48.01027, -89.48888 48.013...</td>\n",
       "    </tr>\n",
       "    <tr>\n",
       "      <th>1</th>\n",
       "      <td>Montana</td>\n",
       "      <td>USA-3515</td>\n",
       "      <td>989415</td>\n",
       "      <td>POLYGON ((-111.19419 44.56116, -111.29155 44.7...</td>\n",
       "    </tr>\n",
       "    <tr>\n",
       "      <th>2</th>\n",
       "      <td>North Dakota</td>\n",
       "      <td>USA-3516</td>\n",
       "      <td>672591</td>\n",
       "      <td>POLYGON ((-96.60136 46.35136, -96.53891 46.199...</td>\n",
       "    </tr>\n",
       "    <tr>\n",
       "      <th>3</th>\n",
       "      <td>Idaho</td>\n",
       "      <td>USA-3518</td>\n",
       "      <td>1567582</td>\n",
       "      <td>POLYGON ((-111.04973 44.48816, -111.05025 42.0...</td>\n",
       "    </tr>\n",
       "    <tr>\n",
       "      <th>4</th>\n",
       "      <td>Washington</td>\n",
       "      <td>USA-3519</td>\n",
       "      <td>6724540</td>\n",
       "      <td>POLYGON ((-116.99807 46.33017, -116.90653 46.1...</td>\n",
       "    </tr>\n",
       "  </tbody>\n",
       "</table>\n",
       "</div>"
      ],
      "text/plain": [
       "          state adm1_code  population  \\\n",
       "0     Minnesota  USA-3514     5303925   \n",
       "1       Montana  USA-3515      989415   \n",
       "2  North Dakota  USA-3516      672591   \n",
       "3         Idaho  USA-3518     1567582   \n",
       "4    Washington  USA-3519     6724540   \n",
       "\n",
       "                                            geometry  \n",
       "0  POLYGON ((-89.59941 48.01027, -89.48888 48.013...  \n",
       "1  POLYGON ((-111.19419 44.56116, -111.29155 44.7...  \n",
       "2  POLYGON ((-96.60136 46.35136, -96.53891 46.199...  \n",
       "3  POLYGON ((-111.04973 44.48816, -111.05025 42.0...  \n",
       "4  POLYGON ((-116.99807 46.33017, -116.90653 46.1...  "
      ]
     },
     "execution_count": 3,
     "metadata": {},
     "output_type": "execute_result"
    }
   ],
   "source": [
    "# 读入美国本土各州面数据\n",
    "contiguous_usa = gpd.read_file('geometry/contiguous-usa.geojson')\n",
    "contiguous_usa.head()"
   ]
  },
  {
   "cell_type": "code",
   "execution_count": null,
   "metadata": {},
   "outputs": [
    {
     "name": "stdout",
     "output_type": "stream",
     "text": [
      "<class 'pandas.core.frame.DataFrame'>\n",
      "RangeIndex: 58 entries, 0 to 57\n",
      "Data columns (total 18 columns):\n",
      " #   Column                Non-Null Count  Dtype  \n",
      "---  ------                --------------  -----  \n",
      " 0   Province_State        58 non-null     object \n",
      " 1   Country_Region        58 non-null     object \n",
      " 2   Last_Update           58 non-null     object \n",
      " 3   Lat                   56 non-null     float64\n",
      " 4   Long_                 56 non-null     float64\n",
      " 5   Confirmed             58 non-null     int64  \n",
      " 6   Deaths                58 non-null     int64  \n",
      " 7   Recovered             42 non-null     float64\n",
      " 8   Active                58 non-null     float64\n",
      " 9   FIPS                  58 non-null     int64  \n",
      " 10  Incident_Rate         56 non-null     float64\n",
      " 11  People_Tested         56 non-null     float64\n",
      " 12  People_Hospitalized   33 non-null     float64\n",
      " 13  Mortality_Rate        57 non-null     float64\n",
      " 14  UID                   58 non-null     int64  \n",
      " 15  ISO3                  58 non-null     object \n",
      " 16  Testing_Rate          56 non-null     float64\n",
      " 17  Hospitalization_Rate  33 non-null     float64\n",
      "dtypes: float64(10), int64(4), object(4)\n",
      "memory usage: 8.3+ KB\n"
     ]
    }
   ],
   "source": [
    "# 读入美国新冠肺炎确诊分布数据2020.05.14\n",
    "usa_covid19_20200514 = pd.read_csv('05-14-2020.csv')\n",
    "usa_covid19_20200514.info()"
   ]
  },
  {
   "cell_type": "code",
   "execution_count": null,
   "metadata": {},
   "outputs": [],
   "source": [
    "# 按照州名列进行连接\n",
    "usa_plot_base = pd.merge(left=contiguous_usa,\n",
    "                         right=usa_covid19_20200514,\n",
    "                         left_on='state',\n",
    "                         right_on='Province_State')\n",
    "\n",
    "# 转换DataFrame到GeoDataFrame，注意要加上crs信息\n",
    "usa_plot_base = gpd.GeoDataFrame(usa_plot_base, crs='EPSG:4326')"
   ]
  },
  {
   "cell_type": "code",
   "execution_count": null,
   "metadata": {},
   "outputs": [],
   "source": [
    "# 图层1：除最严重两州之外的其他州\n",
    "ax = gplt.choropleth(df=usa_plot_base.query(\"state not in ['New York', 'New Jersey']\"),\n",
    "                     projection=gcrs.AlbersEqualArea(),\n",
    "                     hue='Confirmed',\n",
    "                     scheme=mc.FisherJenks(usa_plot_base.query(\"state not in ['New York', 'New Jersey']\")['Confirmed'], k=3),\n",
    "                     cmap='Reds',\n",
    "                     alpha=0.8,\n",
    "                     edgecolor='lightgrey',\n",
    "                     linewidth=0.2,\n",
    "                     figsize=(8, 8)\n",
    "                     )\n",
    "\n",
    "# 图层2：纽约州\n",
    "ax = gplt.polyplot(df=usa_plot_base.query(\"state == 'New York'\"),\n",
    "                   hatch='/////',\n",
    "                   edgecolor='black',\n",
    "                   ax=ax)\n",
    "\n",
    "# 图层3：新泽西州\n",
    "ax = gplt.polyplot(df=usa_plot_base.query(\"state == 'New Jersey'\"),\n",
    "                   hatch='/////',\n",
    "                   edgecolor='red',\n",
    "                   extent=usa_plot_base.total_bounds,\n",
    "                   ax=ax)\n",
    "\n",
    "# 实例化cmap方案\n",
    "cmap = plt.get_cmap('Reds')\n",
    "\n",
    "# 得到mapclassify中BoxPlot的数据分层点\n",
    "bp = mc.FisherJenks(usa_plot_base.query(\"state not in ['New York', 'New Jersey']\")['Confirmed'], k=3)\n",
    "bins = [0] + bp.bins.tolist()\n",
    "\n",
    "# 制作图例映射对象列表，这里分配Greys方案到三种色彩时对应的是[0, 0.5, 1]这三个采样点\n",
    "LegendElement = [mpatches.Patch(facecolor=cmap(_ / 2), label=f'{int(bins[_])}-{int(bins[_+1])}') \n",
    "                 for _ in range(3)] + \\\n",
    "                [mpatches.Patch(facecolor='none', \n",
    "                                edgecolor='black', \n",
    "                                linewidth=0.2,\n",
    "                                hatch='/////', \n",
    "                                label='New York: {}'.format(usa_plot_base.query(\"state == \\\"New York\\\"\").Confirmed.to_list()[0])),\n",
    "                 mpatches.Patch(facecolor='none', \n",
    "                                edgecolor='red', \n",
    "                                linewidth=0.2,\n",
    "                                hatch='/////', \n",
    "                                label='New Jersey: {}'.format(usa_plot_base.query(\"state == \\\"New Jersey\\\"\").Confirmed.to_list()[0]))]\n",
    "\n",
    "# 将制作好的图例映射对象列表导入legend()中，并配置相关参数\n",
    "ax.legend(handles = LegendElement, \n",
    "          loc='lower left', \n",
    "          fontsize=8, \n",
    "          title='确诊数量', \n",
    "          title_fontsize=10, \n",
    "          borderpad=0.6)\n",
    "\n",
    "# 添加标题\n",
    "plt.title('美国新冠肺炎各州病例数(截至2020.05.14)', fontsize=18)\n",
    "\n",
    "# 保存图像\n",
    "plt.savefig('图4.png', dpi=300, pad_inches=0, bbox_inches='tight')"
   ]
  },
  {
   "cell_type": "markdown",
   "metadata": {},
   "source": [
    "## 2.2 Kdeplot"
   ]
  },
  {
   "cell_type": "code",
   "execution_count": null,
   "metadata": {},
   "outputs": [],
   "source": [
    "# 读入纽约行政区域面文件\n",
    "nyc_boroughs = gpd.read_file('geometry/nyc-boroughs.geojson')\n",
    "\n",
    "# 读入纽约车祸记录点文件\n",
    "nyc_collision_factors = gpd.read_file('geometry/nyc-collision-factors.geojson')"
   ]
  },
  {
   "cell_type": "code",
   "execution_count": null,
   "metadata": {},
   "outputs": [],
   "source": [
    "# 图层1：行政边界\n",
    "ax = gplt.polyplot(df=nyc_boroughs,\n",
    "                   projection=gcrs.AlbersEqualArea())\n",
    "\n",
    "# 图层2：默认参数下的kdeplot\n",
    "ax = gplt.kdeplot(df=nyc_collision_factors,\n",
    "                  cmap='Reds',\n",
    "                  ax=ax,\n",
    "                  figsize=(8, 8))\n",
    "\n",
    "# 保存图像\n",
    "plt.savefig('图5.png', dpi=300, pad_inches=0, bbox_inches='tight')"
   ]
  },
  {
   "cell_type": "code",
   "execution_count": null,
   "metadata": {},
   "outputs": [],
   "source": [
    "# 图层1：行政边界\n",
    "ax = gplt.polyplot(df=nyc_boroughs,\n",
    "                   projection=gcrs.AlbersEqualArea())\n",
    "\n",
    "# 图层2：kdeplot\n",
    "ax = gplt.kdeplot(df=nyc_collision_factors,\n",
    "                  cmap='Reds',\n",
    "                  n_levels=30,\n",
    "                  ax=ax,\n",
    "                  figsize=(8, 8))\n",
    "\n",
    "# 保存图像\n",
    "plt.savefig('图6.png', dpi=300, pad_inches=0, bbox_inches='tight')"
   ]
  },
  {
   "cell_type": "code",
   "execution_count": null,
   "metadata": {},
   "outputs": [],
   "source": [
    "# 图层1：行政边界\n",
    "ax = gplt.polyplot(df=nyc_boroughs,\n",
    "                   projection=gcrs.AlbersEqualArea())\n",
    "\n",
    "# 图层2：kdeplot\n",
    "ax = gplt.kdeplot(df=nyc_collision_factors,\n",
    "                  cmap='Reds',\n",
    "                  shade=True,\n",
    "                  ax=ax,\n",
    "                  figsize=(8, 8))\n",
    "\n",
    "# 保存图像\n",
    "plt.savefig('图7.png', dpi=300, pad_inches=0, bbox_inches='tight')"
   ]
  },
  {
   "cell_type": "code",
   "execution_count": null,
   "metadata": {},
   "outputs": [],
   "source": [
    "# 图层1：行政边界\n",
    "ax = gplt.polyplot(df=nyc_boroughs,\n",
    "                   projection=gcrs.AlbersEqualArea())\n",
    "\n",
    "# 图层2：kdeplot\n",
    "ax = gplt.kdeplot(df=nyc_collision_factors,\n",
    "                  cmap='Reds',\n",
    "                  shade=True,\n",
    "                  shade_lowest=True,\n",
    "                  ax=ax,\n",
    "                  figsize=(8, 8))\n",
    "\n",
    "# 保存图像\n",
    "plt.savefig('图8.png', dpi=300, pad_inches=0, bbox_inches='tight')"
   ]
  },
  {
   "cell_type": "code",
   "execution_count": null,
   "metadata": {},
   "outputs": [],
   "source": [
    "# 图层1：行政边界\n",
    "ax = gplt.polyplot(df=nyc_boroughs,\n",
    "                   projection=gcrs.AlbersEqualArea())\n",
    "\n",
    "# 图层2：kdeplot\n",
    "ax = gplt.kdeplot(df=nyc_collision_factors,\n",
    "                  cmap='Reds',\n",
    "                  shade=True,\n",
    "                  shade_lowest=True,\n",
    "                  clip=nyc_boroughs,\n",
    "                  ax=ax,\n",
    "                  figsize=(8, 8))\n",
    "\n",
    "# 保存图像\n",
    "plt.savefig('图9.png', dpi=300, pad_inches=0, bbox_inches='tight')"
   ]
  },
  {
   "cell_type": "markdown",
   "metadata": {},
   "source": [
    "## 2.3 Sankey"
   ]
  },
  {
   "cell_type": "code",
   "execution_count": null,
   "metadata": {},
   "outputs": [],
   "source": [
    "dc_roads = gpd.read_file('geometry/dc-roads.geojson')\n",
    "dc_roads.head()"
   ]
  },
  {
   "cell_type": "code",
   "execution_count": null,
   "metadata": {},
   "outputs": [],
   "source": [
    "# 选择配色方案为SunsetDark_5\n",
    "from palettable.cartocolors.sequential import SunsetDark_5\n",
    "\n",
    "gplt.sankey(\n",
    "    dc_roads, \n",
    "    projection=gcrs.AlbersEqualArea(),\n",
    "    scale='aadt', \n",
    "    hue='aadt',\n",
    "    limits=(0.1, 2), # 控制线宽范围\n",
    "    scheme=mc.NaturalBreaks(dc_roads['aadt']),\n",
    "    cmap=SunsetDark_5.mpl_colormap,\n",
    "    figsize=(8, 8),\n",
    "    extent=dc_roads.total_bounds\n",
    ")\n",
    "\n",
    "plt.savefig(\"图11.png\", dpi=500, pad_inches=0, bbox_inches='tight')"
   ]
  },
  {
   "cell_type": "markdown",
   "metadata": {},
   "source": [
    "## 2.5 在模仿中学习"
   ]
  },
  {
   "cell_type": "code",
   "execution_count": null,
   "metadata": {},
   "outputs": [],
   "source": [
    "from palettable.cartocolors.sequential import Teal_7_r\n",
    "import matplotlib.font_manager as fm\n",
    "from shapely.geometry import box\n",
    "\n",
    "# 读入世界主要河流线数据\n",
    "world_river = gpd.read_file('geometry/world_rivers_dSe.geojson')\n",
    "# 读入世界海洋面数据\n",
    "world_ocean = gpd.read_file('geometry/world_ocean.shp')\n",
    "\n",
    "# 图层1：世界范围背景色，基于shapely.geometry中的bbox来生成矩形矢量\n",
    "ax = gplt.polyplot(df=gpd.GeoDataFrame({'geometry': [box(-180, -90, 180, 90)]}),\n",
    "                   facecolor='#000026',\n",
    "                   edgecolor='#000026')\n",
    "\n",
    "# 图层2：世界海洋面图层\n",
    "ax = gplt.polyplot(world_ocean,\n",
    "                   facecolor='#00003a',\n",
    "                   edgecolor='#00003a',\n",
    "                   ax=ax)\n",
    "\n",
    "# 图层3：世界主要河流线图层\n",
    "ax = gplt.sankey(world_river,\n",
    "                 scale='StrokeWeig',\n",
    "                 hue='StrokeWeig',\n",
    "                 scheme=mc.Quantiles(world_river['StrokeWeig'], 7),\n",
    "                 cmap=Teal_7_r.mpl_colormap,\n",
    "                 limits=(0.05, 0.4),\n",
    "                 figsize=(8, 8),\n",
    "                 extent=(-180, -90, 180, 90),\n",
    "                 ax=ax)\n",
    "\n",
    "# 添加标题\n",
    "ax.text(0, 0, 'The Rivers of the World', \n",
    "        fontproperties=fm.FontProperties(fname=\"AlexBrush-Regular.ttf\"), # 传入Alex Brush手写字体文件\n",
    "        fontsize=28, \n",
    "        color=Teal_7_r.mpl_colors[-1],\n",
    "        horizontalalignment='center',\n",
    "        verticalalignment='center')\n",
    "\n",
    "# 添加作者信息及数据来源\n",
    "ax.text(0, -15, 'Visualization by CNFeffery  -  Data by Natural Earth', \n",
    "        fontproperties=fm.FontProperties(fname=\"AlexBrush-Regular.ttf\"), \n",
    "        fontsize=8, \n",
    "        color='#599bae',\n",
    "        horizontalalignment='center',\n",
    "        verticalalignment='center')\n",
    "\n",
    "plt.savefig('图13.png', dpi=600, pad_inches=0, bbox_inches='tight')"
   ]
  }
 ],
 "metadata": {
  "kernelspec": {
   "display_name": "Python 3",
   "language": "python",
   "name": "python3"
  },
  "language_info": {
   "codemirror_mode": {
    "name": "ipython",
    "version": 3
   },
   "file_extension": ".py",
   "mimetype": "text/x-python",
   "name": "python",
   "nbconvert_exporter": "python",
   "pygments_lexer": "ipython3",
   "version": "3.7.7"
  },
  "widgets": {
   "application/vnd.jupyter.widget-state+json": {
    "state": {},
    "version_major": 2,
    "version_minor": 0
   }
  }
 },
 "nbformat": 4,
 "nbformat_minor": 4
}
