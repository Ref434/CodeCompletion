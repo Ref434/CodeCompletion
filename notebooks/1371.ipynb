{
 "cells": [
  {
   "cell_type": "markdown",
   "metadata": {},
   "source": [
    "# Compare adaptive solver (only forward mode) with fixed grid RK4\n",
    "\n",
    "Adaptive solver implementation: https://www.tensorflow.org/api_docs/python/tf/contrib/integrate/odeint"
   ]
  },
  {
   "cell_type": "code",
   "execution_count": 1,
   "metadata": {},
   "outputs": [],
   "source": [
    "import numpy as np\n",
    "import numpy.random as npr\n",
    "import tensorflow as tf\n",
    "keras = tf.keras"
   ]
  },
  {
   "cell_type": "code",
   "execution_count": 2,
   "metadata": {},
   "outputs": [],
   "source": [
    "import tensorflow.contrib.eager as tfe\n",
    "tf.enable_eager_execution()"
   ]
  },
  {
   "cell_type": "code",
   "execution_count": 3,
   "metadata": {},
   "outputs": [],
   "source": [
    "class NNModuleTimeDependent(tf.keras.Model):\n",
    "    def __init__(self):\n",
    "        super(NNModuleTimeDependent, self).__init__(name=\"Module\")\n",
    "        self.num_filters = 3\n",
    "        self.dense_1 = keras.layers.Dense(self.num_filters, activation=\"tanh\")\n",
    "        self.dense_2 = keras.layers.Dense(self.num_filters, activation=\"tanh\")\n",
    "\n",
    "    def call(self, inputs, **kwargs):\n",
    "        t, x = inputs\n",
    "        h = self.dense_1(x * t)\n",
    "        return self.dense_2(h * t)"
   ]
  },
  {
   "cell_type": "code",
   "execution_count": 73,
   "metadata": {},
   "outputs": [],
   "source": [
    "from neural_ode import NeuralODE\n",
    "tf.set_random_seed(1234)\n",
    "x0 = tf.random_normal(shape=[7, 3])\n",
    "model = NNModuleTimeDependent()"
   ]
  },
  {
   "cell_type": "code",
   "execution_count": 81,
   "metadata": {},
   "outputs": [],
   "source": [
    "ode = NeuralODE(model, t=np.linspace(0, 5.0, 25))\n",
    "x0_grid = ode.forward(x0)"
   ]
  },
  {
   "cell_type": "code",
   "execution_count": 82,
   "metadata": {},
   "outputs": [],
   "source": [
    "x0_adap, info_dict = ode.forward_odeint(x0, return_states=False)"
   ]
  },
  {
   "cell_type": "code",
   "execution_count": 83,
   "metadata": {},
   "outputs": [
    {
     "data": {
      "text/plain": [
       "<tf.Tensor: id=69177, shape=(), dtype=float32, numpy=8.556956e-05>"
      ]
     },
     "execution_count": 83,
     "metadata": {},
     "output_type": "execute_result"
    }
   ],
   "source": [
    "tf.losses.absolute_difference(x0_adap, x0_grid)"
   ]
  },
  {
   "cell_type": "code",
   "execution_count": 89,
   "metadata": {},
   "outputs": [
    {
     "data": {
      "text/plain": [
       "127"
      ]
     },
     "execution_count": 89,
     "metadata": {},
     "output_type": "execute_result"
    }
   ],
   "source": [
    "info_dict['num_func_evals'].numpy()"
   ]
  },
  {
   "cell_type": "code",
   "execution_count": 90,
   "metadata": {},
   "outputs": [],
   "source": [
    "errors = []\n",
    "for i in range(20):\n",
    "    x0_grid = NeuralODE(model, t=np.linspace(0, 5.0, i + 1)).forward(x0)\n",
    "    diff = tf.losses.absolute_difference(x0_adap, x0_grid)\n",
    "    errors.append(diff)"
   ]
  },
  {
   "cell_type": "code",
   "execution_count": 98,
   "metadata": {},
   "outputs": [
    {
     "data": {
      "text/plain": [
       "<matplotlib.text.Text at 0x7eff115984a8>"
      ]
     },
     "execution_count": 98,
     "metadata": {},
     "output_type": "execute_result"
    },
    {
     "data": {
      "image/png": "[encoded data removed]",
      "text/plain": [
       "<matplotlib.figure.Figure at 0x7eff115d5be0>"
      ]
     },
     "metadata": {
      "needs_background": "light"
     },
     "output_type": "display_data"
    }
   ],
   "source": [
    "import matplotlib.pyplot as plt\n",
    "plt.plot(np.log(errors))\n",
    "plt.ylabel(\"Log. Error\")\n",
    "plt.xlabel(\"Number of evaluations\")"
   ]
  }
 ],
 "metadata": {
  "kernelspec": {
   "display_name": "Python 3",
   "language": "python",
   "name": "python3"
  },
  "language_info": {
   "codemirror_mode": {
    "name": "ipython",
    "version": 3
   },
   "file_extension": ".py",
   "mimetype": "text/x-python",
   "name": "python",
   "nbconvert_exporter": "python",
   "pygments_lexer": "ipython3",
   "version": "3.6.6"
  }
 },
 "nbformat": 4,
 "nbformat_minor": 2
}
