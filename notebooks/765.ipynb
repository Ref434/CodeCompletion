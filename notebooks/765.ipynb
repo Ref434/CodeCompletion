{
 "cells": [
  {
   "cell_type": "code",
   "execution_count": 1,
   "metadata": {
    "execution": {
     "iopub.execute_input": "2020-09-18T10:00:30.927952Z",
     "iopub.status.busy": "2020-09-18T10:00:30.927952Z",
     "iopub.status.idle": "2020-09-18T10:00:31.261151Z",
     "shell.execute_reply": "2020-09-18T10:00:31.261151Z",
     "shell.execute_reply.started": "2020-09-18T09:22:04.551083Z"
    },
    "papermill": {
     "duration": 0.346163,
     "end_time": "2020-09-18T10:00:31.261151",
     "exception": false,
     "start_time": "2020-09-18T10:00:30.914988",
     "status": "completed"
    },
    "tags": []
   },
   "outputs": [
    {
     "name": "stdout",
     "output_type": "stream",
     "text": [
      "Stored 'df' (DataFrame)\n"
     ]
    }
   ],
   "source": [
    "import numpy as np\n",
    "import pandas as pd\n",
    "\n",
    "df = pd.DataFrame(np.random.rand(10000, 10))\n",
    "\n",
    "%store df"
   ]
  }
 ],
 "metadata": {
  "kernelspec": {
   "display_name": "Python 3",
   "language": "python",
   "name": "python3"
  },
  "language_info": {
   "codemirror_mode": {
    "name": "ipython",
    "version": 3
   },
   "file_extension": ".py",
   "mimetype": "text/x-python",
   "name": "python",
   "nbconvert_exporter": "python",
   "pygments_lexer": "ipython3",
   "version": "3.7.9"
  },
  "papermill": {
   "duration": 2.103036,
   "end_time": "2020-09-18T10:00:31.473131",
   "environment_variables": {},
   "exception": null,
   "input_path": "C:\\Users\\pengz\\Desktop\\当期博客工作台\\pipeline/step1.ipynb",
   "output_path": "C:\\Users\\pengz\\Desktop\\当期博客工作台\\pipeline/step1.ipynb",
   "parameters": {},
   "start_time": "2020-09-18T10:00:29.370095",
   "version": "2.1.3"
  },
  "widgets": {
   "application/vnd.jupyter.widget-state+json": {
    "state": {},
    "version_major": 2,
    "version_minor": 0
   }
  }
 },
 "nbformat": 4,
 "nbformat_minor": 4
}
