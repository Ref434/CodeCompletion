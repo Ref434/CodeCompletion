{
 "cells": [
  {
   "cell_type": "code",
   "execution_count": null,
   "metadata": {
    "ExecuteTime": {
     "end_time": "2017-09-04T12:39:02.094998Z",
     "start_time": "2017-09-04T12:39:01.013431Z"
    },
    "collapsed": true
   },
   "outputs": [],
   "source": [
    "from __future__ import print_function, division, unicode_literals, absolute_import\n",
    "\n",
    "import random\n",
    "from nltk.corpus import wordnet as wn\n",
    "import pandas as pd"
   ]
  },
  {
   "cell_type": "code",
   "execution_count": null,
   "metadata": {
    "ExecuteTime": {
     "end_time": "2017-09-04T12:39:02.101672Z",
     "start_time": "2017-09-04T12:39:02.096629Z"
    },
    "collapsed": true
   },
   "outputs": [],
   "source": [
    "def transitive_closure(synsets):\n",
    "\n",
    "    hypernyms = set([])\n",
    "    for s in synsets:\n",
    "        paths = s.hypernym_paths()\n",
    "        for path in paths:\n",
    "            hypernyms.update((s,h) for h in path[1:] if h.pos() == 'n')\n",
    "    return hypernyms"
   ]
  },
  {
   "cell_type": "code",
   "execution_count": null,
   "metadata": {
    "ExecuteTime": {
     "end_time": "2017-09-04T12:40:14.001660Z",
     "start_time": "2017-09-04T12:40:08.147381Z"
    }
   },
   "outputs": [],
   "source": [
    "def get_embds(target='mammal.n.01', shuffle=True):\n",
    "\n",
    "    target = wn.synset(target)\n",
    "    print('target:', target)\n",
    "\n",
    "    words = wn.words()\n",
    "\n",
    "    nouns = set([])\n",
    "    for word in words:\n",
    "        nouns.update(wn.synsets(word, pos='n'))\n",
    "\n",
    "    print( len(nouns), 'nouns')\n",
    "\n",
    "    hypernyms = []\n",
    "    hypernyms_connections = []\n",
    "    for noun in nouns:\n",
    "        paths = noun.hypernym_paths()\n",
    "        for path in paths:\n",
    "            try:\n",
    "                pos = path.index(target)\n",
    "                for i in range(pos, len(path)-1):\n",
    "                    hypernyms.append((noun, path[i]))\n",
    "                    hypernyms_connections.append((path[i], path[i+1]))\n",
    "                    \n",
    "            except Exception:\n",
    "                continue\n",
    "        \n",
    "    hypernyms = list(set(hypernyms))\n",
    "    print( len(hypernyms), 'hypernyms' )\n",
    "    \n",
    "    \n",
    "    if not shuffle:\n",
    "        random.shuffle(hypernyms)\n",
    "    \n",
    "    hypernyms = [(n1.name(), n2.name()) for n1, n2 in hypernyms]\n",
    "    hypernyms_df = pd.DataFrame(hypernyms, columns=['A', 'B'])\n",
    "    hypernyms_df.index.name = \"id\"\n",
    "    \n",
    "    hypernyms_con = [(n1.name(), n2.name()) for n1, n2 in hypernyms_connections]\n",
    "    hypernyms_con_df = pd.DataFrame(hypernyms_con, columns=['from', 'to'])\n",
    "    hypernyms_con_df.index.name = \"id\"    \n",
    "    return hypernyms_df, hypernyms_con_df\n",
    "\n",
    "hypernyms_df, hypernyms_con_df = get_embds(shuffle=True)"
   ]
  },
  {
   "cell_type": "code",
   "execution_count": null,
   "metadata": {
    "ExecuteTime": {
     "end_time": "2017-09-02T18:02:20.562915Z",
     "start_time": "2017-09-02T18:02:20.493910Z"
    },
    "collapsed": true
   },
   "outputs": [],
   "source": [
    "hypernyms_df.to_csv(\"data/mammal.csv\")\n",
    "hypernyms_con_df.to_csv(\"data/mammal_connections.csv\")"
   ]
  },
  {
   "cell_type": "code",
   "execution_count": null,
   "metadata": {
    "ExecuteTime": {
     "end_time": "2017-09-02T07:05:28.755294Z",
     "start_time": "2017-09-02T07:05:28.744121Z"
    }
   },
   "outputs": [],
   "source": [
    "len(hypernyms_df.A.unique())"
   ]
  },
  {
   "cell_type": "code",
   "execution_count": null,
   "metadata": {
    "ExecuteTime": {
     "end_time": "2017-09-02T07:05:35.510246Z",
     "start_time": "2017-09-02T07:05:35.493622Z"
    }
   },
   "outputs": [],
   "source": [
    "hypernyms_df[:5]"
   ]
  }
 ],
 "metadata": {
  "kernelspec": {
   "display_name": "Python [conda env:pmi]",
   "language": "python",
   "name": "conda-env-pmi-py"
  },
  "language_info": {
   "codemirror_mode": {
    "name": "ipython",
    "version": 3
   },
   "file_extension": ".py",
   "mimetype": "text/x-python",
   "name": "python",
   "nbconvert_exporter": "python",
   "pygments_lexer": "ipython3",
   "version": "3.6.1"
  },
  "toc": {
   "colors": {
    "hover_highlight": "#DAA520",
    "navigate_num": "#000000",
    "navigate_text": "#333333",
    "running_highlight": "#FF0000",
    "selected_highlight": "#FFD700",
    "sidebar_border": "#EEEEEE",
    "wrapper_background": "#FFFFFF"
   },
   "moveMenuLeft": true,
   "nav_menu": {
    "height": "12px",
    "width": "252px"
   },
   "navigate_menu": true,
   "number_sections": true,
   "sideBar": true,
   "threshold": 4,
   "toc_cell": false,
   "toc_section_display": "block",
   "toc_window_display": false,
   "widenNotebook": false
  }
 },
 "nbformat": 4,
 "nbformat_minor": 2
}
