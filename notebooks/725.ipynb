{
 "cells": [
  {
   "cell_type": "markdown",
   "id": "9dcf60cc-7fb5-4452-9256-2ca113833484",
   "metadata": {
    "tags": []
   },
   "source": [
    "# 2 geopandas 0.10版本重要新特性一览"
   ]
  },
  {
   "cell_type": "markdown",
   "id": "d6dc9492-2b9d-44ef-97dd-526f0ae90b31",
   "metadata": {
    "tags": [],
    "toc-hr-collapsed": true
   },
   "source": [
    "## 2.1 新增空间最近连接方法sjoin_nearest()"
   ]
  },
  {
   "cell_type": "code",
   "execution_count": 1,
   "id": "3e15e410-8dff-460a-9dc5-3c9084ec1f1d",
   "metadata": {
    "execution": {
     "iopub.execute_input": "2021-10-27T10:09:34.661117Z",
     "iopub.status.busy": "2021-10-27T10:09:34.661117Z",
     "iopub.status.idle": "2021-10-27T10:09:35.608829Z",
     "shell.execute_reply": "2021-10-27T10:09:35.608829Z",
     "shell.execute_reply.started": "2021-10-27T10:09:34.661117Z"
    },
    "tags": []
   },
   "outputs": [
    {
     "data": {
      "image/png": "[encoded data removed]",
      "text/plain": [
       "<Figure size 432x288 with 1 Axes>"
      ]
     },
     "metadata": {
      "needs_background": "light"
     },
     "output_type": "display_data"
    }
   ],
   "source": [
    "import geopandas as gpd\n",
    "from shapely.geometry import Point\n",
    "\n",
    "# 构造示例点要素表1\n",
    "gdf1 = gpd.GeoDataFrame(\n",
    "    {\n",
    "        'id1': list('abc'),\n",
    "        'geometry': [\n",
    "            Point(0, 0),\n",
    "            Point(1, 0),\n",
    "            Point(-1, 0)\n",
    "        ]\n",
    "    }\n",
    ")\n",
    "\n",
    "# 构造示例点要素表2\n",
    "gdf2 = gpd.GeoDataFrame(\n",
    "    {\n",
    "        'id2': list('def'),\n",
    "        'geometry': [\n",
    "            Point(0.4, 0),\n",
    "            Point(1.2, 0),\n",
    "            Point(-1.3, 0)\n",
    "        ]\n",
    "    }\n",
    ")\n",
    "\n",
    "ax = gdf1.plot(color='red')\n",
    "ax = gdf2.plot(color='green', ax=ax)\n",
    "ax.axis('equal');"
   ]
  },
  {
   "cell_type": "code",
   "execution_count": 2,
   "id": "87484def-40cc-417d-bcb3-574cfba26510",
   "metadata": {
    "execution": {
     "iopub.execute_input": "2021-10-27T10:09:35.609827Z",
     "iopub.status.busy": "2021-10-27T10:09:35.609827Z",
     "iopub.status.idle": "2021-10-27T10:09:35.640745Z",
     "shell.execute_reply": "2021-10-27T10:09:35.639746Z",
     "shell.execute_reply.started": "2021-10-27T10:09:35.609827Z"
    },
    "tags": []
   },
   "outputs": [
    {
     "data": {
      "text/html": [
       "<div>\n",
       "<style scoped>\n",
       "    .dataframe tbody tr th:only-of-type {\n",
       "        vertical-align: middle;\n",
       "    }\n",
       "\n",
       "    .dataframe tbody tr th {\n",
       "        vertical-align: top;\n",
       "    }\n",
       "\n",
       "    .dataframe thead th {\n",
       "        text-align: right;\n",
       "    }\n",
       "</style>\n",
       "<table border=\"1\" class=\"dataframe\">\n",
       "  <thead>\n",
       "    <tr style=\"text-align: right;\">\n",
       "      <th></th>\n",
       "      <th>id1</th>\n",
       "      <th>geometry</th>\n",
       "      <th>index_right</th>\n",
       "      <th>id2</th>\n",
       "      <th>对应距离</th>\n",
       "    </tr>\n",
       "  </thead>\n",
       "  <tbody>\n",
       "    <tr>\n",
       "      <th>1</th>\n",
       "      <td>b</td>\n",
       "      <td>POINT (1.00000 0.00000)</td>\n",
       "      <td>1</td>\n",
       "      <td>e</td>\n",
       "      <td>0.2</td>\n",
       "    </tr>\n",
       "    <tr>\n",
       "      <th>2</th>\n",
       "      <td>c</td>\n",
       "      <td>POINT (-1.00000 0.00000)</td>\n",
       "      <td>2</td>\n",
       "      <td>f</td>\n",
       "      <td>0.3</td>\n",
       "    </tr>\n",
       "  </tbody>\n",
       "</table>\n",
       "</div>"
      ],
      "text/plain": [
       "  id1                  geometry  index_right id2  对应距离\n",
       "1   b   POINT (1.00000 0.00000)            1   e   0.2\n",
       "2   c  POINT (-1.00000 0.00000)            2   f   0.3"
      ]
     },
     "execution_count": 2,
     "metadata": {},
     "output_type": "execute_result"
    }
   ],
   "source": [
    "(\n",
    "    gpd\n",
    "    .sjoin_nearest(gdf1, gdf2, max_distance=0.35, distance_col='对应距离')\n",
    ")"
   ]
  },
  {
   "cell_type": "markdown",
   "id": "46c38e00-3f8c-4c7b-acac-7a2a6a92b731",
   "metadata": {},
   "source": [
    "## 2.2 新增交互地图式数据探索方法explore()"
   ]
  },
  {
   "cell_type": "code",
   "execution_count": 3,
   "id": "26d395ef-2700-401e-88e3-e09d173b6f30",
   "metadata": {
    "execution": {
     "iopub.execute_input": "2021-10-27T10:09:35.642739Z",
     "iopub.status.busy": "2021-10-27T10:09:35.642739Z",
     "iopub.status.idle": "2021-10-27T10:09:36.098510Z",
     "shell.execute_reply": "2021-10-27T10:09:36.098510Z",
     "shell.execute_reply.started": "2021-10-27T10:09:35.642739Z"
    },
    "tags": []
   },
   "outputs": [
    {
     "data": {
      "text/html": [
       "<div>\n",
       "<style scoped>\n",
       "    .dataframe tbody tr th:only-of-type {\n",
       "        vertical-align: middle;\n",
       "    }\n",
       "\n",
       "    .dataframe tbody tr th {\n",
       "        vertical-align: top;\n",
       "    }\n",
       "\n",
       "    .dataframe thead th {\n",
       "        text-align: right;\n",
       "    }\n",
       "</style>\n",
       "<table border=\"1\" class=\"dataframe\">\n",
       "  <thead>\n",
       "    <tr style=\"text-align: right;\">\n",
       "      <th></th>\n",
       "      <th>省代码</th>\n",
       "      <th>省</th>\n",
       "      <th>类型</th>\n",
       "      <th>geometry</th>\n",
       "    </tr>\n",
       "  </thead>\n",
       "  <tbody>\n",
       "    <tr>\n",
       "      <th>0</th>\n",
       "      <td>110000</td>\n",
       "      <td>北京市</td>\n",
       "      <td>直辖市</td>\n",
       "      <td>POLYGON ((116.67527 41.04010, 116.67616 41.040...</td>\n",
       "    </tr>\n",
       "    <tr>\n",
       "      <th>1</th>\n",
       "      <td>120000</td>\n",
       "      <td>天津市</td>\n",
       "      <td>直辖市</td>\n",
       "      <td>POLYGON ((117.44383 40.25101, 117.45611 40.246...</td>\n",
       "    </tr>\n",
       "    <tr>\n",
       "      <th>2</th>\n",
       "      <td>130000</td>\n",
       "      <td>河北省</td>\n",
       "      <td>省</td>\n",
       "      <td>MULTIPOLYGON (((118.85390 39.10692, 118.84934 ...</td>\n",
       "    </tr>\n",
       "  </tbody>\n",
       "</table>\n",
       "</div>"
      ],
      "text/plain": [
       "      省代码    省   类型                                           geometry\n",
       "0  110000  北京市  直辖市  POLYGON ((116.67527 41.04010, 116.67616 41.040...\n",
       "1  120000  天津市  直辖市  POLYGON ((117.44383 40.25101, 117.45611 40.246...\n",
       "2  130000  河北省    省  MULTIPOLYGON (((118.85390 39.10692, 118.84934 ..."
      ]
     },
     "execution_count": 3,
     "metadata": {},
     "output_type": "execute_result"
    }
   ],
   "source": [
    "provinces = gpd.read_file('省.shp')\n",
    "provinces.head(3)"
   ]
  },
  {
   "cell_type": "code",
   "execution_count": 4,
   "id": "2ab3aec7-cdba-4975-b7e2-9d2edcbbc174",
   "metadata": {
    "execution": {
     "iopub.execute_input": "2021-10-27T10:09:36.100464Z",
     "iopub.status.busy": "2021-10-27T10:09:36.100464Z",
     "iopub.status.idle": "2021-10-27T10:09:36.114450Z",
     "shell.execute_reply": "2021-10-27T10:09:36.114450Z",
     "shell.execute_reply.started": "2021-10-27T10:09:36.100464Z"
    },
    "tags": []
   },
   "outputs": [],
   "source": [
    "provinces.explore(\n",
    "    column='类型', \n",
    "    zoom_start=4\n",
    ")"
   ]
  },
  {
   "cell_type": "markdown",
   "id": "a63707ae-6515-4b61-854c-59589802ed06",
   "metadata": {},
   "source": [
    "## 2.3 sjoin()、sjoin_nearest()、overlay()和clip()亦可作为GeoDataFrame的方法来使用"
   ]
  },
  {
   "cell_type": "code",
   "execution_count": 5,
   "id": "f800b0e1-bf8d-4464-9fec-d0d8a3b5443a",
   "metadata": {
    "execution": {
     "iopub.execute_input": "2021-10-27T10:09:36.116444Z",
     "iopub.status.busy": "2021-10-27T10:09:36.115446Z",
     "iopub.status.idle": "2021-10-27T10:09:36.144368Z",
     "shell.execute_reply": "2021-10-27T10:09:36.144368Z",
     "shell.execute_reply.started": "2021-10-27T10:09:36.116444Z"
    },
    "tags": []
   },
   "outputs": [
    {
     "data": {
      "text/html": [
       "<div>\n",
       "<style scoped>\n",
       "    .dataframe tbody tr th:only-of-type {\n",
       "        vertical-align: middle;\n",
       "    }\n",
       "\n",
       "    .dataframe tbody tr th {\n",
       "        vertical-align: top;\n",
       "    }\n",
       "\n",
       "    .dataframe thead th {\n",
       "        text-align: right;\n",
       "    }\n",
       "</style>\n",
       "<table border=\"1\" class=\"dataframe\">\n",
       "  <thead>\n",
       "    <tr style=\"text-align: right;\">\n",
       "      <th></th>\n",
       "      <th>id1</th>\n",
       "      <th>geometry</th>\n",
       "      <th>index_right</th>\n",
       "      <th>id2</th>\n",
       "      <th>对应距离</th>\n",
       "    </tr>\n",
       "  </thead>\n",
       "  <tbody>\n",
       "    <tr>\n",
       "      <th>1</th>\n",
       "      <td>b</td>\n",
       "      <td>POINT (1.00000 0.00000)</td>\n",
       "      <td>1</td>\n",
       "      <td>e</td>\n",
       "      <td>0.2</td>\n",
       "    </tr>\n",
       "    <tr>\n",
       "      <th>2</th>\n",
       "      <td>c</td>\n",
       "      <td>POINT (-1.00000 0.00000)</td>\n",
       "      <td>2</td>\n",
       "      <td>f</td>\n",
       "      <td>0.3</td>\n",
       "    </tr>\n",
       "  </tbody>\n",
       "</table>\n",
       "</div>"
      ],
      "text/plain": [
       "  id1                  geometry  index_right id2  对应距离\n",
       "1   b   POINT (1.00000 0.00000)            1   e   0.2\n",
       "2   c  POINT (-1.00000 0.00000)            2   f   0.3"
      ]
     },
     "execution_count": 5,
     "metadata": {},
     "output_type": "execute_result"
    }
   ],
   "source": [
    "(\n",
    "    gdf1\n",
    "    .sjoin_nearest(gdf2, \n",
    "                   max_distance=0.35, \n",
    "                   distance_col='对应距离')\n",
    ")"
   ]
  },
  {
   "cell_type": "markdown",
   "id": "d113b39a-79df-4b35-8035-d08c4862f62c",
   "metadata": {},
   "source": [
    "## 2.4 GeoSeries新增批量XY转点方法from_xy()"
   ]
  },
  {
   "cell_type": "code",
   "execution_count": 6,
   "id": "ce4992ed-9bde-47a0-9d4c-6190272a5fbb",
   "metadata": {
    "execution": {
     "iopub.execute_input": "2021-10-27T10:09:36.146364Z",
     "iopub.status.busy": "2021-10-27T10:09:36.145366Z",
     "iopub.status.idle": "2021-10-27T10:09:36.160326Z",
     "shell.execute_reply": "2021-10-27T10:09:36.160326Z",
     "shell.execute_reply.started": "2021-10-27T10:09:36.146364Z"
    },
    "tags": []
   },
   "outputs": [
    {
     "data": {
      "text/plain": [
       "<GeometryArray>\n",
       "[<shapely.geometry.point.Point object at 0x000002162DF82948>,\n",
       " <shapely.geometry.point.Point object at 0x000002162DF82C48>,\n",
       " <shapely.geometry.point.Point object at 0x000002162DF82508>,\n",
       " <shapely.geometry.point.Point object at 0x000002162DF82948>,\n",
       " <shapely.geometry.point.Point object at 0x000002162DF82C48>,\n",
       " <shapely.geometry.point.Point object at 0x000002162DF82E88>,\n",
       " <shapely.geometry.point.Point object at 0x000002162DF82648>,\n",
       " <shapely.geometry.point.Point object at 0x000002162DF82508>,\n",
       " <shapely.geometry.point.Point object at 0x000002162DF82E88>,\n",
       " <shapely.geometry.point.Point object at 0x000002162DDBFB48>]\n",
       "Length: 10, dtype: geometry"
      ]
     },
     "execution_count": 6,
     "metadata": {},
     "output_type": "execute_result"
    }
   ],
   "source": [
    "gpd.points_from_xy(x=range(10), y=range(10))"
   ]
  },
  {
   "cell_type": "code",
   "execution_count": 7,
   "id": "e61b33f7-c045-4413-bbd7-5d3415108557",
   "metadata": {
    "execution": {
     "iopub.execute_input": "2021-10-27T10:09:36.161323Z",
     "iopub.status.busy": "2021-10-27T10:09:36.161323Z",
     "iopub.status.idle": "2021-10-27T10:09:36.176284Z",
     "shell.execute_reply": "2021-10-27T10:09:36.176284Z",
     "shell.execute_reply.started": "2021-10-27T10:09:36.161323Z"
    },
    "tags": []
   },
   "outputs": [
    {
     "data": {
      "text/plain": [
       "0    POINT (0.00000 0.00000)\n",
       "1    POINT (1.00000 1.00000)\n",
       "2    POINT (2.00000 2.00000)\n",
       "3    POINT (3.00000 3.00000)\n",
       "4    POINT (4.00000 4.00000)\n",
       "5    POINT (5.00000 5.00000)\n",
       "6    POINT (6.00000 6.00000)\n",
       "7    POINT (7.00000 7.00000)\n",
       "8    POINT (8.00000 8.00000)\n",
       "9    POINT (9.00000 9.00000)\n",
       "dtype: geometry"
      ]
     },
     "execution_count": 7,
     "metadata": {},
     "output_type": "execute_result"
    }
   ],
   "source": [
    "gpd.GeoSeries.from_xy(x=range(10), y=range(10))"
   ]
  },
  {
   "cell_type": "markdown",
   "id": "48ff74e7-1c2a-4e7b-af02-3747e4543d1c",
   "metadata": {},
   "source": [
    "## 2.5 to_file()方法在driver参数缺省时可自动识别导出文件类型"
   ]
  },
  {
   "cell_type": "code",
   "execution_count": 8,
   "id": "23a0c8fe-fa86-4828-9c84-372ae92c19ee",
   "metadata": {
    "execution": {
     "iopub.execute_input": "2021-10-27T10:09:36.177281Z",
     "iopub.status.busy": "2021-10-27T10:09:36.177281Z",
     "iopub.status.idle": "2021-10-27T10:09:36.223207Z",
     "shell.execute_reply": "2021-10-27T10:09:36.223207Z",
     "shell.execute_reply.started": "2021-10-27T10:09:36.177281Z"
    },
    "tags": []
   },
   "outputs": [
    {
     "data": {
      "text/plain": [
       "['test.cpg', 'test.dbf', 'test.geojson', 'test.shp', 'test.shx']"
      ]
     },
     "execution_count": 8,
     "metadata": {},
     "output_type": "execute_result"
    }
   ],
   "source": [
    "import os\n",
    "\n",
    "gdf1.to_file('test.shp')\n",
    "\n",
    "gdf1.to_file('test.geojson')\n",
    "\n",
    "[file for file in os.listdir() if 'test.' in file]"
   ]
  },
  {
   "cell_type": "markdown",
   "id": "f42df3a7-a855-4b0f-8f71-9ee82133fae1",
   "metadata": {},
   "source": [
    "## 2.6 支持对矢量数据自动推断合适的横轴墨卡托坐标参考系"
   ]
  },
  {
   "cell_type": "code",
   "execution_count": 9,
   "id": "9c3208d5-e99c-4f69-92cf-582f355d646f",
   "metadata": {
    "execution": {
     "iopub.execute_input": "2021-10-27T10:09:36.224155Z",
     "iopub.status.busy": "2021-10-27T10:09:36.224155Z",
     "iopub.status.idle": "2021-10-27T10:09:36.614182Z",
     "shell.execute_reply": "2021-10-27T10:09:36.613184Z",
     "shell.execute_reply.started": "2021-10-27T10:09:36.224155Z"
    }
   },
   "outputs": [
    {
     "data": {
      "image/png": "[encoded data removed]",
      "text/plain": [
       "<Figure size 432x288 with 1 Axes>"
      ]
     },
     "metadata": {
      "needs_background": "light"
     },
     "output_type": "display_data"
    }
   ],
   "source": [
    "provinces.plot();"
   ]
  },
  {
   "cell_type": "code",
   "execution_count": 10,
   "id": "cb632120-92de-4d69-a740-f7f028a9a442",
   "metadata": {
    "execution": {
     "iopub.execute_input": "2021-10-27T10:09:36.615177Z",
     "iopub.status.busy": "2021-10-27T10:09:36.615177Z",
     "iopub.status.idle": "2021-10-27T10:09:37.400313Z",
     "shell.execute_reply": "2021-10-27T10:09:37.400313Z",
     "shell.execute_reply.started": "2021-10-27T10:09:36.615177Z"
    },
    "tags": []
   },
   "outputs": [
    {
     "data": {
      "image/png": "[encoded data removed]",
      "text/plain": [
       "<Figure size 432x288 with 1 Axes>"
      ]
     },
     "metadata": {
      "needs_background": "light"
     },
     "output_type": "display_data"
    }
   ],
   "source": [
    "provinces.to_crs(provinces.estimate_utm_crs()).plot();"
   ]
  },
  {
   "cell_type": "markdown",
   "id": "6819dc3f-bd40-48ac-b17c-4b096c30ffea",
   "metadata": {},
   "source": [
    "## 2.7 sjoin()中的op参数改名为predicate"
   ]
  },
  {
   "cell_type": "code",
   "execution_count": 11,
   "id": "0822058a-48f7-40c3-9a02-a26cb77a30dc",
   "metadata": {
    "execution": {
     "iopub.execute_input": "2021-10-27T10:09:37.401311Z",
     "iopub.status.busy": "2021-10-27T10:09:37.401311Z",
     "iopub.status.idle": "2021-10-27T10:09:37.431613Z",
     "shell.execute_reply": "2021-10-27T10:09:37.431613Z",
     "shell.execute_reply.started": "2021-10-27T10:09:37.401311Z"
    },
    "tags": []
   },
   "outputs": [
    {
     "name": "stderr",
     "output_type": "stream",
     "text": [
      "C:\\Conda\\envs\\data-science\\lib\\site-packages\\IPython\\core\\interactiveshell.py:3444: FutureWarning: The `op` parameter is deprecated and will be removed in a future release. Please use the `predicate` parameter instead.\n",
      "  exec(code_obj, self.user_global_ns, self.user_ns)\n"
     ]
    },
    {
     "data": {
      "text/html": [
       "<div>\n",
       "<style scoped>\n",
       "    .dataframe tbody tr th:only-of-type {\n",
       "        vertical-align: middle;\n",
       "    }\n",
       "\n",
       "    .dataframe tbody tr th {\n",
       "        vertical-align: top;\n",
       "    }\n",
       "\n",
       "    .dataframe thead th {\n",
       "        text-align: right;\n",
       "    }\n",
       "</style>\n",
       "<table border=\"1\" class=\"dataframe\">\n",
       "  <thead>\n",
       "    <tr style=\"text-align: right;\">\n",
       "      <th></th>\n",
       "      <th>id1</th>\n",
       "      <th>geometry</th>\n",
       "      <th>index_right</th>\n",
       "      <th>id2</th>\n",
       "    </tr>\n",
       "  </thead>\n",
       "  <tbody>\n",
       "  </tbody>\n",
       "</table>\n",
       "</div>"
      ],
      "text/plain": [
       "Empty GeoDataFrame\n",
       "Columns: [id1, geometry, index_right, id2]\n",
       "Index: []"
      ]
     },
     "execution_count": 11,
     "metadata": {},
     "output_type": "execute_result"
    }
   ],
   "source": [
    "gdf1.sjoin(gdf2, op='contains')"
   ]
  }
 ],
 "metadata": {
  "kernelspec": {
   "display_name": "Python 3 (ipykernel)",
   "language": "python",
   "name": "python3"
  },
  "language_info": {
   "codemirror_mode": {
    "name": "ipython",
    "version": 3
   },
   "file_extension": ".py",
   "mimetype": "text/x-python",
   "name": "python",
   "nbconvert_exporter": "python",
   "pygments_lexer": "ipython3",
   "version": "3.7.11"
  }
 },
 "nbformat": 4,
 "nbformat_minor": 5
}
