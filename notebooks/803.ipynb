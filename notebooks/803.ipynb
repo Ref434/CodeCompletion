{
 "cells": [
  {
   "cell_type": "markdown",
   "metadata": {},
   "source": [
    "# Diagnosis of a bad Digits classification\n",
    "\n",
    "Make a Naive Bayes classifier for the Digits task, this uses an 8x8 greyscale of the digits 0-9, the task is to predict the correct label from the image.\n",
    "\n",
    "This Notebook is a part of my [Data Science Delivered](https://github.com/ianozsvald/data_science_delivered) notes. License: CC-By-Attribution.\n",
    "\n",
    "Generally we do pretty well even just with Naive Bayes. Below we use a Confusion Matrix to identify the classes that are hard to predict (1s get mis-classified a portion of the time). Next we'll pull out an example that's misclassified.\n",
    "\n",
    "A simple debugging process would be:\n",
    "\n",
    "* run a classifier using 10-fold cross validation, note the results\n",
    "* use a Confusion Matrix to identify areas needing improvement\n",
    "* investigate the highest-probability wrong answers\n",
    "* ponder on why the classifier is making these mistakes\n",
    " * consider adding new features or cleaning your data or trying a new classifier or tuning your hyperparameters\n",
    "* repeat"
   ]
  },
  {
   "cell_type": "code",
   "execution_count": 1,
   "metadata": {},
   "outputs": [],
   "source": [
    "import datetime\n",
    "import numpy as np\n",
    "import matplotlib.pyplot as plt\n",
    "import pandas as pd\n",
    "import seaborn as sns\n",
    "\n",
    "from sklearn.dummy import DummyClassifier\n",
    "from sklearn.model_selection import StratifiedKFold, cross_val_score, train_test_split\n",
    "from sklearn.metrics import confusion_matrix\n",
    "from sklearn.metrics import precision_recall_fscore_support\n",
    "\n",
    "from sklearn import naive_bayes\n",
    "\n",
    "# let's plot inline\n",
    "%matplotlib inline\n",
    "\n",
    "# load the digits dataset\n",
    "from sklearn.datasets import load_digits\n",
    "digits = load_digits()"
   ]
  },
  {
   "cell_type": "code",
   "execution_count": 2,
   "metadata": {},
   "outputs": [
    {
     "name": "stdout",
     "output_type": "stream",
     "text": [
      "2017-10-04 \n",
      "\n",
      "CPython 3.6.2\n",
      "IPython 6.1.0\n",
      "\n",
      "numpy 1.13.1\n",
      "matplotlib 2.0.2\n",
      "sklearn 0.18.2\n",
      "seaborn 0.8.0\n",
      "pandas 0.20.3\n",
      "\n",
      "compiler   : GCC 4.8.2 20140120 (Red Hat 4.8.2-15)\n",
      "system     : Linux\n",
      "release    : 4.9.45-040945-generic\n",
      "machine    : x86_64\n",
      "processor  : x86_64\n",
      "CPU cores  : 8\n",
      "interpreter: 64bit\n",
      "Git hash   : 322359a1d2032562ecc693433647bd6332f23e84\n"
     ]
    }
   ],
   "source": [
    "# install watermark using\n",
    "# %install_ext https://raw.githubusercontent.com/rasbt/watermark/master/watermark.py\n",
    "%load_ext watermark\n",
    "# show a watermark for this environment\n",
    "%watermark -d -m -v -p numpy,matplotlib,sklearn,seaborn,pandas -g"
   ]
  },
  {
   "cell_type": "code",
   "execution_count": 3,
   "metadata": {
    "collapsed": true
   },
   "outputs": [],
   "source": [
    "# start a separate QTconsole for interactive coding\n",
    "#%qtconsole"
   ]
  },
  {
   "cell_type": "code",
   "execution_count": 4,
   "metadata": {},
   "outputs": [
    {
     "name": "stdout",
     "output_type": "stream",
     "text": [
      "X has shape (1797, 64), y has shape (1797,)\n"
     ]
    }
   ],
   "source": [
    "# flatten and binarise the 2D input image - this is our basic feature set\n",
    "# we could improve the features here by adding new columns to X\n",
    "arr_digits_greyscale = [digit.flatten() for digit in digits.images]\n",
    "arr_digits = [digit.flatten()>=8 for digit in digits.images]\n",
    "X_greyscale = np.vstack(arr_digits_greyscale)\n",
    "X = np.vstack(arr_digits)\n",
    "y = digits.target\n",
    "print(\"X has shape {}, y has shape {}\".format(X.shape, y.shape))"
   ]
  },
  {
   "cell_type": "markdown",
   "metadata": {},
   "source": [
    "# Visualise some of our examples"
   ]
  },
  {
   "cell_type": "code",
   "execution_count": 5,
   "metadata": {},
   "outputs": [
    {
     "name": "stdout",
     "output_type": "stream",
     "text": [
      "y (target label) =  0\n",
      "Image for X[0] = \n"
     ]
    },
    {
     "data": {
      "image/png": "[encoded data removed]",
      "text/plain": [
       "<matplotlib.figure.Figure at 0x7f9031244710>"
      ]
     },
     "metadata": {},
     "output_type": "display_data"
    }
   ],
   "source": [
    "def show_example(idx, X, y):\n",
    "    \"\"\"Show an example as an image from X\"\"\"\n",
    "    print(\"y (target label) = \", y[idx])\n",
    "    print(\"Image for X[{}] = \".format(idx))\n",
    "    plt.matshow(X[idx].reshape((8,8)))\n",
    "    \n",
    "show_example(0, X, y)"
   ]
  },
  {
   "cell_type": "code",
   "execution_count": 6,
   "metadata": {},
   "outputs": [
    {
     "name": "stdout",
     "output_type": "stream",
     "text": [
      "y (target label) =  1\n",
      "Image for X[11] = \n"
     ]
    },
    {
     "data": {
      "image/png": "[encoded data removed]",
      "text/plain": [
       "<matplotlib.figure.Figure at 0x7f903123a940>"
      ]
     },
     "metadata": {},
     "output_type": "display_data"
    }
   ],
   "source": [
    "show_example(11, X, y)"
   ]
  },
  {
   "cell_type": "markdown",
   "metadata": {},
   "source": [
    "# Make a DummyClassifier\n",
    "\n",
    "The goal here is to make a basic no-intelligence classifier, anything we do after this point must show an improvement or else we're not learning anything! This classifier makes a classificiation based on the *dominant class* in the training set (for each fold)."
   ]
  },
  {
   "cell_type": "code",
   "execution_count": 7,
   "metadata": {},
   "outputs": [
    {
     "data": {
      "text/plain": [
       "'Scores: 0.111 +/- 0.038 (2 s.d.)'"
      ]
     },
     "execution_count": 7,
     "metadata": {},
     "output_type": "execute_result"
    }
   ],
   "source": [
    "clf = DummyClassifier()\n",
    "cv = StratifiedKFold(n_splits=10, shuffle=True)\n",
    "\n",
    "scores = cross_val_score(clf, X, y, cv=cv)\n",
    "\n",
    "\"Scores: {:0.3f} +/- {:0.3f} (2 s.d.)\".format(scores.mean(), scores.std()*2)\n",
    "# We expect a 10% score if we're guessing the majority class for a \n",
    "# 10 class problem when we have an example number of examples per class"
   ]
  },
  {
   "cell_type": "markdown",
   "metadata": {},
   "source": [
    "# Bernoulli NaiveBayes\n",
    "\n",
    "Now we'll make a proper (if simple) classifier and confirm that it outperforms the DummyClassifier"
   ]
  },
  {
   "cell_type": "code",
   "execution_count": 8,
   "metadata": {},
   "outputs": [
    {
     "data": {
      "text/plain": [
       "'Scores: 0.891 +/- 0.035 (2 s.d.)'"
      ]
     },
     "execution_count": 8,
     "metadata": {},
     "output_type": "execute_result"
    }
   ],
   "source": [
    "clf = naive_bayes.BernoulliNB()\n",
    "# you'll improve things by trying a new classifier here\n",
    "\n",
    "cv = StratifiedKFold(n_splits=10, shuffle=True)\n",
    "\n",
    "scores = cross_val_score(clf, X, y, cv=cv)\n",
    "\n",
    "\"Scores: {:0.3f} +/- {:0.3f} (2 s.d.)\".format(scores.mean(), scores.std()*2)\n",
    "# We expect approximately 88% accuracy"
   ]
  },
  {
   "cell_type": "markdown",
   "metadata": {},
   "source": [
    "# Next we'll Train on 66% of the Data and Test on 33%"
   ]
  },
  {
   "cell_type": "code",
   "execution_count": 9,
   "metadata": {},
   "outputs": [
    {
     "name": "stdout",
     "output_type": "stream",
     "text": [
      "Score on the training data:\n",
      "0.901080631754\n",
      "Score on the test split:\n",
      "0.897306397306\n"
     ]
    }
   ],
   "source": [
    "# We'll fix a random seed so the results are the same on each run,\n",
    "# you wouldn't do this in practice but it does help when you're debugging\n",
    "random_state = 47\n",
    "test_size = 0.33\n",
    "X_train, X_test, y_train, y_test = train_test_split(X, y, test_size=test_size, random_state=random_state)\n",
    "_, X_test_greyscale, _, _ = train_test_split(X_greyscale, y, test_size=test_size, random_state=random_state)\n",
    "\n",
    "print(\"Score on the training data:\")\n",
    "clf.fit(X_train, y_train)\n",
    "print(clf.score(X_train, y_train))\n",
    "\n",
    "print(\"Score on the test split:\")\n",
    "print(clf.score(X_test, y_test))\n",
    "# We expect both train and test scores to be pretty similar"
   ]
  },
  {
   "cell_type": "markdown",
   "metadata": {},
   "source": [
    "# Use Precision and Recall to Identify Badly Performing Classes\n",
    "\n",
    "```\n",
    "\"The precision is the ratio tp / (tp + fp) where tp is the number of true positives and fp the number of false positives. The precision is intuitively the ability of the classifier not to label as positive a sample that is negative.\n",
    "\n",
    "\"The recall is the ratio tp / (tp + fn) where tp is the number of true positives and fn the number of false negatives. The recall is intuitively the ability of the classifier to find all the positive samples.\"\n",
    "```\n",
    "http://scikit-learn.org/stable/modules/generated/sklearn.metrics.precision_recall_fscore_support.html\n",
    "\n",
    "```\n",
    "... precision (also called positive predictive value) is the fraction of retrieved instances that are relevant, while recall (also known as sensitivity) is the fraction of relevant instances that are retrieved.\n",
    "```\n",
    "https://en.wikipedia.org/wiki/Precision_and_recall\n",
    "\n",
    "Class 1's Precision is worst (Class 0 is the best), we should probably fix this first. It predicts a 1 for most of class 1 items, but it also mis-classifies other examples as class 1 (oftens class 8s).\n",
    "\n",
    "Class 8 has the worst Recall. When the classifier predicts an 8 it is generally right, but often true 8s get classified as other classes."
   ]
  },
  {
   "cell_type": "code",
   "execution_count": 10,
   "metadata": {},
   "outputs": [
    {
     "data": {
      "image/png": "[encoded data removed]",
      "text/plain": [
       "<matplotlib.figure.Figure at 0x7f9030ed7048>"
      ]
     },
     "metadata": {},
     "output_type": "display_data"
    }
   ],
   "source": [
    "predicted_y_test = clf.predict(X_test)\n",
    "precision, recall, fbeta_score, support = precision_recall_fscore_support(y_test, predicted_y_test)\n",
    "\n",
    "f, (ax1, ax2) = plt.subplots(1, 2, sharey=True)  #, fig_kw = {\"figsize\":(6,4)})\n",
    "#ax1.plot(x, y)\n",
    "ax1.set_title('Precision')\n",
    "ax1.set_ylabel(\"Percent\")\n",
    "ax2.set_title('Recall')\n",
    "\n",
    "# plot bars, set 10 class labels\n",
    "classes = np.arange(precision.shape[0])\n",
    "_ = ax1.bar(classes, precision)\n",
    "ax1.set_xticklabels([str(c) for c in classes])\n",
    "_ = ax1.set_xticks(classes)\n",
    "_ = ax2.bar(classes, recall)\n",
    "ax2.set_xticklabels([str(c) for c in classes])\n",
    "_ = ax2.set_xticks(classes)"
   ]
  },
  {
   "cell_type": "markdown",
   "metadata": {},
   "source": [
    "# Plot Confusion Matrix to Visualise Incorrect Classifications\n",
    "\n",
    "We see that the diagonal is pretty good (each class is often correctly predicted). Class 1 is sometimes mis-predicted, let's diagnose this.\n",
    "\n",
    "For random_seed=47 we see that Class 1 is often mislabelled (for 8s and 2s), also Class 8 is mislabelled for Class 1s."
   ]
  },
  {
   "cell_type": "code",
   "execution_count": 11,
   "metadata": {},
   "outputs": [
    {
     "data": {
      "image/png": "[encoded data removed]",
      "text/plain": [
       "<matplotlib.figure.Figure at 0x7f9030d64710>"
      ]
     },
     "metadata": {},
     "output_type": "display_data"
    }
   ],
   "source": [
    "def plot_confusion_matrix(df, cmap=plt.cm.Blues, title=\"Confusion matrix\"):\n",
    "    \"\"\"Use Seaborn to plot the confusion matrix\"\"\"\n",
    "    sns.heatmap(df, annot=True, vmin=0, vmax=100, cmap=cmap)\n",
    "    plt.ylabel('True label')\n",
    "    plt.yticks(rotation=90)\n",
    "    plt.xlabel('Predicted label')\n",
    "    plt.xticks(rotation=45)\n",
    "    plt.title(title)\n",
    "    \n",
    "cm = confusion_matrix(y_test, clf.predict(X_test))\n",
    "\n",
    "col_names = [str(n) for n in range(10)]\n",
    "cm_df = pd.DataFrame(data=cm, columns=col_names, index=col_names)\n",
    "plot_confusion_matrix(cm_df, title=\"Confusion matrix for digits task\")"
   ]
  },
  {
   "cell_type": "markdown",
   "metadata": {},
   "source": [
    "## Show probabilities for each example of this class"
   ]
  },
  {
   "cell_type": "code",
   "execution_count": 12,
   "metadata": {
    "collapsed": true
   },
   "outputs": [],
   "source": [
    "# Get the indices for class 1 for our diagnosis\n",
    "target_class = 1 # class we want to investigate\n",
    "true_labels_1s_indices = y_test == target_class\n",
    "predictions_with_1s_as_truth = clf.predict(X_test)[true_labels_1s_indices]\n",
    "# Get the class predictions for every example of Class 1\n",
    "predictions_probabilities_with_1s_as_truth = clf.predict_proba(X_test)[true_labels_1s_indices]"
   ]
  },
  {
   "cell_type": "markdown",
   "metadata": {},
   "source": [
    "## We hope each Class 1 example to be labelled a 1\n",
    "\n",
    "Each mis-prediction means that another class had a higher probability of being chosen than Class 1, for this Class 1 example. We'll draw a matrix of examples (rows) and the 10 class probabilities to see which ones are more likely to be chosen for a set of Class 1 examples."
   ]
  },
  {
   "cell_type": "code",
   "execution_count": 13,
   "metadata": {},
   "outputs": [
    {
     "data": {
      "image/png": "[encoded data removed]",
      "text/plain": [
       "<matplotlib.figure.Figure at 0x7f9030fd0a58>"
      ]
     },
     "metadata": {},
     "output_type": "display_data"
    }
   ],
   "source": [
    "# Convert the 2D array of probabilities into a dictionary of column vectors    \n",
    "cols_to_vectors_dict = {c:predictions_probabilities_with_1s_as_truth[:,c] for c in range(predictions_probabilities_with_1s_as_truth.shape[1])}\n",
    "df_cols_to_vectors = pd.DataFrame(cols_to_vectors_dict)\n",
    "    \n",
    "def plot_classification_probabilities(df, title, cmap=plt.cm.Blues):\n",
    "    \"\"\"Plot 10 columns of class probabilities for all the examples in our dataframe\"\"\"\n",
    "    sns.heatmap(df, annot=False, vmin=0, vmax=1, cmap=cmap, yticklabels=False)\n",
    "    plt.ylabel('Examples')\n",
    "    #plt.yticks(rotation=90)\n",
    "    plt.xlabel('Predicted label')\n",
    "    plt.xticks(rotation=45)\n",
    "    plt.title(title)\n",
    "plot_classification_probabilities(df_cols_to_vectors, title=\"Probabilities of each class being classified\\nfor labelled {} examples\".format(target_class))"
   ]
  },
  {
   "cell_type": "code",
   "execution_count": 14,
   "metadata": {},
   "outputs": [
    {
     "name": "stdout",
     "output_type": "stream",
     "text": [
      "Index-0 least confident Class 1 prediction is on row 39 of predictions_with_1s_as_truth\n"
     ]
    }
   ],
   "source": [
    "# use argsort to return an array of indices where the 0th item (index_to_investigate) represents the \n",
    "# index of the lowest item in predictions_probabilities_with_1s_as_truth (and the 1st item \n",
    "# is the next-lowest etc) and select the index of the least-confident prediction of class 1\n",
    "index_to_investigate = 0  # you can ask for 0 to 9th least-confident (where 9==most confident) item\n",
    "idx_least_confident_prediction_for_class_1 = predictions_probabilities_with_1s_as_truth[:,target_class].argsort()[index_to_investigate]\n",
    "print(\"Index-{} least confident Class {} prediction is on row {} of predictions_with_1s_as_truth\".format(index_to_investigate, target_class, idx_least_confident_prediction_for_class_1))"
   ]
  },
  {
   "cell_type": "code",
   "execution_count": 15,
   "metadata": {},
   "outputs": [
    {
     "name": "stdout",
     "output_type": "stream",
     "text": [
      "Probabilities:\n",
      " [  6.27088451e-07   3.96269005e-04   8.70094092e-06   4.94674663e-10\n",
      "   6.77184449e-05   9.98399714e-01   1.11846526e-04   2.25250852e-07\n",
      "   1.01389939e-03   9.99006775e-07]\n"
     ]
    },
    {
     "data": {
      "image/png": "[encoded data removed]",
      "text/plain": [
       "<matplotlib.figure.Figure at 0x7f902ecacc50>"
      ]
     },
     "metadata": {},
     "output_type": "display_data"
    }
   ],
   "source": [
    "# for this one example we can get all 10 class probabilities\n",
    "probabilities_per_class = predictions_probabilities_with_1s_as_truth[idx_least_confident_prediction_for_class_1]\n",
    "print(\"Probabilities:\\n\", probabilities_per_class)\n",
    "_ = plt.bar(np.arange(probabilities_per_class.shape[0]), probabilities_per_class)\n",
    "plt.ylabel(\"Probabilities\")\n",
    "plt.title(\"Probabilities for each predicted class (we want class {})\".format(target_class));"
   ]
  },
  {
   "cell_type": "code",
   "execution_count": 16,
   "metadata": {},
   "outputs": [
    {
     "name": "stdout",
     "output_type": "stream",
     "text": [
      "We'd *incorrectly* predicted class 5 for this example with probability 0.9983997138505155\n"
     ]
    }
   ],
   "source": [
    "# the *most* confident class has the highest probability\n",
    "idx_most_confident_class_for_this_example = probabilities_per_class.argsort()[-1]\n",
    "print(\"We'd *incorrectly* predicted class {} for this example with probability {}\".format(idx_most_confident_class_for_this_example, probabilities_per_class[idx_most_confident_class_for_this_example]))"
   ]
  },
  {
   "cell_type": "markdown",
   "metadata": {},
   "source": [
    "# Show image for this mis-predicted example\n",
    "\n",
    "We can show the image and class (1) for this example, the cell above shows the mis-predicted label."
   ]
  },
  {
   "cell_type": "code",
   "execution_count": 17,
   "metadata": {},
   "outputs": [
    {
     "name": "stdout",
     "output_type": "stream",
     "text": [
      "y (target label) =  1\n",
      "Image for X[420] = \n"
     ]
    },
    {
     "data": {
      "image/png": "[encoded data removed]",
      "text/plain": [
       "<matplotlib.figure.Figure at 0x7f902e93e208>"
      ]
     },
     "metadata": {},
     "output_type": "display_data"
    }
   ],
   "source": [
    "idx_for_truth_for_this_example = np.arange(true_labels_1s_indices.shape[0])[true_labels_1s_indices][idx_least_confident_prediction_for_class_1]\n",
    "show_example(idx_for_truth_for_this_example, X_test, y_test)"
   ]
  },
  {
   "cell_type": "code",
   "execution_count": 18,
   "metadata": {},
   "outputs": [
    {
     "name": "stdout",
     "output_type": "stream",
     "text": [
      "y (target label) =  1\n",
      "Image for X[420] = \n"
     ]
    },
    {
     "data": {
      "image/png": "[encoded data removed]",
      "text/plain": [
       "<matplotlib.figure.Figure at 0x7f9030f8abe0>"
      ]
     },
     "metadata": {},
     "output_type": "display_data"
    }
   ],
   "source": [
    "show_example(idx_for_truth_for_this_example, X_test_greyscale, y_test)"
   ]
  },
  {
   "cell_type": "markdown",
   "metadata": {},
   "source": [
    "# Next steps\n",
    "\n",
    "* Now we can see which image is mis-classified, you should look at lots more examples\n",
    "* Understand why the misclassification might occur\n",
    "* Might other features help?\n",
    "* Might our greyscale cut-off process be sub-optimal?"
   ]
  },
  {
   "cell_type": "markdown",
   "metadata": {},
   "source": [
    "# Confirm Notebook ran to completion"
   ]
  },
  {
   "cell_type": "code",
   "execution_count": 19,
   "metadata": {},
   "outputs": [
    {
     "name": "stdout",
     "output_type": "stream",
     "text": [
      "Completed running this Notebook at: 2017-10-04 11:56:22.805217\n"
     ]
    }
   ],
   "source": [
    "print(\"Completed running this Notebook at:\", datetime.datetime.now())"
   ]
  }
 ],
 "metadata": {
  "kernelspec": {
   "display_name": "Python 3",
   "language": "python",
   "name": "python3"
  },
  "language_info": {
   "codemirror_mode": {
    "name": "ipython",
    "version": 3
   },
   "file_extension": ".py",
   "mimetype": "text/x-python",
   "name": "python",
   "nbconvert_exporter": "python",
   "pygments_lexer": "ipython3",
   "version": "3.6.2"
  }
 },
 "nbformat": 4,
 "nbformat_minor": 1
}
