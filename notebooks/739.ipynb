{
 "cells": [
  {
   "cell_type": "code",
   "execution_count": 1,
   "id": "ac357f1e-a261-4b28-838b-636dbd16c084",
   "metadata": {},
   "outputs": [
    {
     "name": "stdout",
     "output_type": "stream",
     "text": [
      "Looking in indexes: https://pypi.tuna.tsinghua.edu.cn/simple\n",
      "Requirement already satisfied: pipe in c:\\conda\\envs\\data-science\\lib\\site-packages (2.0)\n"
     ]
    }
   ],
   "source": [
    "# 安装pipe库\n",
    "!pip install pipe -i https://pypi.tuna.tsinghua.edu.cn/simple"
   ]
  },
  {
   "cell_type": "markdown",
   "id": "74d29de6-0278-48e2-b3e7-694410c9ff62",
   "metadata": {},
   "source": [
    "# 2 在Python中配合pipe灵活使用链式写法"
   ]
  },
  {
   "cell_type": "code",
   "execution_count": 2,
   "id": "fe4e53b8-60f5-4af4-bf2f-d3caadd1e06c",
   "metadata": {},
   "outputs": [
    {
     "data": {
      "text/plain": [
       "[0, 4, 16, 36, 64]"
      ]
     },
     "execution_count": 2,
     "metadata": {},
     "output_type": "execute_result"
    }
   ],
   "source": [
    "import pipe\n",
    "\n",
    "list(\n",
    "    range(10) | \n",
    "    pipe.filter(lambda x: x % 2 == 0) | \n",
    "    pipe.select(lambda x: x ** 2)\n",
    ")"
   ]
  },
  {
   "cell_type": "code",
   "execution_count": 3,
   "id": "b0f97288-7b96-4351-a2d6-334ccfd32221",
   "metadata": {},
   "outputs": [
    {
     "data": {
      "text/plain": [
       "[0, 4, 16, 36, 64]"
      ]
     },
     "execution_count": 3,
     "metadata": {},
     "output_type": "execute_result"
    }
   ],
   "source": [
    "from pipe import Pipe\n",
    "\n",
    "(\n",
    "    range(10) | \n",
    "    pipe.filter(lambda x: x % 2 == 0) | \n",
    "    pipe.select(lambda x: x ** 2) |\n",
    "    Pipe(list)\n",
    ")"
   ]
  },
  {
   "cell_type": "markdown",
   "id": "96b9e198-ae48-4408-b62e-d3927d92dc33",
   "metadata": {},
   "source": [
    "## 2.1 pipe中常用的管道操作函数"
   ]
  },
  {
   "cell_type": "markdown",
   "id": "5e9f7616-2071-4c5e-8a9f-c9fe7abcd273",
   "metadata": {},
   "source": [
    "### 2.1.1 使用traverse()展平嵌套数组"
   ]
  },
  {
   "cell_type": "code",
   "execution_count": 4,
   "id": "a8f2d9b9-e39c-4d23-acae-5b2c28336ae5",
   "metadata": {},
   "outputs": [
    {
     "data": {
      "text/plain": [
       "[1, 2, 3, 4, 5, 6, 7, 8, 9, 10, 11]"
      ]
     },
     "execution_count": 4,
     "metadata": {},
     "output_type": "execute_result"
    }
   ],
   "source": [
    "(\n",
    "    [1, [2, 3, [4, 5]], 6, [7, 8, [9, [10, 11]]]] | \n",
    "    pipe.traverse | \n",
    "    Pipe(list)\n",
    ")"
   ]
  },
  {
   "cell_type": "markdown",
   "id": "43679f44-3a64-4bf0-8943-98e649771c5a",
   "metadata": {},
   "source": [
    "### 2.1.2 使用dedup()进行顺序去重"
   ]
  },
  {
   "cell_type": "code",
   "execution_count": 5,
   "id": "754509f6-6039-4963-a1ec-857e0065daa2",
   "metadata": {},
   "outputs": [
    {
     "data": {
      "text/plain": [
       "[-1, 0, 1, 2, 3]"
      ]
     },
     "execution_count": 5,
     "metadata": {},
     "output_type": "execute_result"
    }
   ],
   "source": [
    "(\n",
    "    [-1, 0, 0, 0, 1, 2, 3] | \n",
    "    pipe.dedup |\n",
    "    Pipe(list)\n",
    ")"
   ]
  },
  {
   "cell_type": "code",
   "execution_count": 6,
   "id": "90840aa1-4245-4d94-9dfa-d72fd489d9c7",
   "metadata": {},
   "outputs": [
    {
     "data": {
      "text/plain": [
       "[-1, 0, 2, 3]"
      ]
     },
     "execution_count": 6,
     "metadata": {},
     "output_type": "execute_result"
    }
   ],
   "source": [
    "(\n",
    "    [-1, 0, 0, 0, 1, 2, 3] | \n",
    "    # 基于每个元素的绝对值进行去重\n",
    "    pipe.dedup(key=abs) |\n",
    "    Pipe(list)\n",
    ")"
   ]
  },
  {
   "cell_type": "markdown",
   "id": "0dacb4c4-ca7a-4c91-90b8-7c3ce84bedb5",
   "metadata": {},
   "source": [
    "### 2.1.3 使用filter()进行值过滤"
   ]
  },
  {
   "cell_type": "code",
   "execution_count": 7,
   "id": "1c405972-e448-48f1-9188-e182bd55ea3d",
   "metadata": {},
   "outputs": [
    {
     "data": {
      "text/plain": [
       "[6, 8]"
      ]
     },
     "execution_count": 7,
     "metadata": {},
     "output_type": "execute_result"
    }
   ],
   "source": [
    "(\n",
    "    [1, 4, 3, 2, 5, 6, 8] |\n",
    "    # 保留大于5的元素\n",
    "    pipe.filter(lambda x: x > 5) |\n",
    "    Pipe(list)\n",
    ")"
   ]
  },
  {
   "cell_type": "markdown",
   "id": "e62da638-e611-4765-924a-d7890c39c778",
   "metadata": {},
   "source": [
    "### 2.1.4 使用groupby()进行分组运算"
   ]
  },
  {
   "cell_type": "code",
   "execution_count": 8,
   "id": "f3225694-ded4-444f-832a-d2c47c6504df",
   "metadata": {},
   "outputs": [
    {
     "data": {
      "text/plain": [
       "[('女', <itertools._grouper at 0x217b3bf7490>),\n",
       " ('男', <itertools._grouper at 0x217b3bf7c40>)]"
      ]
     },
     "execution_count": 8,
     "metadata": {},
     "output_type": "execute_result"
    }
   ],
   "source": [
    "(\n",
    "    [\n",
    "        {\n",
    "            'name': 'a',\n",
    "            'age': 25,\n",
    "            'gender': '男'\n",
    "        },\n",
    "        {\n",
    "            'name': 'b',\n",
    "            'age': 26,\n",
    "            'gender': '男'\n",
    "        },\n",
    "        {\n",
    "            'name': 'c',\n",
    "            'age': 23,\n",
    "            'gender': '女'\n",
    "        }\n",
    "    ] |\n",
    "    # 基于gender字段进行分组\n",
    "    pipe.groupby(lambda item: item['gender']) |\n",
    "    Pipe(list)\n",
    ")"
   ]
  },
  {
   "cell_type": "code",
   "execution_count": 9,
   "id": "9fb31d14-5dbb-48c8-9ec0-6ef4969b2484",
   "metadata": {},
   "outputs": [
    {
     "data": {
      "text/plain": [
       "[{'女': 1}, {'男': 2}]"
      ]
     },
     "execution_count": 9,
     "metadata": {},
     "output_type": "execute_result"
    }
   ],
   "source": [
    "(\n",
    "    [\n",
    "        {\n",
    "            'name': 'a',\n",
    "            'age': 25,\n",
    "            'gender': '男'\n",
    "        },\n",
    "        {\n",
    "            'name': 'b',\n",
    "            'age': 26,\n",
    "            'gender': '男'\n",
    "        },\n",
    "        {\n",
    "            'name': 'c',\n",
    "            'age': 23,\n",
    "            'gender': '女'\n",
    "        }\n",
    "    ] |\n",
    "    # 基于gender字段进行分组\n",
    "    pipe.groupby(lambda item: item['gender']) |\n",
    "    # 分组计数\n",
    "    pipe.select(lambda group: {group[0]: len(list(group[1]))}) |\n",
    "    Pipe(list)\n",
    ")"
   ]
  },
  {
   "cell_type": "markdown",
   "id": "e8ac108b-f4a6-4a4b-abda-b0219bc375c3",
   "metadata": {},
   "source": [
    "### 2.1.5 使用select()对上一步结果进行自定义遍历运算"
   ]
  },
  {
   "cell_type": "code",
   "execution_count": 10,
   "id": "256e23b9-e421-43dd-855d-e562bc806492",
   "metadata": {},
   "outputs": [
    {
     "data": {
      "text/plain": [
       "[1, 1, 4, 27, 256, 3125, 46656, 823543, 16777216, 387420489]"
      ]
     },
     "execution_count": 10,
     "metadata": {},
     "output_type": "execute_result"
    }
   ],
   "source": [
    "(\n",
    "    range(10) |\n",
    "    pipe.select(lambda x: x ** x) |\n",
    "    Pipe(list)\n",
    ")"
   ]
  },
  {
   "cell_type": "markdown",
   "id": "c10a3c2f-9c8b-4687-962a-2c759c9ea851",
   "metadata": {},
   "source": [
    "### 2.1.6 使用sort()进行排序"
   ]
  },
  {
   "cell_type": "code",
   "execution_count": 11,
   "id": "900a64a1-636f-44df-a71b-6f764241f6dc",
   "metadata": {},
   "outputs": [
    {
     "data": {
      "text/plain": [
       "[-4, -2, 1, 3, 5]"
      ]
     },
     "execution_count": 11,
     "metadata": {},
     "output_type": "execute_result"
    }
   ],
   "source": [
    "[5, -4, 3, -2, 1] | pipe.sort() | Pipe(list)"
   ]
  },
  {
   "cell_type": "code",
   "execution_count": 12,
   "id": "0fac493a-0972-403d-b59b-7b8a232b6b29",
   "metadata": {},
   "outputs": [
    {
     "data": {
      "text/plain": [
       "[5, 3, 1, -2, -4]"
      ]
     },
     "execution_count": 12,
     "metadata": {},
     "output_type": "execute_result"
    }
   ],
   "source": [
    "[5, -4, 3, -2, 1] | pipe.sort(reverse=True) | Pipe(list)"
   ]
  },
  {
   "cell_type": "code",
   "execution_count": 13,
   "id": "58362529-c4c1-4a0a-a778-82b0ee72dec1",
   "metadata": {},
   "outputs": [
    {
     "data": {
      "text/plain": [
       "[1, -2, 3, -4, 5]"
      ]
     },
     "execution_count": 13,
     "metadata": {},
     "output_type": "execute_result"
    }
   ],
   "source": [
    "[5, -4, 3, -2, 1] | pipe.sort(key=abs) | Pipe(list)"
   ]
  }
 ],
 "metadata": {
  "kernelspec": {
   "display_name": "Python 3",
   "language": "python",
   "name": "python3"
  },
  "language_info": {
   "codemirror_mode": {
    "name": "ipython",
    "version": 3
   },
   "file_extension": ".py",
   "mimetype": "text/x-python",
   "name": "python",
   "nbconvert_exporter": "python",
   "pygments_lexer": "ipython3",
   "version": "3.8.13"
  }
 },
 "nbformat": 4,
 "nbformat_minor": 5
}
