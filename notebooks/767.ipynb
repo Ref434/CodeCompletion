{
 "cells": [
  {
   "cell_type": "code",
   "execution_count": 1,
   "metadata": {
    "execution": {
     "iopub.execute_input": "2020-09-18T10:00:39.153730Z",
     "iopub.status.busy": "2020-09-18T10:00:39.152752Z",
     "iopub.status.idle": "2020-09-18T10:00:39.481601Z",
     "shell.execute_reply": "2020-09-18T10:00:39.481601Z",
     "shell.execute_reply.started": "2020-09-18T09:40:34.112420Z"
    },
    "papermill": {
     "duration": 0.332878,
     "end_time": "2020-09-18T10:00:39.481601",
     "exception": false,
     "start_time": "2020-09-18T10:00:39.148723",
     "status": "completed"
    },
    "tags": []
   },
   "outputs": [
    {
     "name": "stderr",
     "output_type": "stream",
     "text": [
      "C:\\Conda\\envs\\temp\\lib\\site-packages\\ipykernel_launcher.py:6: FutureWarning: The pandas.datetime class is deprecated and will be removed from pandas in a future version. Import from datetime module instead.\n",
      "  \n"
     ]
    }
   ],
   "source": [
    "import pandas as pd\n",
    "\n",
    "df2 = pd.read_csv('demo2.csv')\n",
    "\n",
    "with open('result.txt', 'a+') as r:\n",
    "    r.write('df2：{}\\t{}\\n'.format(df2.mean().mean(), pd.datetime.now()))"
   ]
  }
 ],
 "metadata": {
  "kernelspec": {
   "display_name": "Python 3",
   "language": "python",
   "name": "python3"
  },
  "language_info": {
   "codemirror_mode": {
    "name": "ipython",
    "version": 3
   },
   "file_extension": ".py",
   "mimetype": "text/x-python",
   "name": "python",
   "nbconvert_exporter": "python",
   "pygments_lexer": "ipython3",
   "version": "3.7.9"
  },
  "papermill": {
   "duration": 2.181717,
   "end_time": "2020-09-18T10:00:39.803428",
   "environment_variables": {},
   "exception": null,
   "input_path": "C:\\Users\\pengz\\Desktop\\当期博客工作台\\pipeline/step2-2.ipynb",
   "output_path": "C:\\Users\\pengz\\Desktop\\当期博客工作台\\pipeline/step2-2.ipynb",
   "parameters": {},
   "start_time": "2020-09-18T10:00:37.621711",
   "version": "2.1.3"
  },
  "widgets": {
   "application/vnd.jupyter.widget-state+json": {
    "state": {},
    "version_major": 2,
    "version_minor": 0
   }
  }
 },
 "nbformat": 4,
 "nbformat_minor": 4
}