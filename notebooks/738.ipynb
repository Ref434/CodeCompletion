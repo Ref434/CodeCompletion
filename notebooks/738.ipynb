{
 "cells": [
  {
   "cell_type": "code",
   "execution_count": 1,
   "id": "22cd100c-382d-4a65-a22a-c6fc789f3ac5",
   "metadata": {},
   "outputs": [
    {
     "name": "stdout",
     "output_type": "stream",
     "text": [
      "Name: Fiona\n",
      "Version: 1.8.21\n",
      "Summary: Fiona reads and writes spatial data files\n",
      "Home-page: http://github.com/Toblerity/Fiona\n",
      "Author: Sean Gillies\n",
      "Author-email: sean.gillies@gmail.com\n",
      "License: BSD\n",
      "Location: c:\\conda\\envs\\geopandas-write-gdb-test\\lib\\site-packages\n",
      "Requires: attrs, certifi, click, click-plugins, cligj, munch, setuptools, six\n",
      "Required-by: geopandas\n"
     ]
    }
   ],
   "source": [
    "# 本文演示fiona版本\n",
    "!pip show fiona"
   ]
  },
  {
   "cell_type": "code",
   "execution_count": 2,
   "id": "97036bef-abec-41cc-89bd-ea5a5545b7c3",
   "metadata": {},
   "outputs": [
    {
     "name": "stdout",
     "output_type": "stream",
     "text": [
      "Name: GDAL\n",
      "Version: 3.5.2\n",
      "Summary: GDAL: Geospatial Data Abstraction Library\n",
      "Home-page: http://www.gdal.org\n",
      "Author: Frank Warmerdam\n",
      "Author-email: warmerdam@pobox.com\n",
      "License: MIT\n",
      "Location: c:\\conda\\envs\\geopandas-write-gdb-test\\lib\\site-packages\n",
      "Requires: \n",
      "Required-by: \n"
     ]
    }
   ],
   "source": [
    "# 本文演示gdal版本\n",
    "!pip show gdal"
   ]
  },
  {
   "cell_type": "code",
   "execution_count": 3,
   "id": "e54bb438-4ef3-4d26-bffd-f1b9c3df9afd",
   "metadata": {},
   "outputs": [
    {
     "data": {
      "text/plain": [
       "{'DXF': 'rw',\n",
       " 'CSV': 'raw',\n",
       " 'FileGDB': 'raw',\n",
       " 'OpenFileGDB': 'r',\n",
       " 'ESRIJSON': 'r',\n",
       " 'ESRI Shapefile': 'raw',\n",
       " 'FlatGeobuf': 'rw',\n",
       " 'GeoJSON': 'raw',\n",
       " 'GeoJSONSeq': 'rw',\n",
       " 'GPKG': 'raw',\n",
       " 'GML': 'rw',\n",
       " 'OGR_GMT': 'rw',\n",
       " 'GPX': 'rw',\n",
       " 'Idrisi': 'r',\n",
       " 'MapInfo File': 'raw',\n",
       " 'DGN': 'raw',\n",
       " 'PCIDSK': 'raw',\n",
       " 'OGR_PDS': 'r',\n",
       " 'S57': 'r',\n",
       " 'SQLite': 'raw',\n",
       " 'TopoJSON': 'r'}"
      ]
     },
     "execution_count": 3,
     "metadata": {},
     "output_type": "execute_result"
    }
   ],
   "source": [
    "import fiona\n",
    "\n",
    "fiona.supported_drivers"
   ]
  },
  {
   "cell_type": "markdown",
   "id": "d85792f8-29ed-4d59-9fac-17625a802200",
   "metadata": {},
   "source": [
    "## 2.2 在geopandas中测试写出gdb文件"
   ]
  },
  {
   "cell_type": "code",
   "execution_count": 4,
   "id": "92d41429-952e-4408-9b08-1777a4e07aee",
   "metadata": {},
   "outputs": [],
   "source": [
    "import geopandas as gpd\n",
    "from shapely.geometry import Point, LineString, Polygon\n",
    "\n",
    "demo_point_layer = gpd.GeoDataFrame(\n",
    "    {\n",
    "        '数据字段测试': ['点要素测试数据字段测试'],\n",
    "        'geometry': [Point(0, 0)]\n",
    "    },\n",
    "    crs='EPSG:4326'\n",
    ")\n",
    "demo_linestring_layer = gpd.GeoDataFrame(\n",
    "    {\n",
    "        '数据字段测试': ['线要素测试数据字段测试'],\n",
    "        'geometry': [LineString([(0, 0), (1, 1)])]\n",
    "    },\n",
    "    crs='EPSG:4326'\n",
    ")\n",
    "demo_polygon_layer = gpd.GeoDataFrame(\n",
    "    {\n",
    "        '数据字段测试': ['面要素测试数据字段测试'],\n",
    "        'geometry': [Polygon([(0, 0), (1, 1), (1, 0)])]\n",
    "    },\n",
    "    crs='EPSG:4326'\n",
    ")\n",
    "\n",
    "# 写出到示例gdb文件中\n",
    "demo_point_layer.to_file('./demo.gdb', layer='点图层测试', driver='FileGDB')\n",
    "demo_linestring_layer.to_file('./demo.gdb', layer='线图层测试', driver='FileGDB')\n",
    "demo_polygon_layer.to_file('./demo.gdb', layer='面图层测试', driver='FileGDB')"
   ]
  },
  {
   "cell_type": "code",
   "execution_count": 5,
   "id": "91ccd7e2-beae-401e-b34d-7b6d6bc305a6",
   "metadata": {},
   "outputs": [
    {
     "data": {
      "text/plain": [
       "['点图层测试', '线图层测试', '面图层测试']"
      ]
     },
     "execution_count": 5,
     "metadata": {},
     "output_type": "execute_result"
    }
   ],
   "source": [
    "fiona.listlayers('./demo.gdb')"
   ]
  },
  {
   "cell_type": "code",
   "execution_count": 6,
   "id": "3df0b441-814d-4f37-bf09-152078727075",
   "metadata": {},
   "outputs": [
    {
     "data": {
      "text/html": [
       "<div>\n",
       "<style scoped>\n",
       "    .dataframe tbody tr th:only-of-type {\n",
       "        vertical-align: middle;\n",
       "    }\n",
       "\n",
       "    .dataframe tbody tr th {\n",
       "        vertical-align: top;\n",
       "    }\n",
       "\n",
       "    .dataframe thead th {\n",
       "        text-align: right;\n",
       "    }\n",
       "</style>\n",
       "<table border=\"1\" class=\"dataframe\">\n",
       "  <thead>\n",
       "    <tr style=\"text-align: right;\">\n",
       "      <th></th>\n",
       "      <th>数据字段测试</th>\n",
       "      <th>geometry</th>\n",
       "    </tr>\n",
       "  </thead>\n",
       "  <tbody>\n",
       "    <tr>\n",
       "      <th>0</th>\n",
       "      <td>点要素测试数据字段测试</td>\n",
       "      <td>POINT (0.00000 0.00000)</td>\n",
       "    </tr>\n",
       "  </tbody>\n",
       "</table>\n",
       "</div>"
      ],
      "text/plain": [
       "        数据字段测试                 geometry\n",
       "0  点要素测试数据字段测试  POINT (0.00000 0.00000)"
      ]
     },
     "execution_count": 6,
     "metadata": {},
     "output_type": "execute_result"
    }
   ],
   "source": [
    "gpd.read_file('./demo.gdb', layer='点图层测试')"
   ]
  },
  {
   "cell_type": "code",
   "execution_count": 7,
   "id": "123fd392-072e-49ee-af62-7bda2437af70",
   "metadata": {},
   "outputs": [
    {
     "data": {
      "text/html": [
       "<div>\n",
       "<style scoped>\n",
       "    .dataframe tbody tr th:only-of-type {\n",
       "        vertical-align: middle;\n",
       "    }\n",
       "\n",
       "    .dataframe tbody tr th {\n",
       "        vertical-align: top;\n",
       "    }\n",
       "\n",
       "    .dataframe thead th {\n",
       "        text-align: right;\n",
       "    }\n",
       "</style>\n",
       "<table border=\"1\" class=\"dataframe\">\n",
       "  <thead>\n",
       "    <tr style=\"text-align: right;\">\n",
       "      <th></th>\n",
       "      <th>数据字段测试</th>\n",
       "      <th>geometry</th>\n",
       "    </tr>\n",
       "  </thead>\n",
       "  <tbody>\n",
       "    <tr>\n",
       "      <th>0</th>\n",
       "      <td>线要素测试数据字段测试</td>\n",
       "      <td>MULTILINESTRING ((0.00000 0.00000, 1.00000 1.0...</td>\n",
       "    </tr>\n",
       "  </tbody>\n",
       "</table>\n",
       "</div>"
      ],
      "text/plain": [
       "        数据字段测试                                           geometry\n",
       "0  线要素测试数据字段测试  MULTILINESTRING ((0.00000 0.00000, 1.00000 1.0..."
      ]
     },
     "execution_count": 7,
     "metadata": {},
     "output_type": "execute_result"
    }
   ],
   "source": [
    "gpd.read_file('./demo.gdb', layer='线图层测试')"
   ]
  },
  {
   "cell_type": "code",
   "execution_count": 8,
   "id": "4408fde3-e9e2-4435-8c40-747611c90415",
   "metadata": {},
   "outputs": [
    {
     "data": {
      "text/html": [
       "<div>\n",
       "<style scoped>\n",
       "    .dataframe tbody tr th:only-of-type {\n",
       "        vertical-align: middle;\n",
       "    }\n",
       "\n",
       "    .dataframe tbody tr th {\n",
       "        vertical-align: top;\n",
       "    }\n",
       "\n",
       "    .dataframe thead th {\n",
       "        text-align: right;\n",
       "    }\n",
       "</style>\n",
       "<table border=\"1\" class=\"dataframe\">\n",
       "  <thead>\n",
       "    <tr style=\"text-align: right;\">\n",
       "      <th></th>\n",
       "      <th>数据字段测试</th>\n",
       "      <th>geometry</th>\n",
       "    </tr>\n",
       "  </thead>\n",
       "  <tbody>\n",
       "    <tr>\n",
       "      <th>0</th>\n",
       "      <td>面要素测试数据字段测试</td>\n",
       "      <td>MULTIPOLYGON (((0.00000 0.00000, 1.00000 1.000...</td>\n",
       "    </tr>\n",
       "  </tbody>\n",
       "</table>\n",
       "</div>"
      ],
      "text/plain": [
       "        数据字段测试                                           geometry\n",
       "0  面要素测试数据字段测试  MULTIPOLYGON (((0.00000 0.00000, 1.00000 1.000..."
      ]
     },
     "execution_count": 8,
     "metadata": {},
     "output_type": "execute_result"
    }
   ],
   "source": [
    "gpd.read_file('./demo.gdb', layer='面图层测试')"
   ]
  },
  {
   "cell_type": "code",
   "execution_count": 9,
   "id": "943b72a2-9a78-4984-9847-a8d9f9cec913",
   "metadata": {},
   "outputs": [
    {
     "data": {
      "text/html": [
       "<div>\n",
       "<style scoped>\n",
       "    .dataframe tbody tr th:only-of-type {\n",
       "        vertical-align: middle;\n",
       "    }\n",
       "\n",
       "    .dataframe tbody tr th {\n",
       "        vertical-align: top;\n",
       "    }\n",
       "\n",
       "    .dataframe thead th {\n",
       "        text-align: right;\n",
       "    }\n",
       "</style>\n",
       "<table border=\"1\" class=\"dataframe\">\n",
       "  <thead>\n",
       "    <tr style=\"text-align: right;\">\n",
       "      <th></th>\n",
       "      <th>数据字段测试</th>\n",
       "      <th>geometry</th>\n",
       "    </tr>\n",
       "  </thead>\n",
       "  <tbody>\n",
       "    <tr>\n",
       "      <th>0</th>\n",
       "      <td>面要素测试数据字段测试</td>\n",
       "      <td>POLYGON ((0.00000 0.00000, 1.00000 1.00000, 1....</td>\n",
       "    </tr>\n",
       "  </tbody>\n",
       "</table>\n",
       "</div>"
      ],
      "text/plain": [
       "        数据字段测试                                           geometry\n",
       "0  面要素测试数据字段测试  POLYGON ((0.00000 0.00000, 1.00000 1.00000, 1...."
      ]
     },
     "execution_count": 9,
     "metadata": {},
     "output_type": "execute_result"
    }
   ],
   "source": [
    "# 利用dissolve配合唯一字段进行矢量类型还原\n",
    "(\n",
    "    gpd\n",
    "    .read_file('./demo.gdb', layer='面图层测试')\n",
    "    .dissolve(by='数据字段测试', as_index=False)\n",
    ")"
   ]
  }
 ],
 "metadata": {
  "kernelspec": {
   "display_name": "Python 3",
   "language": "python",
   "name": "python3"
  },
  "language_info": {
   "codemirror_mode": {
    "name": "ipython",
    "version": 3
   },
   "file_extension": ".py",
   "mimetype": "text/x-python",
   "name": "python",
   "nbconvert_exporter": "python",
   "pygments_lexer": "ipython3",
   "version": "3.8.13"
  }
 },
 "nbformat": 4,
 "nbformat_minor": 5
}
