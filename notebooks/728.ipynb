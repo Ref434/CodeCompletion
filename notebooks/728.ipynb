{
 "cells": [
  {
   "cell_type": "code",
   "execution_count": 1,
   "id": "5a4fc257-12da-4e25-83c9-8e98d251f3fa",
   "metadata": {},
   "outputs": [
    {
     "data": {
      "text/plain": [
       "'2.6.0'"
      ]
     },
     "execution_count": 1,
     "metadata": {},
     "output_type": "execute_result"
    }
   ],
   "source": [
    "import fabric\n",
    "\n",
    "fabric.__version__"
   ]
  },
  {
   "cell_type": "markdown",
   "id": "344953b5-c85d-4d1b-a86f-a56ab284ff60",
   "metadata": {},
   "source": [
    "# 2 使用fabric玩转远程服务器管理"
   ]
  },
  {
   "cell_type": "markdown",
   "id": "95e32b78-8850-4d91-ba3b-cbc7d8c8f4aa",
   "metadata": {
    "jp-MarkdownHeadingCollapsed": true,
    "tags": []
   },
   "source": [
    "## 2.1 连接到远程服务器并执行终端命令"
   ]
  },
  {
   "cell_type": "code",
   "execution_count": 2,
   "id": "e4c74fc6-3ce7-454b-b496-a5152a440809",
   "metadata": {},
   "outputs": [
    {
     "name": "stdout",
     "output_type": "stream",
     "text": [
      "/home/feffery\n"
     ]
    }
   ],
   "source": [
    "from fabric import Connection\n",
    "\n",
    "# 建议将ssh连接所需参数变量化\n",
    "user = '用户名'\n",
    "host = 'host地址'\n",
    "password = '密码'\n",
    "\n",
    "\n",
    "# 利用fabric.Connection快捷创建连接\n",
    "c = Connection(host=f'{user}@{host}',\n",
    "               connect_kwargs=dict(\n",
    "                   password=password\n",
    "               ))\n",
    "\n",
    "# 利用run方法直接执行传入的命令\n",
    "c.run('pwd');"
   ]
  },
  {
   "cell_type": "code",
   "execution_count": 3,
   "id": "38f92467-2acb-4f81-8bc3-140db82141e0",
   "metadata": {},
   "outputs": [
    {
     "name": "stdout",
     "output_type": "stream",
     "text": [
      "Filesystem      Size  Used Avail Use% Mounted on\n",
      "devtmpfs        1.8G     0  1.8G   0% /dev\n",
      "tmpfs           1.8G     0  1.8G   0% /dev/shm\n",
      "tmpfs           1.8G  1.3M  1.8G   1% /run\n",
      "tmpfs           1.8G     0  1.8G   0% /sys/fs/cgroup\n",
      "/dev/vda1        40G  4.6G   33G  13% /\n",
      "tmpfs           365M     0  365M   0% /run/user/0\n",
      "tmpfs           365M     0  365M   0% /run/user/1000\n",
      "\n"
     ]
    }
   ],
   "source": [
    "# hide=True抑制run()过程对执行结果的自动打印\n",
    "output = c.run('df -h', hide=True).stdout\n",
    "print(output)"
   ]
  },
  {
   "cell_type": "markdown",
   "id": "61b92eb0-d749-4892-9b4f-6f8b9ad22eb1",
   "metadata": {},
   "source": [
    "## 2.2 配置sudo命令密码自动预填入"
   ]
  },
  {
   "cell_type": "markdown",
   "id": "b9bcbccd-1493-475e-bc64-2175daed53d7",
   "metadata": {},
   "source": [
    "### 2.2.1 方式1：配合invoke.Responder"
   ]
  },
  {
   "cell_type": "code",
   "execution_count": 4,
   "id": "108840e8-478c-4a94-b50d-f0f195efd13d",
   "metadata": {},
   "outputs": [
    {
     "name": "stdout",
     "output_type": "stream",
     "text": [
      "[sudo] password for feffery: \n",
      "/home/feffery\n"
     ]
    }
   ],
   "source": [
    "from invoke import Responder\n",
    "\n",
    "# 配置命令行内容监听规则\n",
    "sudopass = Responder(\n",
    "    pattern=f'\\[sudo\\] password for {user}:',\n",
    "    response=password+'\\n'\n",
    ")\n",
    "\n",
    "# 注意需要设置pty=True\n",
    "c.run('sudo pwd', pty=True, watchers=[sudopass]);"
   ]
  },
  {
   "cell_type": "markdown",
   "id": "ca01d7b2-d1d7-48ec-9888-03b466780f8d",
   "metadata": {},
   "source": [
    "### 2.2.2 方式2：利用fabric.Config设置sudo密码"
   ]
  },
  {
   "cell_type": "code",
   "execution_count": 5,
   "id": "a1b2350f-8da8-4667-967b-7f9f0bf8995e",
   "metadata": {},
   "outputs": [
    {
     "name": "stderr",
     "output_type": "stream",
     "text": [
      "[sudo] password: "
     ]
    },
    {
     "name": "stdout",
     "output_type": "stream",
     "text": [
      "/home/feffery\n"
     ]
    }
   ],
   "source": [
    "from fabric import Config\n",
    "\n",
    "# 预先配置sudo密码\n",
    "config = Config(overrides={\n",
    "    'sudo': {\n",
    "        'password': password\n",
    "    }\n",
    "})\n",
    "\n",
    "c = Connection(host=f'{user}@{host}', \n",
    "               connect_kwargs={'password': password},\n",
    "               config=config)\n",
    "\n",
    "c.sudo('pwd');"
   ]
  },
  {
   "cell_type": "markdown",
   "id": "155502c9-1bc0-4b90-b254-94d005388181",
   "metadata": {},
   "source": [
    "## 2.3 远程文件传输"
   ]
  },
  {
   "cell_type": "markdown",
   "id": "53021682-81e4-4556-8eb6-28597d6b2abb",
   "metadata": {},
   "source": [
    "### 2.3.1 从本地上传文件到服务器"
   ]
  },
  {
   "cell_type": "code",
   "execution_count": 6,
   "id": "6d2dae1c-a148-4858-bce1-13403f005238",
   "metadata": {},
   "outputs": [
    {
     "name": "stdout",
     "output_type": "stream",
     "text": [
      "1"
     ]
    }
   ],
   "source": [
    "c = Connection(host=f'{user}@{host}', \n",
    "               connect_kwargs={'password': password})\n",
    "\n",
    "# 创建示例文件\n",
    "with open('file_transfer.txt', 'w') as d:\n",
    "    d.write('1')\n",
    "\n",
    "# 利用put方法上传至服务器\n",
    "c.put('file_transfer.txt', remote='/home/feffery/')\n",
    "\n",
    "# 打印已上传文件内容\n",
    "c.run('cat /home/feffery/file_transfer.txt');"
   ]
  },
  {
   "cell_type": "markdown",
   "id": "3e9cfdd7-1b1f-4eb6-b44a-42ff5a6a24cd",
   "metadata": {
    "tags": []
   },
   "source": [
    "### 2.3.2 从服务器下载指定文件到本地"
   ]
  },
  {
   "cell_type": "code",
   "execution_count": 7,
   "id": "785bfe86-ffd1-4e1b-b958-08012308f793",
   "metadata": {},
   "outputs": [
    {
     "data": {
      "text/plain": [
       "<Result cmd='echo \"\\n2\" >> file_transfer.txt' exited=0>"
      ]
     },
     "execution_count": 7,
     "metadata": {},
     "output_type": "execute_result"
    }
   ],
   "source": [
    "c = Connection(host=f'{user}@{host}', \n",
    "               connect_kwargs={'password': password})\n",
    "\n",
    "# 向文件末尾追加行\n",
    "c.run('echo \"\\n2\" >> file_transfer.txt')"
   ]
  },
  {
   "cell_type": "code",
   "execution_count": 8,
   "id": "dad16b18-224d-41a0-a66a-b29c97dd8465",
   "metadata": {},
   "outputs": [
    {
     "data": {
      "text/plain": [
       "<fabric.transfer.Result at 0x22e3f1a1e48>"
      ]
     },
     "execution_count": 8,
     "metadata": {},
     "output_type": "execute_result"
    }
   ],
   "source": [
    "c.get('/home/feffery/file_transfer.txt')"
   ]
  },
  {
   "cell_type": "code",
   "execution_count": 9,
   "id": "64fcf957-7dd2-4f9d-9a6f-7591ccead9c0",
   "metadata": {},
   "outputs": [
    {
     "name": "stdout",
     "output_type": "stream",
     "text": [
      "1\n",
      "2\n",
      "\n"
     ]
    }
   ],
   "source": [
    "print(open('file_transfer.txt').read())"
   ]
  }
 ],
 "metadata": {
  "kernelspec": {
   "display_name": "Python 3 (ipykernel)",
   "language": "python",
   "name": "python3"
  },
  "language_info": {
   "codemirror_mode": {
    "name": "ipython",
    "version": 3
   },
   "file_extension": ".py",
   "mimetype": "text/x-python",
   "name": "python",
   "nbconvert_exporter": "python",
   "pygments_lexer": "ipython3",
   "version": "3.7.11"
  }
 },
 "nbformat": 4,
 "nbformat_minor": 5
}
