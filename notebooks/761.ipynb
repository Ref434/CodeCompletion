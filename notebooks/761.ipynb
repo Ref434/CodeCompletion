{
 "cells": [
  {
   "cell_type": "code",
   "execution_count": 1,
   "metadata": {
    "execution": {
     "iopub.execute_input": "2020-07-31T10:02:10.353701Z",
     "iopub.status.busy": "2020-07-31T10:02:10.353701Z",
     "iopub.status.idle": "2020-07-31T10:02:10.357691Z",
     "shell.execute_reply": "2020-07-31T10:02:10.356691Z",
     "shell.execute_reply.started": "2020-07-31T10:02:10.353701Z"
    }
   },
   "outputs": [],
   "source": [
    "import warnings\n",
    "\n",
    "warnings.filterwarnings('ignore')"
   ]
  },
  {
   "cell_type": "markdown",
   "metadata": {},
   "source": [
    "# 2 利用tqdm玩转进度条"
   ]
  },
  {
   "cell_type": "markdown",
   "metadata": {},
   "source": [
    "## 2.1 基础用法"
   ]
  },
  {
   "cell_type": "markdown",
   "metadata": {},
   "source": [
    "- **tqdm.tqdm**"
   ]
  },
  {
   "cell_type": "code",
   "execution_count": 2,
   "metadata": {
    "execution": {
     "iopub.execute_input": "2020-07-31T10:02:10.358689Z",
     "iopub.status.busy": "2020-07-31T10:02:10.358689Z",
     "iopub.status.idle": "2020-07-31T10:02:12.402221Z",
     "shell.execute_reply": "2020-07-31T10:02:12.402221Z",
     "shell.execute_reply.started": "2020-07-31T10:02:10.358689Z"
    }
   },
   "outputs": [
    {
     "name": "stderr",
     "output_type": "stream",
     "text": [
      "100%|██████████████████████████████████████████████████████████████████████████████████| 10/10 [00:02<00:00,  4.94it/s]\n"
     ]
    }
   ],
   "source": [
    "from tqdm import tqdm\n",
    "import time\n",
    "\n",
    "for i in tqdm(range(10)):\n",
    "    \n",
    "    time.sleep(0.2)"
   ]
  },
  {
   "cell_type": "markdown",
   "metadata": {},
   "source": [
    "- **配合列表推导**"
   ]
  },
  {
   "cell_type": "code",
   "execution_count": 3,
   "metadata": {
    "execution": {
     "iopub.execute_input": "2020-07-31T10:02:12.404216Z",
     "iopub.status.busy": "2020-07-31T10:02:12.404216Z",
     "iopub.status.idle": "2020-07-31T10:02:14.426808Z",
     "shell.execute_reply": "2020-07-31T10:02:14.426808Z",
     "shell.execute_reply.started": "2020-07-31T10:02:12.404216Z"
    }
   },
   "outputs": [
    {
     "name": "stderr",
     "output_type": "stream",
     "text": [
      "100%|██████████████████████████████████████████████████████████████████████████████████| 10/10 [00:02<00:00,  4.96it/s]\n"
     ]
    }
   ],
   "source": [
    "temp = [time.sleep(0.2) for i in tqdm(range(10))]"
   ]
  },
  {
   "cell_type": "markdown",
   "metadata": {},
   "source": [
    "- **trange**"
   ]
  },
  {
   "cell_type": "code",
   "execution_count": 4,
   "metadata": {
    "execution": {
     "iopub.execute_input": "2020-07-31T10:02:14.428802Z",
     "iopub.status.busy": "2020-07-31T10:02:14.428802Z",
     "iopub.status.idle": "2020-07-31T10:02:16.445408Z",
     "shell.execute_reply": "2020-07-31T10:02:16.444411Z",
     "shell.execute_reply.started": "2020-07-31T10:02:14.428802Z"
    }
   },
   "outputs": [
    {
     "name": "stderr",
     "output_type": "stream",
     "text": [
      "100%|██████████████████████████████████████████████████████████████████████████████████| 10/10 [00:02<00:00,  4.98it/s]\n"
     ]
    }
   ],
   "source": [
    "from tqdm import trange\n",
    "\n",
    "for i in trange(10):\n",
    "    \n",
    "    time.sleep(0.2)"
   ]
  },
  {
   "cell_type": "markdown",
   "metadata": {},
   "source": [
    "- **desc说明文字**"
   ]
  },
  {
   "cell_type": "code",
   "execution_count": 5,
   "metadata": {
    "execution": {
     "iopub.execute_input": "2020-07-31T10:02:16.446405Z",
     "iopub.status.busy": "2020-07-31T10:02:16.446405Z",
     "iopub.status.idle": "2020-07-31T10:02:18.469034Z",
     "shell.execute_reply": "2020-07-31T10:02:18.469034Z",
     "shell.execute_reply.started": "2020-07-31T10:02:16.446405Z"
    }
   },
   "outputs": [
    {
     "name": "stderr",
     "output_type": "stream",
     "text": [
      "这是一个进度条: 100%|██████████████████████████████████████████████████████████████████| 10/10 [00:02<00:00,  4.97it/s]\n"
     ]
    }
   ],
   "source": [
    "for i in tqdm(range(10), desc='这是一个进度条'):\n",
    "    \n",
    "    time.sleep(0.2)"
   ]
  },
  {
   "cell_type": "markdown",
   "metadata": {},
   "source": [
    "- **实时修改说明文字**"
   ]
  },
  {
   "cell_type": "code",
   "execution_count": 6,
   "metadata": {
    "execution": {
     "iopub.execute_input": "2020-07-31T10:02:18.469994Z",
     "iopub.status.busy": "2020-07-31T10:02:18.469994Z",
     "iopub.status.idle": "2020-07-31T10:02:20.495575Z",
     "shell.execute_reply": "2020-07-31T10:02:20.495575Z",
     "shell.execute_reply.started": "2020-07-31T10:02:18.469994Z"
    }
   },
   "outputs": [
    {
     "name": "stderr",
     "output_type": "stream",
     "text": [
      "第9轮: 100%|███████████████████████████████████████████████████████████████████████████| 10/10 [00:02<00:00,  4.95it/s]  \n"
     ]
    }
   ],
   "source": [
    "bar = tqdm(range(10))\n",
    "for i in bar:\n",
    "    time.sleep(0.2)\n",
    "    bar.set_description(f'第{i}轮')"
   ]
  },
  {
   "cell_type": "markdown",
   "metadata": {},
   "source": [
    "- **对字典进行迭代**"
   ]
  },
  {
   "cell_type": "code",
   "execution_count": 7,
   "metadata": {
    "execution": {
     "iopub.execute_input": "2020-07-31T10:02:20.496572Z",
     "iopub.status.busy": "2020-07-31T10:02:20.496572Z",
     "iopub.status.idle": "2020-07-31T10:02:22.784488Z",
     "shell.execute_reply": "2020-07-31T10:02:22.784488Z",
     "shell.execute_reply.started": "2020-07-31T10:02:20.496572Z"
    }
   },
   "outputs": [
    {
     "name": "stderr",
     "output_type": "stream",
     "text": [
      "10it [00:02,  4.96it/s]\n"
     ]
    }
   ],
   "source": [
    "import pandas as pd\n",
    "\n",
    "df = pd.DataFrame({'a': range(10)})\n",
    "\n",
    "for row in tqdm(df.itertuples()):\n",
    "    time.sleep(0.2)"
   ]
  },
  {
   "cell_type": "markdown",
   "metadata": {},
   "source": [
    "## 2.2 配合jupyter notebook/jupyter lab的美观进度条"
   ]
  },
  {
   "cell_type": "code",
   "execution_count": 8,
   "metadata": {
    "execution": {
     "iopub.execute_input": "2020-07-31T10:02:22.785450Z",
     "iopub.status.busy": "2020-07-31T10:02:22.785450Z",
     "iopub.status.idle": "2020-07-31T10:02:24.859993Z",
     "shell.execute_reply": "2020-07-31T10:02:24.859993Z",
     "shell.execute_reply.started": "2020-07-31T10:02:22.785450Z"
    }
   },
   "outputs": [
    {
     "data": {
      "application/vnd.jupyter.widget-view+json": {
       "model_id": "5c1ff3838adc4b90992ffe31fd5d4747",
       "version_major": 2,
       "version_minor": 0
      },
      "text/plain": [
       "HBox(children=(FloatProgress(value=0.0, max=10.0), HTML(value='')))"
      ]
     },
     "metadata": {},
     "output_type": "display_data"
    },
    {
     "name": "stdout",
     "output_type": "stream",
     "text": [
      "\n"
     ]
    }
   ],
   "source": [
    "from tqdm.notebook import trange\n",
    "\n",
    "for i in trange(10):\n",
    "    \n",
    "    time.sleep(0.2)"
   ]
  },
  {
   "cell_type": "markdown",
   "metadata": {},
   "source": [
    "## 2.3 配合pandas中的apply"
   ]
  },
  {
   "cell_type": "code",
   "execution_count": 9,
   "metadata": {
    "execution": {
     "iopub.execute_input": "2020-07-31T10:02:24.861897Z",
     "iopub.status.busy": "2020-07-31T10:02:24.861897Z",
     "iopub.status.idle": "2020-07-31T10:02:26.914407Z",
     "shell.execute_reply": "2020-07-31T10:02:26.914407Z",
     "shell.execute_reply.started": "2020-07-31T10:02:24.861897Z"
    }
   },
   "outputs": [
    {
     "data": {
      "application/vnd.jupyter.widget-view+json": {
       "model_id": "a8dce163044747b0a19cc1986d764ade",
       "version_major": 2,
       "version_minor": 0
      },
      "text/plain": [
       "HBox(children=(FloatProgress(value=0.0, description='pandas专属进度条', max=10.0, style=ProgressStyle(description_w…"
      ]
     },
     "metadata": {},
     "output_type": "display_data"
    },
    {
     "name": "stdout",
     "output_type": "stream",
     "text": [
      "\n"
     ]
    }
   ],
   "source": [
    "from tqdm.notebook import tqdm\n",
    "\n",
    "tqdm.pandas(desc='pandas专属进度条')\n",
    "_ = df.progress_apply(lambda _: time.sleep(0.2), axis=1)"
   ]
  }
 ],
 "metadata": {
  "kernelspec": {
   "display_name": "Python 3",
   "language": "python",
   "name": "python3"
  },
  "language_info": {
   "codemirror_mode": {
    "name": "ipython",
    "version": 3
   },
   "file_extension": ".py",
   "mimetype": "text/x-python",
   "name": "python",
   "nbconvert_exporter": "python",
   "pygments_lexer": "ipython3",
   "version": "3.7.7"
  },
  "widgets": {
   "application/vnd.jupyter.widget-state+json": {
    "state": {
     "072689ac7d6f4d3cb0380337cf3ba01c": {
      "model_module": "@jupyter-widgets/controls",
      "model_module_version": "1.5.0",
      "model_name": "ProgressStyleModel",
      "state": {
       "description_width": "initial"
      }
     },
     "0a03613f2685498abaf46adea88a4d5c": {
      "model_module": "@jupyter-widgets/base",
      "model_module_version": "1.2.0",
      "model_name": "LayoutModel",
      "state": {}
     },
     "10d665e9c68a4f5d9264b43f3a7cf4c8": {
      "model_module": "@jupyter-widgets/base",
      "model_module_version": "1.2.0",
      "model_name": "LayoutModel",
      "state": {}
     },
     "1a5788307c1a48d580b2404e1d587e09": {
      "model_module": "@jupyter-widgets/controls",
      "model_module_version": "1.5.0",
      "model_name": "ProgressStyleModel",
      "state": {
       "description_width": "initial"
      }
     },
     "3499e8bed2f34294acc1a6095dde6663": {
      "model_module": "@jupyter-widgets/controls",
      "model_module_version": "1.5.0",
      "model_name": "HTMLModel",
      "state": {
       "layout": "IPY_MODEL_3a1aca4c7188424fb74b23ac469d7ae7",
       "style": "IPY_MODEL_9558adec14ec4439b234b5e7cc8df92c",
       "value": " 10/10 [00:02&lt;00:00,  4.89it/s]"
      }
     },
     "3a1aca4c7188424fb74b23ac469d7ae7": {
      "model_module": "@jupyter-widgets/base",
      "model_module_version": "1.2.0",
      "model_name": "LayoutModel",
      "state": {}
     },
     "46013f1399174f16aacdf30fe2920329": {
      "model_module": "@jupyter-widgets/controls",
      "model_module_version": "1.5.0",
      "model_name": "FloatProgressModel",
      "state": {
       "bar_style": "success",
       "description": "pandas专属进度条: 100%",
       "layout": "IPY_MODEL_10d665e9c68a4f5d9264b43f3a7cf4c8",
       "max": 10,
       "style": "IPY_MODEL_1a5788307c1a48d580b2404e1d587e09",
       "value": 10
      }
     },
     "515a89daac4847d788c0c58b0c385fa4": {
      "model_module": "@jupyter-widgets/controls",
      "model_module_version": "1.5.0",
      "model_name": "FloatProgressModel",
      "state": {
       "bar_style": "success",
       "description": "100%",
       "layout": "IPY_MODEL_8a1f7e1bdd8f484aa1a1e30b15ee1701",
       "max": 10,
       "style": "IPY_MODEL_072689ac7d6f4d3cb0380337cf3ba01c",
       "value": 10
      }
     },
     "5c1ff3838adc4b90992ffe31fd5d4747": {
      "model_module": "@jupyter-widgets/controls",
      "model_module_version": "1.5.0",
      "model_name": "HBoxModel",
      "state": {
       "children": [
        "IPY_MODEL_515a89daac4847d788c0c58b0c385fa4",
        "IPY_MODEL_afc7214693954decbd5fc722827611f3"
       ],
       "layout": "IPY_MODEL_bd044035ab784dd5a4ab85ddbdbd7471"
      }
     },
     "8a1f7e1bdd8f484aa1a1e30b15ee1701": {
      "model_module": "@jupyter-widgets/base",
      "model_module_version": "1.2.0",
      "model_name": "LayoutModel",
      "state": {}
     },
     "9558adec14ec4439b234b5e7cc8df92c": {
      "model_module": "@jupyter-widgets/controls",
      "model_module_version": "1.5.0",
      "model_name": "DescriptionStyleModel",
      "state": {
       "description_width": ""
      }
     },
     "96eb5e17dd6d4081a3c6dbe8b524001c": {
      "model_module": "@jupyter-widgets/base",
      "model_module_version": "1.2.0",
      "model_name": "LayoutModel",
      "state": {}
     },
     "9a2e89f198ca46c4a8984207f9e3ad4d": {
      "model_module": "@jupyter-widgets/controls",
      "model_module_version": "1.5.0",
      "model_name": "DescriptionStyleModel",
      "state": {
       "description_width": ""
      }
     },
     "a8dce163044747b0a19cc1986d764ade": {
      "model_module": "@jupyter-widgets/controls",
      "model_module_version": "1.5.0",
      "model_name": "HBoxModel",
      "state": {
       "children": [
        "IPY_MODEL_46013f1399174f16aacdf30fe2920329",
        "IPY_MODEL_3499e8bed2f34294acc1a6095dde6663"
       ],
       "layout": "IPY_MODEL_0a03613f2685498abaf46adea88a4d5c"
      }
     },
     "afc7214693954decbd5fc722827611f3": {
      "model_module": "@jupyter-widgets/controls",
      "model_module_version": "1.5.0",
      "model_name": "HTMLModel",
      "state": {
       "layout": "IPY_MODEL_96eb5e17dd6d4081a3c6dbe8b524001c",
       "style": "IPY_MODEL_9a2e89f198ca46c4a8984207f9e3ad4d",
       "value": " 10/10 [00:02&lt;00:00,  4.83it/s]"
      }
     },
     "bd044035ab784dd5a4ab85ddbdbd7471": {
      "model_module": "@jupyter-widgets/base",
      "model_module_version": "1.2.0",
      "model_name": "LayoutModel",
      "state": {}
     }
    },
    "version_major": 2,
    "version_minor": 0
   }
  }
 },
 "nbformat": 4,
 "nbformat_minor": 4
}
