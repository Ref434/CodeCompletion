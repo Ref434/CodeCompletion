{
 "cells": [
  {
   "cell_type": "code",
   "execution_count": 1,
   "metadata": {},
   "outputs": [],
   "source": [
    "import warnings\n",
    "\n",
    "warnings.filterwarnings('ignore')"
   ]
  },
  {
   "cell_type": "markdown",
   "metadata": {},
   "source": [
    "# 2 文件IO"
   ]
  },
  {
   "cell_type": "markdown",
   "metadata": {},
   "source": [
    "## 2.1 矢量文件的读入"
   ]
  },
  {
   "cell_type": "markdown",
   "metadata": {},
   "source": [
    "### 2.1.1 shapefile"
   ]
  },
  {
   "cell_type": "markdown",
   "metadata": {},
   "source": [
    "- **完整的shapefile**"
   ]
  },
  {
   "cell_type": "code",
   "execution_count": 2,
   "metadata": {},
   "outputs": [
    {
     "name": "stdout",
     "output_type": "stream",
     "text": [
      "epsg:4326\n"
     ]
    },
    {
     "data": {
      "text/html": [
       "<div>\n",
       "<style scoped>\n",
       "    .dataframe tbody tr th:only-of-type {\n",
       "        vertical-align: middle;\n",
       "    }\n",
       "\n",
       "    .dataframe tbody tr th {\n",
       "        vertical-align: top;\n",
       "    }\n",
       "\n",
       "    .dataframe thead th {\n",
       "        text-align: right;\n",
       "    }\n",
       "</style>\n",
       "<table border=\"1\" class=\"dataframe\">\n",
       "  <thead>\n",
       "    <tr style=\"text-align: right;\">\n",
       "      <th></th>\n",
       "      <th>NAME</th>\n",
       "      <th>geometry</th>\n",
       "    </tr>\n",
       "  </thead>\n",
       "  <tbody>\n",
       "    <tr>\n",
       "      <th>0</th>\n",
       "      <td>上海市</td>\n",
       "      <td>POLYGON ((121.26507 30.69900, 121.26502 30.699...</td>\n",
       "    </tr>\n",
       "    <tr>\n",
       "      <th>1</th>\n",
       "      <td>云南省</td>\n",
       "      <td>POLYGON ((99.10984 29.25104, 99.11170 29.24993...</td>\n",
       "    </tr>\n",
       "    <tr>\n",
       "      <th>2</th>\n",
       "      <td>内蒙古自治区</td>\n",
       "      <td>POLYGON ((106.82306 38.16423, 106.82241 38.164...</td>\n",
       "    </tr>\n",
       "    <tr>\n",
       "      <th>3</th>\n",
       "      <td>北京市</td>\n",
       "      <td>POLYGON ((116.45671 40.76884, 116.45995 40.770...</td>\n",
       "    </tr>\n",
       "    <tr>\n",
       "      <th>4</th>\n",
       "      <td>台湾省</td>\n",
       "      <td>POLYGON ((121.50042 25.28757, 121.50481 25.287...</td>\n",
       "    </tr>\n",
       "  </tbody>\n",
       "</table>\n",
       "</div>"
      ],
      "text/plain": [
       "     NAME                                           geometry\n",
       "0     上海市  POLYGON ((121.26507 30.69900, 121.26502 30.699...\n",
       "1     云南省  POLYGON ((99.10984 29.25104, 99.11170 29.24993...\n",
       "2  内蒙古自治区  POLYGON ((106.82306 38.16423, 106.82241 38.164...\n",
       "3     北京市  POLYGON ((116.45671 40.76884, 116.45995 40.770...\n",
       "4     台湾省  POLYGON ((121.50042 25.28757, 121.50481 25.287..."
      ]
     },
     "execution_count": 2,
     "metadata": {},
     "output_type": "execute_result"
    }
   ],
   "source": [
    "import geopandas as gpd\n",
    "\n",
    "data = gpd.read_file('geometry/china_provinces/china_provinces.shp')\n",
    "print(data.crs) # 查看数据对应的crs\n",
    "data.head() # 查看前5行"
   ]
  },
  {
   "cell_type": "markdown",
   "metadata": {},
   "source": [
    "- **缺少投影的shapefile**"
   ]
  },
  {
   "cell_type": "code",
   "execution_count": 3,
   "metadata": {},
   "outputs": [
    {
     "name": "stdout",
     "output_type": "stream",
     "text": [
      "None\n"
     ]
    }
   ],
   "source": [
    "data = gpd.read_file('geometry/china_provinces_without_crs/china_provinces.shp')\n",
    "print(data.crs) # 查看数据对应的crs"
   ]
  },
  {
   "cell_type": "code",
   "execution_count": 4,
   "metadata": {},
   "outputs": [
    {
     "data": {
      "text/plain": [
       "<Geographic 2D CRS: EPSG:4326>\n",
       "Name: WGS 84\n",
       "Axis Info [ellipsoidal]:\n",
       "- Lat[north]: Geodetic latitude (degree)\n",
       "- Lon[east]: Geodetic longitude (degree)\n",
       "Area of Use:\n",
       "- name: World\n",
       "- bounds: (-180.0, -90.0, 180.0, 90.0)\n",
       "Datum: World Geodetic System 1984\n",
       "- Ellipsoid: WGS 84\n",
       "- Prime Meridian: Greenwich"
      ]
     },
     "execution_count": 4,
     "metadata": {},
     "output_type": "execute_result"
    }
   ],
   "source": [
    "import pyproj\n",
    "\n",
    "data.crs = pyproj.CRS.from_user_input('EPSG:4326')\n",
    "data.crs"
   ]
  },
  {
   "cell_type": "markdown",
   "metadata": {},
   "source": [
    "- **直接读取文件夹**"
   ]
  },
  {
   "cell_type": "code",
   "execution_count": 5,
   "metadata": {},
   "outputs": [
    {
     "name": "stdout",
     "output_type": "stream",
     "text": [
      "epsg:4326\n"
     ]
    },
    {
     "data": {
      "text/html": [
       "<div>\n",
       "<style scoped>\n",
       "    .dataframe tbody tr th:only-of-type {\n",
       "        vertical-align: middle;\n",
       "    }\n",
       "\n",
       "    .dataframe tbody tr th {\n",
       "        vertical-align: top;\n",
       "    }\n",
       "\n",
       "    .dataframe thead th {\n",
       "        text-align: right;\n",
       "    }\n",
       "</style>\n",
       "<table border=\"1\" class=\"dataframe\">\n",
       "  <thead>\n",
       "    <tr style=\"text-align: right;\">\n",
       "      <th></th>\n",
       "      <th>NAME</th>\n",
       "      <th>geometry</th>\n",
       "    </tr>\n",
       "  </thead>\n",
       "  <tbody>\n",
       "    <tr>\n",
       "      <th>0</th>\n",
       "      <td>上海市</td>\n",
       "      <td>POLYGON ((121.26507 30.69900, 121.26502 30.699...</td>\n",
       "    </tr>\n",
       "    <tr>\n",
       "      <th>1</th>\n",
       "      <td>云南省</td>\n",
       "      <td>POLYGON ((99.10984 29.25104, 99.11170 29.24993...</td>\n",
       "    </tr>\n",
       "    <tr>\n",
       "      <th>2</th>\n",
       "      <td>内蒙古自治区</td>\n",
       "      <td>POLYGON ((106.82306 38.16423, 106.82241 38.164...</td>\n",
       "    </tr>\n",
       "    <tr>\n",
       "      <th>3</th>\n",
       "      <td>北京市</td>\n",
       "      <td>POLYGON ((116.45671 40.76884, 116.45995 40.770...</td>\n",
       "    </tr>\n",
       "    <tr>\n",
       "      <th>4</th>\n",
       "      <td>台湾省</td>\n",
       "      <td>POLYGON ((121.50042 25.28757, 121.50481 25.287...</td>\n",
       "    </tr>\n",
       "  </tbody>\n",
       "</table>\n",
       "</div>"
      ],
      "text/plain": [
       "     NAME                                           geometry\n",
       "0     上海市  POLYGON ((121.26507 30.69900, 121.26502 30.699...\n",
       "1     云南省  POLYGON ((99.10984 29.25104, 99.11170 29.24993...\n",
       "2  内蒙古自治区  POLYGON ((106.82306 38.16423, 106.82241 38.164...\n",
       "3     北京市  POLYGON ((116.45671 40.76884, 116.45995 40.770...\n",
       "4     台湾省  POLYGON ((121.50042 25.28757, 121.50481 25.287..."
      ]
     },
     "execution_count": 5,
     "metadata": {},
     "output_type": "execute_result"
    }
   ],
   "source": [
    "data = gpd.read_file('geometry\\china_provinces')\n",
    "print(data.crs) # 查看数据对应的crs\n",
    "data.head() # 查看前5行"
   ]
  },
  {
   "cell_type": "markdown",
   "metadata": {},
   "source": [
    "- **读取zip压缩包中的文件**："
   ]
  },
  {
   "cell_type": "code",
   "execution_count": 6,
   "metadata": {},
   "outputs": [
    {
     "name": "stdout",
     "output_type": "stream",
     "text": [
      "epsg:4326\n"
     ]
    },
    {
     "data": {
      "text/html": [
       "<div>\n",
       "<style scoped>\n",
       "    .dataframe tbody tr th:only-of-type {\n",
       "        vertical-align: middle;\n",
       "    }\n",
       "\n",
       "    .dataframe tbody tr th {\n",
       "        vertical-align: top;\n",
       "    }\n",
       "\n",
       "    .dataframe thead th {\n",
       "        text-align: right;\n",
       "    }\n",
       "</style>\n",
       "<table border=\"1\" class=\"dataframe\">\n",
       "  <thead>\n",
       "    <tr style=\"text-align: right;\">\n",
       "      <th></th>\n",
       "      <th>NAME</th>\n",
       "      <th>geometry</th>\n",
       "    </tr>\n",
       "  </thead>\n",
       "  <tbody>\n",
       "    <tr>\n",
       "      <th>0</th>\n",
       "      <td>上海市</td>\n",
       "      <td>POLYGON ((121.26507 30.69900, 121.26502 30.699...</td>\n",
       "    </tr>\n",
       "    <tr>\n",
       "      <th>1</th>\n",
       "      <td>云南省</td>\n",
       "      <td>POLYGON ((99.10984 29.25104, 99.11170 29.24993...</td>\n",
       "    </tr>\n",
       "    <tr>\n",
       "      <th>2</th>\n",
       "      <td>内蒙古自治区</td>\n",
       "      <td>POLYGON ((106.82306 38.16423, 106.82241 38.164...</td>\n",
       "    </tr>\n",
       "    <tr>\n",
       "      <th>3</th>\n",
       "      <td>北京市</td>\n",
       "      <td>POLYGON ((116.45671 40.76884, 116.45995 40.770...</td>\n",
       "    </tr>\n",
       "    <tr>\n",
       "      <th>4</th>\n",
       "      <td>台湾省</td>\n",
       "      <td>POLYGON ((121.50042 25.28757, 121.50481 25.287...</td>\n",
       "    </tr>\n",
       "  </tbody>\n",
       "</table>\n",
       "</div>"
      ],
      "text/plain": [
       "     NAME                                           geometry\n",
       "0     上海市  POLYGON ((121.26507 30.69900, 121.26502 30.699...\n",
       "1     云南省  POLYGON ((99.10984 29.25104, 99.11170 29.24993...\n",
       "2  内蒙古自治区  POLYGON ((106.82306 38.16423, 106.82241 38.164...\n",
       "3     北京市  POLYGON ((116.45671 40.76884, 116.45995 40.770...\n",
       "4     台湾省  POLYGON ((121.50042 25.28757, 121.50481 25.287..."
      ]
     },
     "execution_count": 6,
     "metadata": {},
     "output_type": "execute_result"
    }
   ],
   "source": [
    "data = gpd.read_file('zip://geometry/china_provinces_.zip')\n",
    "print(data.crs) # 查看数据对应的crs\n",
    "data.head() # 查看前5行"
   ]
  },
  {
   "cell_type": "code",
   "execution_count": 7,
   "metadata": {},
   "outputs": [
    {
     "name": "stdout",
     "output_type": "stream",
     "text": [
      "epsg:4326\n"
     ]
    },
    {
     "data": {
      "text/html": [
       "<div>\n",
       "<style scoped>\n",
       "    .dataframe tbody tr th:only-of-type {\n",
       "        vertical-align: middle;\n",
       "    }\n",
       "\n",
       "    .dataframe tbody tr th {\n",
       "        vertical-align: top;\n",
       "    }\n",
       "\n",
       "    .dataframe thead th {\n",
       "        text-align: right;\n",
       "    }\n",
       "</style>\n",
       "<table border=\"1\" class=\"dataframe\">\n",
       "  <thead>\n",
       "    <tr style=\"text-align: right;\">\n",
       "      <th></th>\n",
       "      <th>NAME</th>\n",
       "      <th>geometry</th>\n",
       "    </tr>\n",
       "  </thead>\n",
       "  <tbody>\n",
       "    <tr>\n",
       "      <th>0</th>\n",
       "      <td>上海市</td>\n",
       "      <td>POLYGON ((121.26507 30.69900, 121.26502 30.699...</td>\n",
       "    </tr>\n",
       "    <tr>\n",
       "      <th>1</th>\n",
       "      <td>云南省</td>\n",
       "      <td>POLYGON ((99.10984 29.25104, 99.11170 29.24993...</td>\n",
       "    </tr>\n",
       "    <tr>\n",
       "      <th>2</th>\n",
       "      <td>内蒙古自治区</td>\n",
       "      <td>POLYGON ((106.82306 38.16423, 106.82241 38.164...</td>\n",
       "    </tr>\n",
       "    <tr>\n",
       "      <th>3</th>\n",
       "      <td>北京市</td>\n",
       "      <td>POLYGON ((116.45671 40.76884, 116.45995 40.770...</td>\n",
       "    </tr>\n",
       "    <tr>\n",
       "      <th>4</th>\n",
       "      <td>台湾省</td>\n",
       "      <td>POLYGON ((121.50042 25.28757, 121.50481 25.287...</td>\n",
       "    </tr>\n",
       "  </tbody>\n",
       "</table>\n",
       "</div>"
      ],
      "text/plain": [
       "     NAME                                           geometry\n",
       "0     上海市  POLYGON ((121.26507 30.69900, 121.26502 30.699...\n",
       "1     云南省  POLYGON ((99.10984 29.25104, 99.11170 29.24993...\n",
       "2  内蒙古自治区  POLYGON ((106.82306 38.16423, 106.82241 38.164...\n",
       "3     北京市  POLYGON ((116.45671 40.76884, 116.45995 40.770...\n",
       "4     台湾省  POLYGON ((121.50042 25.28757, 121.50481 25.287..."
      ]
     },
     "execution_count": 7,
     "metadata": {},
     "output_type": "execute_result"
    }
   ],
   "source": [
    "data = gpd.read_file('zip://geometry/china_provinces.zip!china_provinces/china_provinces.shp')\n",
    "print(data.crs) # 查看数据对应的crs\n",
    "data.head() # 查看前5行"
   ]
  },
  {
   "cell_type": "markdown",
   "metadata": {},
   "source": [
    "### 2.1.2 gdb与gpkg"
   ]
  },
  {
   "cell_type": "markdown",
   "metadata": {},
   "source": [
    "- **gdb**"
   ]
  },
  {
   "cell_type": "code",
   "execution_count": 8,
   "metadata": {},
   "outputs": [
    {
     "name": "stdout",
     "output_type": "stream",
     "text": [
      "epsg:4326\n"
     ]
    },
    {
     "data": {
      "text/html": [
       "<div>\n",
       "<style scoped>\n",
       "    .dataframe tbody tr th:only-of-type {\n",
       "        vertical-align: middle;\n",
       "    }\n",
       "\n",
       "    .dataframe tbody tr th {\n",
       "        vertical-align: top;\n",
       "    }\n",
       "\n",
       "    .dataframe thead th {\n",
       "        text-align: right;\n",
       "    }\n",
       "</style>\n",
       "<table border=\"1\" class=\"dataframe\">\n",
       "  <thead>\n",
       "    <tr style=\"text-align: right;\">\n",
       "      <th></th>\n",
       "      <th>NAME</th>\n",
       "      <th>Shape_Length</th>\n",
       "      <th>Shape_Area</th>\n",
       "      <th>geometry</th>\n",
       "    </tr>\n",
       "  </thead>\n",
       "  <tbody>\n",
       "    <tr>\n",
       "      <th>0</th>\n",
       "      <td>上海市</td>\n",
       "      <td>5.318338</td>\n",
       "      <td>1.045633</td>\n",
       "      <td>MULTIPOLYGON (((121.26507 30.69900, 121.26502 ...</td>\n",
       "    </tr>\n",
       "    <tr>\n",
       "      <th>1</th>\n",
       "      <td>云南省</td>\n",
       "      <td>63.186939</td>\n",
       "      <td>34.274694</td>\n",
       "      <td>MULTIPOLYGON (((99.10984 29.25104, 99.11170 29...</td>\n",
       "    </tr>\n",
       "    <tr>\n",
       "      <th>2</th>\n",
       "      <td>内蒙古自治区</td>\n",
       "      <td>136.955559</td>\n",
       "      <td>128.846038</td>\n",
       "      <td>MULTIPOLYGON (((106.82306 38.16424, 106.82241 ...</td>\n",
       "    </tr>\n",
       "    <tr>\n",
       "      <th>3</th>\n",
       "      <td>北京市</td>\n",
       "      <td>9.198662</td>\n",
       "      <td>1.731521</td>\n",
       "      <td>MULTIPOLYGON (((116.45671 40.76884, 116.45995 ...</td>\n",
       "    </tr>\n",
       "    <tr>\n",
       "      <th>4</th>\n",
       "      <td>台湾省</td>\n",
       "      <td>9.967244</td>\n",
       "      <td>3.186530</td>\n",
       "      <td>MULTIPOLYGON (((121.50042 25.28757, 121.50481 ...</td>\n",
       "    </tr>\n",
       "  </tbody>\n",
       "</table>\n",
       "</div>"
      ],
      "text/plain": [
       "     NAME  Shape_Length  Shape_Area  \\\n",
       "0     上海市      5.318338    1.045633   \n",
       "1     云南省     63.186939   34.274694   \n",
       "2  内蒙古自治区    136.955559  128.846038   \n",
       "3     北京市      9.198662    1.731521   \n",
       "4     台湾省      9.967244    3.186530   \n",
       "\n",
       "                                            geometry  \n",
       "0  MULTIPOLYGON (((121.26507 30.69900, 121.26502 ...  \n",
       "1  MULTIPOLYGON (((99.10984 29.25104, 99.11170 29...  \n",
       "2  MULTIPOLYGON (((106.82306 38.16424, 106.82241 ...  \n",
       "3  MULTIPOLYGON (((116.45671 40.76884, 116.45995 ...  \n",
       "4  MULTIPOLYGON (((121.50042 25.28757, 121.50481 ...  "
      ]
     },
     "execution_count": 8,
     "metadata": {},
     "output_type": "execute_result"
    }
   ],
   "source": [
    "data = gpd.read_file('geometry/china_provinces.gdb', \n",
    "                     layer='china_provinces')\n",
    "print(data.crs) # 查看数据对应的crs\n",
    "data.head() # 查看前5行"
   ]
  },
  {
   "cell_type": "markdown",
   "metadata": {},
   "source": [
    "- **gpkg**"
   ]
  },
  {
   "cell_type": "code",
   "execution_count": 9,
   "metadata": {},
   "outputs": [
    {
     "name": "stdout",
     "output_type": "stream",
     "text": [
      "epsg:4326\n"
     ]
    },
    {
     "data": {
      "text/html": [
       "<div>\n",
       "<style scoped>\n",
       "    .dataframe tbody tr th:only-of-type {\n",
       "        vertical-align: middle;\n",
       "    }\n",
       "\n",
       "    .dataframe tbody tr th {\n",
       "        vertical-align: top;\n",
       "    }\n",
       "\n",
       "    .dataframe thead th {\n",
       "        text-align: right;\n",
       "    }\n",
       "</style>\n",
       "<table border=\"1\" class=\"dataframe\">\n",
       "  <thead>\n",
       "    <tr style=\"text-align: right;\">\n",
       "      <th></th>\n",
       "      <th>NAME</th>\n",
       "      <th>geometry</th>\n",
       "    </tr>\n",
       "  </thead>\n",
       "  <tbody>\n",
       "    <tr>\n",
       "      <th>0</th>\n",
       "      <td>上海市</td>\n",
       "      <td>POLYGON ((121.26507 30.69900, 121.26502 30.699...</td>\n",
       "    </tr>\n",
       "    <tr>\n",
       "      <th>1</th>\n",
       "      <td>云南省</td>\n",
       "      <td>POLYGON ((99.10984 29.25104, 99.11170 29.24993...</td>\n",
       "    </tr>\n",
       "    <tr>\n",
       "      <th>2</th>\n",
       "      <td>内蒙古自治区</td>\n",
       "      <td>POLYGON ((106.82306 38.16423, 106.82241 38.164...</td>\n",
       "    </tr>\n",
       "    <tr>\n",
       "      <th>3</th>\n",
       "      <td>北京市</td>\n",
       "      <td>POLYGON ((116.45671 40.76884, 116.45995 40.770...</td>\n",
       "    </tr>\n",
       "    <tr>\n",
       "      <th>4</th>\n",
       "      <td>台湾省</td>\n",
       "      <td>POLYGON ((121.50042 25.28757, 121.50481 25.287...</td>\n",
       "    </tr>\n",
       "  </tbody>\n",
       "</table>\n",
       "</div>"
      ],
      "text/plain": [
       "     NAME                                           geometry\n",
       "0     上海市  POLYGON ((121.26507 30.69900, 121.26502 30.699...\n",
       "1     云南省  POLYGON ((99.10984 29.25104, 99.11170 29.24993...\n",
       "2  内蒙古自治区  POLYGON ((106.82306 38.16423, 106.82241 38.164...\n",
       "3     北京市  POLYGON ((116.45671 40.76884, 116.45995 40.770...\n",
       "4     台湾省  POLYGON ((121.50042 25.28757, 121.50481 25.287..."
      ]
     },
     "execution_count": 9,
     "metadata": {},
     "output_type": "execute_result"
    }
   ],
   "source": [
    "data = gpd.read_file('geometry/china_provinces.gpkg', \n",
    "                     layer='china_provinces',\n",
    "                     encoding='utf-8')\n",
    "print(data.crs) # 查看数据对应的crs\n",
    "data.head() # 查看前5行"
   ]
  },
  {
   "cell_type": "markdown",
   "metadata": {},
   "source": [
    "### 2.1.3 GeoJSON"
   ]
  },
  {
   "cell_type": "code",
   "execution_count": 10,
   "metadata": {},
   "outputs": [
    {
     "name": "stdout",
     "output_type": "stream",
     "text": [
      "epsg:4326\n"
     ]
    },
    {
     "data": {
      "text/html": [
       "<div>\n",
       "<style scoped>\n",
       "    .dataframe tbody tr th:only-of-type {\n",
       "        vertical-align: middle;\n",
       "    }\n",
       "\n",
       "    .dataframe tbody tr th {\n",
       "        vertical-align: top;\n",
       "    }\n",
       "\n",
       "    .dataframe thead th {\n",
       "        text-align: right;\n",
       "    }\n",
       "</style>\n",
       "<table border=\"1\" class=\"dataframe\">\n",
       "  <thead>\n",
       "    <tr style=\"text-align: right;\">\n",
       "      <th></th>\n",
       "      <th>NAME</th>\n",
       "      <th>geometry</th>\n",
       "    </tr>\n",
       "  </thead>\n",
       "  <tbody>\n",
       "    <tr>\n",
       "      <th>0</th>\n",
       "      <td>上海市</td>\n",
       "      <td>POLYGON ((121.26507 30.69900, 121.26502 30.699...</td>\n",
       "    </tr>\n",
       "    <tr>\n",
       "      <th>1</th>\n",
       "      <td>云南省</td>\n",
       "      <td>POLYGON ((99.10984 29.25104, 99.11170 29.24993...</td>\n",
       "    </tr>\n",
       "    <tr>\n",
       "      <th>2</th>\n",
       "      <td>内蒙古自治区</td>\n",
       "      <td>POLYGON ((106.82306 38.16423, 106.82241 38.164...</td>\n",
       "    </tr>\n",
       "    <tr>\n",
       "      <th>3</th>\n",
       "      <td>北京市</td>\n",
       "      <td>POLYGON ((116.45671 40.76884, 116.45995 40.770...</td>\n",
       "    </tr>\n",
       "    <tr>\n",
       "      <th>4</th>\n",
       "      <td>台湾省</td>\n",
       "      <td>POLYGON ((121.50042 25.28757, 121.50481 25.287...</td>\n",
       "    </tr>\n",
       "  </tbody>\n",
       "</table>\n",
       "</div>"
      ],
      "text/plain": [
       "     NAME                                           geometry\n",
       "0     上海市  POLYGON ((121.26507 30.69900, 121.26502 30.699...\n",
       "1     云南省  POLYGON ((99.10984 29.25104, 99.11170 29.24993...\n",
       "2  内蒙古自治区  POLYGON ((106.82306 38.16423, 106.82241 38.164...\n",
       "3     北京市  POLYGON ((116.45671 40.76884, 116.45995 40.770...\n",
       "4     台湾省  POLYGON ((121.50042 25.28757, 121.50481 25.287..."
      ]
     },
     "execution_count": 10,
     "metadata": {},
     "output_type": "execute_result"
    }
   ],
   "source": [
    "data = gpd.read_file('geometry/china_provinces.json')\n",
    "print(data.crs) # 查看数据对应的crs\n",
    "data.head() # 查看前5行"
   ]
  },
  {
   "cell_type": "markdown",
   "metadata": {},
   "source": [
    "### 2.1.4 过滤"
   ]
  },
  {
   "cell_type": "markdown",
   "metadata": {},
   "source": [
    "- **bbox过滤**"
   ]
  },
  {
   "cell_type": "code",
   "execution_count": 11,
   "metadata": {},
   "outputs": [
    {
     "data": {
      "application/vnd.jupyter.widget-view+json": {
       "model_id": "5f67886bd5c548749da25d8ad964307c",
       "version_major": 2,
       "version_minor": 0
      },
      "text/plain": [
       "Canvas(toolbar=Toolbar(toolitems=[('Home', 'Reset original view', 'home', 'home'), ('Back', 'Back to previous …"
      ]
     },
     "metadata": {},
     "output_type": "display_data"
    }
   ],
   "source": [
    "from shapely import geometry\n",
    "\n",
    "data = gpd.read_file('geometry/china_provinces.json',\n",
    "                    bbox=(100, 20, 110, 30))\n",
    "\n",
    "%matplotlib widget\n",
    "ax = data.plot()\n",
    "# 绘制bbox框示意\n",
    "ax = gpd.GeoSeries([geometry.box(minx=100, \n",
    "                                 miny=20, \n",
    "                                 maxx=110, \n",
    "                                 maxy=30).boundary]).plot(ax=ax, color='red')"
   ]
  },
  {
   "cell_type": "markdown",
   "metadata": {},
   "source": [
    "- **蒙版过滤**"
   ]
  },
  {
   "cell_type": "code",
   "execution_count": 12,
   "metadata": {},
   "outputs": [
    {
     "data": {
      "application/vnd.jupyter.widget-view+json": {
       "model_id": "fcfcdc025dd04550b2d4384027309615",
       "version_major": 2,
       "version_minor": 0
      },
      "text/plain": [
       "Canvas(toolbar=Toolbar(toolitems=[('Home', 'Reset original view', 'home', 'home'), ('Back', 'Back to previous …"
      ]
     },
     "metadata": {},
     "output_type": "display_data"
    }
   ],
   "source": [
    "data = gpd.read_file('geometry/china_provinces.json',\n",
    "                    mask=geometry.Polygon([(100, 20), (110, 30), (120, 20)]))\n",
    "\n",
    "ax = data.plot()\n",
    "# 绘制bbox框示意\n",
    "ax = gpd.GeoSeries([geometry.Polygon([(100, 20), \n",
    "                                      (110, 30), \n",
    "                                      (120, 20)]).boundary]).plot(ax=ax, color='red')"
   ]
  },
  {
   "cell_type": "markdown",
   "metadata": {},
   "source": [
    "- **行过滤**"
   ]
  },
  {
   "cell_type": "code",
   "execution_count": 13,
   "metadata": {},
   "outputs": [
    {
     "data": {
      "text/html": [
       "<div>\n",
       "<style scoped>\n",
       "    .dataframe tbody tr th:only-of-type {\n",
       "        vertical-align: middle;\n",
       "    }\n",
       "\n",
       "    .dataframe tbody tr th {\n",
       "        vertical-align: top;\n",
       "    }\n",
       "\n",
       "    .dataframe thead th {\n",
       "        text-align: right;\n",
       "    }\n",
       "</style>\n",
       "<table border=\"1\" class=\"dataframe\">\n",
       "  <thead>\n",
       "    <tr style=\"text-align: right;\">\n",
       "      <th></th>\n",
       "      <th>NAME</th>\n",
       "      <th>geometry</th>\n",
       "    </tr>\n",
       "  </thead>\n",
       "  <tbody>\n",
       "    <tr>\n",
       "      <th>0</th>\n",
       "      <td>上海市</td>\n",
       "      <td>POLYGON ((121.26507 30.69900, 121.26502 30.699...</td>\n",
       "    </tr>\n",
       "    <tr>\n",
       "      <th>1</th>\n",
       "      <td>云南省</td>\n",
       "      <td>POLYGON ((99.10984 29.25104, 99.11170 29.24993...</td>\n",
       "    </tr>\n",
       "    <tr>\n",
       "      <th>2</th>\n",
       "      <td>内蒙古自治区</td>\n",
       "      <td>POLYGON ((106.82306 38.16423, 106.82241 38.164...</td>\n",
       "    </tr>\n",
       "    <tr>\n",
       "      <th>3</th>\n",
       "      <td>北京市</td>\n",
       "      <td>POLYGON ((116.45671 40.76884, 116.45995 40.770...</td>\n",
       "    </tr>\n",
       "    <tr>\n",
       "      <th>4</th>\n",
       "      <td>台湾省</td>\n",
       "      <td>POLYGON ((121.50042 25.28757, 121.50481 25.287...</td>\n",
       "    </tr>\n",
       "  </tbody>\n",
       "</table>\n",
       "</div>"
      ],
      "text/plain": [
       "     NAME                                           geometry\n",
       "0     上海市  POLYGON ((121.26507 30.69900, 121.26502 30.699...\n",
       "1     云南省  POLYGON ((99.10984 29.25104, 99.11170 29.24993...\n",
       "2  内蒙古自治区  POLYGON ((106.82306 38.16423, 106.82241 38.164...\n",
       "3     北京市  POLYGON ((116.45671 40.76884, 116.45995 40.770...\n",
       "4     台湾省  POLYGON ((121.50042 25.28757, 121.50481 25.287..."
      ]
     },
     "execution_count": 13,
     "metadata": {},
     "output_type": "execute_result"
    }
   ],
   "source": [
    "data = gpd.read_file('geometry/china_provinces.json',\n",
    "                    rows=5) # 读取前5行\n",
    "data"
   ]
  },
  {
   "cell_type": "markdown",
   "metadata": {},
   "source": [
    "## 2.2 矢量文件的写出"
   ]
  },
  {
   "cell_type": "markdown",
   "metadata": {},
   "source": [
    "- **ESRI Shapefile**"
   ]
  },
  {
   "cell_type": "code",
   "execution_count": 14,
   "metadata": {},
   "outputs": [],
   "source": [
    "'''在工程根目录下创建output文件夹'''\n",
    "import os\n",
    "\n",
    "try:\n",
    "    os.mkdir('output')\n",
    "except FileExistsError:\n",
    "    pass\n",
    "    \n",
    "data.to_file('output/output.shp', \n",
    "             driver='ESRI Shapefile',\n",
    "             encoding='utf-8')"
   ]
  },
  {
   "cell_type": "code",
   "execution_count": 15,
   "metadata": {},
   "outputs": [],
   "source": [
    "data.to_file('output/output_shapefile', \n",
    "             driver='ESRI Shapefile',\n",
    "             encoding='utf-8')"
   ]
  },
  {
   "cell_type": "code",
   "execution_count": 16,
   "metadata": {},
   "outputs": [],
   "source": [
    "data.to_file('output/output_shapefile_multi_layer', \n",
    "             driver='ESRI Shapefile',\n",
    "             layer='layer1',\n",
    "             encoding='utf-8')\n",
    "\n",
    "data.to_file('output/output_shapefile_multi_layer', \n",
    "             driver='ESRI Shapefile',\n",
    "             layer='layer2',\n",
    "             encoding='utf-8')\n",
    "\n",
    "data.to_file('output/output_shapefile_multi_layer', \n",
    "             driver='ESRI Shapefile',\n",
    "             layer='layer3',\n",
    "             encoding='utf-8')"
   ]
  },
  {
   "cell_type": "markdown",
   "metadata": {},
   "source": [
    "- **GeoPackage**"
   ]
  },
  {
   "cell_type": "code",
   "execution_count": 17,
   "metadata": {},
   "outputs": [
    {
     "ename": "CPLE_AppDefinedError",
     "evalue": "b'sqlite3_exec(CREATE VIRTUAL TABLE \"rtree_layer1_geom\" USING rtree(id, minx, maxx, miny, maxy)) failed: no such module: rtree'",
     "output_type": "error",
     "traceback": [
      "\u001b[1;31m---------------------------------------------------------------------------\u001b[0m",
      "\u001b[1;31mCPLE_AppDefinedError\u001b[0m                      Traceback (most recent call last)",
      "\u001b[1;32mfiona/_err.pyx\u001b[0m in \u001b[0;36mfiona._err.GDALErrCtxManager.__exit__\u001b[1;34m()\u001b[0m\n",
      "\u001b[1;31mCPLE_AppDefinedError\u001b[0m: b'sqlite3_exec(CREATE VIRTUAL TABLE \"rtree_layer1_geom\" USING rtree(id, minx, maxx, miny, maxy)) failed: no such module: rtree'"
     ]
    },
    {
     "name": "stderr",
     "output_type": "stream",
     "text": [
      "Exception ignored in: 'fiona._shim.gdal_flush_cache'\n",
      "Traceback (most recent call last):\n",
      "  File \"fiona/_err.pyx\", line 201, in fiona._err.GDALErrCtxManager.__exit__\n",
      "fiona._err.CPLE_AppDefinedError: b'sqlite3_exec(CREATE VIRTUAL TABLE \"rtree_layer1_geom\" USING rtree(id, minx, maxx, miny, maxy)) failed: no such module: rtree'\n"
     ]
    },
    {
     "data": {
      "text/html": [
       "<div>\n",
       "<style scoped>\n",
       "    .dataframe tbody tr th:only-of-type {\n",
       "        vertical-align: middle;\n",
       "    }\n",
       "\n",
       "    .dataframe tbody tr th {\n",
       "        vertical-align: top;\n",
       "    }\n",
       "\n",
       "    .dataframe thead th {\n",
       "        text-align: right;\n",
       "    }\n",
       "</style>\n",
       "<table border=\"1\" class=\"dataframe\">\n",
       "  <thead>\n",
       "    <tr style=\"text-align: right;\">\n",
       "      <th></th>\n",
       "      <th>NAME</th>\n",
       "      <th>geometry</th>\n",
       "    </tr>\n",
       "  </thead>\n",
       "  <tbody>\n",
       "    <tr>\n",
       "      <th>0</th>\n",
       "      <td>上海市</td>\n",
       "      <td>POLYGON ((121.26507 30.69900, 121.26502 30.699...</td>\n",
       "    </tr>\n",
       "    <tr>\n",
       "      <th>1</th>\n",
       "      <td>云南省</td>\n",
       "      <td>POLYGON ((99.10984 29.25104, 99.11170 29.24993...</td>\n",
       "    </tr>\n",
       "    <tr>\n",
       "      <th>2</th>\n",
       "      <td>内蒙古自治区</td>\n",
       "      <td>POLYGON ((106.82306 38.16423, 106.82241 38.164...</td>\n",
       "    </tr>\n",
       "    <tr>\n",
       "      <th>3</th>\n",
       "      <td>北京市</td>\n",
       "      <td>POLYGON ((116.45671 40.76884, 116.45995 40.770...</td>\n",
       "    </tr>\n",
       "    <tr>\n",
       "      <th>4</th>\n",
       "      <td>台湾省</td>\n",
       "      <td>POLYGON ((121.50042 25.28757, 121.50481 25.287...</td>\n",
       "    </tr>\n",
       "  </tbody>\n",
       "</table>\n",
       "</div>"
      ],
      "text/plain": [
       "     NAME                                           geometry\n",
       "0     上海市  POLYGON ((121.26507 30.69900, 121.26502 30.699...\n",
       "1     云南省  POLYGON ((99.10984 29.25104, 99.11170 29.24993...\n",
       "2  内蒙古自治区  POLYGON ((106.82306 38.16423, 106.82241 38.164...\n",
       "3     北京市  POLYGON ((116.45671 40.76884, 116.45995 40.770...\n",
       "4     台湾省  POLYGON ((121.50042 25.28757, 121.50481 25.287..."
      ]
     },
     "execution_count": 17,
     "metadata": {},
     "output_type": "execute_result"
    }
   ],
   "source": [
    "data.to_file('output/output.gpkg',\n",
    "        driver='GPKG',\n",
    "        layer='layer1',\n",
    "        encoding='utf-8')\n",
    "\n",
    "gpd.read_file('output/output.gpkg',\n",
    "             layer='layer1')"
   ]
  },
  {
   "cell_type": "markdown",
   "metadata": {},
   "source": [
    "- **GeoJSON**"
   ]
  },
  {
   "cell_type": "code",
   "execution_count": 18,
   "metadata": {},
   "outputs": [
    {
     "data": {
      "text/html": [
       "<div>\n",
       "<style scoped>\n",
       "    .dataframe tbody tr th:only-of-type {\n",
       "        vertical-align: middle;\n",
       "    }\n",
       "\n",
       "    .dataframe tbody tr th {\n",
       "        vertical-align: top;\n",
       "    }\n",
       "\n",
       "    .dataframe thead th {\n",
       "        text-align: right;\n",
       "    }\n",
       "</style>\n",
       "<table border=\"1\" class=\"dataframe\">\n",
       "  <thead>\n",
       "    <tr style=\"text-align: right;\">\n",
       "      <th></th>\n",
       "      <th>NAME</th>\n",
       "      <th>geometry</th>\n",
       "    </tr>\n",
       "  </thead>\n",
       "  <tbody>\n",
       "    <tr>\n",
       "      <th>0</th>\n",
       "      <td>上海市</td>\n",
       "      <td>POLYGON ((121.26507 30.69900, 121.26502 30.699...</td>\n",
       "    </tr>\n",
       "    <tr>\n",
       "      <th>1</th>\n",
       "      <td>云南省</td>\n",
       "      <td>POLYGON ((99.10984 29.25104, 99.11170 29.24993...</td>\n",
       "    </tr>\n",
       "    <tr>\n",
       "      <th>2</th>\n",
       "      <td>内蒙古自治区</td>\n",
       "      <td>POLYGON ((106.82306 38.16423, 106.82241 38.164...</td>\n",
       "    </tr>\n",
       "    <tr>\n",
       "      <th>3</th>\n",
       "      <td>北京市</td>\n",
       "      <td>POLYGON ((116.45671 40.76884, 116.45995 40.770...</td>\n",
       "    </tr>\n",
       "    <tr>\n",
       "      <th>4</th>\n",
       "      <td>台湾省</td>\n",
       "      <td>POLYGON ((121.50042 25.28757, 121.50481 25.287...</td>\n",
       "    </tr>\n",
       "  </tbody>\n",
       "</table>\n",
       "</div>"
      ],
      "text/plain": [
       "     NAME                                           geometry\n",
       "0     上海市  POLYGON ((121.26507 30.69900, 121.26502 30.699...\n",
       "1     云南省  POLYGON ((99.10984 29.25104, 99.11170 29.24993...\n",
       "2  内蒙古自治区  POLYGON ((106.82306 38.16423, 106.82241 38.164...\n",
       "3     北京市  POLYGON ((116.45671 40.76884, 116.45995 40.770...\n",
       "4     台湾省  POLYGON ((121.50042 25.28757, 121.50481 25.287..."
      ]
     },
     "execution_count": 18,
     "metadata": {},
     "output_type": "execute_result"
    }
   ],
   "source": [
    "data.to_file('output/output.json',\n",
    "            driver='GeoJSON',\n",
    "            encoding='utf-8')\n",
    "\n",
    "gpd.read_file('output/output.json')"
   ]
  }
 ],
 "metadata": {
  "kernelspec": {
   "display_name": "Python 3",
   "language": "python",
   "name": "python3"
  },
  "language_info": {
   "codemirror_mode": {
    "name": "ipython",
    "version": 3
   },
   "file_extension": ".py",
   "mimetype": "text/x-python",
   "name": "python",
   "nbconvert_exporter": "python",
   "pygments_lexer": "ipython3",
   "version": "3.7.4"
  }
 },
 "nbformat": 4,
 "nbformat_minor": 4
}
