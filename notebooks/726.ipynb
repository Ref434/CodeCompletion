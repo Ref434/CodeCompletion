{
 "cells": [
  {
   "cell_type": "markdown",
   "id": "d3267e5b-18a9-48c2-a687-99d833b85100",
   "metadata": {},
   "source": [
    "# 2 在geopandas中制作在线地图可视化"
   ]
  },
  {
   "cell_type": "markdown",
   "id": "97b7716b-bfa2-4bb1-93c1-7d0507b7f236",
   "metadata": {},
   "source": [
    "## 2.1 GeoSeries.explore()方法的使用"
   ]
  },
  {
   "cell_type": "code",
   "execution_count": 1,
   "id": "309e9d67-bde1-41d6-a94c-cb7c830f6432",
   "metadata": {
    "execution": {
     "iopub.execute_input": "2021-11-09T10:59:50.436661Z",
     "iopub.status.busy": "2021-11-09T10:59:50.435664Z",
     "iopub.status.idle": "2021-11-09T10:59:53.087572Z",
     "shell.execute_reply": "2021-11-09T10:59:53.086575Z",
     "shell.execute_reply.started": "2021-11-09T10:59:50.436661Z"
    },
    "tags": []
   },
   "outputs": [
    {
     "data": {
      "text/html": [
       "<div>\n",
       "<style scoped>\n",
       "    .dataframe tbody tr th:only-of-type {\n",
       "        vertical-align: middle;\n",
       "    }\n",
       "\n",
       "    .dataframe tbody tr th {\n",
       "        vertical-align: top;\n",
       "    }\n",
       "\n",
       "    .dataframe thead th {\n",
       "        text-align: right;\n",
       "    }\n",
       "</style>\n",
       "<table border=\"1\" class=\"dataframe\">\n",
       "  <thead>\n",
       "    <tr style=\"text-align: right;\">\n",
       "      <th></th>\n",
       "      <th>省代码</th>\n",
       "      <th>省</th>\n",
       "      <th>类型</th>\n",
       "      <th>geometry</th>\n",
       "      <th>area</th>\n",
       "    </tr>\n",
       "  </thead>\n",
       "  <tbody>\n",
       "    <tr>\n",
       "      <th>17</th>\n",
       "      <td>420000</td>\n",
       "      <td>湖北省</td>\n",
       "      <td>省</td>\n",
       "      <td>POLYGON ((109.63156 33.27173, 109.63232 33.271...</td>\n",
       "      <td>188181</td>\n",
       "    </tr>\n",
       "    <tr>\n",
       "      <th>18</th>\n",
       "      <td>430000</td>\n",
       "      <td>湖南省</td>\n",
       "      <td>省</td>\n",
       "      <td>POLYGON ((110.84790 30.12861, 110.84934 30.128...</td>\n",
       "      <td>214062</td>\n",
       "    </tr>\n",
       "    <tr>\n",
       "      <th>22</th>\n",
       "      <td>500000</td>\n",
       "      <td>重庆市</td>\n",
       "      <td>直辖市</td>\n",
       "      <td>POLYGON ((108.53329 32.18348, 108.53350 32.183...</td>\n",
       "      <td>82484</td>\n",
       "    </tr>\n",
       "    <tr>\n",
       "      <th>23</th>\n",
       "      <td>510000</td>\n",
       "      <td>四川省</td>\n",
       "      <td>省</td>\n",
       "      <td>POLYGON ((102.95840 34.27996, 102.95933 34.270...</td>\n",
       "      <td>486954</td>\n",
       "    </tr>\n",
       "    <tr>\n",
       "      <th>24</th>\n",
       "      <td>520000</td>\n",
       "      <td>贵州省</td>\n",
       "      <td>省</td>\n",
       "      <td>POLYGON ((107.57016 29.20471, 107.57047 29.195...</td>\n",
       "      <td>176182</td>\n",
       "    </tr>\n",
       "    <tr>\n",
       "      <th>27</th>\n",
       "      <td>610000</td>\n",
       "      <td>陕西省</td>\n",
       "      <td>省</td>\n",
       "      <td>POLYGON ((111.15013 39.56195, 111.14246 39.531...</td>\n",
       "      <td>206064</td>\n",
       "    </tr>\n",
       "  </tbody>\n",
       "</table>\n",
       "</div>"
      ],
      "text/plain": [
       "       省代码    省   类型                                           geometry  \\\n",
       "17  420000  湖北省    省  POLYGON ((109.63156 33.27173, 109.63232 33.271...   \n",
       "18  430000  湖南省    省  POLYGON ((110.84790 30.12861, 110.84934 30.128...   \n",
       "22  500000  重庆市  直辖市  POLYGON ((108.53329 32.18348, 108.53350 32.183...   \n",
       "23  510000  四川省    省  POLYGON ((102.95840 34.27996, 102.95933 34.270...   \n",
       "24  520000  贵州省    省  POLYGON ((107.57016 29.20471, 107.57047 29.195...   \n",
       "27  610000  陕西省    省  POLYGON ((111.15013 39.56195, 111.14246 39.531...   \n",
       "\n",
       "      area  \n",
       "17  188181  \n",
       "18  214062  \n",
       "22   82484  \n",
       "23  486954  \n",
       "24  176182  \n",
       "27  206064  "
      ]
     },
     "execution_count": 1,
     "metadata": {},
     "output_type": "execute_result"
    }
   ],
   "source": [
    "import geopandas as gpd\n",
    "\n",
    "shp = gpd.read_file('省.shp').query('省.isin([\"四川省\", \"重庆市\", \"湖北省\", \"陕西省\", \"贵州省\", \"湖南省\"])')\n",
    "shp['area'] = (shp.to_crs(shp.estimate_utm_crs()).area * 0.000001).astype('int')\n",
    "shp"
   ]
  },
  {
   "cell_type": "code",
   "execution_count": 2,
   "id": "6af792c1-08bd-4dd7-94e2-f64bd36c09b8",
   "metadata": {
    "execution": {
     "iopub.execute_input": "2021-11-09T10:59:59.932794Z",
     "iopub.status.busy": "2021-11-09T10:59:59.931796Z",
     "iopub.status.idle": "2021-11-09T11:00:02.462032Z",
     "shell.execute_reply": "2021-11-09T11:00:02.462032Z",
     "shell.execute_reply.started": "2021-11-09T10:59:59.932794Z"
    },
    "tags": []
   },
   "outputs": [],
   "source": [
    "m = shp.geometry.explore(\n",
    "    color='#40a9ff',\n",
    "    tiles='https://server.arcgisonline.com/ArcGIS/rest/services/World_Imagery/MapServer/tile/{z}/{y}/{x}',\n",
    "    attr=' ',\n",
    "    width='80%',\n",
    "    tooltip=False, # 关闭鼠标悬浮时的空白tooltip\n",
    "    style_kwds={\n",
    "        'color': 'white',\n",
    "        'fillOpacity': 0.4\n",
    "    },\n",
    "    highlight_kwds={\n",
    "        'fillColor': 'white',\n",
    "        'fillOpacity': 0.6\n",
    "    }\n",
    ")\n",
    "m"
   ]
  },
  {
   "cell_type": "code",
   "execution_count": 5,
   "id": "7ab65dda-1e5c-4349-a9f0-0fffc6fe0bdd",
   "metadata": {
    "execution": {
     "iopub.execute_input": "2021-11-09T10:04:13.523320Z",
     "iopub.status.busy": "2021-11-09T10:04:13.522324Z",
     "iopub.status.idle": "2021-11-09T10:04:15.830205Z",
     "shell.execute_reply": "2021-11-09T10:04:15.829208Z",
     "shell.execute_reply.started": "2021-11-09T10:04:13.523320Z"
    },
    "tags": []
   },
   "outputs": [],
   "source": [
    "import folium\n",
    "\n",
    "m = shp.geometry.explore(\n",
    "    color='#40a9ff',\n",
    "    tiles='https://server.arcgisonline.com/ArcGIS/rest/services/World_Imagery/MapServer/tile/{z}/{y}/{x}',\n",
    "    attr=' ',\n",
    "    width='80%',\n",
    "    tooltip=False, # 关闭鼠标悬浮时的空白tooltip\n",
    "    style_kwds={\n",
    "        'color': 'white',\n",
    "        'fillOpacity': 0.4\n",
    "    },\n",
    "    highlight_kwds={\n",
    "        'fillColor': 'white',\n",
    "        'fillOpacity': 0.6\n",
    "    }\n",
    ")\n",
    "\n",
    "shp.representative_point().explore(\n",
    "    color='red',\n",
    "    tooltip=False, # 关闭鼠标悬浮时的空白tooltip\n",
    "    m=m, # 叠加已有地图\n",
    "    marker_type='marker',\n",
    "    marker_kwds={\n",
    "        'icon': folium.map.Icon(icon='beer', prefix='fa')\n",
    "    }\n",
    ")"
   ]
  },
  {
   "cell_type": "markdown",
   "id": "76d44caf-dcef-4e1d-87c2-cd9c94791dfc",
   "metadata": {
    "tags": []
   },
   "source": [
    "## 2.2 GeoDataFrame.explore()方法的使用"
   ]
  },
  {
   "cell_type": "code",
   "execution_count": 7,
   "id": "09f7dead-4e3e-47f8-816c-fbb0e1456ecf",
   "metadata": {
    "execution": {
     "iopub.execute_input": "2021-11-09T11:00:49.377089Z",
     "iopub.status.busy": "2021-11-09T11:00:49.377089Z",
     "iopub.status.idle": "2021-11-09T11:00:49.871766Z",
     "shell.execute_reply": "2021-11-09T11:00:49.870768Z",
     "shell.execute_reply.started": "2021-11-09T11:00:49.377089Z"
    },
    "tags": []
   },
   "outputs": [],
   "source": [
    "m = shp.explore(\n",
    "    column='area',\n",
    "    cmap='Reds',\n",
    "    tiles='https://server.arcgisonline.com/ArcGIS/rest/services/World_Topo_Map/MapServer/tile/{z}/{y}/{x}',\n",
    "    attr=' ',\n",
    "    scheme='NaturalBreaks',\n",
    "    k=3,\n",
    "    vmin=0,\n",
    "    legend_kwds={\n",
    "        'caption': '面积（平方千米）',\n",
    "        'scale': False\n",
    "    },\n",
    "    style_kwds={\n",
    "        'color': 'white',\n",
    "        'weight': 1,\n",
    "        'fillOpacity': 0.7\n",
    "    }\n",
    ")\n",
    "m"
   ]
  },
  {
   "cell_type": "markdown",
   "id": "c29c5a4a-1ad4-4f1d-ab25-3db5d396dcf9",
   "metadata": {},
   "source": [
    "## 2.3 保存在线底图"
   ]
  },
  {
   "cell_type": "code",
   "execution_count": 8,
   "id": "9be5d563-c3df-4bde-90b3-051d62993029",
   "metadata": {
    "execution": {
     "iopub.execute_input": "2021-11-09T11:00:58.511740Z",
     "iopub.status.busy": "2021-11-09T11:00:58.511740Z",
     "iopub.status.idle": "2021-11-09T11:00:58.527696Z",
     "shell.execute_reply": "2021-11-09T11:00:58.527696Z",
     "shell.execute_reply.started": "2021-11-09T11:00:58.511740Z"
    },
    "tags": []
   },
   "outputs": [],
   "source": [
    "m.save('demo.html')"
   ]
  }
 ],
 "metadata": {
  "kernelspec": {
   "display_name": "Python 3 (ipykernel)",
   "language": "python",
   "name": "python3"
  },
  "language_info": {
   "codemirror_mode": {
    "name": "ipython",
    "version": 3
   },
   "file_extension": ".py",
   "mimetype": "text/x-python",
   "name": "python",
   "nbconvert_exporter": "python",
   "pygments_lexer": "ipython3",
   "version": "3.7.11"
  }
 },
 "nbformat": 4,
 "nbformat_minor": 5
}
