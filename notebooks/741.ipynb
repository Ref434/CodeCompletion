{
 "cells": [
  {
   "cell_type": "code",
   "execution_count": 1,
   "id": "9a93ee09-8006-47db-9e88-b23f73ceb949",
   "metadata": {},
   "outputs": [
    {
     "data": {
      "text/plain": [
       "'0.12.0'"
      ]
     },
     "execution_count": 1,
     "metadata": {},
     "output_type": "execute_result"
    }
   ],
   "source": [
    "import geopandas as gpd\n",
    "gpd.__version__"
   ]
  },
  {
   "cell_type": "code",
   "execution_count": 2,
   "id": "d89a27e2-6105-496f-825d-1aa70af1c08e",
   "metadata": {},
   "outputs": [
    {
     "data": {
      "text/plain": [
       "'1.8.5.post1'"
      ]
     },
     "execution_count": 2,
     "metadata": {},
     "output_type": "execute_result"
    }
   ],
   "source": [
    "import shapely\n",
    "shapely.__version__"
   ]
  },
  {
   "cell_type": "markdown",
   "id": "8be60d87-bff7-428b-b32b-d4783e94c035",
   "metadata": {},
   "source": [
    "# 2 在geopandas解决拓扑错误问题"
   ]
  },
  {
   "cell_type": "markdown",
   "id": "dfbe9d12-6b8c-4dde-bc8f-f865ede1d274",
   "metadata": {},
   "source": [
    "## 2.1 geopandas中常见的要素拓扑错误情况"
   ]
  },
  {
   "cell_type": "code",
   "execution_count": 3,
   "id": "77ab8d84-d077-4f13-98ff-a7051effe509",
   "metadata": {},
   "outputs": [
    {
     "data": {
      "image/svg+xml": [
       "<svg xmlns=\"http://www.w3.org/2000/svg\" xmlns:xlink=\"http://www.w3.org/1999/xlink\" width=\"100.0\" height=\"100.0\" viewBox=\"-0.04 -0.04 1.08 1.08\" preserveAspectRatio=\"xMinYMin meet\"><g transform=\"matrix(1,0,0,-1,0,1.0)\"><path fill-rule=\"evenodd\" fill=\"#ff3333\" stroke=\"#555555\" stroke-width=\"0.0216\" opacity=\"0.6\" d=\"M 0.0,0.0 L 1.0,0.0 L 0.0,1.0 L 1.0,1.0 L 0.0,0.0 z\" /></g></svg>"
      ],
      "text/plain": [
       "<shapely.geometry.polygon.Polygon at 0x248c9343b80>"
      ]
     },
     "execution_count": 3,
     "metadata": {},
     "output_type": "execute_result"
    }
   ],
   "source": [
    "from shapely.geometry import Polygon\n",
    "\n",
    "# 坐标串自交叉\n",
    "polygon1 = Polygon([(0, 0), (1, 0), (0, 1), (1, 1)])\n",
    "polygon1"
   ]
  },
  {
   "cell_type": "code",
   "execution_count": 4,
   "id": "70ca0f26-2a42-4839-91e0-0ff2054afdc6",
   "metadata": {},
   "outputs": [
    {
     "data": {
      "text/plain": [
       "False"
      ]
     },
     "execution_count": 4,
     "metadata": {},
     "output_type": "execute_result"
    }
   ],
   "source": [
    "polygon1.is_valid"
   ]
  },
  {
   "cell_type": "code",
   "execution_count": 5,
   "id": "b3faf96e-d726-4d23-925c-63c139c1dffc",
   "metadata": {},
   "outputs": [
    {
     "data": {
      "image/svg+xml": [
       "<svg xmlns=\"http://www.w3.org/2000/svg\" xmlns:xlink=\"http://www.w3.org/1999/xlink\" width=\"100.0\" height=\"100.0\" viewBox=\"-0.08 -0.08 2.16 2.16\" preserveAspectRatio=\"xMinYMin meet\"><g transform=\"matrix(1,0,0,-1,0,2.0)\"><path fill-rule=\"evenodd\" fill=\"#ff3333\" stroke=\"#555555\" stroke-width=\"0.0432\" opacity=\"0.6\" d=\"M 0.0,2.0 L 0.0,1.0 L 2.0,0.0 L 0.0,0.0 L 0.0,2.0 z\" /></g></svg>"
      ],
      "text/plain": [
       "<shapely.geometry.polygon.Polygon at 0x248c935e430>"
      ]
     },
     "execution_count": 5,
     "metadata": {},
     "output_type": "execute_result"
    }
   ],
   "source": [
    "# 边界线存在重叠\n",
    "polygon2 = Polygon([(0, 2), (0, 1), (2, 0), (0, 0), (0, 2)])\n",
    "polygon2"
   ]
  },
  {
   "cell_type": "code",
   "execution_count": 6,
   "id": "c46b39ab-87d5-4be7-a61d-4257f2ef53f2",
   "metadata": {},
   "outputs": [
    {
     "data": {
      "text/plain": [
       "False"
      ]
     },
     "execution_count": 6,
     "metadata": {},
     "output_type": "execute_result"
    }
   ],
   "source": [
    "polygon2.is_valid"
   ]
  },
  {
   "cell_type": "code",
   "execution_count": 7,
   "id": "f8c9d30a-1656-43a7-81b2-fff86c617eeb",
   "metadata": {},
   "outputs": [
    {
     "data": {
      "image/svg+xml": [
       "<svg xmlns=\"http://www.w3.org/2000/svg\" xmlns:xlink=\"http://www.w3.org/1999/xlink\" width=\"100.0\" height=\"100.0\" viewBox=\"-0.16 -0.16 4.32 4.32\" preserveAspectRatio=\"xMinYMin meet\"><g transform=\"matrix(1,0,0,-1,0,4.0)\"><path fill-rule=\"evenodd\" fill=\"#ff3333\" stroke=\"#555555\" stroke-width=\"0.0864\" opacity=\"0.6\" d=\"M 0.0,0.0 L 4.0,0.0 L 4.0,4.0 L 0.0,4.0 L 0.0,0.0 z M 1.0,1.0 L 2.0,1.0 L 2.0,2.0 L 1.0,2.0 L 1.0,1.0 z M 2.0,1.0 L 3.0,1.0 L 3.0,2.0 L 2.0,2.0 L 2.0,1.0 z\" /></g></svg>"
      ],
      "text/plain": [
       "<shapely.geometry.polygon.Polygon at 0x248c935e2b0>"
      ]
     },
     "execution_count": 7,
     "metadata": {},
     "output_type": "execute_result"
    }
   ],
   "source": [
    "# 内部孔洞之间存在共边\n",
    "polygon3 = Polygon(\n",
    "    [(0, 0), (4, 0), (4, 4), (0, 4)],\n",
    "    [\n",
    "        [(1, 1), (2, 1), (2, 2), (1, 2)],\n",
    "        [(2, 1), (3, 1), (3, 2), (2, 2)]\n",
    "    ]\n",
    ")\n",
    "polygon3"
   ]
  },
  {
   "cell_type": "code",
   "execution_count": 8,
   "id": "bc72355d-af9b-4a89-bf4e-18d57f3ab911",
   "metadata": {},
   "outputs": [
    {
     "data": {
      "text/plain": [
       "False"
      ]
     },
     "execution_count": 8,
     "metadata": {},
     "output_type": "execute_result"
    }
   ],
   "source": [
    "polygon3.is_valid"
   ]
  },
  {
   "cell_type": "code",
   "execution_count": 9,
   "id": "69c3812d-11f3-430d-ad32-54ce9e906f21",
   "metadata": {},
   "outputs": [
    {
     "data": {
      "image/svg+xml": [
       "<svg xmlns=\"http://www.w3.org/2000/svg\" xmlns:xlink=\"http://www.w3.org/1999/xlink\" width=\"100.0\" height=\"100.0\" viewBox=\"-0.16 -0.16 4.32 4.32\" preserveAspectRatio=\"xMinYMin meet\"><g transform=\"matrix(1,0,0,-1,0,4.0)\"><path fill-rule=\"evenodd\" fill=\"#ff3333\" stroke=\"#555555\" stroke-width=\"0.0864\" opacity=\"0.6\" d=\"M 0.0,0.0 L 4.0,0.0 L 4.0,4.0 L 0.0,4.0 L 0.0,0.0 z M 3.0,2.0 L 4.0,2.0 L 4.0,3.0 L 3.0,3.0 L 3.0,2.0 z\" /></g></svg>"
      ],
      "text/plain": [
       "<shapely.geometry.polygon.Polygon at 0x248c9373820>"
      ]
     },
     "execution_count": 9,
     "metadata": {},
     "output_type": "execute_result"
    }
   ],
   "source": [
    "# 内部孔洞与外边界共边\n",
    "polygon4 = Polygon(\n",
    "    [(0, 0), (4, 0), (4, 4), (0, 4)],\n",
    "    [\n",
    "        [(3, 2), (4, 2), (4, 3), (3, 3)]\n",
    "    ]\n",
    ")\n",
    "polygon4"
   ]
  },
  {
   "cell_type": "code",
   "execution_count": 10,
   "id": "0f1538ea-4c46-44e3-80c1-29ffcfa11ff7",
   "metadata": {},
   "outputs": [
    {
     "data": {
      "text/plain": [
       "False"
      ]
     },
     "execution_count": 10,
     "metadata": {},
     "output_type": "execute_result"
    }
   ],
   "source": [
    "polygon4.is_valid"
   ]
  },
  {
   "cell_type": "code",
   "execution_count": 11,
   "id": "40de6170-38f5-41b7-8470-8dfbb7f5922b",
   "metadata": {},
   "outputs": [
    {
     "data": {
      "image/svg+xml": [
       "<svg xmlns=\"http://www.w3.org/2000/svg\" xmlns:xlink=\"http://www.w3.org/1999/xlink\" width=\"100.0\" height=\"100.0\" viewBox=\"-0.06 -0.06 1.62 1.62\" preserveAspectRatio=\"xMinYMin meet\"><g transform=\"matrix(1,0,0,-1,0,1.5)\"><g><path fill-rule=\"evenodd\" fill=\"#ff3333\" stroke=\"#555555\" stroke-width=\"0.032400000000000005\" opacity=\"0.6\" d=\"M 0.0,0.0 L 1.0,0.0 L 1.0,1.0 L 0.0,1.0 L 0.0,0.0 z\" /><path fill-rule=\"evenodd\" fill=\"#ff3333\" stroke=\"#555555\" stroke-width=\"0.032400000000000005\" opacity=\"0.6\" d=\"M 0.5,0.5 L 1.5,0.5 L 1.5,1.5 L 0.5,1.5 L 0.5,0.5 z\" /></g></g></svg>"
      ],
      "text/plain": [
       "<shapely.geometry.multipolygon.MultiPolygon at 0x248c935e4c0>"
      ]
     },
     "execution_count": 11,
     "metadata": {},
     "output_type": "execute_result"
    }
   ],
   "source": [
    "from shapely.geometry import MultiPolygon\n",
    "\n",
    "# 多部件面要素之间存在重叠\n",
    "multi_polygon1 = MultiPolygon(\n",
    "    [\n",
    "        Polygon([(0, 0), (1, 0), (1, 1), (0, 1)]),\n",
    "        Polygon([(0.5, 0.5), (1.5, 0.5), (1.5, 1.5), (0.5, 1.5)])\n",
    "    ]\n",
    ")\n",
    "multi_polygon1"
   ]
  },
  {
   "cell_type": "code",
   "execution_count": 12,
   "id": "9fe798fa-4cb3-4b2f-99ac-2e9b72c5e4eb",
   "metadata": {},
   "outputs": [
    {
     "data": {
      "text/plain": [
       "False"
      ]
     },
     "execution_count": 12,
     "metadata": {},
     "output_type": "execute_result"
    }
   ],
   "source": [
    "multi_polygon1.is_valid"
   ]
  },
  {
   "cell_type": "markdown",
   "id": "3282a16d-dfa5-4a3c-b8e7-46d2bd8716ae",
   "metadata": {},
   "source": [
    "## 2.2 对拓扑错误要素进行诊断"
   ]
  },
  {
   "cell_type": "code",
   "execution_count": 13,
   "id": "2ed02e53-19be-47e1-9c1e-6f2d5094efc0",
   "metadata": {},
   "outputs": [],
   "source": [
    "# 将上述的所有矢量写出\n",
    "(\n",
    "    gpd\n",
    "    .GeoDataFrame({\n",
    "        'geometry': [polygon1, polygon2, polygon3, polygon4, multi_polygon1],\n",
    "        'id': range(1, 6)\n",
    "    })\n",
    "    .to_file('demo.shp')\n",
    ")"
   ]
  },
  {
   "cell_type": "code",
   "execution_count": 14,
   "id": "e5393c66-ade9-4917-9bf3-3d9b754cdad4",
   "metadata": {},
   "outputs": [
    {
     "data": {
      "text/html": [
       "<div>\n",
       "<style scoped>\n",
       "    .dataframe tbody tr th:only-of-type {\n",
       "        vertical-align: middle;\n",
       "    }\n",
       "\n",
       "    .dataframe tbody tr th {\n",
       "        vertical-align: top;\n",
       "    }\n",
       "\n",
       "    .dataframe thead th {\n",
       "        text-align: right;\n",
       "    }\n",
       "</style>\n",
       "<table border=\"1\" class=\"dataframe\">\n",
       "  <thead>\n",
       "    <tr style=\"text-align: right;\">\n",
       "      <th></th>\n",
       "      <th>id</th>\n",
       "      <th>geometry</th>\n",
       "    </tr>\n",
       "  </thead>\n",
       "  <tbody>\n",
       "    <tr>\n",
       "      <th>0</th>\n",
       "      <td>1</td>\n",
       "      <td>POLYGON ((0.00000 0.00000, 1.00000 0.00000, 0....</td>\n",
       "    </tr>\n",
       "    <tr>\n",
       "      <th>1</th>\n",
       "      <td>2</td>\n",
       "      <td>POLYGON ((0.00000 2.00000, 0.00000 1.00000, 2....</td>\n",
       "    </tr>\n",
       "    <tr>\n",
       "      <th>2</th>\n",
       "      <td>3</td>\n",
       "      <td>POLYGON ((0.00000 0.00000, 0.00000 4.00000, 4....</td>\n",
       "    </tr>\n",
       "    <tr>\n",
       "      <th>3</th>\n",
       "      <td>4</td>\n",
       "      <td>POLYGON ((0.00000 0.00000, 0.00000 4.00000, 4....</td>\n",
       "    </tr>\n",
       "    <tr>\n",
       "      <th>4</th>\n",
       "      <td>5</td>\n",
       "      <td>MULTIPOLYGON (((0.00000 0.00000, 0.00000 1.000...</td>\n",
       "    </tr>\n",
       "  </tbody>\n",
       "</table>\n",
       "</div>"
      ],
      "text/plain": [
       "   id                                           geometry\n",
       "0   1  POLYGON ((0.00000 0.00000, 1.00000 0.00000, 0....\n",
       "1   2  POLYGON ((0.00000 2.00000, 0.00000 1.00000, 2....\n",
       "2   3  POLYGON ((0.00000 0.00000, 0.00000 4.00000, 4....\n",
       "3   4  POLYGON ((0.00000 0.00000, 0.00000 4.00000, 4....\n",
       "4   5  MULTIPOLYGON (((0.00000 0.00000, 0.00000 1.000..."
      ]
     },
     "execution_count": 14,
     "metadata": {},
     "output_type": "execute_result"
    }
   ],
   "source": [
    "# 读入刚刚写出的shp文件\n",
    "demo_gdf = gpd.read_file('./demo.shp')\n",
    "demo_gdf"
   ]
  },
  {
   "cell_type": "code",
   "execution_count": 15,
   "id": "289c5a15-0d91-4d4a-a3de-ab431480558c",
   "metadata": {},
   "outputs": [
    {
     "data": {
      "text/plain": [
       "0    False\n",
       "1    False\n",
       "2    False\n",
       "3    False\n",
       "4    False\n",
       "dtype: bool"
      ]
     },
     "execution_count": 15,
     "metadata": {},
     "output_type": "execute_result"
    }
   ],
   "source": [
    "demo_gdf.is_valid"
   ]
  },
  {
   "cell_type": "code",
   "execution_count": 16,
   "id": "8c2a53ab-4b21-4813-a8dc-846b343b71d3",
   "metadata": {},
   "outputs": [
    {
     "data": {
      "text/plain": [
       "0     Self-intersection[0.5 0.5]\n",
       "1    Ring Self-intersection[0 1]\n",
       "2         Self-intersection[2 2]\n",
       "3         Self-intersection[4 2]\n",
       "4       Self-intersection[0.5 1]\n",
       "Name: geometry, dtype: object"
      ]
     },
     "execution_count": 16,
     "metadata": {},
     "output_type": "execute_result"
    }
   ],
   "source": [
    "from shapely.validation import explain_validity\n",
    "\n",
    "# 批量拓扑诊断\n",
    "demo_gdf.geometry.map(explain_validity)"
   ]
  },
  {
   "cell_type": "markdown",
   "id": "c80da02a-7b3b-441f-b3b0-857af3ae2fce",
   "metadata": {},
   "source": [
    "## 2.3 对拓扑问题进行修复"
   ]
  },
  {
   "cell_type": "code",
   "execution_count": 17,
   "id": "92b28455-7f4f-4f56-be5c-473ff32e089d",
   "metadata": {},
   "outputs": [
    {
     "data": {
      "text/plain": [
       "0    True\n",
       "1    True\n",
       "2    True\n",
       "3    True\n",
       "4    True\n",
       "dtype: bool"
      ]
     },
     "execution_count": 17,
     "metadata": {},
     "output_type": "execute_result"
    }
   ],
   "source": [
    "# geopandas >= 0.12.0版本\n",
    "demo_gdf.geometry.make_valid().is_valid"
   ]
  },
  {
   "cell_type": "code",
   "execution_count": 18,
   "id": "8494358d-b66e-49bc-8692-c537f094d2a4",
   "metadata": {},
   "outputs": [
    {
     "data": {
      "text/plain": [
       "0    True\n",
       "1    True\n",
       "2    True\n",
       "3    True\n",
       "4    True\n",
       "dtype: bool"
      ]
     },
     "execution_count": 18,
     "metadata": {},
     "output_type": "execute_result"
    }
   ],
   "source": [
    "from shapely.validation import make_valid\n",
    "\n",
    "# geopandas < 0.12.0版本\n",
    "demo_gdf.geometry.map(make_valid).is_valid"
   ]
  },
  {
   "cell_type": "markdown",
   "id": "f950ece6-f81d-402b-9921-69ca01818da8",
   "metadata": {},
   "source": [
    "- 修复错误情况1：**坐标串自交叉**"
   ]
  },
  {
   "cell_type": "code",
   "execution_count": 19,
   "id": "c619a84b-746e-4eb0-acaa-8f93b6d5cc72",
   "metadata": {},
   "outputs": [],
   "source": [
    "fixed_demo_gdf = demo_gdf.copy()\n",
    "fixed_demo_gdf.geometry = fixed_demo_gdf.geometry.make_valid()"
   ]
  },
  {
   "cell_type": "code",
   "execution_count": 20,
   "id": "ef3fcf57-d514-4523-8c8c-0ef332655609",
   "metadata": {},
   "outputs": [
    {
     "data": {
      "image/svg+xml": [
       "<svg xmlns=\"http://www.w3.org/2000/svg\" xmlns:xlink=\"http://www.w3.org/1999/xlink\" width=\"100.0\" height=\"100.0\" viewBox=\"-0.04 -0.04 1.08 1.08\" preserveAspectRatio=\"xMinYMin meet\"><g transform=\"matrix(1,0,0,-1,0,1.0)\"><g><path fill-rule=\"evenodd\" fill=\"#66cc99\" stroke=\"#555555\" stroke-width=\"0.0216\" opacity=\"0.6\" d=\"M 0.0,0.0 L 0.5,0.5 L 1.0,0.0 L 0.0,0.0 z\" /><path fill-rule=\"evenodd\" fill=\"#66cc99\" stroke=\"#555555\" stroke-width=\"0.0216\" opacity=\"0.6\" d=\"M 1.0,1.0 L 0.5,0.5 L 0.0,1.0 L 1.0,1.0 z\" /></g></g></svg>"
      ],
      "text/plain": [
       "<shapely.geometry.multipolygon.MultiPolygon at 0x248c96cba60>"
      ]
     },
     "execution_count": 20,
     "metadata": {},
     "output_type": "execute_result"
    }
   ],
   "source": [
    "fixed_demo_gdf.at[0, 'geometry']"
   ]
  },
  {
   "cell_type": "code",
   "execution_count": 21,
   "id": "44c1d05e-36dc-4938-8ff1-3cdbf558bb0b",
   "metadata": {},
   "outputs": [
    {
     "data": {
      "text/plain": [
       "shapely.geometry.multipolygon.MultiPolygon"
      ]
     },
     "execution_count": 21,
     "metadata": {},
     "output_type": "execute_result"
    }
   ],
   "source": [
    "type(fixed_demo_gdf.at[0, 'geometry'])"
   ]
  },
  {
   "cell_type": "code",
   "execution_count": 22,
   "id": "d641cf66-179d-445e-8d48-e66807153a9e",
   "metadata": {},
   "outputs": [
    {
     "data": {
      "image/svg+xml": [
       "<svg xmlns=\"http://www.w3.org/2000/svg\" xmlns:xlink=\"http://www.w3.org/1999/xlink\" width=\"100.0\" height=\"100.0\" viewBox=\"-0.040001079999999994 -0.040001079999999994 1.0800021599999998 1.0800021599999998\" preserveAspectRatio=\"xMinYMin meet\"><g transform=\"matrix(1,0,0,-1,0,0.9999999999999999)\"><path fill-rule=\"evenodd\" fill=\"#66cc99\" stroke=\"#555555\" stroke-width=\"0.021600043199999995\" opacity=\"0.6\" d=\"M 0.0,-1e-06 L -9.801714032956044e-08,-9.95184726672197e-07 L -1.9509032201612866e-07,-9.807852804032302e-07 L -2.902846772544624e-07,-9.569403357322087e-07 L -3.826834323650903e-07,-9.238795325112865e-07 L -4.7139673682599785e-07,-8.819212643483549e-07 L -5.555702330196022e-07,-8.314696123025452e-07 L -6.343932841636459e-07,-7.730104533627366e-07 L -7.071067811865477e-07,-7.071067811865475e-07 L -7.730104533627371e-07,-6.343932841636453e-07 L -8.314696123025454e-07,-5.55570233019602e-07 L -8.81921264348355e-07,-4.7139673682599764e-07 L -9.238795325112868e-07,-3.8268343236508967e-07 L -9.56940335732209e-07,-2.902846772544621e-07 L -9.807852804032304e-07,-1.9509032201612834e-07 L -9.95184726672197e-07,-9.801714032956059e-08 L -1e-06,1.2246467991473532e-22 L -9.951847266721968e-07,9.801714032956081e-08 L -9.807852804032304e-07,1.950903220161286e-07 L -9.569403357322087e-07,2.9028467725446236e-07 L -9.238795325112867e-07,3.826834323650899e-07 L -8.819212643483549e-07,4.713967368259978e-07 L -8.314696123025453e-07,5.555702330196022e-07 L -7.73010453362737e-07,6.343932841636455e-07 L -7.071067811865475e-07,7.071067811865475e-07 L 0.49999858578643763,0.5 L -7.071067811865475e-07,0.9999992928932188 L -7.730104533401034e-07,0.9999993656067158 L -8.314696122835857e-07,0.999999444429767 L -8.819212643329991e-07,0.9999995286032631 L -9.238795324994144e-07,0.9999996173165676 L -9.569403357236535e-07,0.9999997097153227 L -9.807852803977832e-07,0.999999804909678 L -9.95184726669612e-07,0.9999999019828596 L -1e-06,1.0 L -9.951847266744776e-07,1.0000000980171404 L -9.80785280407467e-07,1.000000195090322 L -9.569403357380626e-07,1.0000002902846772 L -9.238795325184101e-07,1.0000003826834323 L -8.819212643563985e-07,1.0000004713967368 L -8.314696123111633e-07,1.000000555570233 L -7.730104533715935e-07,1.0000006343932841 L -7.071067811953224e-07,1.0000007071067811 L -6.34393284172039e-07,1.0000007730104534 L -5.555702330273407e-07,1.0000008314696123 L -4.7139673683283786e-07,1.0000008819212642 L -3.826834323708222e-07,1.0000009238795324 L -2.902846772589154e-07,1.0000009569403356 L -1.950903220191712e-07,1.0000009807852803 L -9.801714033110437e-08,1.0000009951847266 L 0.0,1.000001 L 1.0,1.000001 L 1.0000000980171404,1.0000009951847266 L 1.0000001950903221,1.0000009807852803 L 1.0000002902846772,1.0000009569403356 L 1.0000003826834323,1.0000009238795324 L 1.0000004713967368,1.0000008819212642 L 1.000000555570233,1.0000008314696123 L 1.0000006343932841,1.0000007730104534 L 1.0000007071067811,1.0000007071067811 L 1.0000007730104534,1.0000006343932841 L 1.0000008314696123,1.000000555570233 L 1.0000008819212645,1.0000004713967368 L 1.0000009238795324,1.0000003826834323 L 1.0000009569403356,1.0000002902846772 L 1.0000009807852803,1.000000195090322 L 1.0000009951847266,1.0000000980171402 L 1.000001,1.0 L 1.0000009951847266,0.9999999019828596 L 1.0000009807852803,0.9999998049096779 L 1.0000009569403356,0.9999997097153227 L 1.0000009238795324,0.9999996173165676 L 1.0000008819212642,0.9999995286032631 L 1.0000008314696123,0.999999444429767 L 1.0000007730104534,0.9999993656067158 L 1.0000007071067811,0.9999992928932188 L 0.5000014142135625,0.5 L 1.0000007071067811,7.071067811865475e-07 L 1.0000007730104534,6.343932841942224e-07 L 1.0000008314696123,5.555702330510616e-07 L 1.0000008819212642,4.713967368578492e-07 L 1.0000009238795324,3.826834323968678e-07 L 1.0000009569403356,2.902846772857318e-07 L 1.0000009807852803,1.9509032204649013e-07 L 1.0000009951847266,9.801714035865675e-08 L 1.000001,2.751709970993943e-17 L 1.0000009951847266,-9.801714030388756e-08 L 1.0000009807852803,-1.9509032199251338e-07 L 1.0000009569403356,-2.9028467723306736e-07 L 1.0000009238795324,-3.826834323460229e-07 L 1.0000008819212645,-4.713967368093135e-07 L 1.0000008314696123,-5.555702330053023e-07 L 1.0000007730104534,-6.343932841516803e-07 L 1.0000007071067811,-7.071067811768187e-07 L 1.0000006343932841,-7.730104533550995e-07 L 1.000000555570233,-8.314696122968122e-07 L 1.0000004713967368,-8.819212643443012e-07 L 1.0000003826834323,-9.23879532508654e-07 L 1.0000002902846772,-9.569403357307112e-07 L 1.0000001950903221,-9.807852804025594e-07 L 1.0000000980171404,-9.951847266720282e-07 L 1.0,-1e-06 L 0.0,-1e-06 z\" /></g></svg>"
      ],
      "text/plain": [
       "<shapely.geometry.polygon.Polygon at 0x248c96c5370>"
      ]
     },
     "execution_count": 22,
     "metadata": {},
     "output_type": "execute_result"
    }
   ],
   "source": [
    "fixed_demo_gdf.at[0, 'geometry'].buffer(1 / 1000000)"
   ]
  },
  {
   "cell_type": "code",
   "execution_count": 23,
   "id": "1e9e6911-781f-4043-8c2d-7f747eea9b5a",
   "metadata": {},
   "outputs": [
    {
     "data": {
      "text/plain": [
       "shapely.geometry.polygon.Polygon"
      ]
     },
     "execution_count": 23,
     "metadata": {},
     "output_type": "execute_result"
    }
   ],
   "source": [
    "type(fixed_demo_gdf.at[0, 'geometry'].buffer(1 / 1000000))"
   ]
  },
  {
   "cell_type": "markdown",
   "id": "0decffde-c40d-4208-be96-3bb5bacf2b3a",
   "metadata": {},
   "source": [
    "- 修复错误情况2：**边界线存在重叠**"
   ]
  },
  {
   "cell_type": "code",
   "execution_count": 24,
   "id": "85602d3d-d4ac-4afa-8b52-216147e9532f",
   "metadata": {},
   "outputs": [
    {
     "data": {
      "image/svg+xml": [
       "<svg xmlns=\"http://www.w3.org/2000/svg\" xmlns:xlink=\"http://www.w3.org/1999/xlink\" width=\"100.0\" height=\"100.0\" viewBox=\"-0.08 -0.08 2.16 2.16\" preserveAspectRatio=\"xMinYMin meet\"><g transform=\"matrix(1,0,0,-1,0,2.0)\"><g><path fill-rule=\"evenodd\" fill=\"#66cc99\" stroke=\"#555555\" stroke-width=\"0.0432\" opacity=\"0.6\" d=\"M 2.0,0.0 L 0.0,0.0 L 0.0,1.0 L 2.0,0.0 z\" /><polyline fill=\"none\" stroke=\"#66cc99\" stroke-width=\"0.0432\" points=\"0.0,2.0 0.0,1.0\" opacity=\"0.8\" /></g></g></svg>"
      ],
      "text/plain": [
       "<shapely.geometry.collection.GeometryCollection at 0x248c96c5e50>"
      ]
     },
     "execution_count": 24,
     "metadata": {},
     "output_type": "execute_result"
    }
   ],
   "source": [
    "fixed_demo_gdf.at[1, 'geometry']"
   ]
  },
  {
   "cell_type": "code",
   "execution_count": 25,
   "id": "b2a7f1ea-8b2f-4f36-a97e-8854d8f3fd7a",
   "metadata": {},
   "outputs": [
    {
     "data": {
      "text/plain": [
       "shapely.geometry.collection.GeometryCollection"
      ]
     },
     "execution_count": 25,
     "metadata": {},
     "output_type": "execute_result"
    }
   ],
   "source": [
    "type(fixed_demo_gdf.at[1, 'geometry'])"
   ]
  },
  {
   "cell_type": "code",
   "execution_count": 26,
   "id": "22f3260d-d465-410e-9180-9906c18b34b8",
   "metadata": {},
   "outputs": [
    {
     "data": {
      "text/plain": [
       "[<shapely.geometry.polygon.Polygon at 0x248c96c50a0>,\n",
       " <shapely.geometry.linestring.LineString at 0x248c96c5130>]"
      ]
     },
     "execution_count": 26,
     "metadata": {},
     "output_type": "execute_result"
    }
   ],
   "source": [
    "list(fixed_demo_gdf.at[1, 'geometry'].geoms)"
   ]
  },
  {
   "cell_type": "code",
   "execution_count": 27,
   "id": "c6135098-5591-4d5e-8fc4-0bd81dc50ded",
   "metadata": {},
   "outputs": [
    {
     "data": {
      "image/svg+xml": [
       "<svg xmlns=\"http://www.w3.org/2000/svg\" xmlns:xlink=\"http://www.w3.org/1999/xlink\" width=\"100.0\" height=\"100.0\" viewBox=\"-0.08 -0.08 2.16 1.1600000000000001\" preserveAspectRatio=\"xMinYMin meet\"><g transform=\"matrix(1,0,0,-1,0,1.0)\"><path fill-rule=\"evenodd\" fill=\"#66cc99\" stroke=\"#555555\" stroke-width=\"0.0432\" opacity=\"0.6\" d=\"M 2.0,0.0 L 0.0,0.0 L 0.0,1.0 L 2.0,0.0 z\" /></g></svg>"
      ],
      "text/plain": [
       "<shapely.geometry.polygon.Polygon at 0x248c9343f40>"
      ]
     },
     "execution_count": 27,
     "metadata": {},
     "output_type": "execute_result"
    }
   ],
   "source": [
    "from shapely.ops import unary_union\n",
    "\n",
    "unary_union(\n",
    "    [g for g in fixed_demo_gdf.at[1, 'geometry'].geoms \n",
    "     if 'Polygon' in g.geom_type]\n",
    ")"
   ]
  },
  {
   "cell_type": "markdown",
   "id": "ce3ea3aa-5bee-4007-a831-a38566ad40d2",
   "metadata": {},
   "source": [
    "- 修复错误情况3：**内部孔洞之间存在共边**"
   ]
  },
  {
   "cell_type": "code",
   "execution_count": 28,
   "id": "b9a3f55a-4662-4ac2-acc7-8939da65edca",
   "metadata": {},
   "outputs": [
    {
     "data": {
      "image/svg+xml": [
       "<svg xmlns=\"http://www.w3.org/2000/svg\" xmlns:xlink=\"http://www.w3.org/1999/xlink\" width=\"100.0\" height=\"100.0\" viewBox=\"-0.16 -0.16 4.32 4.32\" preserveAspectRatio=\"xMinYMin meet\"><g transform=\"matrix(1,0,0,-1,0,4.0)\"><g><path fill-rule=\"evenodd\" fill=\"#66cc99\" stroke=\"#555555\" stroke-width=\"0.0864\" opacity=\"0.6\" d=\"M 0.0,0.0 L 0.0,4.0 L 4.0,4.0 L 4.0,0.0 L 0.0,0.0 z M 2.0,1.0 L 3.0,1.0 L 3.0,2.0 L 2.0,2.0 L 1.0,2.0 L 1.0,1.0 L 2.0,1.0 z\" /><polyline fill=\"none\" stroke=\"#66cc99\" stroke-width=\"0.0864\" points=\"2.0,1.0 2.0,2.0\" opacity=\"0.8\" /></g></g></svg>"
      ],
      "text/plain": [
       "<shapely.geometry.collection.GeometryCollection at 0x248c935e520>"
      ]
     },
     "execution_count": 28,
     "metadata": {},
     "output_type": "execute_result"
    }
   ],
   "source": [
    "fixed_demo_gdf.at[2, 'geometry']"
   ]
  },
  {
   "cell_type": "code",
   "execution_count": 29,
   "id": "36b436b9-c229-4595-a378-e3d1a30b728b",
   "metadata": {},
   "outputs": [
    {
     "data": {
      "text/plain": [
       "shapely.geometry.collection.GeometryCollection"
      ]
     },
     "execution_count": 29,
     "metadata": {},
     "output_type": "execute_result"
    }
   ],
   "source": [
    "type(fixed_demo_gdf.at[2, 'geometry'])"
   ]
  },
  {
   "cell_type": "code",
   "execution_count": 30,
   "id": "034ade6f-f659-47c4-8ca4-43cf476dc46b",
   "metadata": {},
   "outputs": [
    {
     "data": {
      "text/plain": [
       "[<shapely.geometry.polygon.Polygon at 0x248c9373f40>,\n",
       " <shapely.geometry.linestring.LineString at 0x248c9373940>]"
      ]
     },
     "execution_count": 30,
     "metadata": {},
     "output_type": "execute_result"
    }
   ],
   "source": [
    "list(fixed_demo_gdf.at[2, 'geometry'].geoms)"
   ]
  },
  {
   "cell_type": "code",
   "execution_count": 31,
   "id": "c29a4488-7b5b-4608-90b1-7876b0cd0cb4",
   "metadata": {},
   "outputs": [
    {
     "data": {
      "image/svg+xml": [
       "<svg xmlns=\"http://www.w3.org/2000/svg\" xmlns:xlink=\"http://www.w3.org/1999/xlink\" width=\"100.0\" height=\"100.0\" viewBox=\"-0.16 -0.16 4.32 4.32\" preserveAspectRatio=\"xMinYMin meet\"><g transform=\"matrix(1,0,0,-1,0,4.0)\"><path fill-rule=\"evenodd\" fill=\"#66cc99\" stroke=\"#555555\" stroke-width=\"0.0864\" opacity=\"0.6\" d=\"M 0.0,0.0 L 0.0,4.0 L 4.0,4.0 L 4.0,0.0 L 0.0,0.0 z M 2.0,1.0 L 3.0,1.0 L 3.0,2.0 L 2.0,2.0 L 1.0,2.0 L 1.0,1.0 L 2.0,1.0 z\" /></g></svg>"
      ],
      "text/plain": [
       "<shapely.geometry.polygon.Polygon at 0x248c96cb940>"
      ]
     },
     "execution_count": 31,
     "metadata": {},
     "output_type": "execute_result"
    }
   ],
   "source": [
    "list(fixed_demo_gdf.at[2, 'geometry'].geoms)[0]"
   ]
  },
  {
   "cell_type": "code",
   "execution_count": 32,
   "id": "45515e69-32f7-4ec8-bc28-10927ad1ebb1",
   "metadata": {},
   "outputs": [
    {
     "data": {
      "image/svg+xml": [
       "<svg xmlns=\"http://www.w3.org/2000/svg\" xmlns:xlink=\"http://www.w3.org/1999/xlink\" width=\"100.0\" height=\"100.0\" viewBox=\"1.96 0.96 0.08000000000000007 1.08\" preserveAspectRatio=\"xMinYMin meet\"><g transform=\"matrix(1,0,0,-1,0,3.0)\"><polyline fill=\"none\" stroke=\"#66cc99\" stroke-width=\"0.0216\" points=\"2.0,1.0 2.0,2.0\" opacity=\"0.8\" /></g></svg>"
      ],
      "text/plain": [
       "<shapely.geometry.linestring.LineString at 0x248c96cbfd0>"
      ]
     },
     "execution_count": 32,
     "metadata": {},
     "output_type": "execute_result"
    }
   ],
   "source": [
    "list(fixed_demo_gdf.at[2, 'geometry'].geoms)[1]"
   ]
  },
  {
   "cell_type": "markdown",
   "id": "d1929935-04b4-4f6b-a68c-a59eed9a6627",
   "metadata": {},
   "source": [
    "- 修复错误情况4：**内部孔洞与外边界共边**"
   ]
  },
  {
   "cell_type": "code",
   "execution_count": 33,
   "id": "d8cb572e-ded8-4997-a1ea-20b0d4941a94",
   "metadata": {},
   "outputs": [
    {
     "data": {
      "image/svg+xml": [
       "<svg xmlns=\"http://www.w3.org/2000/svg\" xmlns:xlink=\"http://www.w3.org/1999/xlink\" width=\"100.0\" height=\"100.0\" viewBox=\"-0.16 -0.16 4.32 4.32\" preserveAspectRatio=\"xMinYMin meet\"><g transform=\"matrix(1,0,0,-1,0,4.0)\"><g><path fill-rule=\"evenodd\" fill=\"#66cc99\" stroke=\"#555555\" stroke-width=\"0.0864\" opacity=\"0.6\" d=\"M 4.0,4.0 L 4.0,3.0 L 4.0,2.0 L 4.0,0.0 L 0.0,0.0 L 0.0,4.0 L 4.0,4.0 z\" /><g><polyline fill=\"none\" stroke=\"#66cc99\" stroke-width=\"0.0864\" points=\"3.0,2.0 4.0,2.0\" opacity=\"0.8\" /><polyline fill=\"none\" stroke=\"#66cc99\" stroke-width=\"0.0864\" points=\"4.0,3.0 3.0,3.0 3.0,2.0\" opacity=\"0.8\" /></g></g></g></svg>"
      ],
      "text/plain": [
       "<shapely.geometry.collection.GeometryCollection at 0x248c96cb370>"
      ]
     },
     "execution_count": 33,
     "metadata": {},
     "output_type": "execute_result"
    }
   ],
   "source": [
    "fixed_demo_gdf.at[3, 'geometry']"
   ]
  },
  {
   "cell_type": "code",
   "execution_count": 34,
   "id": "309cd271-d871-40f7-9e96-cc70489ff8bd",
   "metadata": {},
   "outputs": [
    {
     "data": {
      "text/plain": [
       "shapely.geometry.collection.GeometryCollection"
      ]
     },
     "execution_count": 34,
     "metadata": {},
     "output_type": "execute_result"
    }
   ],
   "source": [
    "type(fixed_demo_gdf.at[3, 'geometry'])"
   ]
  },
  {
   "cell_type": "code",
   "execution_count": 35,
   "id": "02b6eb6a-e517-4f8c-a21b-d8aed889db13",
   "metadata": {},
   "outputs": [
    {
     "data": {
      "text/plain": [
       "[<shapely.geometry.polygon.Polygon at 0x248c96cb220>,\n",
       " <shapely.geometry.multilinestring.MultiLineString at 0x248c96cb9a0>]"
      ]
     },
     "execution_count": 35,
     "metadata": {},
     "output_type": "execute_result"
    }
   ],
   "source": [
    "list(fixed_demo_gdf.at[3, 'geometry'].geoms)"
   ]
  },
  {
   "cell_type": "code",
   "execution_count": 36,
   "id": "45479313-13e1-4e53-81f3-f0d3d0431b26",
   "metadata": {},
   "outputs": [
    {
     "data": {
      "image/svg+xml": [
       "<svg xmlns=\"http://www.w3.org/2000/svg\" xmlns:xlink=\"http://www.w3.org/1999/xlink\" width=\"100.0\" height=\"100.0\" viewBox=\"-0.16 -0.16 4.32 4.32\" preserveAspectRatio=\"xMinYMin meet\"><g transform=\"matrix(1,0,0,-1,0,4.0)\"><path fill-rule=\"evenodd\" fill=\"#66cc99\" stroke=\"#555555\" stroke-width=\"0.0864\" opacity=\"0.6\" d=\"M 4.0,4.0 L 4.0,3.0 L 4.0,2.0 L 4.0,0.0 L 0.0,0.0 L 0.0,4.0 L 4.0,4.0 z\" /></g></svg>"
      ],
      "text/plain": [
       "<shapely.geometry.polygon.Polygon at 0x248c96d7580>"
      ]
     },
     "execution_count": 36,
     "metadata": {},
     "output_type": "execute_result"
    }
   ],
   "source": [
    "list(fixed_demo_gdf.at[3, 'geometry'].geoms)[0]"
   ]
  },
  {
   "cell_type": "code",
   "execution_count": 37,
   "id": "66dd5aad-7c88-4324-97f2-e207e0f8c1d9",
   "metadata": {},
   "outputs": [
    {
     "data": {
      "image/svg+xml": [
       "<svg xmlns=\"http://www.w3.org/2000/svg\" xmlns:xlink=\"http://www.w3.org/1999/xlink\" width=\"100.0\" height=\"100.0\" viewBox=\"2.96 1.96 1.08 1.08\" preserveAspectRatio=\"xMinYMin meet\"><g transform=\"matrix(1,0,0,-1,0,5.0)\"><g><polyline fill=\"none\" stroke=\"#66cc99\" stroke-width=\"0.0216\" points=\"3.0,2.0 4.0,2.0\" opacity=\"0.8\" /><polyline fill=\"none\" stroke=\"#66cc99\" stroke-width=\"0.0216\" points=\"4.0,3.0 3.0,3.0 3.0,2.0\" opacity=\"0.8\" /></g></g></svg>"
      ],
      "text/plain": [
       "<shapely.geometry.multilinestring.MultiLineString at 0x248c96d7820>"
      ]
     },
     "execution_count": 37,
     "metadata": {},
     "output_type": "execute_result"
    }
   ],
   "source": [
    "list(fixed_demo_gdf.at[3, 'geometry'].geoms)[1]"
   ]
  },
  {
   "cell_type": "markdown",
   "id": "5314dc47-9222-4915-8890-30f2470e7ec0",
   "metadata": {},
   "source": [
    "- 修复错误情况5：**多部件面要素之间存在重叠**"
   ]
  },
  {
   "cell_type": "code",
   "execution_count": 38,
   "id": "10bead4c-5c32-409e-bd7e-435133bea48a",
   "metadata": {},
   "outputs": [
    {
     "data": {
      "image/svg+xml": [
       "<svg xmlns=\"http://www.w3.org/2000/svg\" xmlns:xlink=\"http://www.w3.org/1999/xlink\" width=\"100.0\" height=\"100.0\" viewBox=\"-0.06 -0.06 1.62 1.62\" preserveAspectRatio=\"xMinYMin meet\"><g transform=\"matrix(1,0,0,-1,0,1.5)\"><g><path fill-rule=\"evenodd\" fill=\"#66cc99\" stroke=\"#555555\" stroke-width=\"0.032400000000000005\" opacity=\"0.6\" d=\"M 0.5,1.5 L 1.5,1.5 L 1.5,0.5 L 1.0,0.5 L 1.0,1.0 L 0.5,1.0 L 0.5,1.5 z\" /><path fill-rule=\"evenodd\" fill=\"#66cc99\" stroke=\"#555555\" stroke-width=\"0.032400000000000005\" opacity=\"0.6\" d=\"M 1.0,0.0 L 0.0,0.0 L 0.0,1.0 L 0.5,1.0 L 0.5,0.5 L 1.0,0.5 L 1.0,0.0 z\" /></g></g></svg>"
      ],
      "text/plain": [
       "<shapely.geometry.multipolygon.MultiPolygon at 0x248c96cb550>"
      ]
     },
     "execution_count": 38,
     "metadata": {},
     "output_type": "execute_result"
    }
   ],
   "source": [
    "fixed_demo_gdf.at[4, 'geometry']"
   ]
  },
  {
   "cell_type": "code",
   "execution_count": 39,
   "id": "64635b8f-60d1-4e29-8da6-4cef93b37e1f",
   "metadata": {},
   "outputs": [
    {
     "data": {
      "text/plain": [
       "shapely.geometry.multipolygon.MultiPolygon"
      ]
     },
     "execution_count": 39,
     "metadata": {},
     "output_type": "execute_result"
    }
   ],
   "source": [
    "type(fixed_demo_gdf.at[4, 'geometry'])"
   ]
  },
  {
   "cell_type": "code",
   "execution_count": 40,
   "id": "50d5be75-0daf-4a6b-bd5e-3e7a7541500f",
   "metadata": {},
   "outputs": [
    {
     "data": {
      "text/plain": [
       "[<shapely.geometry.polygon.Polygon at 0x248c96d72b0>,\n",
       " <shapely.geometry.polygon.Polygon at 0x248c96d7d60>]"
      ]
     },
     "execution_count": 40,
     "metadata": {},
     "output_type": "execute_result"
    }
   ],
   "source": [
    "list(fixed_demo_gdf.at[4, 'geometry'].geoms)"
   ]
  },
  {
   "cell_type": "code",
   "execution_count": 41,
   "id": "5a587329-00d3-4396-b3e5-35d10a740078",
   "metadata": {},
   "outputs": [
    {
     "data": {
      "image/svg+xml": [
       "<svg xmlns=\"http://www.w3.org/2000/svg\" xmlns:xlink=\"http://www.w3.org/1999/xlink\" width=\"100.0\" height=\"100.0\" viewBox=\"0.46 0.46 1.08 1.08\" preserveAspectRatio=\"xMinYMin meet\"><g transform=\"matrix(1,0,0,-1,0,2.0)\"><path fill-rule=\"evenodd\" fill=\"#66cc99\" stroke=\"#555555\" stroke-width=\"0.0216\" opacity=\"0.6\" d=\"M 0.5,1.5 L 1.5,1.5 L 1.5,0.5 L 1.0,0.5 L 1.0,1.0 L 0.5,1.0 L 0.5,1.5 z\" /></g></svg>"
      ],
      "text/plain": [
       "<shapely.geometry.polygon.Polygon at 0x248c96d7310>"
      ]
     },
     "execution_count": 41,
     "metadata": {},
     "output_type": "execute_result"
    }
   ],
   "source": [
    "fixed_demo_gdf.at[4, 'geometry'].geoms[0]"
   ]
  },
  {
   "cell_type": "code",
   "execution_count": 42,
   "id": "62c69e87-1e00-4a20-8f0e-125b0df3f9d0",
   "metadata": {},
   "outputs": [
    {
     "data": {
      "image/svg+xml": [
       "<svg xmlns=\"http://www.w3.org/2000/svg\" xmlns:xlink=\"http://www.w3.org/1999/xlink\" width=\"100.0\" height=\"100.0\" viewBox=\"-0.04 -0.04 1.08 1.08\" preserveAspectRatio=\"xMinYMin meet\"><g transform=\"matrix(1,0,0,-1,0,1.0)\"><path fill-rule=\"evenodd\" fill=\"#66cc99\" stroke=\"#555555\" stroke-width=\"0.0216\" opacity=\"0.6\" d=\"M 1.0,0.0 L 0.0,0.0 L 0.0,1.0 L 0.5,1.0 L 0.5,0.5 L 1.0,0.5 L 1.0,0.0 z\" /></g></svg>"
      ],
      "text/plain": [
       "<shapely.geometry.polygon.Polygon at 0x248c96d79a0>"
      ]
     },
     "execution_count": 42,
     "metadata": {},
     "output_type": "execute_result"
    }
   ],
   "source": [
    "fixed_demo_gdf.at[4, 'geometry'].geoms[1]"
   ]
  }
 ],
 "metadata": {
  "kernelspec": {
   "display_name": "Python 3",
   "language": "python",
   "name": "python3"
  },
  "language_info": {
   "codemirror_mode": {
    "name": "ipython",
    "version": 3
   },
   "file_extension": ".py",
   "mimetype": "text/x-python",
   "name": "python",
   "nbconvert_exporter": "python",
   "pygments_lexer": "ipython3",
   "version": "3.8.13"
  }
 },
 "nbformat": 4,
 "nbformat_minor": 5
}
