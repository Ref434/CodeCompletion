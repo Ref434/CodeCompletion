{
 "cells": [
  {
   "cell_type": "markdown",
   "metadata": {},
   "source": [
    "Example usage of adjoint method used to optimize the initial velocity of the bullet in order to hit target location. "
   ]
  },
  {
   "cell_type": "code",
   "execution_count": 1,
   "metadata": {},
   "outputs": [],
   "source": [
    "import os\n",
    "os.environ[\"CUDA_VISIBLE_DEVICES\"]=\"\""
   ]
  },
  {
   "cell_type": "code",
   "execution_count": 2,
   "metadata": {},
   "outputs": [],
   "source": [
    "%matplotlib inline\n",
    "%load_ext autoreload\n",
    "%autoreload 2"
   ]
  },
  {
   "cell_type": "code",
   "execution_count": 3,
   "metadata": {},
   "outputs": [],
   "source": [
    "import numpy as np\n",
    "import numpy.random as npr\n",
    "from tqdm import tqdm\n",
    "import tensorflow as tf\n",
    "import matplotlib.pyplot as plt\n",
    "import tensorflow.contrib.eager as tfe\n",
    "tf.enable_eager_execution()"
   ]
  },
  {
   "cell_type": "markdown",
   "metadata": {},
   "source": [
    "## Definine initial condition for the velocity and position"
   ]
  },
  {
   "cell_type": "code",
   "execution_count": 4,
   "metadata": {},
   "outputs": [
    {
     "name": "stdout",
     "output_type": "stream",
     "text": [
      "[ 0.  0. 10. 10.]\n"
     ]
    }
   ],
   "source": [
    "num_steps = 1000\n",
    "\n",
    "v0 = 10 * tf.to_float([1., 1.])  # initial velocity\n",
    "r0 = tf.to_float([0., 0.])  # initial position\n",
    "\n",
    "init_state = tf.concat([r0, v0], 0)\n",
    "print(init_state.numpy())"
   ]
  },
  {
   "cell_type": "markdown",
   "metadata": {},
   "source": [
    "Solving Newton dynamics for point with air drag [wikipedia](https://en.wikipedia.org/wiki/Drag_(physics):\n",
    "$$\n",
    "    \\frac{d\\mathbf{v}}{dt} = \\mathbf{g} - k \\mathbf{v}\n",
    "$$\n",
    "and second equation for position:\n",
    "$$\n",
    "    \\frac{d\\mathbf{r}}{dt} = \\mathbf{v}\n",
    "$$"
   ]
  },
  {
   "cell_type": "code",
   "execution_count": 5,
   "metadata": {},
   "outputs": [],
   "source": [
    "class BulletODE(tf.keras.Model):\n",
    "    def call(self, inputs, **kwargs):\n",
    "        t, rv_vec = inputs\n",
    "        # constants\n",
    "        gamma = 2  # air drag\n",
    "        g = - 10   # gravity\n",
    "        \n",
    "        r_vec, v_vec = rv_vec[:2], rv_vec[2:]\n",
    "        # compute v**2\n",
    "        v_length = tf.reduce_sum(v_vec**2) + 1e-6\n",
    "        # compute versor vector\n",
    "        vn = v_vec #/ v_length\n",
    "        # some gravity\n",
    "        g_vec = g * tf.to_float([0, 1])\n",
    "        \n",
    "        return tf.concat([v_vec,  g_vec - gamma * vn], 0)"
   ]
  },
  {
   "cell_type": "code",
   "execution_count": 6,
   "metadata": {},
   "outputs": [],
   "source": [
    "from neural_ode import NeuralODE, defun_neural_ode"
   ]
  },
  {
   "cell_type": "code",
   "execution_count": 7,
   "metadata": {},
   "outputs": [],
   "source": [
    "neural_ode = NeuralODE(BulletODE(), t=np.linspace(0., 1.5, 100))\n",
    "target_state, states_history = neural_ode.forward(init_state, return_states=\"numpy\")"
   ]
  },
  {
   "cell_type": "code",
   "execution_count": 8,
   "metadata": {},
   "outputs": [
    {
     "data": {
      "text/plain": [
       "(100, 4)"
      ]
     },
     "execution_count": 8,
     "metadata": {},
     "output_type": "execute_result"
    }
   ],
   "source": [
    "trajectory = np.stack(states_history)\n",
    "trajectory.shape"
   ]
  },
  {
   "cell_type": "code",
   "execution_count": 44,
   "metadata": {},
   "outputs": [],
   "source": [
    "def plot_trajectory(trajectories, labels):\n",
    "    for trajectory, label in zip(trajectories, labels):\n",
    "        plt.plot(*trajectory[:, :2].T, label=label)\n",
    "        \n",
    "    n = trajectory.shape[0]\n",
    "    plt.plot(np.linspace(0, 5, n), np.zeros(n), 'k-')\n",
    "    plt.plot(2, 0, 'rx', label='target', lw=20)\n",
    "    plt.xlabel(\"x\")\n",
    "    plt.ylabel(\"y\")\n",
    "    plt.axis(\"equal\")\n",
    "    plt.legend()"
   ]
  },
  {
   "cell_type": "code",
   "execution_count": 45,
   "metadata": {},
   "outputs": [
    {
     "data": {
      "image/png": "[encoded data removed]",
      "text/plain": [
       "<matplotlib.figure.Figure at 0x7f0fb0ed9ef0>"
      ]
     },
     "metadata": {
      "needs_background": "light"
     },
     "output_type": "display_data"
    }
   ],
   "source": [
    "plot_trajectory([trajectory], [\"initial\"])"
   ]
  },
  {
   "cell_type": "markdown",
   "metadata": {},
   "source": [
    "## Set new target hit location at r = (2, 0)"
   ]
  },
  {
   "cell_type": "code",
   "execution_count": 11,
   "metadata": {},
   "outputs": [],
   "source": [
    "v0 = tf.to_float([0., 0.])\n",
    "r0 = tf.to_float([2., 0.])\n",
    "target_state = tf.concat([r0, v0], 0)"
   ]
  },
  {
   "cell_type": "code",
   "execution_count": 12,
   "metadata": {},
   "outputs": [],
   "source": [
    "opt_neural_ode = NeuralODE(BulletODE(), t=np.linspace(0., 1.5, 100))\n",
    "optimizer = tf.train.RMSPropOptimizer(learning_rate=0.02, momentum=0.9)"
   ]
  },
  {
   "cell_type": "markdown",
   "metadata": {},
   "source": [
    "## Set initial conditions for position and velocity"
   ]
  },
  {
   "cell_type": "code",
   "execution_count": 13,
   "metadata": {},
   "outputs": [
    {
     "data": {
      "text/plain": [
       "<tf.Variable 'start_state:0' shape=(4,) dtype=float32, numpy=array([ 0.,  0., 10., 10.], dtype=float32)>"
      ]
     },
     "execution_count": 13,
     "metadata": {},
     "output_type": "execute_result"
    }
   ],
   "source": [
    "start_state = tf.Variable(init_state.numpy(), name=\"start_state\")\n",
    "start_state"
   ]
  },
  {
   "cell_type": "code",
   "execution_count": 14,
   "metadata": {},
   "outputs": [],
   "source": [
    "# convert eager graph to static\n",
    "opt_neural_ode_defun = defun_neural_ode(opt_neural_ode)"
   ]
  },
  {
   "cell_type": "markdown",
   "metadata": {},
   "source": [
    "## Solve problem with direct backpropagation through graph\n",
    "This uses tensorflow graph in order to optimize initial condition"
   ]
  },
  {
   "cell_type": "code",
   "execution_count": 15,
   "metadata": {},
   "outputs": [
    {
     "name": "stderr",
     "output_type": "stream",
     "text": [
      "100%|██████████| 100/100 [00:56<00:00,  1.78it/s]\n"
     ]
    }
   ],
   "source": [
    "loss_history = []\n",
    "for step in tqdm(range(100)):\n",
    "    with tf.GradientTape() as g:    \n",
    "        g.watch(start_state) \n",
    "        # integrate\n",
    "        end_state = opt_neural_ode_defun.forward(start_state)\n",
    "        # compute loss\n",
    "        loss = tf.reduce_sum(tf.square(end_state[:2] - target_state[:2]))        \n",
    "        \n",
    "    dLoss = g.gradient(loss, start_state) \n",
    "    # we are interested only in velocity \n",
    "    dLoss = tf.to_float([0, 0, dLoss[2], dLoss[3]])    \n",
    "    optimizer.apply_gradients([(dLoss, start_state)])\n",
    "    loss_history.append(loss) "
   ]
  },
  {
   "cell_type": "code",
   "execution_count": 16,
   "metadata": {},
   "outputs": [
    {
     "data": {
      "text/plain": [
       "[<matplotlib.lines.Line2D at 0x7f0fc32c0cc0>]"
      ]
     },
     "execution_count": 16,
     "metadata": {},
     "output_type": "execute_result"
    },
    {
     "data": {
      "image/png": "[encoded data removed]",
      "text/plain": [
       "<matplotlib.figure.Figure at 0x7f116028a7f0>"
      ]
     },
     "metadata": {
      "needs_background": "light"
     },
     "output_type": "display_data"
    }
   ],
   "source": [
    "plt.plot(loss_history)"
   ]
  },
  {
   "cell_type": "code",
   "execution_count": 17,
   "metadata": {},
   "outputs": [],
   "source": [
    "opt_target_state, opt_states_history = neural_ode.forward(start_state, return_states=\"numpy\")\n",
    "opt_trajectory = np.stack(opt_states_history)"
   ]
  },
  {
   "cell_type": "code",
   "execution_count": 46,
   "metadata": {},
   "outputs": [
    {
     "data": {
      "image/png": "[encoded data removed]",
      "text/plain": [
       "<matplotlib.figure.Figure at 0x7f0fb0e76e10>"
      ]
     },
     "metadata": {
      "needs_background": "light"
     },
     "output_type": "display_data"
    }
   ],
   "source": [
    "plot_trajectory([trajectory, opt_trajectory], [\"initial\", \"optimized\"])"
   ]
  },
  {
   "cell_type": "markdown",
   "metadata": {},
   "source": [
    "## Solve problem with adjoint method"
   ]
  },
  {
   "cell_type": "code",
   "execution_count": 19,
   "metadata": {},
   "outputs": [],
   "source": [
    "opt_neural_ode = NeuralODE(BulletODE(), t=np.linspace(0., 1.5, 100))\n",
    "opt_neural_ode_defun = defun_neural_ode(opt_neural_ode)"
   ]
  },
  {
   "cell_type": "code",
   "execution_count": 23,
   "metadata": {},
   "outputs": [],
   "source": [
    "start_state = tf.Variable(init_state, name=\"start_state\")\n",
    "optimizer = tf.train.RMSPropOptimizer(learning_rate=0.02, momentum=0.9)"
   ]
  },
  {
   "cell_type": "code",
   "execution_count": 24,
   "metadata": {},
   "outputs": [
    {
     "name": "stderr",
     "output_type": "stream",
     "text": [
      "100%|██████████| 100/100 [00:13<00:00,  7.60it/s]\n"
     ]
    }
   ],
   "source": [
    "loss_history = []\n",
    "for step in tqdm(range(100)):\n",
    "    # integrate dynamics\n",
    "    end_state = opt_neural_ode_defun.forward(start_state)\n",
    "    with tf.GradientTape() as g:            \n",
    "        # compute simple L2 loss between final position and target\n",
    "        g.watch(end_state)\n",
    "        end_position = end_state[:2]\n",
    "        target_position = target_state[:2]\n",
    "        loss = tf.reduce_sum(tf.square(end_position - target_position))\n",
    "    # compute gradient\n",
    "    dLoss = g.gradient(loss, end_state)\n",
    "    \n",
    "    # compute dynamics in backward manner using adjoint method:\n",
    "    h_start, dfdh0, dWeights = opt_neural_ode_defun.backward(end_state, dLoss)\n",
    "    # apply gradients for velocity\n",
    "    dLoss = tf.to_float([0.0, 0.0, dfdh0[2], dfdh0[3]])\n",
    "    optimizer.apply_gradients([(dLoss, start_state)])\n",
    "    loss_history.append(loss)"
   ]
  },
  {
   "cell_type": "code",
   "execution_count": 26,
   "metadata": {},
   "outputs": [],
   "source": [
    "opt_neural_ode = NeuralODE(BulletODE(), t=np.linspace(0., 1.5, 100))\n",
    "_, opt_adjoint_states_history = opt_neural_ode.forward(start_state, return_states=\"numpy\")\n",
    "opt_adjoint_trajectory = np.stack(opt_adjoint_states_history)"
   ]
  },
  {
   "cell_type": "code",
   "execution_count": 47,
   "metadata": {},
   "outputs": [
    {
     "data": {
      "image/png": "[encoded data removed]",
      "text/plain": [
       "<matplotlib.figure.Figure at 0x7f0fb0e066a0>"
      ]
     },
     "metadata": {
      "needs_background": "light"
     },
     "output_type": "display_data"
    }
   ],
   "source": [
    "plot_trajectory([trajectory, opt_adjoint_trajectory], [\"initial\", \"optimized (adjoint)\"])"
   ]
  },
  {
   "cell_type": "code",
   "execution_count": null,
   "metadata": {},
   "outputs": [],
   "source": []
  }
 ],
 "metadata": {
  "kernelspec": {
   "display_name": "Python 3",
   "language": "python",
   "name": "python3"
  },
  "language_info": {
   "codemirror_mode": {
    "name": "ipython",
    "version": 3
   },
   "file_extension": ".py",
   "mimetype": "text/x-python",
   "name": "python",
   "nbconvert_exporter": "python",
   "pygments_lexer": "ipython3",
   "version": "3.6.6"
  }
 },
 "nbformat": 4,
 "nbformat_minor": 2
}
