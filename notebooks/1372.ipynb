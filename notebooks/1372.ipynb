{
 "cells": [
  {
   "cell_type": "markdown",
   "metadata": {},
   "source": [
    "## Example notebook which shows how to make class oversampling/undersampling in TF+datasets API"
   ]
  },
  {
   "cell_type": "code",
   "execution_count": 1,
   "metadata": {
    "ExecuteTime": {
     "end_time": "2017-11-19T10:26:57.122525Z",
     "start_time": "2017-11-19T10:26:53.900449Z"
    }
   },
   "outputs": [
    {
     "name": "stderr",
     "output_type": "stream",
     "text": [
      "/home/mkk/anaconda3/envs/pmi36/lib/python3.6/importlib/_bootstrap.py:205: RuntimeWarning: compiletime version 3.5 of module 'tensorflow.python.framework.fast_tensor_util' does not match runtime version 3.6\n",
      "  return f(*args, **kwds)\n",
      "Using TensorFlow backend.\n"
     ]
    }
   ],
   "source": [
    "import numpy as np\n",
    "import tensorflow as tf\n",
    "import keras\n",
    "from keras import backend as K\n",
    "import matplotlib.pyplot as plt\n",
    "from collections import defaultdict, Counter\n",
    "import pandas\n",
    "\n",
    "%matplotlib inline"
   ]
  },
  {
   "cell_type": "code",
   "execution_count": 2,
   "metadata": {
    "ExecuteTime": {
     "end_time": "2017-11-19T10:26:57.669514Z",
     "start_time": "2017-11-19T10:26:57.662430Z"
    }
   },
   "outputs": [
    {
     "data": {
      "text/plain": [
       "('2.0.8', '1.4.0')"
      ]
     },
     "execution_count": 2,
     "metadata": {},
     "output_type": "execute_result"
    }
   ],
   "source": [
    "keras.__version__, tf.__version__"
   ]
  },
  {
   "cell_type": "markdown",
   "metadata": {},
   "source": [
    "## Prepare fake dataset with class imbalance"
   ]
  },
  {
   "cell_type": "code",
   "execution_count": 3,
   "metadata": {
    "ExecuteTime": {
     "end_time": "2017-11-19T10:26:59.561745Z",
     "start_time": "2017-11-19T10:26:59.520930Z"
    },
    "collapsed": true
   },
   "outputs": [],
   "source": [
    "# Hardcoded class probabilities\n",
    "class_probs = dict(\n",
    "    a=0.15,\n",
    "    b=0.3,\n",
    "    c=0.8,\n",
    "    d=0.9,\n",
    "    e=0.2,\n",
    "    f=0.02\n",
    ")\n",
    "num_classes = len(class_probs)\n",
    "\n",
    "\n",
    "# Normalize probabilities\n",
    "class_probs = {k:v/sum(class_probs.values()) for k,v in class_probs.items()} \n",
    "class_mapping = {n: i for i, n in enumerate(class_probs.keys())}\n",
    "\n",
    "\n",
    "# Sample dataset from 'class_probs'\n",
    "class_names = list(class_probs.keys())\n",
    "class_weights = list(class_probs.values())\n",
    "sampled_dataset = np.random.choice(class_names, size=1000, p=class_weights)\n",
    "\n",
    "\n",
    "# Prepare dataset\n",
    "dataset_data = defaultdict(list)\n",
    "for i, d in enumerate(sampled_dataset):\n",
    "    dataset_data['class_name'].append(d)\n",
    "    dataset_data['class_id'].append(class_mapping[d])    \n",
    "    dataset_data['data'].append(np.array([i])) # some data here, e.g. image pixels\n",
    "    dataset_data['class_prob'].append(class_probs[d]) # a real class probability \n",
    "    # desired probability - a ideal class uniform\n",
    "    dataset_data['class_target_prob'].append(1/num_classes) \n",
    "\n",
    "    \n",
    "# Convert values to in dataset_data to vectors of shape (1000, )\n",
    "for k, v in dataset_data.items():\n",
    "    dataset_data[k] = np.array(dataset_data[k])"
   ]
  },
  {
   "cell_type": "markdown",
   "metadata": {},
   "source": [
    "## Plot initial class probabilities"
   ]
  },
  {
   "cell_type": "code",
   "execution_count": 4,
   "metadata": {
    "ExecuteTime": {
     "end_time": "2017-11-19T10:27:01.364740Z",
     "start_time": "2017-11-19T10:27:01.103083Z"
    }
   },
   "outputs": [
    {
     "data": {
      "text/plain": [
       "<matplotlib.axes._subplots.AxesSubplot at 0x7f78242c3da0>"
      ]
     },
     "execution_count": 4,
     "metadata": {},
     "output_type": "execute_result"
    },
    {
     "data": {
      "image/png": "[encoded data removed]",
      "text/plain": [
       "<matplotlib.figure.Figure at 0x7f78242b7668>"
      ]
     },
     "metadata": {},
     "output_type": "display_data"
    }
   ],
   "source": [
    "class_counts = Counter(sampled_dataset)\n",
    "df = pandas.DataFrame()\n",
    "df['class_prob'] = pandas.DataFrame.from_dict(class_counts, orient='index')[0]\n",
    "df['uniform'] = 1\n",
    "df = df/df.sum(0)\n",
    "df.sort_index().plot(kind='bar')"
   ]
  },
  {
   "cell_type": "markdown",
   "metadata": {},
   "source": [
    "### An ideal uniform class probability"
   ]
  },
  {
   "cell_type": "code",
   "execution_count": 5,
   "metadata": {
    "ExecuteTime": {
     "end_time": "2017-11-19T10:27:02.734947Z",
     "start_time": "2017-11-19T10:27:02.730979Z"
    }
   },
   "outputs": [
    {
     "data": {
      "text/plain": [
       "0.16666666666666666"
      ]
     },
     "execution_count": 5,
     "metadata": {},
     "output_type": "execute_result"
    }
   ],
   "source": [
    "1/num_classes"
   ]
  },
  {
   "cell_type": "markdown",
   "metadata": {},
   "source": [
    "### The actual class probabilities"
   ]
  },
  {
   "cell_type": "code",
   "execution_count": 6,
   "metadata": {
    "ExecuteTime": {
     "end_time": "2017-11-19T10:27:04.328831Z",
     "start_time": "2017-11-19T10:27:04.319098Z"
    }
   },
   "outputs": [
    {
     "data": {
      "text/plain": [
       "{'a': 0.06329113924050632,\n",
       " 'b': 0.12658227848101264,\n",
       " 'c': 0.33755274261603374,\n",
       " 'd': 0.37974683544303794,\n",
       " 'e': 0.08438818565400844,\n",
       " 'f': 0.008438818565400843}"
      ]
     },
     "execution_count": 6,
     "metadata": {},
     "output_type": "execute_result"
    }
   ],
   "source": [
    "class_probs"
   ]
  },
  {
   "cell_type": "markdown",
   "metadata": {},
   "source": [
    "## Prepare sampling pipeline"
   ]
  },
  {
   "cell_type": "code",
   "execution_count": 7,
   "metadata": {
    "ExecuteTime": {
     "end_time": "2017-11-19T10:27:06.297382Z",
     "start_time": "2017-11-19T10:27:06.287663Z"
    },
    "collapsed": true
   },
   "outputs": [],
   "source": [
    "# sampling parameters use it wisely \n",
    "oversampling_coef = 0.9 # if equal to 0 then oversample_classes() always returns 1\n",
    "undersampling_coef = 0.9 # if equal to 0 then undersampling_filter() always returns True"
   ]
  },
  {
   "cell_type": "code",
   "execution_count": 8,
   "metadata": {
    "ExecuteTime": {
     "end_time": "2017-11-19T10:27:07.330202Z",
     "start_time": "2017-11-19T10:27:06.710623Z"
    }
   },
   "outputs": [
    {
     "name": "stdout",
     "output_type": "stream",
     "text": [
      "WARNING:tensorflow:From <ipython-input-8-634485d7ebef>:42: Dataset.from_tensor_slices (from tensorflow.contrib.data.python.ops.dataset_ops) is deprecated and will be removed in a future version.\n",
      "Instructions for updating:\n",
      "Use `tf.data.Dataset.from_tensor_slices()`.\n"
     ]
    }
   ],
   "source": [
    "def oversample_classes(example):\n",
    "    \"\"\"\n",
    "    Returns the number of copies of given example\n",
    "    \"\"\"\n",
    "    class_prob = example['class_prob']\n",
    "    class_target_prob = example['class_target_prob']\n",
    "    prob_ratio = tf.cast(class_target_prob/class_prob, dtype=tf.float32)\n",
    "    # soften ratio is oversampling_coef==0 we recover original distribution\n",
    "    prob_ratio = prob_ratio ** oversampling_coef \n",
    "    # for classes with probability higher than class_target_prob we\n",
    "    # want to return 1\n",
    "    prob_ratio = tf.maximum(prob_ratio, 1) \n",
    "    # for low probability classes this number will be very large\n",
    "    repeat_count = tf.floor(prob_ratio)\n",
    "    # prob_ratio can be e.g 1.9 which means that there is still 90%\n",
    "    # of change that we should return 2 instead of 1\n",
    "    repeat_residual = prob_ratio - repeat_count # a number between 0-1\n",
    "    residual_acceptance = tf.less_equal(\n",
    "                        tf.random_uniform([], dtype=tf.float32), repeat_residual\n",
    "    )\n",
    "\n",
    "    residual_acceptance = tf.cast(residual_acceptance, tf.int64)\n",
    "    repeat_count = tf.cast(repeat_count, dtype=tf.int64)\n",
    "\n",
    "    return repeat_count + residual_acceptance\n",
    "\n",
    "\n",
    "def undersampling_filter(example):\n",
    "    \"\"\"\n",
    "    Computes if given example is rejected or not.\n",
    "    \"\"\"\n",
    "    class_prob = example['class_prob']\n",
    "    class_target_prob = example['class_target_prob']\n",
    "    prob_ratio = tf.cast(class_target_prob/class_prob, dtype=tf.float32)\n",
    "    prob_ratio = prob_ratio ** undersampling_coef\n",
    "    prob_ratio = tf.minimum(prob_ratio, 1.0)\n",
    "\n",
    "    acceptance = tf.less_equal(tf.random_uniform([], dtype=tf.float32), prob_ratio)\n",
    "    # predicate must return a scalar boolean tensor\n",
    "    return acceptance\n",
    "\n",
    "dataset = tf.contrib.data.Dataset.from_tensor_slices(dict(dataset_data))\n",
    "dataset = dataset.flat_map(\n",
    "    lambda x: tf.data.Dataset.from_tensors(x).repeat(oversample_classes(x))\n",
    ")\n",
    "\n",
    "dataset = dataset.filter(undersampling_filter)\n",
    "\n",
    "dataset = dataset.repeat(-1)\n",
    "dataset = dataset.shuffle(2048)\n",
    "dataset = dataset.batch(32)\n",
    "\n",
    "sess = K.get_session()\n",
    "sess.run(tf.global_variables_initializer())\n",
    "\n",
    "iterator = dataset.make_one_shot_iterator()\n",
    "next_element = iterator.get_next()"
   ]
  },
  {
   "cell_type": "markdown",
   "metadata": {},
   "source": [
    "## Iterate over dataset and generate class histograms"
   ]
  },
  {
   "cell_type": "code",
   "execution_count": 9,
   "metadata": {
    "ExecuteTime": {
     "end_time": "2017-11-19T10:27:13.547925Z",
     "start_time": "2017-11-19T10:27:08.312843Z"
    }
   },
   "outputs": [
    {
     "name": "stderr",
     "output_type": "stream",
     "text": [
      "100%|██████████| 1000/1000 [00:05<00:00, 192.06it/s]\n"
     ]
    }
   ],
   "source": [
    "from tqdm import tqdm\n",
    "from collections import defaultdict\n",
    "class_count = defaultdict(int)\n",
    "\n",
    "for i in tqdm(range(1000)):\n",
    "    data = sess.run(next_element)\n",
    "    for d in data['class_name']:              \n",
    "        class_count[d] += 1"
   ]
  },
  {
   "cell_type": "code",
   "execution_count": 10,
   "metadata": {
    "ExecuteTime": {
     "end_time": "2017-11-19T10:27:14.895691Z",
     "start_time": "2017-11-19T10:27:14.625416Z"
    }
   },
   "outputs": [
    {
     "data": {
      "text/plain": [
       "<matplotlib.axes._subplots.AxesSubplot at 0x7f78207cd5c0>"
      ]
     },
     "execution_count": 10,
     "metadata": {},
     "output_type": "execute_result"
    },
    {
     "data": {
      "image/png": "[encoded data removed]",
      "text/plain": [
       "<matplotlib.figure.Figure at 0x7f78207dbe80>"
      ]
     },
     "metadata": {},
     "output_type": "display_data"
    }
   ],
   "source": [
    "df = pandas.DataFrame.from_dict(class_count, orient='index')\n",
    "df['uniform'] = 1\n",
    "df = df/df.sum(0)\n",
    "df.columns = ['new_class_prob', 'uniform']\n",
    "df.sort_index().plot(kind='bar')"
   ]
  },
  {
   "cell_type": "code",
   "execution_count": null,
   "metadata": {
    "collapsed": true
   },
   "outputs": [],
   "source": []
  }
 ],
 "metadata": {
  "kernelspec": {
   "display_name": "Python [conda env:sandbox",
   "language": "python",
   "name": "conda-env-sandbox-py"
  },
  "language_info": {
   "codemirror_mode": {
    "name": "ipython",
    "version": 3
   },
   "file_extension": ".py",
   "mimetype": "text/x-python",
   "name": "python",
   "nbconvert_exporter": "python",
   "pygments_lexer": "ipython3",
   "version": "3.6.1"
  },
  "toc": {
   "colors": {
    "hover_highlight": "#DAA520",
    "navigate_num": "#000000",
    "navigate_text": "#333333",
    "running_highlight": "#FF0000",
    "selected_highlight": "#FFD700",
    "sidebar_border": "#EEEEEE",
    "wrapper_background": "#FFFFFF"
   },
   "moveMenuLeft": true,
   "nav_menu": {
    "height": "152px",
    "width": "252px"
   },
   "navigate_menu": true,
   "number_sections": true,
   "sideBar": true,
   "threshold": 4,
   "toc_cell": false,
   "toc_section_display": "block",
   "toc_window_display": false,
   "widenNotebook": false
  }
 },
 "nbformat": 4,
 "nbformat_minor": 2
}
