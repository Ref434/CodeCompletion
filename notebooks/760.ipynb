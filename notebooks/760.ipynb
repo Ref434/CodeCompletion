{
 "cells": [
  {
   "cell_type": "code",
   "execution_count": 1,
   "metadata": {
    "execution": {
     "iopub.execute_input": "2020-07-16T12:14:41.257180Z",
     "iopub.status.busy": "2020-07-16T12:14:41.257180Z",
     "iopub.status.idle": "2020-07-16T12:14:42.033104Z",
     "shell.execute_reply": "2020-07-16T12:14:42.032106Z",
     "shell.execute_reply.started": "2020-07-16T12:14:41.257180Z"
    }
   },
   "outputs": [
    {
     "data": {
      "text/html": [
       "<div>\n",
       "<style scoped>\n",
       "    .dataframe tbody tr th:only-of-type {\n",
       "        vertical-align: middle;\n",
       "    }\n",
       "\n",
       "    .dataframe tbody tr th {\n",
       "        vertical-align: top;\n",
       "    }\n",
       "\n",
       "    .dataframe thead th {\n",
       "        text-align: right;\n",
       "    }\n",
       "</style>\n",
       "<table border=\"1\" class=\"dataframe\">\n",
       "  <thead>\n",
       "    <tr style=\"text-align: right;\">\n",
       "      <th></th>\n",
       "      <th>VendorID</th>\n",
       "      <th>tpep_pickup_datetime</th>\n",
       "      <th>tpep_dropoff_datetime</th>\n",
       "      <th>passenger_count</th>\n",
       "      <th>trip_distance</th>\n",
       "      <th>pickup_longitude</th>\n",
       "      <th>pickup_latitude</th>\n",
       "      <th>dropoff_longitude</th>\n",
       "      <th>dropoff_latitude</th>\n",
       "      <th>fare_amount</th>\n",
       "      <th>tip_amount</th>\n",
       "      <th>total_amount</th>\n",
       "    </tr>\n",
       "  </thead>\n",
       "  <tbody>\n",
       "    <tr>\n",
       "      <th>0</th>\n",
       "      <td>2</td>\n",
       "      <td>2015-01-15 19:05:39 +00:00</td>\n",
       "      <td>2015-01-15 19:23:42 +00:00</td>\n",
       "      <td>1</td>\n",
       "      <td>1.59</td>\n",
       "      <td>-73.993896</td>\n",
       "      <td>40.750111</td>\n",
       "      <td>-73.974785</td>\n",
       "      <td>40.750618</td>\n",
       "      <td>12.0</td>\n",
       "      <td>3.25</td>\n",
       "      <td>17.05</td>\n",
       "    </tr>\n",
       "    <tr>\n",
       "      <th>1</th>\n",
       "      <td>2</td>\n",
       "      <td>2015-01-15 19:05:39 +00:00</td>\n",
       "      <td>2015-01-15 19:32:00 +00:00</td>\n",
       "      <td>1</td>\n",
       "      <td>2.38</td>\n",
       "      <td>-73.976425</td>\n",
       "      <td>40.739811</td>\n",
       "      <td>-73.983978</td>\n",
       "      <td>40.757889</td>\n",
       "      <td>16.5</td>\n",
       "      <td>4.38</td>\n",
       "      <td>22.68</td>\n",
       "    </tr>\n",
       "    <tr>\n",
       "      <th>2</th>\n",
       "      <td>2</td>\n",
       "      <td>2015-01-15 19:05:40 +00:00</td>\n",
       "      <td>2015-01-15 19:21:00 +00:00</td>\n",
       "      <td>5</td>\n",
       "      <td>2.83</td>\n",
       "      <td>-73.968704</td>\n",
       "      <td>40.754246</td>\n",
       "      <td>-73.955124</td>\n",
       "      <td>40.786858</td>\n",
       "      <td>12.5</td>\n",
       "      <td>0.00</td>\n",
       "      <td>14.30</td>\n",
       "    </tr>\n",
       "    <tr>\n",
       "      <th>3</th>\n",
       "      <td>2</td>\n",
       "      <td>2015-01-15 19:05:40 +00:00</td>\n",
       "      <td>2015-01-15 19:28:18 +00:00</td>\n",
       "      <td>5</td>\n",
       "      <td>8.33</td>\n",
       "      <td>-73.863060</td>\n",
       "      <td>40.769581</td>\n",
       "      <td>-73.952713</td>\n",
       "      <td>40.785782</td>\n",
       "      <td>26.0</td>\n",
       "      <td>8.08</td>\n",
       "      <td>41.21</td>\n",
       "    </tr>\n",
       "    <tr>\n",
       "      <th>4</th>\n",
       "      <td>2</td>\n",
       "      <td>2015-01-15 19:05:41 +00:00</td>\n",
       "      <td>2015-01-15 19:20:36 +00:00</td>\n",
       "      <td>1</td>\n",
       "      <td>2.37</td>\n",
       "      <td>-73.945541</td>\n",
       "      <td>40.779423</td>\n",
       "      <td>-73.980850</td>\n",
       "      <td>40.786083</td>\n",
       "      <td>11.5</td>\n",
       "      <td>0.00</td>\n",
       "      <td>13.30</td>\n",
       "    </tr>\n",
       "  </tbody>\n",
       "</table>\n",
       "</div>"
      ],
      "text/plain": [
       "   VendorID        tpep_pickup_datetime       tpep_dropoff_datetime  \\\n",
       "0         2  2015-01-15 19:05:39 +00:00  2015-01-15 19:23:42 +00:00   \n",
       "1         2  2015-01-15 19:05:39 +00:00  2015-01-15 19:32:00 +00:00   \n",
       "2         2  2015-01-15 19:05:40 +00:00  2015-01-15 19:21:00 +00:00   \n",
       "3         2  2015-01-15 19:05:40 +00:00  2015-01-15 19:28:18 +00:00   \n",
       "4         2  2015-01-15 19:05:41 +00:00  2015-01-15 19:20:36 +00:00   \n",
       "\n",
       "   passenger_count  trip_distance  pickup_longitude  pickup_latitude  \\\n",
       "0                1           1.59        -73.993896        40.750111   \n",
       "1                1           2.38        -73.976425        40.739811   \n",
       "2                5           2.83        -73.968704        40.754246   \n",
       "3                5           8.33        -73.863060        40.769581   \n",
       "4                1           2.37        -73.945541        40.779423   \n",
       "\n",
       "   dropoff_longitude  dropoff_latitude  fare_amount  tip_amount  total_amount  \n",
       "0         -73.974785         40.750618         12.0        3.25         17.05  \n",
       "1         -73.983978         40.757889         16.5        4.38         22.68  \n",
       "2         -73.955124         40.786858         12.5        0.00         14.30  \n",
       "3         -73.952713         40.785782         26.0        8.08         41.21  \n",
       "4         -73.980850         40.786083         11.5        0.00         13.30  "
      ]
     },
     "execution_count": 1,
     "metadata": {},
     "output_type": "execute_result"
    }
   ],
   "source": [
    "import pandas as pd\n",
    "from keplergl import KeplerGl\n",
    "\n",
    "raw = pd.read_csv('data.csv')\n",
    "raw.head()"
   ]
  },
  {
   "cell_type": "code",
   "execution_count": 2,
   "metadata": {
    "execution": {
     "iopub.execute_input": "2020-07-16T12:14:29.096728Z",
     "iopub.status.busy": "2020-07-16T12:14:29.096728Z",
     "iopub.status.idle": "2020-07-16T12:14:29.101715Z",
     "shell.execute_reply": "2020-07-16T12:14:29.100716Z",
     "shell.execute_reply.started": "2020-07-16T12:14:29.096728Z"
    }
   },
   "outputs": [],
   "source": [
    "map1 = KeplerGl(height=800, data={'layer1': raw}) # 生成Kepler.gl网页\n",
    "map1.save_to_html(file_name='时间轮播地图示例1.html', data={'layer1': raw}) # 导出网页"
   ]
  }
 ],
 "metadata": {
  "kernelspec": {
   "display_name": "Python 3",
   "language": "python",
   "name": "python3"
  },
  "language_info": {
   "codemirror_mode": {
    "name": "ipython",
    "version": 3
   },
   "file_extension": ".py",
   "mimetype": "text/x-python",
   "name": "python",
   "nbconvert_exporter": "python",
   "pygments_lexer": "ipython3",
   "version": "3.7.7"
  },
  "widgets": {
   "application/vnd.jupyter.widget-state+json": {
    "state": {},
    "version_major": 2,
    "version_minor": 0
   }
  }
 },
 "nbformat": 4,
 "nbformat_minor": 4
}
