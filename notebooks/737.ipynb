{
 "cells": [
  {
   "cell_type": "markdown",
   "id": "c3264e71-637c-46cd-a373-73b09da32f48",
   "metadata": {},
   "source": [
    "# 2 使用dill实现更丰富的序列化/反序列化操作"
   ]
  },
  {
   "cell_type": "markdown",
   "id": "ac40b30a-4f98-4a06-a729-dc01ae5c399d",
   "metadata": {},
   "source": [
    "## 2.1 基础使用"
   ]
  },
  {
   "cell_type": "code",
   "execution_count": 1,
   "id": "6c4ca4c7-611b-4b39-9876-f31f5e0aefcb",
   "metadata": {},
   "outputs": [],
   "source": [
    "import dill\n",
    "import numpy as np\n",
    "\n",
    "demo_int = 999\n",
    "\n",
    "demo_float = 0.99\n",
    "\n",
    "demo_dict = {'a': 999}\n",
    "\n",
    "demo_array = np.random.rand(2, 2)\n",
    "\n",
    "# 序列化并写出到pkl文件\n",
    "with open('./demo.pkl', 'wb') as d:\n",
    "    dill.dump(\n",
    "        [demo_int, demo_float, demo_dict, demo_array],\n",
    "        d\n",
    "    )"
   ]
  },
  {
   "cell_type": "code",
   "execution_count": 2,
   "id": "92190b33-607b-46d3-8e72-e50db2ac812b",
   "metadata": {},
   "outputs": [
    {
     "data": {
      "text/plain": [
       "[999,\n",
       " 0.99,\n",
       " {'a': 999},\n",
       " array([[0.06248774, 0.60935819],\n",
       "        [0.54049351, 0.07082959]])]"
      ]
     },
     "execution_count": 2,
     "metadata": {},
     "output_type": "execute_result"
    }
   ],
   "source": [
    "# 序列化并写出到pkl文件\n",
    "with open('./demo.pkl', 'rb') as d:\n",
    "    restore_demo = dill.load(d)\n",
    "\n",
    "restore_demo"
   ]
  },
  {
   "cell_type": "markdown",
   "id": "405edca1-8dae-4d5b-8453-3bb80fe9055f",
   "metadata": {},
   "source": [
    "## 2.2 增强功能"
   ]
  },
  {
   "cell_type": "markdown",
   "id": "ac4ca048-378c-4f3a-9ee4-430daaf03cf1",
   "metadata": {},
   "source": [
    "### 2.2.1 对lambda函数进行序列化"
   ]
  },
  {
   "cell_type": "code",
   "execution_count": 3,
   "id": "563e66a9-d17f-428c-9868-a0b43130323c",
   "metadata": {},
   "outputs": [
    {
     "ename": "PicklingError",
     "evalue": "Can't pickle <function <lambda> at 0x0000015423CCF9D0>: attribute lookup <lambda> on __main__ failed",
     "output_type": "error",
     "traceback": [
      "\u001b[1;31m---------------------------------------------------------------------------\u001b[0m",
      "\u001b[1;31mPicklingError\u001b[0m                             Traceback (most recent call last)",
      "Input \u001b[1;32mIn [3]\u001b[0m, in \u001b[0;36m<cell line: 5>\u001b[1;34m()\u001b[0m\n\u001b[0;32m      1\u001b[0m \u001b[38;5;28;01mimport\u001b[39;00m \u001b[38;5;21;01mpickle\u001b[39;00m\n\u001b[0;32m      3\u001b[0m lambda_func \u001b[38;5;241m=\u001b[39m \u001b[38;5;28;01mlambda\u001b[39;00m a, b: a \u001b[38;5;241m+\u001b[39m b\n\u001b[1;32m----> 5\u001b[0m \u001b[43mpickle\u001b[49m\u001b[38;5;241;43m.\u001b[39;49m\u001b[43mdumps\u001b[49m\u001b[43m(\u001b[49m\u001b[43mlambda_func\u001b[49m\u001b[43m)\u001b[49m\n",
      "\u001b[1;31mPicklingError\u001b[0m: Can't pickle <function <lambda> at 0x0000015423CCF9D0>: attribute lookup <lambda> on __main__ failed"
     ]
    }
   ],
   "source": [
    "import pickle\n",
    "\n",
    "lambda_func = lambda a, b: a + b\n",
    "\n",
    "pickle.dumps(lambda_func)"
   ]
  },
  {
   "cell_type": "code",
   "execution_count": null,
   "id": "b9fcd39d-d9b5-48ec-aef8-b67744292ef8",
   "metadata": {},
   "outputs": [],
   "source": [
    "dill.loads(dill.dumps(lambda_func))(1, 2)"
   ]
  },
  {
   "cell_type": "markdown",
   "id": "f05a9550-4b74-4473-a2b0-c7560a62e743",
   "metadata": {},
   "source": [
    "### 2.2.2 保存解释器的会话状态"
   ]
  },
  {
   "cell_type": "code",
   "execution_count": 4,
   "id": "978545f3-a189-4c8b-bfb8-41bf4a0624bf",
   "metadata": {},
   "outputs": [],
   "source": [
    "# 保存当前解释器会话状态\n",
    "dill.dump_session('./session_state.pkl')"
   ]
  },
  {
   "cell_type": "code",
   "execution_count": 5,
   "id": "6fa451e1-ebaa-45e9-8501-845d29b478f7",
   "metadata": {},
   "outputs": [
    {
     "name": "stdout",
     "output_type": "stream",
     "text": [
      "[999,\n",
      " 0.99,\n",
      " {'a': 999},\n",
      " array([[0.06248774, 0.60935819],\n",
      "       [0.54049351, 0.07082959]])]\n"
     ]
    }
   ],
   "source": [
    "%run save_restore_session_state.py"
   ]
  },
  {
   "cell_type": "markdown",
   "id": "fadc75cd-d1ab-451f-a297-ff9cd09261ab",
   "metadata": {},
   "source": [
    "### 2.2.3 从序列化结果中还原源码"
   ]
  },
  {
   "cell_type": "code",
   "execution_count": 6,
   "id": "d8909ae9-885a-480d-ab42-2beebb89dc23",
   "metadata": {},
   "outputs": [
    {
     "name": "stdout",
     "output_type": "stream",
     "text": [
      "demo_func的源码提取结果：\n",
      "def demo_func(a, b):\n",
      "    \n",
      "    return a * b\n",
      "\n"
     ]
    }
   ],
   "source": [
    "%run extract_source.py"
   ]
  }
 ],
 "metadata": {
  "kernelspec": {
   "display_name": "Python 3",
   "language": "python",
   "name": "python3"
  },
  "language_info": {
   "codemirror_mode": {
    "name": "ipython",
    "version": 3
   },
   "file_extension": ".py",
   "mimetype": "text/x-python",
   "name": "python",
   "nbconvert_exporter": "python",
   "pygments_lexer": "ipython3",
   "version": "3.8.13"
  }
 },
 "nbformat": 4,
 "nbformat_minor": 5
}
