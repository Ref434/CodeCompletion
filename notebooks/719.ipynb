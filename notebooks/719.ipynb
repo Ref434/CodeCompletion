{
 "cells": [
  {
   "cell_type": "markdown",
   "id": "exclusive-filing",
   "metadata": {},
   "source": [
    "# 2 geopandas 0.9.0重要新特性一览"
   ]
  },
  {
   "cell_type": "code",
   "execution_count": 1,
   "id": "trying-turner",
   "metadata": {
    "execution": {
     "iopub.execute_input": "2021-03-11T10:19:22.416993Z",
     "iopub.status.busy": "2021-03-11T10:19:22.416993Z",
     "iopub.status.idle": "2021-03-11T10:19:22.810959Z",
     "shell.execute_reply": "2021-03-11T10:19:22.810959Z",
     "shell.execute_reply.started": "2021-03-11T10:19:22.416993Z"
    },
    "tags": []
   },
   "outputs": [
    {
     "data": {
      "text/plain": [
       "'0.9.0'"
      ]
     },
     "execution_count": 1,
     "metadata": {},
     "output_type": "execute_result"
    }
   ],
   "source": [
    "import geopandas as gpd;gpd.__version__"
   ]
  },
  {
   "cell_type": "markdown",
   "id": "lined-brazil",
   "metadata": {},
   "source": [
    "## 2.1 read_file可直接读取到存放单个矢量文件的zip压缩包"
   ]
  },
  {
   "cell_type": "code",
   "execution_count": 2,
   "id": "rural-liabilities",
   "metadata": {
    "execution": {
     "iopub.execute_input": "2021-03-11T10:19:22.811921Z",
     "iopub.status.busy": "2021-03-11T10:19:22.811921Z",
     "iopub.status.idle": "2021-03-11T10:19:22.874751Z",
     "shell.execute_reply": "2021-03-11T10:19:22.873755Z",
     "shell.execute_reply.started": "2021-03-11T10:19:22.811921Z"
    },
    "tags": []
   },
   "outputs": [
    {
     "data": {
      "text/html": [
       "<div>\n",
       "<style scoped>\n",
       "    .dataframe tbody tr th:only-of-type {\n",
       "        vertical-align: middle;\n",
       "    }\n",
       "\n",
       "    .dataframe tbody tr th {\n",
       "        vertical-align: top;\n",
       "    }\n",
       "\n",
       "    .dataframe thead th {\n",
       "        text-align: right;\n",
       "    }\n",
       "</style>\n",
       "<table border=\"1\" class=\"dataframe\">\n",
       "  <thead>\n",
       "    <tr style=\"text-align: right;\">\n",
       "      <th></th>\n",
       "      <th>state</th>\n",
       "      <th>adm1_code</th>\n",
       "      <th>population</th>\n",
       "      <th>geometry</th>\n",
       "    </tr>\n",
       "  </thead>\n",
       "  <tbody>\n",
       "    <tr>\n",
       "      <th>0</th>\n",
       "      <td>Minnesota</td>\n",
       "      <td>USA-3514</td>\n",
       "      <td>5303925</td>\n",
       "      <td>POLYGON ((-89.59941 48.01027, -89.48888 48.013...</td>\n",
       "    </tr>\n",
       "    <tr>\n",
       "      <th>1</th>\n",
       "      <td>Montana</td>\n",
       "      <td>USA-3515</td>\n",
       "      <td>989415</td>\n",
       "      <td>POLYGON ((-111.19419 44.56116, -111.29155 44.7...</td>\n",
       "    </tr>\n",
       "    <tr>\n",
       "      <th>2</th>\n",
       "      <td>North Dakota</td>\n",
       "      <td>USA-3516</td>\n",
       "      <td>672591</td>\n",
       "      <td>POLYGON ((-96.60136 46.35136, -96.53891 46.199...</td>\n",
       "    </tr>\n",
       "  </tbody>\n",
       "</table>\n",
       "</div>"
      ],
      "text/plain": [
       "          state adm1_code  population  \\\n",
       "0     Minnesota  USA-3514     5303925   \n",
       "1       Montana  USA-3515      989415   \n",
       "2  North Dakota  USA-3516      672591   \n",
       "\n",
       "                                            geometry  \n",
       "0  POLYGON ((-89.59941 48.01027, -89.48888 48.013...  \n",
       "1  POLYGON ((-111.19419 44.56116, -111.29155 44.7...  \n",
       "2  POLYGON ((-96.60136 46.35136, -96.53891 46.199...  "
      ]
     },
     "execution_count": 2,
     "metadata": {},
     "output_type": "execute_result"
    }
   ],
   "source": [
    "gpd.read_file('单geojson压缩包.zip').head(3)"
   ]
  },
  {
   "cell_type": "code",
   "execution_count": 3,
   "id": "floral-craps",
   "metadata": {
    "execution": {
     "iopub.execute_input": "2021-03-11T10:19:22.875748Z",
     "iopub.status.busy": "2021-03-11T10:19:22.875748Z",
     "iopub.status.idle": "2021-03-11T10:19:22.921627Z",
     "shell.execute_reply": "2021-03-11T10:19:22.921627Z",
     "shell.execute_reply.started": "2021-03-11T10:19:22.875748Z"
    },
    "tags": []
   },
   "outputs": [
    {
     "data": {
      "text/html": [
       "<div>\n",
       "<style scoped>\n",
       "    .dataframe tbody tr th:only-of-type {\n",
       "        vertical-align: middle;\n",
       "    }\n",
       "\n",
       "    .dataframe tbody tr th {\n",
       "        vertical-align: top;\n",
       "    }\n",
       "\n",
       "    .dataframe thead th {\n",
       "        text-align: right;\n",
       "    }\n",
       "</style>\n",
       "<table border=\"1\" class=\"dataframe\">\n",
       "  <thead>\n",
       "    <tr style=\"text-align: right;\">\n",
       "      <th></th>\n",
       "      <th>state</th>\n",
       "      <th>adm1_code</th>\n",
       "      <th>population</th>\n",
       "      <th>geometry</th>\n",
       "    </tr>\n",
       "  </thead>\n",
       "  <tbody>\n",
       "    <tr>\n",
       "      <th>0</th>\n",
       "      <td>Minnesota</td>\n",
       "      <td>USA-3514</td>\n",
       "      <td>5303925</td>\n",
       "      <td>POLYGON ((-89.59941 48.01027, -89.48888 48.013...</td>\n",
       "    </tr>\n",
       "    <tr>\n",
       "      <th>1</th>\n",
       "      <td>Montana</td>\n",
       "      <td>USA-3515</td>\n",
       "      <td>989415</td>\n",
       "      <td>POLYGON ((-111.19419 44.56116, -111.29155 44.7...</td>\n",
       "    </tr>\n",
       "    <tr>\n",
       "      <th>2</th>\n",
       "      <td>North Dakota</td>\n",
       "      <td>USA-3516</td>\n",
       "      <td>672591</td>\n",
       "      <td>POLYGON ((-96.60136 46.35136, -96.53891 46.199...</td>\n",
       "    </tr>\n",
       "  </tbody>\n",
       "</table>\n",
       "</div>"
      ],
      "text/plain": [
       "          state adm1_code  population  \\\n",
       "0     Minnesota  USA-3514     5303925   \n",
       "1       Montana  USA-3515      989415   \n",
       "2  North Dakota  USA-3516      672591   \n",
       "\n",
       "                                            geometry  \n",
       "0  POLYGON ((-89.59941 48.01027, -89.48888 48.013...  \n",
       "1  POLYGON ((-111.19419 44.56116, -111.29155 44.7...  \n",
       "2  POLYGON ((-96.60136 46.35136, -96.53891 46.199...  "
      ]
     },
     "execution_count": 3,
     "metadata": {},
     "output_type": "execute_result"
    }
   ],
   "source": [
    "gpd.read_file('单shapefile压缩包.zip').head(3)"
   ]
  },
  {
   "cell_type": "markdown",
   "id": "controlling-pierce",
   "metadata": {},
   "source": [
    "## 2.2 新增对wkt与wkb格式的直接支持"
   ]
  },
  {
   "cell_type": "code",
   "execution_count": 4,
   "id": "bored-aruba",
   "metadata": {
    "execution": {
     "iopub.execute_input": "2021-03-11T10:19:22.922620Z",
     "iopub.status.busy": "2021-03-11T10:19:22.922620Z",
     "iopub.status.idle": "2021-03-11T10:19:22.927607Z",
     "shell.execute_reply": "2021-03-11T10:19:22.927607Z",
     "shell.execute_reply.started": "2021-03-11T10:19:22.922620Z"
    },
    "tags": []
   },
   "outputs": [
    {
     "data": {
      "text/plain": [
       "gpd.GeoSeries.from_wkt\n",
       "gpd.GeoSeries.to_wkt"
      ]
     },
     "metadata": {},
     "output_type": "display_data"
    }
   ],
   "source": [
    "?gpd.GeoSeries.*wkt*"
   ]
  },
  {
   "cell_type": "code",
   "execution_count": 5,
   "id": "environmental-omaha",
   "metadata": {
    "execution": {
     "iopub.execute_input": "2021-03-11T10:19:22.929602Z",
     "iopub.status.busy": "2021-03-11T10:19:22.929602Z",
     "iopub.status.idle": "2021-03-11T10:19:22.933592Z",
     "shell.execute_reply": "2021-03-11T10:19:22.933592Z",
     "shell.execute_reply.started": "2021-03-11T10:19:22.929602Z"
    },
    "tags": []
   },
   "outputs": [
    {
     "data": {
      "text/plain": [
       "gpd.GeoSeries.from_wkb\n",
       "gpd.GeoSeries.to_wkb"
      ]
     },
     "metadata": {},
     "output_type": "display_data"
    }
   ],
   "source": [
    "?gpd.GeoSeries.*wkb*"
   ]
  },
  {
   "cell_type": "code",
   "execution_count": 6,
   "id": "controlling-network",
   "metadata": {
    "execution": {
     "iopub.execute_input": "2021-03-11T10:19:22.935587Z",
     "iopub.status.busy": "2021-03-11T10:19:22.934589Z",
     "iopub.status.idle": "2021-03-11T10:19:22.950545Z",
     "shell.execute_reply": "2021-03-11T10:19:22.950545Z",
     "shell.execute_reply.started": "2021-03-11T10:19:22.935587Z"
    },
    "tags": []
   },
   "outputs": [
    {
     "data": {
      "text/plain": [
       "0                            POINT (30.00000 10.00000)\n",
       "1    LINESTRING (30.00000 10.00000, 10.00000 30.000...\n",
       "dtype: geometry"
      ]
     },
     "execution_count": 6,
     "metadata": {},
     "output_type": "execute_result"
    }
   ],
   "source": [
    "g = gpd.GeoSeries.from_wkt(['POINT (30 10)', 'LINESTRING (30 10, 10 30, 40 40)'], crs='EPSG:4326')\n",
    "g"
   ]
  },
  {
   "cell_type": "code",
   "execution_count": 7,
   "id": "charitable-reaction",
   "metadata": {
    "execution": {
     "iopub.execute_input": "2021-03-11T10:19:22.952540Z",
     "iopub.status.busy": "2021-03-11T10:19:22.951543Z",
     "iopub.status.idle": "2021-03-11T10:19:22.957527Z",
     "shell.execute_reply": "2021-03-11T10:19:22.957527Z",
     "shell.execute_reply.started": "2021-03-11T10:19:22.952540Z"
    },
    "tags": []
   },
   "outputs": [
    {
     "data": {
      "text/plain": [
       "0                       POINT (30 10)\n",
       "1    LINESTRING (30 10, 10 30, 40 40)\n",
       "dtype: object"
      ]
     },
     "execution_count": 7,
     "metadata": {},
     "output_type": "execute_result"
    }
   ],
   "source": [
    "g.to_wkt()"
   ]
  },
  {
   "cell_type": "code",
   "execution_count": 8,
   "id": "bearing-calculator",
   "metadata": {
    "execution": {
     "iopub.execute_input": "2021-03-11T10:19:22.959521Z",
     "iopub.status.busy": "2021-03-11T10:19:22.959521Z",
     "iopub.status.idle": "2021-03-11T10:19:22.966505Z",
     "shell.execute_reply": "2021-03-11T10:19:22.965505Z",
     "shell.execute_reply.started": "2021-03-11T10:19:22.959521Z"
    },
    "tags": []
   },
   "outputs": [
    {
     "data": {
      "text/plain": [
       "0    b'\\x01\\x01\\x00\\x00\\x00\\x00\\x00\\x00\\x00\\x00\\x00...\n",
       "1    b'\\x01\\x02\\x00\\x00\\x00\\x03\\x00\\x00\\x00\\x00\\x00...\n",
       "dtype: object"
      ]
     },
     "execution_count": 8,
     "metadata": {},
     "output_type": "execute_result"
    }
   ],
   "source": [
    "g.to_wkb()"
   ]
  },
  {
   "cell_type": "code",
   "execution_count": 9,
   "id": "lonely-error",
   "metadata": {
    "execution": {
     "iopub.execute_input": "2021-03-11T10:19:22.968497Z",
     "iopub.status.busy": "2021-03-11T10:19:22.968497Z",
     "iopub.status.idle": "2021-03-11T10:19:22.983457Z",
     "shell.execute_reply": "2021-03-11T10:19:22.982459Z",
     "shell.execute_reply.started": "2021-03-11T10:19:22.968497Z"
    },
    "tags": []
   },
   "outputs": [
    {
     "data": {
      "text/plain": [
       "0                            POINT (30.00000 10.00000)\n",
       "1    LINESTRING (30.00000 10.00000, 10.00000 30.000...\n",
       "dtype: geometry"
      ]
     },
     "execution_count": 9,
     "metadata": {},
     "output_type": "execute_result"
    }
   ],
   "source": [
    "gpd.GeoSeries.from_wkb(g.to_wkb(), crs='EPSG:4326')"
   ]
  },
  {
   "cell_type": "markdown",
   "id": "intermediate-scroll",
   "metadata": {},
   "source": [
    "## 2.3 新增高度z属性"
   ]
  },
  {
   "cell_type": "code",
   "execution_count": 10,
   "id": "professional-brooks",
   "metadata": {
    "execution": {
     "iopub.execute_input": "2021-03-11T10:19:22.984454Z",
     "iopub.status.busy": "2021-03-11T10:19:22.984454Z",
     "iopub.status.idle": "2021-03-11T10:19:22.992432Z",
     "shell.execute_reply": "2021-03-11T10:19:22.992432Z",
     "shell.execute_reply.started": "2021-03-11T10:19:22.984454Z"
    },
    "tags": []
   },
   "outputs": [
    {
     "data": {
      "text/plain": [
       "0    0.0\n",
       "dtype: float64"
      ]
     },
     "execution_count": 10,
     "metadata": {},
     "output_type": "execute_result"
    }
   ],
   "source": [
    "gpd.GeoSeries.from_wkt(['POINT (0 1 2)']).x"
   ]
  },
  {
   "cell_type": "code",
   "execution_count": 11,
   "id": "joint-wyoming",
   "metadata": {
    "execution": {
     "iopub.execute_input": "2021-03-11T10:19:22.993429Z",
     "iopub.status.busy": "2021-03-11T10:19:22.993429Z",
     "iopub.status.idle": "2021-03-11T10:19:23.000410Z",
     "shell.execute_reply": "2021-03-11T10:19:22.999419Z",
     "shell.execute_reply.started": "2021-03-11T10:19:22.993429Z"
    },
    "tags": []
   },
   "outputs": [
    {
     "data": {
      "text/plain": [
       "0    1.0\n",
       "dtype: float64"
      ]
     },
     "execution_count": 11,
     "metadata": {},
     "output_type": "execute_result"
    }
   ],
   "source": [
    "gpd.GeoSeries.from_wkt(['POINT (0 1 2)']).y"
   ]
  },
  {
   "cell_type": "code",
   "execution_count": 12,
   "id": "brief-johnson",
   "metadata": {
    "execution": {
     "iopub.execute_input": "2021-03-11T10:19:23.002405Z",
     "iopub.status.busy": "2021-03-11T10:19:23.001407Z",
     "iopub.status.idle": "2021-03-11T10:19:23.009387Z",
     "shell.execute_reply": "2021-03-11T10:19:23.009387Z",
     "shell.execute_reply.started": "2021-03-11T10:19:23.002405Z"
    },
    "tags": []
   },
   "outputs": [
    {
     "data": {
      "text/plain": [
       "0    2.0\n",
       "dtype: float64"
      ]
     },
     "execution_count": 12,
     "metadata": {},
     "output_type": "execute_result"
    }
   ],
   "source": [
    "gpd.GeoSeries.from_wkt(['POINT (0 1 2)']).z"
   ]
  },
  {
   "cell_type": "markdown",
   "id": "clean-alert",
   "metadata": {},
   "source": [
    "## 2.4 dissolve()方法新增无字段依赖模式"
   ]
  },
  {
   "cell_type": "code",
   "execution_count": 13,
   "id": "brown-begin",
   "metadata": {
    "execution": {
     "iopub.execute_input": "2021-03-11T10:19:23.010383Z",
     "iopub.status.busy": "2021-03-11T10:19:23.010383Z",
     "iopub.status.idle": "2021-03-11T10:19:23.024345Z",
     "shell.execute_reply": "2021-03-11T10:19:23.024345Z",
     "shell.execute_reply.started": "2021-03-11T10:19:23.010383Z"
    },
    "tags": []
   },
   "outputs": [
    {
     "data": {
      "text/html": [
       "<div>\n",
       "<style scoped>\n",
       "    .dataframe tbody tr th:only-of-type {\n",
       "        vertical-align: middle;\n",
       "    }\n",
       "\n",
       "    .dataframe tbody tr th {\n",
       "        vertical-align: top;\n",
       "    }\n",
       "\n",
       "    .dataframe thead th {\n",
       "        text-align: right;\n",
       "    }\n",
       "</style>\n",
       "<table border=\"1\" class=\"dataframe\">\n",
       "  <thead>\n",
       "    <tr style=\"text-align: right;\">\n",
       "      <th></th>\n",
       "      <th>geometry</th>\n",
       "      <th>数值</th>\n",
       "    </tr>\n",
       "  </thead>\n",
       "  <tbody>\n",
       "    <tr>\n",
       "      <th>0</th>\n",
       "      <td>POINT (0.00000 0.00000)</td>\n",
       "      <td>0</td>\n",
       "    </tr>\n",
       "    <tr>\n",
       "      <th>1</th>\n",
       "      <td>POINT (1.00000 1.00000)</td>\n",
       "      <td>1</td>\n",
       "    </tr>\n",
       "    <tr>\n",
       "      <th>2</th>\n",
       "      <td>POINT (2.00000 2.00000)</td>\n",
       "      <td>2</td>\n",
       "    </tr>\n",
       "  </tbody>\n",
       "</table>\n",
       "</div>"
      ],
      "text/plain": [
       "                  geometry  数值\n",
       "0  POINT (0.00000 0.00000)   0\n",
       "1  POINT (1.00000 1.00000)   1\n",
       "2  POINT (2.00000 2.00000)   2"
      ]
     },
     "execution_count": 13,
     "metadata": {},
     "output_type": "execute_result"
    }
   ],
   "source": [
    "g = gpd.GeoDataFrame({\n",
    "    'geometry': gpd.GeoSeries.from_wkt(['POINT (0 0)', 'POINT (1 1)', 'POINT (2 2)'])\n",
    "})\n",
    "g['数值'] = range(3)\n",
    "g"
   ]
  },
  {
   "cell_type": "code",
   "execution_count": 14,
   "id": "hazardous-tomato",
   "metadata": {
    "execution": {
     "iopub.execute_input": "2021-03-11T10:19:23.026341Z",
     "iopub.status.busy": "2021-03-11T10:19:23.025343Z",
     "iopub.status.idle": "2021-03-11T10:19:23.045288Z",
     "shell.execute_reply": "2021-03-11T10:19:23.045288Z",
     "shell.execute_reply.started": "2021-03-11T10:19:23.026341Z"
    },
    "tags": []
   },
   "outputs": [
    {
     "data": {
      "text/html": [
       "<div>\n",
       "<style scoped>\n",
       "    .dataframe tbody tr th:only-of-type {\n",
       "        vertical-align: middle;\n",
       "    }\n",
       "\n",
       "    .dataframe tbody tr th {\n",
       "        vertical-align: top;\n",
       "    }\n",
       "\n",
       "    .dataframe thead th {\n",
       "        text-align: right;\n",
       "    }\n",
       "</style>\n",
       "<table border=\"1\" class=\"dataframe\">\n",
       "  <thead>\n",
       "    <tr style=\"text-align: right;\">\n",
       "      <th></th>\n",
       "      <th>geometry</th>\n",
       "      <th>数值</th>\n",
       "    </tr>\n",
       "  </thead>\n",
       "  <tbody>\n",
       "    <tr>\n",
       "      <th>0</th>\n",
       "      <td>MULTIPOINT (0.00000 0.00000, 1.00000 1.00000, ...</td>\n",
       "      <td>3</td>\n",
       "    </tr>\n",
       "  </tbody>\n",
       "</table>\n",
       "</div>"
      ],
      "text/plain": [
       "                                            geometry  数值\n",
       "0  MULTIPOINT (0.00000 0.00000, 1.00000 1.00000, ...   3"
      ]
     },
     "execution_count": 14,
     "metadata": {},
     "output_type": "execute_result"
    }
   ],
   "source": [
    "# 老方法\n",
    "g.assign(id_=0).dissolve(by='id_', aggfunc='sum').reset_index(drop=True)"
   ]
  },
  {
   "cell_type": "code",
   "execution_count": 15,
   "id": "literary-country",
   "metadata": {
    "execution": {
     "iopub.execute_input": "2021-03-11T10:19:23.046286Z",
     "iopub.status.busy": "2021-03-11T10:19:23.046286Z",
     "iopub.status.idle": "2021-03-11T10:19:23.060248Z",
     "shell.execute_reply": "2021-03-11T10:19:23.060248Z",
     "shell.execute_reply.started": "2021-03-11T10:19:23.046286Z"
    },
    "tags": []
   },
   "outputs": [
    {
     "data": {
      "text/html": [
       "<div>\n",
       "<style scoped>\n",
       "    .dataframe tbody tr th:only-of-type {\n",
       "        vertical-align: middle;\n",
       "    }\n",
       "\n",
       "    .dataframe tbody tr th {\n",
       "        vertical-align: top;\n",
       "    }\n",
       "\n",
       "    .dataframe thead th {\n",
       "        text-align: right;\n",
       "    }\n",
       "</style>\n",
       "<table border=\"1\" class=\"dataframe\">\n",
       "  <thead>\n",
       "    <tr style=\"text-align: right;\">\n",
       "      <th></th>\n",
       "      <th>geometry</th>\n",
       "      <th>数值</th>\n",
       "    </tr>\n",
       "  </thead>\n",
       "  <tbody>\n",
       "    <tr>\n",
       "      <th>0</th>\n",
       "      <td>MULTIPOINT (0.00000 0.00000, 1.00000 1.00000, ...</td>\n",
       "      <td>3</td>\n",
       "    </tr>\n",
       "  </tbody>\n",
       "</table>\n",
       "</div>"
      ],
      "text/plain": [
       "                                            geometry  数值\n",
       "0  MULTIPOINT (0.00000 0.00000, 1.00000 1.00000, ...   3"
      ]
     },
     "execution_count": 15,
     "metadata": {},
     "output_type": "execute_result"
    }
   ],
   "source": [
    "# 新方法\n",
    "g.dissolve(by=None, aggfunc='sum')"
   ]
  },
  {
   "cell_type": "markdown",
   "id": "sophisticated-final",
   "metadata": {},
   "source": [
    "## 2.5 新增estimate_utm_crs()方法自动推断投影坐标系"
   ]
  },
  {
   "cell_type": "code",
   "execution_count": 16,
   "id": "honest-plymouth",
   "metadata": {
    "execution": {
     "iopub.execute_input": "2021-03-11T10:19:23.061245Z",
     "iopub.status.busy": "2021-03-11T10:19:23.061245Z",
     "iopub.status.idle": "2021-03-11T10:19:23.151004Z",
     "shell.execute_reply": "2021-03-11T10:19:23.151004Z",
     "shell.execute_reply.started": "2021-03-11T10:19:23.061245Z"
    },
    "tags": []
   },
   "outputs": [],
   "source": [
    "g1 = gpd.GeoDataFrame({\n",
    "    'geometry': gpd.GeoSeries.from_wkt(['POINT (1 1)'])}, crs='EPSG:4326')\n",
    "g2 = gpd.GeoDataFrame({\n",
    "    'geometry': gpd.GeoSeries.from_wkt(['POINT (106 29)'])}, crs='EPSG:4326')\n",
    "g2.to_crs('EPSG:2381', inplace=True)"
   ]
  },
  {
   "cell_type": "code",
   "execution_count": 17,
   "id": "noted-universal",
   "metadata": {
    "execution": {
     "iopub.execute_input": "2021-03-11T10:19:23.151998Z",
     "iopub.status.busy": "2021-03-11T10:19:23.151998Z",
     "iopub.status.idle": "2021-03-11T10:19:23.204856Z",
     "shell.execute_reply": "2021-03-11T10:19:23.203858Z",
     "shell.execute_reply.started": "2021-03-11T10:19:23.151998Z"
    },
    "tags": []
   },
   "outputs": [
    {
     "data": {
      "text/plain": [
       "<Projected CRS: EPSG:32631>\n",
       "Name: WGS 84 / UTM zone 31N\n",
       "Axis Info [cartesian]:\n",
       "- E[east]: Easting (metre)\n",
       "- N[north]: Northing (metre)\n",
       "Area of Use:\n",
       "- name: Between 0°E and 6°E, northern hemisphere between equator and 84°N, onshore and offshore. Algeria. Andorra. Belgium. Benin. Burkina Faso. Denmark - North Sea. France. Germany - North Sea. Ghana. Luxembourg. Mali. Netherlands. Niger. Nigeria. Norway. Spain. Togo. United Kingdom (UK) - North Sea.\n",
       "- bounds: (0.0, 0.0, 6.0, 84.0)\n",
       "Coordinate Operation:\n",
       "- name: UTM zone 31N\n",
       "- method: Transverse Mercator\n",
       "Datum: World Geodetic System 1984\n",
       "- Ellipsoid: WGS 84\n",
       "- Prime Meridian: Greenwich"
      ]
     },
     "execution_count": 17,
     "metadata": {},
     "output_type": "execute_result"
    }
   ],
   "source": [
    "g1.estimate_utm_crs() # 基于原始的坐标参考系，给出横轴墨卡托参考系建议"
   ]
  },
  {
   "cell_type": "code",
   "execution_count": 18,
   "id": "opened-belarus",
   "metadata": {
    "execution": {
     "iopub.execute_input": "2021-03-11T10:19:23.205854Z",
     "iopub.status.busy": "2021-03-11T10:19:23.204856Z",
     "iopub.status.idle": "2021-03-11T10:19:23.313562Z",
     "shell.execute_reply": "2021-03-11T10:19:23.313562Z",
     "shell.execute_reply.started": "2021-03-11T10:19:23.204856Z"
    },
    "tags": []
   },
   "outputs": [
    {
     "data": {
      "text/plain": [
       "<Projected CRS: EPSG:32648>\n",
       "Name: WGS 84 / UTM zone 48N\n",
       "Axis Info [cartesian]:\n",
       "- E[east]: Easting (metre)\n",
       "- N[north]: Northing (metre)\n",
       "Area of Use:\n",
       "- name: Between 102°E and 108°E, northern hemisphere between equator and 84°N, onshore and offshore. Cambodia. China. Indonesia. Laos. Malaysia - West Malaysia. Mongolia. Russian Federation. Singapore. Thailand. Vietnam.\n",
       "- bounds: (102.0, 0.0, 108.0, 84.0)\n",
       "Coordinate Operation:\n",
       "- name: UTM zone 48N\n",
       "- method: Transverse Mercator\n",
       "Datum: World Geodetic System 1984\n",
       "- Ellipsoid: WGS 84\n",
       "- Prime Meridian: Greenwich"
      ]
     },
     "execution_count": 18,
     "metadata": {},
     "output_type": "execute_result"
    }
   ],
   "source": [
    "g2.estimate_utm_crs() # 基于原始的坐标参考系，给出横轴墨卡托参考系建议"
   ]
  },
  {
   "cell_type": "markdown",
   "id": "loaded-myrtle",
   "metadata": {},
   "source": [
    "## 2.6 解决了explode()方法与pandas的冲突"
   ]
  },
  {
   "cell_type": "code",
   "execution_count": 19,
   "id": "bibliographic-burden",
   "metadata": {
    "execution": {
     "iopub.execute_input": "2021-03-11T10:19:23.315556Z",
     "iopub.status.busy": "2021-03-11T10:19:23.314558Z",
     "iopub.status.idle": "2021-03-11T10:19:23.326525Z",
     "shell.execute_reply": "2021-03-11T10:19:23.326525Z",
     "shell.execute_reply.started": "2021-03-11T10:19:23.315556Z"
    },
    "tags": []
   },
   "outputs": [
    {
     "data": {
      "text/html": [
       "<div>\n",
       "<style scoped>\n",
       "    .dataframe tbody tr th:only-of-type {\n",
       "        vertical-align: middle;\n",
       "    }\n",
       "\n",
       "    .dataframe tbody tr th {\n",
       "        vertical-align: top;\n",
       "    }\n",
       "\n",
       "    .dataframe thead th {\n",
       "        text-align: right;\n",
       "    }\n",
       "</style>\n",
       "<table border=\"1\" class=\"dataframe\">\n",
       "  <thead>\n",
       "    <tr style=\"text-align: right;\">\n",
       "      <th></th>\n",
       "      <th>V1</th>\n",
       "      <th>geometry</th>\n",
       "    </tr>\n",
       "  </thead>\n",
       "  <tbody>\n",
       "    <tr>\n",
       "      <th>0</th>\n",
       "      <td>[1, 2, 3]</td>\n",
       "      <td>POINT (0.00000 0.00000)</td>\n",
       "    </tr>\n",
       "    <tr>\n",
       "      <th>1</th>\n",
       "      <td>[4, 5]</td>\n",
       "      <td>MULTIPOINT (0.00000 0.00000, 1.00000 1.00000, ...</td>\n",
       "    </tr>\n",
       "    <tr>\n",
       "      <th>2</th>\n",
       "      <td>6</td>\n",
       "      <td>POINT (0.00000 0.00000)</td>\n",
       "    </tr>\n",
       "  </tbody>\n",
       "</table>\n",
       "</div>"
      ],
      "text/plain": [
       "          V1                                           geometry\n",
       "0  [1, 2, 3]                            POINT (0.00000 0.00000)\n",
       "1     [4, 5]  MULTIPOINT (0.00000 0.00000, 1.00000 1.00000, ...\n",
       "2          6                            POINT (0.00000 0.00000)"
      ]
     },
     "execution_count": 19,
     "metadata": {},
     "output_type": "execute_result"
    }
   ],
   "source": [
    "from shapely.geometry import MultiPoint, Point\n",
    "\n",
    "gdf = gpd.GeoDataFrame({\n",
    "    'V1': [[1, 2, 3], [4, 5], 6],\n",
    "    'geometry': [Point(0, 0), MultiPoint([(0, 0), (1, 1), (2, 2)]), Point(0, 0)]\n",
    "})\n",
    "gdf"
   ]
  },
  {
   "cell_type": "code",
   "execution_count": 20,
   "id": "exact-bulgarian",
   "metadata": {
    "execution": {
     "iopub.execute_input": "2021-03-11T10:19:23.327524Z",
     "iopub.status.busy": "2021-03-11T10:19:23.327524Z",
     "iopub.status.idle": "2021-03-11T10:19:23.348466Z",
     "shell.execute_reply": "2021-03-11T10:19:23.347468Z",
     "shell.execute_reply.started": "2021-03-11T10:19:23.327524Z"
    },
    "tags": []
   },
   "outputs": [
    {
     "data": {
      "text/html": [
       "<div>\n",
       "<style scoped>\n",
       "    .dataframe tbody tr th:only-of-type {\n",
       "        vertical-align: middle;\n",
       "    }\n",
       "\n",
       "    .dataframe tbody tr th {\n",
       "        vertical-align: top;\n",
       "    }\n",
       "\n",
       "    .dataframe thead th {\n",
       "        text-align: right;\n",
       "    }\n",
       "</style>\n",
       "<table border=\"1\" class=\"dataframe\">\n",
       "  <thead>\n",
       "    <tr style=\"text-align: right;\">\n",
       "      <th></th>\n",
       "      <th></th>\n",
       "      <th>V1</th>\n",
       "      <th>geometry</th>\n",
       "    </tr>\n",
       "  </thead>\n",
       "  <tbody>\n",
       "    <tr>\n",
       "      <th>0</th>\n",
       "      <th>0</th>\n",
       "      <td>[1, 2, 3]</td>\n",
       "      <td>POINT (0.00000 0.00000)</td>\n",
       "    </tr>\n",
       "    <tr>\n",
       "      <th rowspan=\"3\" valign=\"top\">1</th>\n",
       "      <th>0</th>\n",
       "      <td>[4, 5]</td>\n",
       "      <td>POINT (0.00000 0.00000)</td>\n",
       "    </tr>\n",
       "    <tr>\n",
       "      <th>1</th>\n",
       "      <td>[4, 5]</td>\n",
       "      <td>POINT (1.00000 1.00000)</td>\n",
       "    </tr>\n",
       "    <tr>\n",
       "      <th>2</th>\n",
       "      <td>[4, 5]</td>\n",
       "      <td>POINT (2.00000 2.00000)</td>\n",
       "    </tr>\n",
       "    <tr>\n",
       "      <th>2</th>\n",
       "      <th>0</th>\n",
       "      <td>6</td>\n",
       "      <td>POINT (0.00000 0.00000)</td>\n",
       "    </tr>\n",
       "  </tbody>\n",
       "</table>\n",
       "</div>"
      ],
      "text/plain": [
       "            V1                 geometry\n",
       "0 0  [1, 2, 3]  POINT (0.00000 0.00000)\n",
       "1 0     [4, 5]  POINT (0.00000 0.00000)\n",
       "  1     [4, 5]  POINT (1.00000 1.00000)\n",
       "  2     [4, 5]  POINT (2.00000 2.00000)\n",
       "2 0          6  POINT (0.00000 0.00000)"
      ]
     },
     "execution_count": 20,
     "metadata": {},
     "output_type": "execute_result"
    }
   ],
   "source": [
    "gdf.explode() # 默认按矢量列多要素部件展开"
   ]
  },
  {
   "cell_type": "code",
   "execution_count": 21,
   "id": "cardiovascular-cornell",
   "metadata": {
    "execution": {
     "iopub.execute_input": "2021-03-11T10:19:23.350460Z",
     "iopub.status.busy": "2021-03-11T10:19:23.350460Z",
     "iopub.status.idle": "2021-03-11T10:19:23.365420Z",
     "shell.execute_reply": "2021-03-11T10:19:23.364422Z",
     "shell.execute_reply.started": "2021-03-11T10:19:23.350460Z"
    },
    "tags": []
   },
   "outputs": [
    {
     "data": {
      "text/html": [
       "<div>\n",
       "<style scoped>\n",
       "    .dataframe tbody tr th:only-of-type {\n",
       "        vertical-align: middle;\n",
       "    }\n",
       "\n",
       "    .dataframe tbody tr th {\n",
       "        vertical-align: top;\n",
       "    }\n",
       "\n",
       "    .dataframe thead th {\n",
       "        text-align: right;\n",
       "    }\n",
       "</style>\n",
       "<table border=\"1\" class=\"dataframe\">\n",
       "  <thead>\n",
       "    <tr style=\"text-align: right;\">\n",
       "      <th></th>\n",
       "      <th>V1</th>\n",
       "      <th>geometry</th>\n",
       "    </tr>\n",
       "  </thead>\n",
       "  <tbody>\n",
       "    <tr>\n",
       "      <th>0</th>\n",
       "      <td>1</td>\n",
       "      <td>POINT (0.00000 0.00000)</td>\n",
       "    </tr>\n",
       "    <tr>\n",
       "      <th>0</th>\n",
       "      <td>2</td>\n",
       "      <td>POINT (0.00000 0.00000)</td>\n",
       "    </tr>\n",
       "    <tr>\n",
       "      <th>0</th>\n",
       "      <td>3</td>\n",
       "      <td>POINT (0.00000 0.00000)</td>\n",
       "    </tr>\n",
       "    <tr>\n",
       "      <th>1</th>\n",
       "      <td>4</td>\n",
       "      <td>MULTIPOINT (0.00000 0.00000, 1.00000 1.00000, ...</td>\n",
       "    </tr>\n",
       "    <tr>\n",
       "      <th>1</th>\n",
       "      <td>5</td>\n",
       "      <td>MULTIPOINT (0.00000 0.00000, 1.00000 1.00000, ...</td>\n",
       "    </tr>\n",
       "    <tr>\n",
       "      <th>2</th>\n",
       "      <td>6</td>\n",
       "      <td>POINT (0.00000 0.00000)</td>\n",
       "    </tr>\n",
       "  </tbody>\n",
       "</table>\n",
       "</div>"
      ],
      "text/plain": [
       "  V1                                           geometry\n",
       "0  1                            POINT (0.00000 0.00000)\n",
       "0  2                            POINT (0.00000 0.00000)\n",
       "0  3                            POINT (0.00000 0.00000)\n",
       "1  4  MULTIPOINT (0.00000 0.00000, 1.00000 1.00000, ...\n",
       "1  5  MULTIPOINT (0.00000 0.00000, 1.00000 1.00000, ...\n",
       "2  6                            POINT (0.00000 0.00000)"
      ]
     },
     "execution_count": 21,
     "metadata": {},
     "output_type": "execute_result"
    }
   ],
   "source": [
    "gdf.explode(column='V1') # 利用column参数兼容pandas中的explode功能"
   ]
  },
  {
   "cell_type": "markdown",
   "id": "assured-carol",
   "metadata": {},
   "source": [
    "## 2.7 绘图方面的新特性"
   ]
  },
  {
   "cell_type": "code",
   "execution_count": 22,
   "id": "metropolitan-excerpt",
   "metadata": {
    "execution": {
     "iopub.execute_input": "2021-03-11T10:19:23.367414Z",
     "iopub.status.busy": "2021-03-11T10:19:23.367414Z",
     "iopub.status.idle": "2021-03-11T10:19:23.628788Z",
     "shell.execute_reply": "2021-03-11T10:19:23.628788Z",
     "shell.execute_reply.started": "2021-03-11T10:19:23.367414Z"
    },
    "tags": []
   },
   "outputs": [
    {
     "name": "stderr",
     "output_type": "stream",
     "text": [
      "WARNING: Package(s) not found: descartes\n"
     ]
    }
   ],
   "source": [
    "!pip show descartes"
   ]
  },
  {
   "cell_type": "code",
   "execution_count": 23,
   "id": "utility-halifax",
   "metadata": {
    "execution": {
     "iopub.execute_input": "2021-03-11T10:19:23.631697Z",
     "iopub.status.busy": "2021-03-11T10:19:23.630699Z",
     "iopub.status.idle": "2021-03-11T10:19:23.977759Z",
     "shell.execute_reply": "2021-03-11T10:19:23.977759Z",
     "shell.execute_reply.started": "2021-03-11T10:19:23.631697Z"
    },
    "tags": []
   },
   "outputs": [
    {
     "data": {
      "image/png": "[encoded data removed]",
      "text/plain": [
       "<Figure size 432x288 with 1 Axes>"
      ]
     },
     "metadata": {
      "needs_background": "light"
     },
     "output_type": "display_data"
    }
   ],
   "source": [
    "from shapely.geometry import Polygon\n",
    "\n",
    "g1 = gpd.GeoDataFrame({'geometry': [Polygon([(0, 0), (1, 0), (1, 1), (0, 1)])]})\n",
    "g2 = gpd.GeoDataFrame({'geometry': [Polygon([(0, 0), (4, 0), (4, 4), (0, 4)])]})\n",
    "\n",
    "ax = g1.plot(alpha=0.2, edgecolor='red')\n",
    "g2.plot(alpha=0.2, edgecolor='green', ax=ax);"
   ]
  }
 ],
 "metadata": {
  "kernelspec": {
   "display_name": "Python 3",
   "language": "python",
   "name": "python3"
  },
  "language_info": {
   "codemirror_mode": {
    "name": "ipython",
    "version": 3
   },
   "file_extension": ".py",
   "mimetype": "text/x-python",
   "name": "python",
   "nbconvert_exporter": "python",
   "pygments_lexer": "ipython3",
   "version": "3.7.10"
  }
 },
 "nbformat": 4,
 "nbformat_minor": 5
}
