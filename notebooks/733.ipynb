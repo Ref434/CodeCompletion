{
 "cells": [
  {
   "cell_type": "code",
   "execution_count": 1,
   "id": "27861235-f1f8-4a3b-a720-1bf8ab099ad9",
   "metadata": {
    "execution": {
     "iopub.execute_input": "2022-06-05T11:24:18.744315Z",
     "iopub.status.busy": "2022-06-05T11:24:18.743318Z",
     "iopub.status.idle": "2022-06-05T11:24:18.771243Z",
     "shell.execute_reply": "2022-06-05T11:24:18.770283Z",
     "shell.execute_reply.started": "2022-06-05T11:24:18.744315Z"
    },
    "tags": []
   },
   "outputs": [
    {
     "data": {
      "text/plain": [
       "'3.7.0'"
      ]
     },
     "execution_count": 1,
     "metadata": {},
     "output_type": "execute_result"
    }
   ],
   "source": [
    "import json\n",
    "import orjson\n",
    "\n",
    "orjson.__version__"
   ]
  },
  {
   "cell_type": "markdown",
   "id": "98e5a0ec-94f7-4e3a-bd18-0dd4f44ed84d",
   "metadata": {
    "tags": []
   },
   "source": [
    "# 2 orjson常用方法"
   ]
  },
  {
   "cell_type": "markdown",
   "id": "20a95105-a1e9-43f9-a22f-706c1ce4c0f2",
   "metadata": {},
   "source": [
    "## 2.1 序列化"
   ]
  },
  {
   "cell_type": "code",
   "execution_count": 2,
   "id": "7e026666-e5b2-40f1-a11a-3672603e5d11",
   "metadata": {
    "execution": {
     "iopub.execute_input": "2022-06-05T11:24:18.772275Z",
     "iopub.status.busy": "2022-06-05T11:24:18.772275Z",
     "iopub.status.idle": "2022-06-05T11:24:23.802547Z",
     "shell.execute_reply": "2022-06-05T11:24:23.801586Z",
     "shell.execute_reply.started": "2022-06-05T11:24:18.772275Z"
    },
    "tags": []
   },
   "outputs": [],
   "source": [
    "import random\n",
    "\n",
    "demo_json1 = [\n",
    "    {\n",
    "        'id': 999999,\n",
    "        'value': random.uniform(0, 1000)\n",
    "    }\n",
    "    for i in range(10000000)\n",
    "]"
   ]
  },
  {
   "cell_type": "code",
   "execution_count": 3,
   "id": "69e4b3b1-1a0f-4b1a-9cd7-f3f82751e55b",
   "metadata": {
    "execution": {
     "iopub.execute_input": "2022-06-05T11:24:23.803544Z",
     "iopub.status.busy": "2022-06-05T11:24:23.803544Z",
     "iopub.status.idle": "2022-06-05T11:24:41.832381Z",
     "shell.execute_reply": "2022-06-05T11:24:41.831381Z",
     "shell.execute_reply.started": "2022-06-05T11:24:23.803544Z"
    },
    "tags": []
   },
   "outputs": [
    {
     "name": "stdout",
     "output_type": "stream",
     "text": [
      "CPU times: total: 16.3 s\n",
      "Wall time: 18 s\n"
     ]
    }
   ],
   "source": [
    "%time _ = json.dumps(demo_json1)"
   ]
  },
  {
   "cell_type": "code",
   "execution_count": 4,
   "id": "524f9dda-a688-443f-9f88-d253629beb7f",
   "metadata": {
    "execution": {
     "iopub.execute_input": "2022-06-05T11:24:41.834374Z",
     "iopub.status.busy": "2022-06-05T11:24:41.833378Z",
     "iopub.status.idle": "2022-06-05T11:24:43.175866Z",
     "shell.execute_reply": "2022-06-05T11:24:43.174884Z",
     "shell.execute_reply.started": "2022-06-05T11:24:41.834374Z"
    },
    "tags": []
   },
   "outputs": [
    {
     "name": "stdout",
     "output_type": "stream",
     "text": [
      "CPU times: total: 1.33 s\n",
      "Wall time: 1.32 s\n"
     ]
    }
   ],
   "source": [
    "%time _ = orjson.dumps(demo_json1)"
   ]
  },
  {
   "cell_type": "markdown",
   "id": "7d5b3839-b598-475d-8d6a-8a3d7fb60b85",
   "metadata": {},
   "source": [
    "## 2.2 反序列化"
   ]
  },
  {
   "cell_type": "code",
   "execution_count": 5,
   "id": "1b8b9667-66ac-45ec-a81c-2db7b08c41b7",
   "metadata": {
    "execution": {
     "iopub.execute_input": "2022-06-05T11:24:43.175866Z",
     "iopub.status.busy": "2022-06-05T11:24:43.175866Z",
     "iopub.status.idle": "2022-06-05T11:24:57.864453Z",
     "shell.execute_reply": "2022-06-05T11:24:57.863582Z",
     "shell.execute_reply.started": "2022-06-05T11:24:43.175866Z"
    }
   },
   "outputs": [],
   "source": [
    "_ = json.dumps(demo_json1)"
   ]
  },
  {
   "cell_type": "code",
   "execution_count": 6,
   "id": "de51e488-8a8e-4d27-9d53-f95b2fa248cf",
   "metadata": {
    "execution": {
     "iopub.execute_input": "2022-06-05T11:24:57.865454Z",
     "iopub.status.busy": "2022-06-05T11:24:57.865454Z",
     "iopub.status.idle": "2022-06-05T11:25:08.373696Z",
     "shell.execute_reply": "2022-06-05T11:25:08.373696Z",
     "shell.execute_reply.started": "2022-06-05T11:24:57.865454Z"
    }
   },
   "outputs": [
    {
     "name": "stdout",
     "output_type": "stream",
     "text": [
      "CPU times: total: 9.95 s\n",
      "Wall time: 10.5 s\n"
     ]
    }
   ],
   "source": [
    "%time loads_result = json.loads(_)"
   ]
  },
  {
   "cell_type": "code",
   "execution_count": 7,
   "id": "56d02c0d-6e63-42d5-90a8-d966d30ccafc",
   "metadata": {
    "execution": {
     "iopub.execute_input": "2022-06-05T11:25:08.375698Z",
     "iopub.status.busy": "2022-06-05T11:25:08.374693Z",
     "iopub.status.idle": "2022-06-05T11:25:09.714138Z",
     "shell.execute_reply": "2022-06-05T11:25:09.712199Z",
     "shell.execute_reply.started": "2022-06-05T11:25:08.375698Z"
    }
   },
   "outputs": [],
   "source": [
    "_ = orjson.dumps(demo_json1)"
   ]
  },
  {
   "cell_type": "code",
   "execution_count": 8,
   "id": "266ace68-a1c5-413f-8180-f2d56f264f18",
   "metadata": {
    "execution": {
     "iopub.execute_input": "2022-06-05T11:25:09.717129Z",
     "iopub.status.busy": "2022-06-05T11:25:09.716131Z",
     "iopub.status.idle": "2022-06-05T11:25:13.464581Z",
     "shell.execute_reply": "2022-06-05T11:25:13.463366Z",
     "shell.execute_reply.started": "2022-06-05T11:25:09.717129Z"
    },
    "tags": []
   },
   "outputs": [
    {
     "name": "stdout",
     "output_type": "stream",
     "text": [
      "CPU times: total: 3.72 s\n",
      "Wall time: 3.73 s\n"
     ]
    }
   ],
   "source": [
    "%time loads_result = orjson.loads(_)"
   ]
  },
  {
   "cell_type": "markdown",
   "id": "64349b95-c8f0-4579-b26b-1a44c3cfe972",
   "metadata": {},
   "source": [
    "## 2.3 丰富的option选项"
   ]
  },
  {
   "cell_type": "markdown",
   "id": "57ea1478-0e50-4870-b95d-451949c4092e",
   "metadata": {},
   "source": [
    "- OPT_INDENT_2"
   ]
  },
  {
   "cell_type": "code",
   "execution_count": 9,
   "id": "48bf8000-abdf-4b0d-8d0d-54eb094ae27d",
   "metadata": {
    "execution": {
     "iopub.execute_input": "2022-06-05T11:25:13.468576Z",
     "iopub.status.busy": "2022-06-05T11:25:13.467610Z",
     "iopub.status.idle": "2022-06-05T11:25:13.478630Z",
     "shell.execute_reply": "2022-06-05T11:25:13.478630Z",
     "shell.execute_reply.started": "2022-06-05T11:25:13.467610Z"
    },
    "tags": []
   },
   "outputs": [
    {
     "name": "stdout",
     "output_type": "stream",
     "text": [
      "{\"a\":\"b\",\"c\":{\"d\":true},\"e\":[1,2]}\n"
     ]
    }
   ],
   "source": [
    "demo_json2 = {\"a\": \"b\", \"c\": {\"d\": True}, \"e\": [1, 2]}\n",
    "print(orjson.dumps(demo_json2).decode())"
   ]
  },
  {
   "cell_type": "code",
   "execution_count": 10,
   "id": "3133e969-1d32-41c4-9703-dd694439e495",
   "metadata": {
    "execution": {
     "iopub.execute_input": "2022-06-05T11:25:13.480542Z",
     "iopub.status.busy": "2022-06-05T11:25:13.480542Z",
     "iopub.status.idle": "2022-06-05T11:25:13.495552Z",
     "shell.execute_reply": "2022-06-05T11:25:13.494555Z",
     "shell.execute_reply.started": "2022-06-05T11:25:13.480542Z"
    },
    "tags": []
   },
   "outputs": [
    {
     "name": "stdout",
     "output_type": "stream",
     "text": [
      "{\n",
      "  \"a\": \"b\",\n",
      "  \"c\": {\n",
      "    \"d\": true\n",
      "  },\n",
      "  \"e\": [\n",
      "    1,\n",
      "    2\n",
      "  ]\n",
      "}\n"
     ]
    }
   ],
   "source": [
    "print(orjson.dumps(demo_json2, option=orjson.OPT_INDENT_2).decode())"
   ]
  },
  {
   "cell_type": "markdown",
   "id": "cd2ef8c5-6442-4103-b43b-5cf80c336a9c",
   "metadata": {},
   "source": [
    "- OPT_OMIT_MICROSECONDS"
   ]
  },
  {
   "cell_type": "code",
   "execution_count": 11,
   "id": "808089de-e4c8-4f2d-b10a-39fa5081c70f",
   "metadata": {
    "execution": {
     "iopub.execute_input": "2022-06-05T11:25:13.496552Z",
     "iopub.status.busy": "2022-06-05T11:25:13.496552Z",
     "iopub.status.idle": "2022-06-05T11:25:13.511509Z",
     "shell.execute_reply": "2022-06-05T11:25:13.510512Z",
     "shell.execute_reply.started": "2022-06-05T11:25:13.496552Z"
    },
    "tags": []
   },
   "outputs": [
    {
     "data": {
      "text/plain": [
       "b'{\"now\":\"2022-06-05T19:25:13.497548\"}'"
      ]
     },
     "execution_count": 11,
     "metadata": {},
     "output_type": "execute_result"
    }
   ],
   "source": [
    "from datetime import datetime\n",
    "\n",
    "orjson.dumps({'now': datetime.now()})"
   ]
  },
  {
   "cell_type": "code",
   "execution_count": 12,
   "id": "62946cf3-3879-40af-b5a8-0a29d26a139e",
   "metadata": {
    "execution": {
     "iopub.execute_input": "2022-06-05T11:25:13.512506Z",
     "iopub.status.busy": "2022-06-05T11:25:13.511509Z",
     "iopub.status.idle": "2022-06-05T11:25:13.526504Z",
     "shell.execute_reply": "2022-06-05T11:25:13.526504Z",
     "shell.execute_reply.started": "2022-06-05T11:25:13.512506Z"
    },
    "tags": []
   },
   "outputs": [
    {
     "data": {
      "text/plain": [
       "b'{\"now\":\"2022-06-05T19:25:13\"}'"
      ]
     },
     "execution_count": 12,
     "metadata": {},
     "output_type": "execute_result"
    }
   ],
   "source": [
    "orjson.dumps({'now': datetime.now()},\n",
    "             option=orjson.OPT_OMIT_MICROSECONDS)"
   ]
  },
  {
   "cell_type": "markdown",
   "id": "e78bc89a-0e05-4b21-a5f8-71431e128630",
   "metadata": {},
   "source": [
    "- OPT_NON_STR_KEYS"
   ]
  },
  {
   "cell_type": "code",
   "execution_count": 13,
   "id": "b4c6a43c-613f-4e40-8a64-7df713d22c1e",
   "metadata": {
    "execution": {
     "iopub.execute_input": "2022-06-05T11:25:13.527466Z",
     "iopub.status.busy": "2022-06-05T11:25:13.527466Z",
     "iopub.status.idle": "2022-06-05T11:25:14.509191Z",
     "shell.execute_reply": "2022-06-05T11:25:14.508183Z",
     "shell.execute_reply.started": "2022-06-05T11:25:13.527466Z"
    },
    "tags": []
   },
   "outputs": [
    {
     "ename": "TypeError",
     "evalue": "Dict key must be str",
     "output_type": "error",
     "traceback": [
      "\u001b[1;31m---------------------------------------------------------------------------\u001b[0m",
      "\u001b[1;31mTypeError\u001b[0m                                 Traceback (most recent call last)",
      "Input \u001b[1;32mIn [13]\u001b[0m, in \u001b[0;36m<cell line: 1>\u001b[1;34m()\u001b[0m\n\u001b[1;32m----> 1\u001b[0m \u001b[43morjson\u001b[49m\u001b[38;5;241;43m.\u001b[39;49m\u001b[43mdumps\u001b[49m\u001b[43m(\u001b[49m\u001b[43m{\u001b[49m\u001b[38;5;241;43m1\u001b[39;49m\u001b[43m:\u001b[49m\u001b[43m \u001b[49m\u001b[38;5;124;43m'\u001b[39;49m\u001b[38;5;124;43ma\u001b[39;49m\u001b[38;5;124;43m'\u001b[39;49m\u001b[43m,\u001b[49m\u001b[43m \u001b[49m\u001b[38;5;241;43m2\u001b[39;49m\u001b[43m:\u001b[49m\u001b[43m \u001b[49m\u001b[38;5;124;43m'\u001b[39;49m\u001b[38;5;124;43mb\u001b[39;49m\u001b[38;5;124;43m'\u001b[39;49m\u001b[43m}\u001b[49m\u001b[43m)\u001b[49m\n",
      "\u001b[1;31mTypeError\u001b[0m: Dict key must be str"
     ]
    }
   ],
   "source": [
    "orjson.dumps({1: 'a', 2: 'b'})"
   ]
  },
  {
   "cell_type": "code",
   "execution_count": 14,
   "id": "c8002820-0f23-418e-aff4-b0ad3951cee9",
   "metadata": {
    "execution": {
     "iopub.execute_input": "2022-06-05T11:28:57.909647Z",
     "iopub.status.busy": "2022-06-05T11:28:57.908649Z",
     "iopub.status.idle": "2022-06-05T11:28:57.928633Z",
     "shell.execute_reply": "2022-06-05T11:28:57.927634Z",
     "shell.execute_reply.started": "2022-06-05T11:28:57.909647Z"
    },
    "tags": []
   },
   "outputs": [
    {
     "data": {
      "text/plain": [
       "b'{\"1\":\"a\",\"2\":\"b\"}'"
      ]
     },
     "execution_count": 14,
     "metadata": {},
     "output_type": "execute_result"
    }
   ],
   "source": [
    "orjson.dumps({1: 'a', 2: 'b'}, option=orjson.OPT_NON_STR_KEYS)"
   ]
  },
  {
   "cell_type": "markdown",
   "id": "63dfd031-477f-4901-95a0-b51d8925b439",
   "metadata": {},
   "source": [
    "- OPT_SERIALIZE_NUMPY"
   ]
  },
  {
   "cell_type": "code",
   "execution_count": 15,
   "id": "95fc48be-8dd1-44b2-8539-7088b5044ca2",
   "metadata": {
    "execution": {
     "iopub.execute_input": "2022-06-05T11:28:57.929593Z",
     "iopub.status.busy": "2022-06-05T11:28:57.929593Z",
     "iopub.status.idle": "2022-06-05T11:28:58.100156Z",
     "shell.execute_reply": "2022-06-05T11:28:58.099426Z",
     "shell.execute_reply.started": "2022-06-05T11:28:57.929593Z"
    },
    "tags": []
   },
   "outputs": [
    {
     "data": {
      "text/plain": [
       "{'numpy-demo': array([[2, 0, 0, 0, 9, 5, 8, 5, 6, 3],\n",
       "        [0, 5, 3, 8, 6, 7, 9, 1, 6, 4],\n",
       "        [5, 1, 4, 8, 3, 3, 0, 7, 1, 2],\n",
       "        [5, 0, 7, 0, 8, 1, 8, 9, 4, 5],\n",
       "        [5, 2, 0, 1, 7, 6, 6, 4, 5, 0],\n",
       "        [9, 3, 6, 6, 1, 6, 0, 1, 0, 8],\n",
       "        [6, 7, 6, 3, 9, 9, 8, 3, 3, 8],\n",
       "        [1, 6, 0, 7, 9, 1, 1, 7, 4, 4],\n",
       "        [4, 8, 7, 6, 0, 0, 9, 6, 1, 5],\n",
       "        [9, 2, 8, 0, 7, 4, 5, 6, 7, 2]])}"
      ]
     },
     "execution_count": 15,
     "metadata": {},
     "output_type": "execute_result"
    }
   ],
   "source": [
    "import numpy as np\n",
    "\n",
    "demo_json3 = {\n",
    "    'numpy-demo': np.random.randint(0, 10, (10, 10))\n",
    "}\n",
    "demo_json3"
   ]
  },
  {
   "cell_type": "code",
   "execution_count": 16,
   "id": "10dbffe1-9695-46cc-9cd0-3888dbcdc566",
   "metadata": {
    "execution": {
     "iopub.execute_input": "2022-06-05T11:28:58.102151Z",
     "iopub.status.busy": "2022-06-05T11:28:58.101153Z",
     "iopub.status.idle": "2022-06-05T11:28:58.116153Z",
     "shell.execute_reply": "2022-06-05T11:28:58.115192Z",
     "shell.execute_reply.started": "2022-06-05T11:28:58.102151Z"
    },
    "tags": []
   },
   "outputs": [
    {
     "data": {
      "text/plain": [
       "b'{\"numpy-demo\":[[2,0,0,0,9,5,8,5,6,3],[0,5,3,8,6,7,9,1,6,4],[5,1,4,8,3,3,0,7,1,2],[5,0,7,0,8,1,8,9,4,5],[5,2,0,1,7,6,6,4,5,0],[9,3,6,6,1,6,0,1,0,8],[6,7,6,3,9,9,8,3,3,8],[1,6,0,7,9,1,1,7,4,4],[4,8,7,6,0,0,9,6,1,5],[9,2,8,0,7,4,5,6,7,2]]}'"
      ]
     },
     "execution_count": 16,
     "metadata": {},
     "output_type": "execute_result"
    }
   ],
   "source": [
    "orjson.dumps(demo_json3, option=orjson.OPT_SERIALIZE_NUMPY)"
   ]
  },
  {
   "cell_type": "markdown",
   "id": "97b5092c-e1be-461b-adcc-fdd69eef1f3d",
   "metadata": {},
   "source": [
    "- OPT_SERIALIZE_UUID"
   ]
  },
  {
   "cell_type": "code",
   "execution_count": 17,
   "id": "db5e9e93-7e17-4a28-b6fc-a69dbf2b1fd9",
   "metadata": {
    "execution": {
     "iopub.execute_input": "2022-06-05T11:28:58.117151Z",
     "iopub.status.busy": "2022-06-05T11:28:58.117151Z",
     "iopub.status.idle": "2022-06-05T11:28:58.132111Z",
     "shell.execute_reply": "2022-06-05T11:28:58.131152Z",
     "shell.execute_reply.started": "2022-06-05T11:28:58.117151Z"
    },
    "tags": []
   },
   "outputs": [
    {
     "data": {
      "text/plain": [
       "{'uuid_demo': UUID('72505cf9-dd02-4ce7-ae9a-1715627816b5')}"
      ]
     },
     "execution_count": 17,
     "metadata": {},
     "output_type": "execute_result"
    }
   ],
   "source": [
    "import uuid\n",
    "\n",
    "demo_json4 = {\n",
    "    'uuid_demo': uuid.uuid4()\n",
    "}\n",
    "demo_json4"
   ]
  },
  {
   "cell_type": "code",
   "execution_count": 18,
   "id": "c493b702-c487-4e3c-a93a-2bd8bb8d0d13",
   "metadata": {
    "execution": {
     "iopub.execute_input": "2022-06-05T11:28:58.134105Z",
     "iopub.status.busy": "2022-06-05T11:28:58.133108Z",
     "iopub.status.idle": "2022-06-05T11:28:58.148068Z",
     "shell.execute_reply": "2022-06-05T11:28:58.147070Z",
     "shell.execute_reply.started": "2022-06-05T11:28:58.133108Z"
    },
    "tags": []
   },
   "outputs": [
    {
     "data": {
      "text/plain": [
       "b'{\"uuid_demo\":\"72505cf9-dd02-4ce7-ae9a-1715627816b5\"}'"
      ]
     },
     "execution_count": 18,
     "metadata": {},
     "output_type": "execute_result"
    }
   ],
   "source": [
    "orjson.dumps(demo_json4)"
   ]
  },
  {
   "cell_type": "markdown",
   "id": "255b8dc7-8d0f-4f52-a402-d0acf9c78f63",
   "metadata": {},
   "source": [
    "- OPT_SORT_KEYS"
   ]
  },
  {
   "cell_type": "code",
   "execution_count": 19,
   "id": "209bc59f-7c65-4977-bff8-a89a58073902",
   "metadata": {
    "execution": {
     "iopub.execute_input": "2022-06-05T11:28:58.149067Z",
     "iopub.status.busy": "2022-06-05T11:28:58.149067Z",
     "iopub.status.idle": "2022-06-05T11:28:58.164024Z",
     "shell.execute_reply": "2022-06-05T11:28:58.163027Z",
     "shell.execute_reply.started": "2022-06-05T11:28:58.149067Z"
    },
    "tags": []
   },
   "outputs": [
    {
     "data": {
      "text/plain": [
       "b'{\"b\":1,\"c\":2,\"a\":3}'"
      ]
     },
     "execution_count": 19,
     "metadata": {},
     "output_type": "execute_result"
    }
   ],
   "source": [
    "orjson.dumps({\"b\": 1, \"c\": 2, \"a\": 3})"
   ]
  },
  {
   "cell_type": "code",
   "execution_count": 20,
   "id": "2ebf23da-548a-4da5-8849-34fef851f23d",
   "metadata": {
    "execution": {
     "iopub.execute_input": "2022-06-05T11:28:58.165021Z",
     "iopub.status.busy": "2022-06-05T11:28:58.164024Z",
     "iopub.status.idle": "2022-06-05T11:28:58.178985Z",
     "shell.execute_reply": "2022-06-05T11:28:58.178985Z",
     "shell.execute_reply.started": "2022-06-05T11:28:58.165021Z"
    },
    "tags": []
   },
   "outputs": [
    {
     "data": {
      "text/plain": [
       "b'{\"a\":3,\"b\":1,\"c\":2}'"
      ]
     },
     "execution_count": 20,
     "metadata": {},
     "output_type": "execute_result"
    }
   ],
   "source": [
    "orjson.dumps({\"b\": 1, \"c\": 2, \"a\": 3},\n",
    "             option=orjson.OPT_SORT_KEYS)"
   ]
  },
  {
   "cell_type": "markdown",
   "id": "1be3d7db-fec9-4afc-9a63-1da2cdad6830",
   "metadata": {},
   "source": [
    "- 组合多种option"
   ]
  },
  {
   "cell_type": "code",
   "execution_count": 21,
   "id": "5902587a-4468-4c4e-83b1-b1f8549f363d",
   "metadata": {
    "execution": {
     "iopub.execute_input": "2022-06-05T11:28:58.180980Z",
     "iopub.status.busy": "2022-06-05T11:28:58.180980Z",
     "iopub.status.idle": "2022-06-05T11:28:58.195939Z",
     "shell.execute_reply": "2022-06-05T11:28:58.194999Z",
     "shell.execute_reply.started": "2022-06-05T11:28:58.180980Z"
    },
    "tags": []
   },
   "outputs": [
    {
     "data": {
      "text/plain": [
       "b'{\"a\":[[4,0],[3,5]],\"c\":[[7,6],[5,9]],\"d\":[[7,7],[8,8]]}'"
      ]
     },
     "execution_count": 21,
     "metadata": {},
     "output_type": "execute_result"
    }
   ],
   "source": [
    "demo_json5 = {\n",
    "    'c': np.random.randint(0, 10, (2, 2)),\n",
    "    'd': np.random.randint(0, 10, (2, 2)),\n",
    "    'a': np.random.randint(0, 10, (2, 2))\n",
    "}\n",
    "\n",
    "orjson.dumps(demo_json5,\n",
    "             option=orjson.OPT_SERIALIZE_NUMPY | orjson.OPT_SORT_KEYS)"
   ]
  },
  {
   "cell_type": "markdown",
   "id": "3c0a107a-452f-475d-bd06-66a8a6086dd4",
   "metadata": {},
   "source": [
    "## 2.4 针对dataclass、datetime、subclass添加自定义处理策略"
   ]
  },
  {
   "cell_type": "code",
   "execution_count": 22,
   "id": "c3f48888-a2e1-4332-9dab-7347cd0f0105",
   "metadata": {
    "execution": {
     "iopub.execute_input": "2022-06-05T11:28:58.197935Z",
     "iopub.status.busy": "2022-06-05T11:28:58.197935Z",
     "iopub.status.idle": "2022-06-05T11:28:58.211896Z",
     "shell.execute_reply": "2022-06-05T11:28:58.210900Z",
     "shell.execute_reply.started": "2022-06-05T11:28:58.197935Z"
    },
    "tags": []
   },
   "outputs": [
    {
     "data": {
      "text/plain": [
       "b'{\"user1\":{\"id\":\"d57326d0-e8f5-490f-9271-74b617e25a3e\",\"phone_number\":\"139xxxx6666\"}}'"
      ]
     },
     "execution_count": 22,
     "metadata": {},
     "output_type": "execute_result"
    }
   ],
   "source": [
    "from dataclasses import dataclass\n",
    "\n",
    "@dataclass\n",
    "class User:\n",
    "    id: str\n",
    "    phone_number: int\n",
    "    \n",
    "def default(obj):\n",
    "    \n",
    "    if isinstance(obj, User):\n",
    "        phone_number_str = str(obj.phone_number)\n",
    "        return {\n",
    "            'id': obj.id,\n",
    "            'phone_number': f'{phone_number_str[:3]}xxxx{phone_number_str[-4:]}'\n",
    "        }\n",
    "    \n",
    "    raise TypeError\n",
    "    \n",
    "demo_json6 = {\n",
    "    'user1': User(id=str(uuid.uuid4()), phone_number=13966666666)\n",
    "}\n",
    "    \n",
    "orjson.dumps(demo_json6,\n",
    "             option=orjson.OPT_PASSTHROUGH_DATACLASS,\n",
    "             default=default)"
   ]
  },
  {
   "cell_type": "code",
   "execution_count": 23,
   "id": "9f5f7795-6b6f-4ce6-8e60-d2468f86d546",
   "metadata": {
    "execution": {
     "iopub.execute_input": "2022-06-05T11:28:58.212895Z",
     "iopub.status.busy": "2022-06-05T11:28:58.212895Z",
     "iopub.status.idle": "2022-06-05T11:28:58.227855Z",
     "shell.execute_reply": "2022-06-05T11:28:58.226857Z",
     "shell.execute_reply.started": "2022-06-05T11:28:58.212895Z"
    },
    "tags": []
   },
   "outputs": [
    {
     "data": {
      "text/plain": [
       "'{\"now\":\"2022年06月05日\"}'"
      ]
     },
     "execution_count": 23,
     "metadata": {},
     "output_type": "execute_result"
    }
   ],
   "source": [
    "def default(obj):\n",
    "    \n",
    "    if isinstance(obj, datetime):\n",
    "        return obj.strftime('%Y年%m月%d日')\n",
    "    \n",
    "    raise TypeError\n",
    "\n",
    "demo_json7 = {\n",
    "    'now': datetime.now()\n",
    "}\n",
    "\n",
    "orjson.dumps(demo_json7,\n",
    "             option=orjson.OPT_PASSTHROUGH_DATETIME,\n",
    "             default=default).decode()"
   ]
  }
 ],
 "metadata": {
  "kernelspec": {
   "display_name": "Python 3 (ipykernel)",
   "language": "python",
   "name": "python3"
  },
  "language_info": {
   "codemirror_mode": {
    "name": "ipython",
    "version": 3
   },
   "file_extension": ".py",
   "mimetype": "text/x-python",
   "name": "python",
   "nbconvert_exporter": "python",
   "pygments_lexer": "ipython3",
   "version": "3.8.12"
  }
 },
 "nbformat": 4,
 "nbformat_minor": 5
}
