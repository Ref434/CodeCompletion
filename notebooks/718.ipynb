{
 "cells": [
  {
   "cell_type": "code",
   "execution_count": 1,
   "id": "integrated-texas",
   "metadata": {
    "execution": {
     "iopub.execute_input": "2021-02-13T12:15:30.523923Z",
     "iopub.status.busy": "2021-02-13T12:15:30.523923Z",
     "iopub.status.idle": "2021-02-13T12:15:30.528883Z",
     "shell.execute_reply": "2021-02-13T12:15:30.527887Z",
     "shell.execute_reply.started": "2021-02-13T12:15:30.523923Z"
    }
   },
   "outputs": [],
   "source": [
    "import warnings\n",
    "\n",
    "# 阻止FutureWarning输出\n",
    "warnings.simplefilter(action='ignore', category=FutureWarning)"
   ]
  },
  {
   "cell_type": "markdown",
   "id": "actual-smile",
   "metadata": {},
   "source": [
    "# 2 利用funct.Array实现链式计算"
   ]
  },
  {
   "cell_type": "markdown",
   "id": "british-jordan",
   "metadata": {},
   "source": [
    "## 2.1 funct.Array的创建"
   ]
  },
  {
   "cell_type": "code",
   "execution_count": 2,
   "id": "renewable-ethiopia",
   "metadata": {
    "execution": {
     "iopub.execute_input": "2021-02-13T12:15:30.529881Z",
     "iopub.status.busy": "2021-02-13T12:15:30.529881Z",
     "iopub.status.idle": "2021-02-13T12:15:30.536862Z",
     "shell.execute_reply": "2021-02-13T12:15:30.536862Z",
     "shell.execute_reply.started": "2021-02-13T12:15:30.529881Z"
    }
   },
   "outputs": [],
   "source": [
    "from funct import Array"
   ]
  },
  {
   "cell_type": "markdown",
   "id": "living-conservative",
   "metadata": {},
   "source": [
    "- **从其他数据结构创建**"
   ]
  },
  {
   "cell_type": "code",
   "execution_count": 3,
   "id": "voluntary-cincinnati",
   "metadata": {
    "execution": {
     "iopub.execute_input": "2021-02-13T12:15:30.537860Z",
     "iopub.status.busy": "2021-02-13T12:15:30.537860Z",
     "iopub.status.idle": "2021-02-13T12:15:30.542846Z",
     "shell.execute_reply": "2021-02-13T12:15:30.542846Z",
     "shell.execute_reply.started": "2021-02-13T12:15:30.537860Z"
    }
   },
   "outputs": [
    {
     "data": {
      "text/plain": [
       "Array(1, 2, 3)"
      ]
     },
     "execution_count": 3,
     "metadata": {},
     "output_type": "execute_result"
    }
   ],
   "source": [
    "# 从多个单元素创建\n",
    "array1 = Array(1, 2, 3)\n",
    "array1"
   ]
  },
  {
   "cell_type": "code",
   "execution_count": 4,
   "id": "pacific-acting",
   "metadata": {
    "execution": {
     "iopub.execute_input": "2021-02-13T12:15:30.543844Z",
     "iopub.status.busy": "2021-02-13T12:15:30.543844Z",
     "iopub.status.idle": "2021-02-13T12:15:30.548830Z",
     "shell.execute_reply": "2021-02-13T12:15:30.548830Z",
     "shell.execute_reply.started": "2021-02-13T12:15:30.543844Z"
    }
   },
   "outputs": [
    {
     "data": {
      "text/plain": [
       "Array(1, 2, 3)"
      ]
     },
     "execution_count": 4,
     "metadata": {},
     "output_type": "execute_result"
    }
   ],
   "source": [
    "# 从列表创建\n",
    "array2 = Array([1, 2, 3])\n",
    "array2"
   ]
  },
  {
   "cell_type": "code",
   "execution_count": 5,
   "id": "automatic-woman",
   "metadata": {
    "execution": {
     "iopub.execute_input": "2021-02-13T12:15:30.549829Z",
     "iopub.status.busy": "2021-02-13T12:15:30.549829Z",
     "iopub.status.idle": "2021-02-13T12:15:30.633603Z",
     "shell.execute_reply": "2021-02-13T12:15:30.633603Z",
     "shell.execute_reply.started": "2021-02-13T12:15:30.549829Z"
    }
   },
   "outputs": [
    {
     "data": {
      "text/plain": [
       "Array(1, 2, 3)"
      ]
     },
     "execution_count": 5,
     "metadata": {},
     "output_type": "execute_result"
    }
   ],
   "source": [
    "import numpy as np\n",
    "\n",
    "# 从numpy数组创建\n",
    "array3 = Array(np.array(range(1, 4)))\n",
    "array3"
   ]
  },
  {
   "cell_type": "markdown",
   "id": "executed-scope",
   "metadata": {},
   "source": [
    "- **类似numpy风格的规则创建方法**"
   ]
  },
  {
   "cell_type": "code",
   "execution_count": 6,
   "id": "surprised-tobacco",
   "metadata": {
    "execution": {
     "iopub.execute_input": "2021-02-13T12:15:30.634602Z",
     "iopub.status.busy": "2021-02-13T12:15:30.634602Z",
     "iopub.status.idle": "2021-02-13T12:15:30.638590Z",
     "shell.execute_reply": "2021-02-13T12:15:30.638590Z",
     "shell.execute_reply.started": "2021-02-13T12:15:30.634602Z"
    }
   },
   "outputs": [
    {
     "data": {
      "text/plain": [
       "Array(0, 2, 4, 6, 8)"
      ]
     },
     "execution_count": 6,
     "metadata": {},
     "output_type": "execute_result"
    }
   ],
   "source": [
    "# 创建0到10之间步长为2的序列\n",
    "Array.arange(0, 10, 2)"
   ]
  },
  {
   "cell_type": "code",
   "execution_count": 7,
   "id": "optimum-flour",
   "metadata": {
    "execution": {
     "iopub.execute_input": "2021-02-13T12:15:30.639588Z",
     "iopub.status.busy": "2021-02-13T12:15:30.639588Z",
     "iopub.status.idle": "2021-02-13T12:15:30.643577Z",
     "shell.execute_reply": "2021-02-13T12:15:30.643577Z",
     "shell.execute_reply.started": "2021-02-13T12:15:30.639588Z"
    }
   },
   "outputs": [
    {
     "data": {
      "text/plain": [
       "Array(0.0, 1.0, 2.0, 3.0, 4.0, 5.0, 6.0, 7.0, 8.0, 9.0, 10.0)"
      ]
     },
     "execution_count": 7,
     "metadata": {},
     "output_type": "execute_result"
    }
   ],
   "source": [
    "# 在0到10之间等距取11个值生成序列\n",
    "Array.linspace(0, 10, 11)"
   ]
  },
  {
   "cell_type": "markdown",
   "id": "irish-cotton",
   "metadata": {},
   "source": [
    "- **创建嵌套Array**"
   ]
  },
  {
   "cell_type": "code",
   "execution_count": 8,
   "id": "fresh-custody",
   "metadata": {
    "execution": {
     "iopub.execute_input": "2021-02-13T12:15:30.645572Z",
     "iopub.status.busy": "2021-02-13T12:15:30.645572Z",
     "iopub.status.idle": "2021-02-13T12:15:30.649560Z",
     "shell.execute_reply": "2021-02-13T12:15:30.649560Z",
     "shell.execute_reply.started": "2021-02-13T12:15:30.645572Z"
    }
   },
   "outputs": [
    {
     "data": {
      "text/plain": [
       "Array(Array(0, 1), Array(2, 3), Array(4, 5, 6))"
      ]
     },
     "execution_count": 8,
     "metadata": {},
     "output_type": "execute_result"
    }
   ],
   "source": [
    "Array([[0, 1], [2, 3], [4, 5, 6]])"
   ]
  },
  {
   "cell_type": "code",
   "execution_count": 9,
   "id": "bright-membrane",
   "metadata": {
    "execution": {
     "iopub.execute_input": "2021-02-13T12:15:30.650557Z",
     "iopub.status.busy": "2021-02-13T12:15:30.650557Z",
     "iopub.status.idle": "2021-02-13T12:15:30.655545Z",
     "shell.execute_reply": "2021-02-13T12:15:30.655545Z",
     "shell.execute_reply.started": "2021-02-13T12:15:30.650557Z"
    }
   },
   "outputs": [
    {
     "data": {
      "text/plain": [
       "Array(Array(1, 2, 3), Array(4, 5))"
      ]
     },
     "execution_count": 9,
     "metadata": {},
     "output_type": "execute_result"
    }
   ],
   "source": [
    "Array([1, 2, 3], [4, 5])"
   ]
  },
  {
   "cell_type": "code",
   "execution_count": 10,
   "id": "adopted-passing",
   "metadata": {
    "execution": {
     "iopub.execute_input": "2021-02-13T12:15:30.656541Z",
     "iopub.status.busy": "2021-02-13T12:15:30.656541Z",
     "iopub.status.idle": "2021-02-13T12:15:30.660531Z",
     "shell.execute_reply": "2021-02-13T12:15:30.660531Z",
     "shell.execute_reply.started": "2021-02-13T12:15:30.656541Z"
    }
   },
   "outputs": [
    {
     "data": {
      "text/plain": [
       "Array(Array(0, 1, 2), Array(0, 1, 2))"
      ]
     },
     "execution_count": 10,
     "metadata": {},
     "output_type": "execute_result"
    }
   ],
   "source": [
    "Array(range(3), range(3))"
   ]
  },
  {
   "cell_type": "code",
   "execution_count": 11,
   "id": "congressional-butler",
   "metadata": {
    "execution": {
     "iopub.execute_input": "2021-02-13T12:15:30.661528Z",
     "iopub.status.busy": "2021-02-13T12:15:30.661528Z",
     "iopub.status.idle": "2021-02-13T12:15:30.665518Z",
     "shell.execute_reply": "2021-02-13T12:15:30.665518Z",
     "shell.execute_reply.started": "2021-02-13T12:15:30.661528Z"
    }
   },
   "outputs": [
    {
     "data": {
      "text/plain": [
       "Array(array([0, 1, 2]), array([0, 1, 2]))"
      ]
     },
     "execution_count": 11,
     "metadata": {},
     "output_type": "execute_result"
    }
   ],
   "source": [
    "Array(np.array(range(3)), np.array(range(3)))"
   ]
  },
  {
   "cell_type": "code",
   "execution_count": 12,
   "id": "every-denmark",
   "metadata": {
    "execution": {
     "iopub.execute_input": "2021-02-13T12:15:30.666514Z",
     "iopub.status.busy": "2021-02-13T12:15:30.666514Z",
     "iopub.status.idle": "2021-02-13T12:15:30.671502Z",
     "shell.execute_reply": "2021-02-13T12:15:30.671502Z",
     "shell.execute_reply.started": "2021-02-13T12:15:30.666514Z"
    }
   },
   "outputs": [
    {
     "data": {
      "text/plain": [
       "Array(Array(0, 1, 2), Array(0, 1, 2))"
      ]
     },
     "execution_count": 12,
     "metadata": {},
     "output_type": "execute_result"
    }
   ],
   "source": [
    "Array(np.array(range(3)), np.array(range(3))).toArray()"
   ]
  },
  {
   "cell_type": "markdown",
   "id": "excessive-plant",
   "metadata": {},
   "source": [
    "## 2.2 funct.Array的索引"
   ]
  },
  {
   "cell_type": "markdown",
   "id": "prostate-regard",
   "metadata": {},
   "source": [
    "- **列表式索引**"
   ]
  },
  {
   "cell_type": "code",
   "execution_count": 13,
   "id": "precise-technique",
   "metadata": {
    "execution": {
     "iopub.execute_input": "2021-02-13T12:15:30.672498Z",
     "iopub.status.busy": "2021-02-13T12:15:30.672498Z",
     "iopub.status.idle": "2021-02-13T12:15:30.676489Z",
     "shell.execute_reply": "2021-02-13T12:15:30.676489Z",
     "shell.execute_reply.started": "2021-02-13T12:15:30.672498Z"
    }
   },
   "outputs": [
    {
     "data": {
      "text/plain": [
       "0"
      ]
     },
     "execution_count": 13,
     "metadata": {},
     "output_type": "execute_result"
    }
   ],
   "source": [
    "array1 = Array(range(10))\n",
    "\n",
    "array1[0]"
   ]
  },
  {
   "cell_type": "code",
   "execution_count": 14,
   "id": "oriental-military",
   "metadata": {
    "execution": {
     "iopub.execute_input": "2021-02-13T12:15:30.677485Z",
     "iopub.status.busy": "2021-02-13T12:15:30.677485Z",
     "iopub.status.idle": "2021-02-13T12:15:30.681475Z",
     "shell.execute_reply": "2021-02-13T12:15:30.681475Z",
     "shell.execute_reply.started": "2021-02-13T12:15:30.677485Z"
    }
   },
   "outputs": [
    {
     "data": {
      "text/plain": [
       "9"
      ]
     },
     "execution_count": 14,
     "metadata": {},
     "output_type": "execute_result"
    }
   ],
   "source": [
    "array1[-1]"
   ]
  },
  {
   "cell_type": "code",
   "execution_count": 15,
   "id": "brazilian-trick",
   "metadata": {
    "execution": {
     "iopub.execute_input": "2021-02-13T12:15:30.682473Z",
     "iopub.status.busy": "2021-02-13T12:15:30.682473Z",
     "iopub.status.idle": "2021-02-13T12:15:30.686462Z",
     "shell.execute_reply": "2021-02-13T12:15:30.686462Z",
     "shell.execute_reply.started": "2021-02-13T12:15:30.682473Z"
    }
   },
   "outputs": [
    {
     "data": {
      "text/plain": [
       "Array(2, 3, 4, 5, 6, 7)"
      ]
     },
     "execution_count": 15,
     "metadata": {},
     "output_type": "execute_result"
    }
   ],
   "source": [
    "array1[2:8]"
   ]
  },
  {
   "cell_type": "code",
   "execution_count": 16,
   "id": "based-inspector",
   "metadata": {
    "execution": {
     "iopub.execute_input": "2021-02-13T12:15:30.687458Z",
     "iopub.status.busy": "2021-02-13T12:15:30.687458Z",
     "iopub.status.idle": "2021-02-13T12:15:30.692446Z",
     "shell.execute_reply": "2021-02-13T12:15:30.692446Z",
     "shell.execute_reply.started": "2021-02-13T12:15:30.687458Z"
    }
   },
   "outputs": [
    {
     "data": {
      "text/plain": [
       "Array(2, 4, 6)"
      ]
     },
     "execution_count": 16,
     "metadata": {},
     "output_type": "execute_result"
    }
   ],
   "source": [
    "array1[2:8:2]"
   ]
  },
  {
   "cell_type": "markdown",
   "id": "similar-penguin",
   "metadata": {},
   "source": [
    "- **数组式索引**"
   ]
  },
  {
   "cell_type": "code",
   "execution_count": 17,
   "id": "affected-accommodation",
   "metadata": {
    "execution": {
     "iopub.execute_input": "2021-02-13T12:15:30.693442Z",
     "iopub.status.busy": "2021-02-13T12:15:30.693442Z",
     "iopub.status.idle": "2021-02-13T12:15:30.698430Z",
     "shell.execute_reply": "2021-02-13T12:15:30.698430Z",
     "shell.execute_reply.started": "2021-02-13T12:15:30.693442Z"
    }
   },
   "outputs": [
    {
     "data": {
      "text/plain": [
       "Array(2, 3, 5, 7)"
      ]
     },
     "execution_count": 17,
     "metadata": {},
     "output_type": "execute_result"
    }
   ],
   "source": [
    "array1[[2, 3, 5, 7]]"
   ]
  },
  {
   "cell_type": "markdown",
   "id": "understood-watershed",
   "metadata": {},
   "source": [
    "- **Bool值索引**"
   ]
  },
  {
   "cell_type": "code",
   "execution_count": 18,
   "id": "framed-consensus",
   "metadata": {
    "execution": {
     "iopub.execute_input": "2021-02-13T12:15:30.699428Z",
     "iopub.status.busy": "2021-02-13T12:15:30.699428Z",
     "iopub.status.idle": "2021-02-13T12:15:30.703417Z",
     "shell.execute_reply": "2021-02-13T12:15:30.703417Z",
     "shell.execute_reply.started": "2021-02-13T12:15:30.699428Z"
    }
   },
   "outputs": [
    {
     "data": {
      "text/plain": [
       "Array(False, False, False, False, False, True, True, True, True, True)"
      ]
     },
     "execution_count": 18,
     "metadata": {},
     "output_type": "execute_result"
    }
   ],
   "source": [
    "array1 >= 5"
   ]
  },
  {
   "cell_type": "code",
   "execution_count": 19,
   "id": "buried-harmony",
   "metadata": {
    "execution": {
     "iopub.execute_input": "2021-02-13T12:15:30.704415Z",
     "iopub.status.busy": "2021-02-13T12:15:30.704415Z",
     "iopub.status.idle": "2021-02-13T12:15:30.710398Z",
     "shell.execute_reply": "2021-02-13T12:15:30.709402Z",
     "shell.execute_reply.started": "2021-02-13T12:15:30.704415Z"
    }
   },
   "outputs": [
    {
     "data": {
      "text/plain": [
       "Array(5, 6, 7, 8, 9)"
      ]
     },
     "execution_count": 19,
     "metadata": {},
     "output_type": "execute_result"
    }
   ],
   "source": [
    "array1[array1 >= 5]"
   ]
  },
  {
   "cell_type": "markdown",
   "id": "pregnant-leeds",
   "metadata": {},
   "source": [
    "- **多层索引**"
   ]
  },
  {
   "cell_type": "code",
   "execution_count": 20,
   "id": "involved-legislature",
   "metadata": {
    "execution": {
     "iopub.execute_input": "2021-02-13T12:15:30.711395Z",
     "iopub.status.busy": "2021-02-13T12:15:30.711395Z",
     "iopub.status.idle": "2021-02-13T12:15:30.717380Z",
     "shell.execute_reply": "2021-02-13T12:15:30.717380Z",
     "shell.execute_reply.started": "2021-02-13T12:15:30.711395Z"
    }
   },
   "outputs": [
    {
     "data": {
      "text/plain": [
       "Array(Array(0, 1, 2), Array(3, 4, 5), Array(Array(6, 7, 8), Array(9, 10, 11)))"
      ]
     },
     "execution_count": 20,
     "metadata": {},
     "output_type": "execute_result"
    }
   ],
   "source": [
    "array2 = Array(range(3), range(3, 6), [range(6, 9), range(9, 12)])\n",
    "array2"
   ]
  },
  {
   "cell_type": "code",
   "execution_count": 21,
   "id": "unique-publication",
   "metadata": {
    "execution": {
     "iopub.execute_input": "2021-02-13T12:15:30.719374Z",
     "iopub.status.busy": "2021-02-13T12:15:30.718378Z",
     "iopub.status.idle": "2021-02-13T12:15:30.723365Z",
     "shell.execute_reply": "2021-02-13T12:15:30.723365Z",
     "shell.execute_reply.started": "2021-02-13T12:15:30.718378Z"
    }
   },
   "outputs": [
    {
     "data": {
      "text/plain": [
       "Array(0, 3, Array(6, 7, 8))"
      ]
     },
     "execution_count": 21,
     "metadata": {},
     "output_type": "execute_result"
    }
   ],
   "source": [
    "array2[:, 0]"
   ]
  },
  {
   "cell_type": "code",
   "execution_count": 22,
   "id": "weekly-particular",
   "metadata": {
    "execution": {
     "iopub.execute_input": "2021-02-13T12:15:30.724362Z",
     "iopub.status.busy": "2021-02-13T12:15:30.724362Z",
     "iopub.status.idle": "2021-02-13T12:15:30.729346Z",
     "shell.execute_reply": "2021-02-13T12:15:30.729346Z",
     "shell.execute_reply.started": "2021-02-13T12:15:30.724362Z"
    }
   },
   "outputs": [
    {
     "data": {
      "text/plain": [
       "Array(2, 5)"
      ]
     },
     "execution_count": 22,
     "metadata": {},
     "output_type": "execute_result"
    }
   ],
   "source": [
    "array2[:-1, 2]"
   ]
  },
  {
   "cell_type": "code",
   "execution_count": 23,
   "id": "functional-arkansas",
   "metadata": {
    "execution": {
     "iopub.execute_input": "2021-02-13T12:15:30.731341Z",
     "iopub.status.busy": "2021-02-13T12:15:30.731341Z",
     "iopub.status.idle": "2021-02-13T12:15:30.786196Z",
     "shell.execute_reply": "2021-02-13T12:15:30.785234Z",
     "shell.execute_reply.started": "2021-02-13T12:15:30.731341Z"
    }
   },
   "outputs": [
    {
     "ename": "IndexError",
     "evalue": "list index out of range",
     "output_type": "error",
     "traceback": [
      "\u001b[1;31m---------------------------------------------------------------------------\u001b[0m",
      "\u001b[1;31mIndexError\u001b[0m                                Traceback (most recent call last)",
      "\u001b[1;32m<ipython-input-23-f25dcde53e9b>\u001b[0m in \u001b[0;36m<module>\u001b[1;34m\u001b[0m\n\u001b[0;32m      1\u001b[0m \u001b[1;31m# 因为Array支持不规则嵌套，所以索引不到的时候会报错\u001b[0m\u001b[1;33m\u001b[0m\u001b[1;33m\u001b[0m\u001b[1;33m\u001b[0m\u001b[0m\n\u001b[1;32m----> 2\u001b[1;33m \u001b[0marray2\u001b[0m\u001b[1;33m[\u001b[0m\u001b[1;33m:\u001b[0m\u001b[1;33m,\u001b[0m \u001b[1;36m3\u001b[0m\u001b[1;33m]\u001b[0m\u001b[1;33m\u001b[0m\u001b[1;33m\u001b[0m\u001b[0m\n\u001b[0m",
      "\u001b[1;32mc:\\conda\\envs\\geo-spatial\\lib\\site-packages\\funct\\Array.py\u001b[0m in \u001b[0;36m__getitem__\u001b[1;34m(self, key)\u001b[0m\n\u001b[0;32m   1245\u001b[0m                     \u001b[1;32mreturn\u001b[0m \u001b[0mself\u001b[0m\u001b[1;33m[\u001b[0m\u001b[0mkey\u001b[0m\u001b[1;33m[\u001b[0m\u001b[1;36m0\u001b[0m\u001b[1;33m]\u001b[0m\u001b[1;33m]\u001b[0m\u001b[1;33m[\u001b[0m\u001b[0mkey\u001b[0m\u001b[1;33m[\u001b[0m\u001b[1;36m1\u001b[0m\u001b[1;33m:\u001b[0m\u001b[1;33m]\u001b[0m\u001b[1;33m]\u001b[0m\u001b[1;33m\u001b[0m\u001b[1;33m\u001b[0m\u001b[0m\n\u001b[0;32m   1246\u001b[0m                 \u001b[1;32mtry\u001b[0m\u001b[1;33m:\u001b[0m\u001b[1;33m\u001b[0m\u001b[1;33m\u001b[0m\u001b[0m\n\u001b[1;32m-> 1247\u001b[1;33m                     \u001b[1;32mreturn\u001b[0m \u001b[0mArray\u001b[0m\u001b[1;33m(\u001b[0m\u001b[0me\u001b[0m\u001b[1;33m[\u001b[0m\u001b[0mkey\u001b[0m\u001b[1;33m[\u001b[0m\u001b[1;36m1\u001b[0m\u001b[1;33m:\u001b[0m\u001b[1;33m]\u001b[0m\u001b[1;33m]\u001b[0m \u001b[1;32mfor\u001b[0m \u001b[0me\u001b[0m \u001b[1;32min\u001b[0m \u001b[0msuper\u001b[0m\u001b[1;33m(\u001b[0m\u001b[1;33m)\u001b[0m\u001b[1;33m.\u001b[0m\u001b[0m__getitem__\u001b[0m\u001b[1;33m(\u001b[0m\u001b[0mkey\u001b[0m\u001b[1;33m[\u001b[0m\u001b[1;36m0\u001b[0m\u001b[1;33m]\u001b[0m\u001b[1;33m)\u001b[0m\u001b[1;33m)\u001b[0m\u001b[1;33m\u001b[0m\u001b[1;33m\u001b[0m\u001b[0m\n\u001b[0m\u001b[0;32m   1248\u001b[0m                 \u001b[1;32mexcept\u001b[0m \u001b[0mTypeError\u001b[0m\u001b[1;33m:\u001b[0m\u001b[1;33m\u001b[0m\u001b[1;33m\u001b[0m\u001b[0m\n\u001b[0;32m   1249\u001b[0m                     \u001b[1;32mraise\u001b[0m \u001b[0mIndexError\u001b[0m\u001b[1;33m(\u001b[0m\u001b[1;34m\"Too many indices for the Array\"\u001b[0m\u001b[1;33m)\u001b[0m \u001b[1;32mfrom\u001b[0m \u001b[1;32mNone\u001b[0m\u001b[1;33m\u001b[0m\u001b[1;33m\u001b[0m\u001b[0m\n",
      "\u001b[1;32mc:\\conda\\envs\\geo-spatial\\lib\\site-packages\\funct\\Array.py\u001b[0m in \u001b[0;36m__init__\u001b[1;34m(self, *args)\u001b[0m\n\u001b[0;32m     40\u001b[0m         \"\"\"\n\u001b[0;32m     41\u001b[0m         \u001b[1;32mif\u001b[0m \u001b[0mlen\u001b[0m\u001b[1;33m(\u001b[0m\u001b[0margs\u001b[0m\u001b[1;33m)\u001b[0m \u001b[1;33m==\u001b[0m \u001b[1;36m1\u001b[0m \u001b[1;32mand\u001b[0m \u001b[0misinstance\u001b[0m\u001b[1;33m(\u001b[0m\u001b[0margs\u001b[0m\u001b[1;33m[\u001b[0m\u001b[1;36m0\u001b[0m\u001b[1;33m]\u001b[0m\u001b[1;33m,\u001b[0m \u001b[0mIterable\u001b[0m\u001b[1;33m)\u001b[0m\u001b[1;33m:\u001b[0m\u001b[1;33m\u001b[0m\u001b[1;33m\u001b[0m\u001b[0m\n\u001b[1;32m---> 42\u001b[1;33m             \u001b[0margs\u001b[0m \u001b[1;33m=\u001b[0m \u001b[0mlist\u001b[0m\u001b[1;33m(\u001b[0m\u001b[0margs\u001b[0m\u001b[1;33m[\u001b[0m\u001b[1;36m0\u001b[0m\u001b[1;33m]\u001b[0m\u001b[1;33m)\u001b[0m\u001b[1;33m\u001b[0m\u001b[1;33m\u001b[0m\u001b[0m\n\u001b[0m\u001b[0;32m     43\u001b[0m \u001b[1;33m\u001b[0m\u001b[0m\n\u001b[0;32m     44\u001b[0m         \u001b[1;32mif\u001b[0m \u001b[0many\u001b[0m\u001b[1;33m(\u001b[0m\u001b[0mmap\u001b[0m\u001b[1;33m(\u001b[0m\u001b[1;32mlambda\u001b[0m \u001b[0me\u001b[0m\u001b[1;33m:\u001b[0m \u001b[0misinstance\u001b[0m\u001b[1;33m(\u001b[0m\u001b[0me\u001b[0m\u001b[1;33m,\u001b[0m \u001b[0mArray\u001b[0m\u001b[1;33m.\u001b[0m\u001b[0m__baseIterables\u001b[0m\u001b[1;33m)\u001b[0m\u001b[1;33m,\u001b[0m \u001b[0margs\u001b[0m\u001b[1;33m)\u001b[0m\u001b[1;33m)\u001b[0m\u001b[1;33m:\u001b[0m\u001b[1;33m\u001b[0m\u001b[1;33m\u001b[0m\u001b[0m\n",
      "\u001b[1;32mc:\\conda\\envs\\geo-spatial\\lib\\site-packages\\funct\\Array.py\u001b[0m in \u001b[0;36m<genexpr>\u001b[1;34m(.0)\u001b[0m\n\u001b[0;32m   1245\u001b[0m                     \u001b[1;32mreturn\u001b[0m \u001b[0mself\u001b[0m\u001b[1;33m[\u001b[0m\u001b[0mkey\u001b[0m\u001b[1;33m[\u001b[0m\u001b[1;36m0\u001b[0m\u001b[1;33m]\u001b[0m\u001b[1;33m]\u001b[0m\u001b[1;33m[\u001b[0m\u001b[0mkey\u001b[0m\u001b[1;33m[\u001b[0m\u001b[1;36m1\u001b[0m\u001b[1;33m:\u001b[0m\u001b[1;33m]\u001b[0m\u001b[1;33m]\u001b[0m\u001b[1;33m\u001b[0m\u001b[1;33m\u001b[0m\u001b[0m\n\u001b[0;32m   1246\u001b[0m                 \u001b[1;32mtry\u001b[0m\u001b[1;33m:\u001b[0m\u001b[1;33m\u001b[0m\u001b[1;33m\u001b[0m\u001b[0m\n\u001b[1;32m-> 1247\u001b[1;33m                     \u001b[1;32mreturn\u001b[0m \u001b[0mArray\u001b[0m\u001b[1;33m(\u001b[0m\u001b[0me\u001b[0m\u001b[1;33m[\u001b[0m\u001b[0mkey\u001b[0m\u001b[1;33m[\u001b[0m\u001b[1;36m1\u001b[0m\u001b[1;33m:\u001b[0m\u001b[1;33m]\u001b[0m\u001b[1;33m]\u001b[0m \u001b[1;32mfor\u001b[0m \u001b[0me\u001b[0m \u001b[1;32min\u001b[0m \u001b[0msuper\u001b[0m\u001b[1;33m(\u001b[0m\u001b[1;33m)\u001b[0m\u001b[1;33m.\u001b[0m\u001b[0m__getitem__\u001b[0m\u001b[1;33m(\u001b[0m\u001b[0mkey\u001b[0m\u001b[1;33m[\u001b[0m\u001b[1;36m0\u001b[0m\u001b[1;33m]\u001b[0m\u001b[1;33m)\u001b[0m\u001b[1;33m)\u001b[0m\u001b[1;33m\u001b[0m\u001b[1;33m\u001b[0m\u001b[0m\n\u001b[0m\u001b[0;32m   1248\u001b[0m                 \u001b[1;32mexcept\u001b[0m \u001b[0mTypeError\u001b[0m\u001b[1;33m:\u001b[0m\u001b[1;33m\u001b[0m\u001b[1;33m\u001b[0m\u001b[0m\n\u001b[0;32m   1249\u001b[0m                     \u001b[1;32mraise\u001b[0m \u001b[0mIndexError\u001b[0m\u001b[1;33m(\u001b[0m\u001b[1;34m\"Too many indices for the Array\"\u001b[0m\u001b[1;33m)\u001b[0m \u001b[1;32mfrom\u001b[0m \u001b[1;32mNone\u001b[0m\u001b[1;33m\u001b[0m\u001b[1;33m\u001b[0m\u001b[0m\n",
      "\u001b[1;32mc:\\conda\\envs\\geo-spatial\\lib\\site-packages\\funct\\Array.py\u001b[0m in \u001b[0;36m__getitem__\u001b[1;34m(self, key)\u001b[0m\n\u001b[0;32m   1249\u001b[0m                     \u001b[1;32mraise\u001b[0m \u001b[0mIndexError\u001b[0m\u001b[1;33m(\u001b[0m\u001b[1;34m\"Too many indices for the Array\"\u001b[0m\u001b[1;33m)\u001b[0m \u001b[1;32mfrom\u001b[0m \u001b[1;32mNone\u001b[0m\u001b[1;33m\u001b[0m\u001b[1;33m\u001b[0m\u001b[0m\n\u001b[0;32m   1250\u001b[0m         \u001b[1;32mif\u001b[0m \u001b[0misinstance\u001b[0m\u001b[1;33m(\u001b[0m\u001b[0mkey\u001b[0m\u001b[1;33m,\u001b[0m \u001b[0mint\u001b[0m\u001b[1;33m)\u001b[0m\u001b[1;33m:\u001b[0m\u001b[1;33m\u001b[0m\u001b[1;33m\u001b[0m\u001b[0m\n\u001b[1;32m-> 1251\u001b[1;33m             \u001b[1;32mreturn\u001b[0m \u001b[0msuper\u001b[0m\u001b[1;33m(\u001b[0m\u001b[1;33m)\u001b[0m\u001b[1;33m.\u001b[0m\u001b[0m__getitem__\u001b[0m\u001b[1;33m(\u001b[0m\u001b[0mkey\u001b[0m\u001b[1;33m)\u001b[0m\u001b[1;33m\u001b[0m\u001b[1;33m\u001b[0m\u001b[0m\n\u001b[0m\u001b[0;32m   1252\u001b[0m         \u001b[1;32mif\u001b[0m \u001b[0misinstance\u001b[0m\u001b[1;33m(\u001b[0m\u001b[0mkey\u001b[0m\u001b[1;33m,\u001b[0m \u001b[0mslice\u001b[0m\u001b[1;33m)\u001b[0m\u001b[1;33m:\u001b[0m\u001b[1;33m\u001b[0m\u001b[1;33m\u001b[0m\u001b[0m\n\u001b[0;32m   1253\u001b[0m             \u001b[1;32mreturn\u001b[0m \u001b[0mArray\u001b[0m\u001b[1;33m(\u001b[0m\u001b[0msuper\u001b[0m\u001b[1;33m(\u001b[0m\u001b[1;33m)\u001b[0m\u001b[1;33m.\u001b[0m\u001b[0m__getitem__\u001b[0m\u001b[1;33m(\u001b[0m\u001b[0mkey\u001b[0m\u001b[1;33m)\u001b[0m\u001b[1;33m)\u001b[0m\u001b[1;33m\u001b[0m\u001b[1;33m\u001b[0m\u001b[0m\n",
      "\u001b[1;31mIndexError\u001b[0m: list index out of range"
     ]
    }
   ],
   "source": [
    "# 因为Array支持不规则嵌套，所以索引不到的时候会报错\n",
    "array2[:, 3]"
   ]
  },
  {
   "cell_type": "markdown",
   "id": "effective-syndication",
   "metadata": {},
   "source": [
    "## 2.3 funct.Array的链式骚操作"
   ]
  },
  {
   "cell_type": "markdown",
   "id": "integrated-wayne",
   "metadata": {},
   "source": [
    "- **level1：常规的数值运算**"
   ]
  },
  {
   "cell_type": "code",
   "execution_count": 24,
   "id": "juvenile-focus",
   "metadata": {
    "execution": {
     "iopub.execute_input": "2021-02-13T12:15:35.610227Z",
     "iopub.status.busy": "2021-02-13T12:15:35.609229Z",
     "iopub.status.idle": "2021-02-13T12:15:35.615213Z",
     "shell.execute_reply": "2021-02-13T12:15:35.615213Z",
     "shell.execute_reply.started": "2021-02-13T12:15:35.610227Z"
    }
   },
   "outputs": [
    {
     "data": {
      "text/plain": [
       "12.5"
      ]
     },
     "execution_count": 24,
     "metadata": {},
     "output_type": "execute_result"
    }
   ],
   "source": [
    "array1 = Array(range(10))\n",
    "\n",
    "(\n",
    "    array1\n",
    "    # 给每个位置加上2\n",
    "    .add(2)\n",
    "    # 给每个位置分别乘以不同的值\n",
    "    .mul(range(10))\n",
    "    # 每个位置除以3\n",
    "    .div(3)\n",
    "    # 求均值\n",
    "    .mean()\n",
    ")"
   ]
  },
  {
   "cell_type": "markdown",
   "id": "federal-responsibility",
   "metadata": {},
   "source": [
    "- **level2：配合map方法推广元素级别运算**"
   ]
  },
  {
   "cell_type": "code",
   "execution_count": 25,
   "id": "growing-there",
   "metadata": {
    "execution": {
     "iopub.execute_input": "2021-02-13T12:15:35.898879Z",
     "iopub.status.busy": "2021-02-13T12:15:35.898879Z",
     "iopub.status.idle": "2021-02-13T12:15:35.904861Z",
     "shell.execute_reply": "2021-02-13T12:15:35.904861Z",
     "shell.execute_reply.started": "2021-02-13T12:15:35.898879Z"
    }
   },
   "outputs": [
    {
     "data": {
      "text/plain": [
       "Array(-1.5667, -1.2185, -0.8704, -0.5222, -0.1741, 0.1741, 0.5222, 0.8704, 1.2185, 1.5667)"
      ]
     },
     "execution_count": 25,
     "metadata": {},
     "output_type": "execute_result"
    }
   ],
   "source": [
    "# 标准化\n",
    "(\n",
    "    array1\n",
    "    # 减去均值\n",
    "    .add(-array1.mean())\n",
    "    # 除以标准差\n",
    "    .div(np.std(array1))\n",
    "    # 保留4位小数\n",
    "    .round(4)\n",
    ")"
   ]
  },
  {
   "cell_type": "code",
   "execution_count": 26,
   "id": "forbidden-construction",
   "metadata": {
    "execution": {
     "iopub.execute_input": "2021-02-13T12:15:36.050638Z",
     "iopub.status.busy": "2021-02-13T12:15:36.050638Z",
     "iopub.status.idle": "2021-02-13T12:15:36.056606Z",
     "shell.execute_reply": "2021-02-13T12:15:36.056606Z",
     "shell.execute_reply.started": "2021-02-13T12:15:36.050638Z"
    }
   },
   "outputs": [
    {
     "data": {
      "text/plain": [
       "Array(0.0, 0.1111, 0.2222, 0.3333, 0.4444, 0.5556, 0.6667, 0.7778, 0.8889, 1.0)"
      ]
     },
     "execution_count": 26,
     "metadata": {},
     "output_type": "execute_result"
    }
   ],
   "source": [
    "# 归一化\n",
    "(\n",
    "    array1\n",
    "    # 减去最小值\n",
    "    .add(-array1.min())\n",
    "    # 除以极差\n",
    "    .div(array1.max() - array1.min())\n",
    "    # 保留4位小数\n",
    "    .round(4)\n",
    ")"
   ]
  },
  {
   "cell_type": "markdown",
   "id": "judicial-residence",
   "metadata": {},
   "source": [
    "- **level2：配合map方法推广元素级别运算**"
   ]
  },
  {
   "cell_type": "code",
   "execution_count": 27,
   "id": "understood-smart",
   "metadata": {
    "execution": {
     "iopub.execute_input": "2021-02-13T12:15:36.860984Z",
     "iopub.status.busy": "2021-02-13T12:15:36.860984Z",
     "iopub.status.idle": "2021-02-13T12:15:36.866969Z",
     "shell.execute_reply": "2021-02-13T12:15:36.866969Z",
     "shell.execute_reply.started": "2021-02-13T12:15:36.860984Z"
    }
   },
   "outputs": [
    {
     "data": {
      "text/plain": [
       "Array(-1, -1, -1, -1, -1, 1, 1, 1, 1, 1)"
      ]
     },
     "execution_count": 27,
     "metadata": {},
     "output_type": "execute_result"
    }
   ],
   "source": [
    "(\n",
    "    array1\n",
    "    # 减去最小值\n",
    "    .add(-array1.min())\n",
    "    # 除以极差\n",
    "    .div(array1.max() - array1.min())\n",
    "    # 保留4位小数\n",
    "    .round(4)\n",
    "    # 对归一化结果分箱\n",
    "    .map(lambda x: -1 if x <= 0.5 else 1)\n",
    ")"
   ]
  },
  {
   "cell_type": "markdown",
   "id": "mechanical-collect",
   "metadata": {},
   "source": [
    "- **level3：配合zip方法引入其他Array参与运算**"
   ]
  },
  {
   "cell_type": "code",
   "execution_count": 28,
   "id": "nonprofit-penetration",
   "metadata": {
    "execution": {
     "iopub.execute_input": "2021-02-13T12:15:37.542683Z",
     "iopub.status.busy": "2021-02-13T12:15:37.542683Z",
     "iopub.status.idle": "2021-02-13T12:15:37.551659Z",
     "shell.execute_reply": "2021-02-13T12:15:37.550662Z",
     "shell.execute_reply.started": "2021-02-13T12:15:37.542683Z"
    }
   },
   "outputs": [
    {
     "data": {
      "text/plain": [
       "Array(0.8511926766400677, 0.8271204035837049, 0.8095105055504694, 0.9914082852095631, 0.912115952796735)"
      ]
     },
     "execution_count": 28,
     "metadata": {},
     "output_type": "execute_result"
    }
   ],
   "source": [
    "array1 = Array(np.random.rand(5))\n",
    "array2 = Array(np.random.rand(5))\n",
    "array3 = Array(np.random.rand(5))\n",
    "\n",
    "(\n",
    "    array1\n",
    "    # 将array2与array3加入运算\n",
    "    .zip(array2, array3)\n",
    "    # 计算每个Array相同位置最大值\n",
    "    .map(max)\n",
    ")"
   ]
  },
  {
   "cell_type": "markdown",
   "id": "acceptable-child",
   "metadata": {},
   "source": [
    "- **level4：条件分组**"
   ]
  },
  {
   "cell_type": "code",
   "execution_count": 29,
   "id": "royal-institution",
   "metadata": {
    "execution": {
     "iopub.execute_input": "2021-02-13T12:15:38.544207Z",
     "iopub.status.busy": "2021-02-13T12:15:38.544207Z",
     "iopub.status.idle": "2021-02-13T12:15:38.550188Z",
     "shell.execute_reply": "2021-02-13T12:15:38.550188Z",
     "shell.execute_reply.started": "2021-02-13T12:15:38.544207Z"
    }
   },
   "outputs": [
    {
     "data": {
      "text/plain": [
       "Array(36, 31, 33)"
      ]
     },
     "execution_count": 29,
     "metadata": {},
     "output_type": "execute_result"
    }
   ],
   "source": [
    "array1 = Array(np.random.rand(100))\n",
    "\n",
    "(\n",
    "    array1\n",
    "    # 以0.33、0.66作为临界点对数据进行分组\n",
    "    .groupBy(lambda x: \n",
    "             0 if x <= 0.33\n",
    "             else (1 if x <= 0.66 else 2)\n",
    "            )\n",
    "    # 分组计数，这里先取出嵌套分组结果中包含源数据的部分\n",
    "    [:, 1]\n",
    "    .map(len)\n",
    ")"
   ]
  }
 ],
 "metadata": {
  "kernelspec": {
   "display_name": "Python 3",
   "language": "python",
   "name": "python3"
  },
  "language_info": {
   "codemirror_mode": {
    "name": "ipython",
    "version": 3
   },
   "file_extension": ".py",
   "mimetype": "text/x-python",
   "name": "python",
   "nbconvert_exporter": "python",
   "pygments_lexer": "ipython3",
   "version": "3.7.9"
  },
  "widgets": {
   "application/vnd.jupyter.widget-state+json": {
    "state": {},
    "version_major": 2,
    "version_minor": 0
   }
  }
 },
 "nbformat": 4,
 "nbformat_minor": 5
}
