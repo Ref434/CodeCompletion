{
 "cells": [
  {
   "cell_type": "code",
   "execution_count": 5,
   "outputs": [
    {
     "name": "stdout",
     "output_type": "stream",
     "text": [
      "Requirement already satisfied: scikit_learn==1.2.2 in c:\\users\\mosas\\appdata\\local\\programs\\python\\python39\\lib\\site-packages (from -r requirements.txt (line 1)) (1.2.2)\n",
      "Requirement already satisfied: matplotlib==3.5.1 in c:\\users\\mosas\\appdata\\roaming\\python\\python39\\site-packages (from -r requirements.txt (line 2)) (3.5.1)\n",
      "Requirement already satisfied: numpy==1.22 in c:\\users\\mosas\\appdata\\roaming\\python\\python39\\site-packages (from -r requirements.txt (line 3)) (1.22.0)\n",
      "Requirement already satisfied: pandas==1.4.2 in c:\\users\\mosas\\appdata\\roaming\\python\\python39\\site-packages (from -r requirements.txt (line 4)) (1.4.2)\n",
      "Requirement already satisfied: thefuzz~=0.19.0 in c:\\users\\mosas\\appdata\\local\\programs\\python\\python39\\lib\\site-packages (from -r requirements.txt (line 6)) (0.19.0)\n",
      "Requirement already satisfied: ipython~=8.6.0 in c:\\users\\mosas\\appdata\\local\\programs\\python\\python39\\lib\\site-packages (from -r requirements.txt (line 7)) (8.6.0)\n",
      "Requirement already satisfied: requests~=2.28.2 in c:\\users\\mosas\\appdata\\local\\programs\\python\\python39\\lib\\site-packages (from -r requirements.txt (line 8)) (2.28.2)\n",
      "Requirement already satisfied: seaborn~=0.12.2 in c:\\users\\mosas\\appdata\\local\\programs\\python\\python39\\lib\\site-packages (from -r requirements.txt (line 9)) (0.12.2)\n",
      "Requirement already satisfied: tensorflow==2.12.0 in c:\\users\\mosas\\appdata\\local\\programs\\python\\python39\\lib\\site-packages (from -r requirements.txt (line 10)) (2.12.0)\n",
      "Requirement already satisfied: plotly==5.14.1 in c:\\users\\mosas\\appdata\\roaming\\python\\python39\\site-packages (from -r requirements.txt (line 11)) (5.14.1)\n",
      "Requirement already satisfied: python-utils==3.5.2 in c:\\users\\mosas\\appdata\\local\\programs\\python\\python39\\lib\\site-packages (from -r requirements.txt (line 12)) (3.5.2)\n",
      "Requirement already satisfied: pydot==1.4.2 in c:\\users\\mosas\\appdata\\local\\programs\\python\\python39\\lib\\site-packages (from -r requirements.txt (line 13)) (1.4.2)\n",
      "Requirement already satisfied: graphviz==0.20.1 in c:\\users\\mosas\\appdata\\roaming\\python\\python39\\site-packages (from -r requirements.txt (line 14)) (0.20.1)\n",
      "Requirement already satisfied: scipy>=1.3.2 in c:\\users\\mosas\\appdata\\roaming\\python\\python39\\site-packages (from scikit_learn==1.2.2->-r requirements.txt (line 1)) (1.9.3)\n",
      "Requirement already satisfied: joblib>=1.1.1 in c:\\users\\mosas\\appdata\\roaming\\python\\python39\\site-packages (from scikit_learn==1.2.2->-r requirements.txt (line 1)) (1.2.0)\n",
      "Requirement already satisfied: threadpoolctl>=2.0.0 in c:\\users\\mosas\\appdata\\roaming\\python\\python39\\site-packages (from scikit_learn==1.2.2->-r requirements.txt (line 1)) (3.1.0)\n",
      "Requirement already satisfied: pillow>=6.2.0 in c:\\users\\mosas\\appdata\\roaming\\python\\python39\\site-packages (from matplotlib==3.5.1->-r requirements.txt (line 2)) (9.4.0)\n",
      "Requirement already satisfied: pyparsing>=2.2.1 in c:\\users\\mosas\\appdata\\local\\programs\\python\\python39\\lib\\site-packages (from matplotlib==3.5.1->-r requirements.txt (line 2)) (3.0.9)\n",
      "Requirement already satisfied: kiwisolver>=1.0.1 in c:\\users\\mosas\\appdata\\roaming\\python\\python39\\site-packages (from matplotlib==3.5.1->-r requirements.txt (line 2)) (1.4.4)\n",
      "Requirement already satisfied: cycler>=0.10 in c:\\users\\mosas\\appdata\\roaming\\python\\python39\\site-packages (from matplotlib==3.5.1->-r requirements.txt (line 2)) (0.11.0)\n",
      "Requirement already satisfied: packaging>=20.0 in c:\\users\\mosas\\appdata\\local\\programs\\python\\python39\\lib\\site-packages (from matplotlib==3.5.1->-r requirements.txt (line 2)) (21.3)\n",
      "Requirement already satisfied: fonttools>=4.22.0 in c:\\users\\mosas\\appdata\\roaming\\python\\python39\\site-packages (from matplotlib==3.5.1->-r requirements.txt (line 2)) (4.38.0)\n",
      "Requirement already satisfied: python-dateutil>=2.7 in c:\\users\\mosas\\appdata\\local\\programs\\python\\python39\\lib\\site-packages (from matplotlib==3.5.1->-r requirements.txt (line 2)) (2.8.2)\n",
      "Requirement already satisfied: pytz>=2020.1 in c:\\users\\mosas\\appdata\\roaming\\python\\python39\\site-packages (from pandas==1.4.2->-r requirements.txt (line 4)) (2022.7.1)\n",
      "Requirement already satisfied: tensorflow-intel==2.12.0 in c:\\users\\mosas\\appdata\\local\\programs\\python\\python39\\lib\\site-packages (from tensorflow==2.12.0->-r requirements.txt (line 10)) (2.12.0)\n",
      "Requirement already satisfied: tenacity>=6.2.0 in c:\\users\\mosas\\appdata\\roaming\\python\\python39\\site-packages (from plotly==5.14.1->-r requirements.txt (line 11)) (8.2.2)\n",
      "Requirement already satisfied: setuptools in c:\\users\\mosas\\appdata\\local\\programs\\python\\python39\\lib\\site-packages (from tensorflow-intel==2.12.0->tensorflow==2.12.0->-r requirements.txt (line 10)) (58.1.0)\n",
      "Requirement already satisfied: typing-extensions>=3.6.6 in c:\\users\\mosas\\appdata\\local\\programs\\python\\python39\\lib\\site-packages (from tensorflow-intel==2.12.0->tensorflow==2.12.0->-r requirements.txt (line 10)) (4.5.0)\n",
      "Requirement already satisfied: absl-py>=1.0.0 in c:\\users\\mosas\\appdata\\roaming\\python\\python39\\site-packages (from tensorflow-intel==2.12.0->tensorflow==2.12.0->-r requirements.txt (line 10)) (1.3.0)\n",
      "Requirement already satisfied: gast<=0.4.0,>=0.2.1 in c:\\users\\mosas\\appdata\\roaming\\python\\python39\\site-packages (from tensorflow-intel==2.12.0->tensorflow==2.12.0->-r requirements.txt (line 10)) (0.4.0)\n",
      "Requirement already satisfied: astunparse>=1.6.0 in c:\\users\\mosas\\appdata\\roaming\\python\\python39\\site-packages (from tensorflow-intel==2.12.0->tensorflow==2.12.0->-r requirements.txt (line 10)) (1.6.3)\n",
      "Requirement already satisfied: wrapt<1.15,>=1.11.0 in c:\\users\\mosas\\appdata\\local\\programs\\python\\python39\\lib\\site-packages (from tensorflow-intel==2.12.0->tensorflow==2.12.0->-r requirements.txt (line 10)) (1.14.1)\n",
      "Requirement already satisfied: tensorflow-estimator<2.13,>=2.12.0 in c:\\users\\mosas\\appdata\\local\\programs\\python\\python39\\lib\\site-packages (from tensorflow-intel==2.12.0->tensorflow==2.12.0->-r requirements.txt (line 10)) (2.12.0)\n",
      "Requirement already satisfied: flatbuffers>=2.0 in c:\\users\\mosas\\appdata\\roaming\\python\\python39\\site-packages (from tensorflow-intel==2.12.0->tensorflow==2.12.0->-r requirements.txt (line 10)) (22.10.26)\n",
      "Requirement already satisfied: libclang>=13.0.0 in c:\\users\\mosas\\appdata\\roaming\\python\\python39\\site-packages (from tensorflow-intel==2.12.0->tensorflow==2.12.0->-r requirements.txt (line 10)) (14.0.6)\n",
      "Requirement already satisfied: tensorflow-io-gcs-filesystem>=0.23.1 in c:\\users\\mosas\\appdata\\roaming\\python\\python39\\site-packages (from tensorflow-intel==2.12.0->tensorflow==2.12.0->-r requirements.txt (line 10)) (0.27.0)\n",
      "Requirement already satisfied: protobuf!=4.21.0,!=4.21.1,!=4.21.2,!=4.21.3,!=4.21.4,!=4.21.5,<5.0.0dev,>=3.20.3 in c:\\users\\mosas\\appdata\\local\\programs\\python\\python39\\lib\\site-packages (from tensorflow-intel==2.12.0->tensorflow==2.12.0->-r requirements.txt (line 10)) (4.23.1)\n",
      "Requirement already satisfied: grpcio<2.0,>=1.24.3 in c:\\users\\mosas\\appdata\\local\\programs\\python\\python39\\lib\\site-packages (from tensorflow-intel==2.12.0->tensorflow==2.12.0->-r requirements.txt (line 10)) (1.54.2)\n",
      "Requirement already satisfied: keras<2.13,>=2.12.0 in c:\\users\\mosas\\appdata\\local\\programs\\python\\python39\\lib\\site-packages (from tensorflow-intel==2.12.0->tensorflow==2.12.0->-r requirements.txt (line 10)) (2.12.0)\n",
      "Requirement already satisfied: h5py>=2.9.0 in c:\\users\\mosas\\appdata\\local\\programs\\python\\python39\\lib\\site-packages (from tensorflow-intel==2.12.0->tensorflow==2.12.0->-r requirements.txt (line 10)) (3.8.0)\n",
      "Requirement already satisfied: google-pasta>=0.1.1 in c:\\users\\mosas\\appdata\\roaming\\python\\python39\\site-packages (from tensorflow-intel==2.12.0->tensorflow==2.12.0->-r requirements.txt (line 10)) (0.2.0)\n",
      "Requirement already satisfied: six>=1.12.0 in c:\\users\\mosas\\appdata\\local\\programs\\python\\python39\\lib\\site-packages (from tensorflow-intel==2.12.0->tensorflow==2.12.0->-r requirements.txt (line 10)) (1.16.0)\n",
      "Requirement already satisfied: jax>=0.3.15 in c:\\users\\mosas\\appdata\\local\\programs\\python\\python39\\lib\\site-packages (from tensorflow-intel==2.12.0->tensorflow==2.12.0->-r requirements.txt (line 10)) (0.4.10)\n",
      "Requirement already satisfied: tensorboard<2.13,>=2.12 in c:\\users\\mosas\\appdata\\local\\programs\\python\\python39\\lib\\site-packages (from tensorflow-intel==2.12.0->tensorflow==2.12.0->-r requirements.txt (line 10)) (2.12.3)\n",
      "Requirement already satisfied: opt-einsum>=2.3.2 in c:\\users\\mosas\\appdata\\roaming\\python\\python39\\site-packages (from tensorflow-intel==2.12.0->tensorflow==2.12.0->-r requirements.txt (line 10)) (3.3.0)\n",
      "Requirement already satisfied: termcolor>=1.1.0 in c:\\users\\mosas\\appdata\\roaming\\python\\python39\\site-packages (from tensorflow-intel==2.12.0->tensorflow==2.12.0->-r requirements.txt (line 10)) (2.0.1)\n",
      "Requirement already satisfied: pickleshare in c:\\users\\mosas\\appdata\\local\\programs\\python\\python39\\lib\\site-packages (from ipython~=8.6.0->-r requirements.txt (line 7)) (0.7.5)\n",
      "Requirement already satisfied: prompt-toolkit<3.1.0,>3.0.1 in c:\\users\\mosas\\appdata\\local\\programs\\python\\python39\\lib\\site-packages (from ipython~=8.6.0->-r requirements.txt (line 7)) (3.0.31)\n",
      "Requirement already satisfied: colorama in c:\\users\\mosas\\appdata\\local\\programs\\python\\python39\\lib\\site-packages (from ipython~=8.6.0->-r requirements.txt (line 7)) (0.4.6)\n",
      "Requirement already satisfied: traitlets>=5 in c:\\users\\mosas\\appdata\\local\\programs\\python\\python39\\lib\\site-packages (from ipython~=8.6.0->-r requirements.txt (line 7)) (5.9.0)\n",
      "Requirement already satisfied: jedi>=0.16 in c:\\users\\mosas\\appdata\\local\\programs\\python\\python39\\lib\\site-packages (from ipython~=8.6.0->-r requirements.txt (line 7)) (0.18.1)\n",
      "Requirement already satisfied: matplotlib-inline in c:\\users\\mosas\\appdata\\local\\programs\\python\\python39\\lib\\site-packages (from ipython~=8.6.0->-r requirements.txt (line 7)) (0.1.6)\n",
      "Requirement already satisfied: backcall in c:\\users\\mosas\\appdata\\local\\programs\\python\\python39\\lib\\site-packages (from ipython~=8.6.0->-r requirements.txt (line 7)) (0.2.0)\n",
      "Requirement already satisfied: pygments>=2.4.0 in c:\\users\\mosas\\appdata\\local\\programs\\python\\python39\\lib\\site-packages (from ipython~=8.6.0->-r requirements.txt (line 7)) (2.13.0)\n",
      "Requirement already satisfied: decorator in c:\\users\\mosas\\appdata\\local\\programs\\python\\python39\\lib\\site-packages (from ipython~=8.6.0->-r requirements.txt (line 7)) (5.1.1)\n",
      "Requirement already satisfied: stack-data in c:\\users\\mosas\\appdata\\local\\programs\\python\\python39\\lib\\site-packages (from ipython~=8.6.0->-r requirements.txt (line 7)) (0.6.0)\n",
      "Requirement already satisfied: charset-normalizer<4,>=2 in c:\\users\\mosas\\appdata\\local\\programs\\python\\python39\\lib\\site-packages (from requests~=2.28.2->-r requirements.txt (line 8)) (3.1.0)\n",
      "Requirement already satisfied: certifi>=2017.4.17 in c:\\users\\mosas\\appdata\\local\\programs\\python\\python39\\lib\\site-packages (from requests~=2.28.2->-r requirements.txt (line 8)) (2022.12.7)\n",
      "Requirement already satisfied: urllib3<1.27,>=1.21.1 in c:\\users\\mosas\\appdata\\local\\programs\\python\\python39\\lib\\site-packages (from requests~=2.28.2->-r requirements.txt (line 8)) (1.26.15)\n",
      "Requirement already satisfied: idna<4,>=2.5 in c:\\users\\mosas\\appdata\\local\\programs\\python\\python39\\lib\\site-packages (from requests~=2.28.2->-r requirements.txt (line 8)) (3.4)\n",
      "Requirement already satisfied: parso<0.9.0,>=0.8.0 in c:\\users\\mosas\\appdata\\local\\programs\\python\\python39\\lib\\site-packages (from jedi>=0.16->ipython~=8.6.0->-r requirements.txt (line 7)) (0.8.3)\n",
      "Requirement already satisfied: wcwidth in c:\\users\\mosas\\appdata\\local\\programs\\python\\python39\\lib\\site-packages (from prompt-toolkit<3.1.0,>3.0.1->ipython~=8.6.0->-r requirements.txt (line 7)) (0.2.5)\n",
      "Requirement already satisfied: executing>=1.2.0 in c:\\users\\mosas\\appdata\\local\\programs\\python\\python39\\lib\\site-packages (from stack-data->ipython~=8.6.0->-r requirements.txt (line 7)) (1.2.0)\n",
      "Requirement already satisfied: asttokens>=2.1.0 in c:\\users\\mosas\\appdata\\local\\programs\\python\\python39\\lib\\site-packages (from stack-data->ipython~=8.6.0->-r requirements.txt (line 7)) (2.1.0)\n",
      "Requirement already satisfied: pure-eval in c:\\users\\mosas\\appdata\\local\\programs\\python\\python39\\lib\\site-packages (from stack-data->ipython~=8.6.0->-r requirements.txt (line 7)) (0.2.2)\n",
      "Requirement already satisfied: wheel<1.0,>=0.23.0 in c:\\users\\mosas\\appdata\\local\\programs\\python\\python39\\lib\\site-packages (from astunparse>=1.6.0->tensorflow-intel==2.12.0->tensorflow==2.12.0->-r requirements.txt (line 10)) (0.40.0)\n",
      "Requirement already satisfied: ml-dtypes>=0.1.0 in c:\\users\\mosas\\appdata\\local\\programs\\python\\python39\\lib\\site-packages (from jax>=0.3.15->tensorflow-intel==2.12.0->tensorflow==2.12.0->-r requirements.txt (line 10)) (0.1.0)\n",
      "Requirement already satisfied: werkzeug>=1.0.1 in c:\\users\\mosas\\appdata\\local\\programs\\python\\python39\\lib\\site-packages (from tensorboard<2.13,>=2.12->tensorflow-intel==2.12.0->tensorflow==2.12.0->-r requirements.txt (line 10)) (2.3.4)\n",
      "Requirement already satisfied: google-auth<3,>=1.6.3 in c:\\users\\mosas\\appdata\\local\\programs\\python\\python39\\lib\\site-packages (from tensorboard<2.13,>=2.12->tensorflow-intel==2.12.0->tensorflow==2.12.0->-r requirements.txt (line 10)) (2.18.1)\n",
      "Requirement already satisfied: tensorboard-data-server<0.8.0,>=0.7.0 in c:\\users\\mosas\\appdata\\local\\programs\\python\\python39\\lib\\site-packages (from tensorboard<2.13,>=2.12->tensorflow-intel==2.12.0->tensorflow==2.12.0->-r requirements.txt (line 10)) (0.7.0)\n",
      "Requirement already satisfied: markdown>=2.6.8 in c:\\users\\mosas\\appdata\\local\\programs\\python\\python39\\lib\\site-packages (from tensorboard<2.13,>=2.12->tensorflow-intel==2.12.0->tensorflow==2.12.0->-r requirements.txt (line 10)) (3.4.3)\n",
      "Requirement already satisfied: google-auth-oauthlib<1.1,>=0.5 in c:\\users\\mosas\\appdata\\local\\programs\\python\\python39\\lib\\site-packages (from tensorboard<2.13,>=2.12->tensorflow-intel==2.12.0->tensorflow==2.12.0->-r requirements.txt (line 10)) (1.0.0)\n",
      "Requirement already satisfied: cachetools<6.0,>=2.0.0 in c:\\users\\mosas\\appdata\\local\\programs\\python\\python39\\lib\\site-packages (from google-auth<3,>=1.6.3->tensorboard<2.13,>=2.12->tensorflow-intel==2.12.0->tensorflow==2.12.0->-r requirements.txt (line 10)) (5.3.0)\n",
      "Requirement already satisfied: rsa<5,>=3.1.4 in c:\\users\\mosas\\appdata\\local\\programs\\python\\python39\\lib\\site-packages (from google-auth<3,>=1.6.3->tensorboard<2.13,>=2.12->tensorflow-intel==2.12.0->tensorflow==2.12.0->-r requirements.txt (line 10)) (4.9)\n",
      "Requirement already satisfied: pyasn1-modules>=0.2.1 in c:\\users\\mosas\\appdata\\local\\programs\\python\\python39\\lib\\site-packages (from google-auth<3,>=1.6.3->tensorboard<2.13,>=2.12->tensorflow-intel==2.12.0->tensorflow==2.12.0->-r requirements.txt (line 10)) (0.3.0)\n",
      "Requirement already satisfied: requests-oauthlib>=0.7.0 in c:\\users\\mosas\\appdata\\roaming\\python\\python39\\site-packages (from google-auth-oauthlib<1.1,>=0.5->tensorboard<2.13,>=2.12->tensorflow-intel==2.12.0->tensorflow==2.12.0->-r requirements.txt (line 10)) (1.3.1)\n",
      "Requirement already satisfied: importlib-metadata>=4.4 in c:\\users\\mosas\\appdata\\local\\programs\\python\\python39\\lib\\site-packages (from markdown>=2.6.8->tensorboard<2.13,>=2.12->tensorflow-intel==2.12.0->tensorflow==2.12.0->-r requirements.txt (line 10)) (6.0.0)\n",
      "Requirement already satisfied: MarkupSafe>=2.1.1 in c:\\users\\mosas\\appdata\\local\\programs\\python\\python39\\lib\\site-packages (from werkzeug>=1.0.1->tensorboard<2.13,>=2.12->tensorflow-intel==2.12.0->tensorflow==2.12.0->-r requirements.txt (line 10)) (2.1.2)\n",
      "Requirement already satisfied: zipp>=0.5 in c:\\users\\mosas\\appdata\\local\\programs\\python\\python39\\lib\\site-packages (from importlib-metadata>=4.4->markdown>=2.6.8->tensorboard<2.13,>=2.12->tensorflow-intel==2.12.0->tensorflow==2.12.0->-r requirements.txt (line 10)) (3.12.1)\n",
      "Requirement already satisfied: pyasn1<0.6.0,>=0.4.6 in c:\\users\\mosas\\appdata\\local\\programs\\python\\python39\\lib\\site-packages (from pyasn1-modules>=0.2.1->google-auth<3,>=1.6.3->tensorboard<2.13,>=2.12->tensorflow-intel==2.12.0->tensorflow==2.12.0->-r requirements.txt (line 10)) (0.5.0)\n",
      "Requirement already satisfied: oauthlib>=3.0.0 in c:\\users\\mosas\\appdata\\roaming\\python\\python39\\site-packages (from requests-oauthlib>=0.7.0->google-auth-oauthlib<1.1,>=0.5->tensorboard<2.13,>=2.12->tensorflow-intel==2.12.0->tensorflow==2.12.0->-r requirements.txt (line 10)) (3.2.2)\n",
      "Note: you may need to restart the kernel to use updated packages.\n"
     ]
    },
    {
     "name": "stderr",
     "output_type": "stream",
     "text": [
      "\n",
      "[notice] A new release of pip available: 22.3 -> 23.1.2\n",
      "[notice] To update, run: C:\\Users\\mosas\\AppData\\Local\\Programs\\Python\\Python39\\python.exe -m pip install --upgrade pip\n"
     ]
    }
   ],
   "source": [
    "%pip install -r requirements.txt --user"
   ],
   "metadata": {
    "collapsed": false
   }
  },
  {
   "cell_type": "code",
   "execution_count": 6,
   "outputs": [],
   "source": [
    "from sklearn.model_selection import train_test_split\n",
    "import pandas as pd\n",
    "from sklearn.metrics import accuracy_score\n",
    "from code_completion_lib.imports.imports import Imports\n",
    "from code_completion_lib.parse_notebooks import Parser\n",
    "from code_completion_lib.methods.find_methods_in_code import Methods\n",
    "from code_completion_lib.logger.logger import Logger\n",
    "from code_completion_lib.code_completion import CodeCompletion\n",
    "import os\n",
    "from math import log2"
   ],
   "metadata": {
    "collapsed": false
   }
  },
  {
   "cell_type": "code",
   "execution_count": 7,
   "outputs": [],
   "source": [
    "logger = Logger(__name__, mode=\"a\")\n",
    "logger.info(\"-----------------------------------------------------\")"
   ],
   "metadata": {
    "collapsed": false
   }
  },
  {
   "cell_type": "code",
   "execution_count": 8,
   "outputs": [],
   "source": [
    "size = [\"small\",\"medium\",\"big\"]\n",
    "path = \"C:\\data\\data_parsed\""
   ],
   "metadata": {
    "collapsed": false
   }
  },
  {
   "cell_type": "code",
   "execution_count": null,
   "outputs": [],
   "source": [
    "try:\n",
    "    parcer = Parser(r'C:\\data\\notebooks', r'C:\\data\\data_parsed', logger=logger)\n",
    "    parcer.parse()\n",
    "    parcer.check_language()\n",
    "except Exception:\n",
    "    logger.error(\"Exception\")\n"
   ],
   "metadata": {
    "collapsed": false
   }
  },
  {
   "cell_type": "code",
   "execution_count": 3,
   "outputs": [],
   "source": [
    "for name in size:\n",
    "    try:\n",
    "        imports = Imports(os.path.join(path, name),size=name,logger=logger)\n",
    "        imports.process()\n",
    "    except Exception:\n",
    "        logger.error(\"Exception\")"
   ],
   "metadata": {
    "collapsed": false
   }
  },
  {
   "cell_type": "code",
   "execution_count": null,
   "outputs": [],
   "source": [
    "for name in size:\n",
    "    try:\n",
    "        completion = CodeCompletion(size=name, logger=logger)\n",
    "        completion.import_clusterization()\n",
    "    except Exception:\n",
    "        logger.error(\"Exception\")"
   ],
   "metadata": {
    "collapsed": false
   }
  },
  {
   "cell_type": "code",
   "execution_count": 3,
   "outputs": [],
   "source": [
    "try:\n",
    "    completion = CodeCompletion(size=\"small\", logger=logger)\n",
    "    completion.import_clusterization()\n",
    "except Exception:\n",
    "    logger.error(\"Exception\")"
   ],
   "metadata": {
    "collapsed": false
   }
  },
  {
   "cell_type": "code",
   "execution_count": null,
   "outputs": [],
   "source": [
    "for name in size:\n",
    "    model_path = rf'code_completion_lib\\models\\{name}'\n",
    "    try:\n",
    "        methods = Methods(os.path.join(path, name),size=name, logger=logger)\n",
    "        methods.find_methods(model_path)\n",
    "    except Exception:\n",
    "            logger.error(\"Exception\")\n",
    "    break"
   ],
   "metadata": {
    "collapsed": false,
    "pycharm": {
     "is_executing": true
    }
   }
  },
  {
   "cell_type": "code",
   "execution_count": 7,
   "outputs": [],
   "source": [
    "def top_3(y_true, y_pred):\n",
    "    true = 0\n",
    "    length = len(y_pred)\n",
    "    if length == 0:\n",
    "        return 0\n",
    "    for i in range(len(y_pred)):\n",
    "        for j in range(len(y_pred[i])):\n",
    "            if j==3:\n",
    "                continue\n",
    "            if y_pred[i][j] == y_true[i]:\n",
    "                true+=1\n",
    "    return true/length"
   ],
   "metadata": {
    "collapsed": false
   }
  },
  {
   "cell_type": "code",
   "execution_count": 8,
   "outputs": [],
   "source": [
    "def nDCG(y_true, y_pred):\n",
    "    relevance = []\n",
    "    length = len(y_pred)\n",
    "    if length == 0:\n",
    "        return 0\n",
    "    for i in range(len(y_pred)):\n",
    "        relevance.append([])\n",
    "        for j in range(3):\n",
    "            if j >= len(y_pred[i]):\n",
    "                relevance[i].append(0)\n",
    "            elif y_pred[i][j] == y_true[i]:\n",
    "                relevance[i].append(1)\n",
    "            else:\n",
    "                relevance[i].append(0)\n",
    "    ndcg = 0\n",
    "    for element in relevance:\n",
    "        ideal = element.copy()\n",
    "        ideal.sort(reverse=True)\n",
    "        dcg = 0\n",
    "        idcg = 0\n",
    "        for i in range(len(element)):\n",
    "            dcg += element[i]/log2(i+2)\n",
    "            idcg += ideal[i]/log2(i+2)\n",
    "        if idcg != 0:\n",
    "            ndcg += dcg/idcg\n",
    "    ndcg /= len(relevance)\n",
    "    return ndcg"
   ],
   "metadata": {
    "collapsed": false
   }
  },
  {
   "cell_type": "code",
   "execution_count": 9,
   "outputs": [
    {
     "name": "stdout",
     "output_type": "stream",
     "text": [
      "size: small\n",
      "AffinityPropagation(damping=0.999, random_state=0)\n",
      "top 1 accuracy: 0.5088967971530249\n",
      "top 3 accuracy: 0.5444839857651246\n",
      "ndcg: 0.5304179289273012\n",
      "\n",
      "AgglomerativeClustering(metric='euclidean', n_clusters=13)\n",
      "top 1 accuracy: 0.505338078291815\n",
      "top 3 accuracy: 0.5444839857651246\n",
      "ndcg: 0.5291045116802244\n",
      "\n",
      "KMeans(n_clusters=13, n_init='auto', random_state=0)\n",
      "top 1 accuracy: 0.5088967971530249\n",
      "top 3 accuracy: 0.5409252669039146\n",
      "ndcg: 0.5281726273131678\n",
      "\n",
      "MeanShift(bandwidth=2.3)\n",
      "top 1 accuracy: 0.4804270462633452\n",
      "top 3 accuracy: 0.5729537366548043\n",
      "ndcg: 0.5341454663955276\n",
      "\n",
      "SpectralClustering(assign_labels='discretize', n_clusters=13, random_state=0)\n",
      "top 1 accuracy: 0.49466192170818507\n",
      "top 3 accuracy: 0.5480427046263345\n",
      "ndcg: 0.5274095615531277\n",
      "\n"
     ]
    }
   ],
   "source": [
    "import time\n",
    "for name in size:\n",
    "    print(f\"size: {name}\")\n",
    "    dataset = pd.read_csv(rf'code_completion_lib\\methods\\models\\{name}\\data.csv')\n",
    "    models = dataset.keys()[2:]\n",
    "    for model in models:\n",
    "        print(model)\n",
    "        try:\n",
    "            X = dataset[[\"varible_name\", model]]\n",
    "            y = dataset[[\"method\"]]\n",
    "            X_train, X_test, y_train, y_test = train_test_split(X, y, test_size=0.33, random_state=42)\n",
    "            completion = CodeCompletion(size=name, logger=logger)\n",
    "            completion.relations_variable_with_method(X_train, y_train, model=model)\n",
    "            completion.relations_cluster_with_variable(X_train, y_train, model=model)\n",
    "\n",
    "\n",
    "            y_pred_top1 = []\n",
    "            y_pred_top3 = []\n",
    "            y_true = y_test['method'].values.tolist()\n",
    "            for index in range(X_test.shape[0]):\n",
    "                f_completion = completion.get_function_completion(model=model, variable_name=X_test.values[index][0],cluster=X_test.values[index][1],number=3)\n",
    "                y_pred_top1.append(f_completion[0])\n",
    "                y_pred_top3.append(f_completion)\n",
    "\n",
    "\n",
    "            acc_top1 = accuracy_score(y_true, y_pred_top1)\n",
    "            acc_top3 = top_3(y_true, y_pred_top3)\n",
    "            ndcg = nDCG(y_true, y_pred_top3)\n",
    "\n",
    "            print(f\"top 1 accuracy: {acc_top1}\")\n",
    "            print(f\"top 3 accuracy: {acc_top3}\")\n",
    "            print(f\"ndcg: {ndcg}\\n\")\n",
    "\n",
    "        except Exception:\n",
    "            logger.error(\"Exception\")\n",
    "    break\n"
   ],
   "metadata": {
    "collapsed": false
   }
  },
  {
   "cell_type": "code",
   "execution_count": null,
   "outputs": [],
   "source": [],
   "metadata": {
    "collapsed": false
   }
  }
 ],
 "metadata": {
  "kernelspec": {
   "display_name": "Python 3",
   "language": "python",
   "name": "python3"
  },
  "language_info": {
   "codemirror_mode": {
    "name": "ipython",
    "version": 2
   },
   "file_extension": ".py",
   "mimetype": "text/x-python",
   "name": "python",
   "nbconvert_exporter": "python",
   "pygments_lexer": "ipython2",
   "version": "2.7.6"
  }
 },
 "nbformat": 4,
 "nbformat_minor": 0
}
